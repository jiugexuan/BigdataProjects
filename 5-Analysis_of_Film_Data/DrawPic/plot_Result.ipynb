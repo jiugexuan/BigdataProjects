{
 "cells": [
  {
   "cell_type": "code",
   "execution_count": 30,
   "metadata": {
    "ExecuteTime": {
     "end_time": "2023-06-23T11:03:51.166097301Z",
     "start_time": "2023-06-23T11:03:50.996789762Z"
    }
   },
   "outputs": [],
   "source": [
    "import pandas as pd\n",
    "import plotly.express as px"
   ]
  },
  {
   "cell_type": "code",
   "execution_count": 31,
   "metadata": {
    "ExecuteTime": {
     "end_time": "2023-06-23T11:03:51.166599334Z",
     "start_time": "2023-06-23T11:03:51.038718399Z"
    }
   },
   "outputs": [
    {
     "data": {
      "text/plain": "     year  Num\n0    1903    1\n1    1911    1\n2    1913    7\n3    1914    4\n4    1915    6\n..    ...  ...\n103  2014  946\n104  2015  943\n105  2016  938\n106  2017  928\n107  2018  771\n\n[108 rows x 2 columns]",
      "text/html": "<div>\n<style scoped>\n    .dataframe tbody tr th:only-of-type {\n        vertical-align: middle;\n    }\n\n    .dataframe tbody tr th {\n        vertical-align: top;\n    }\n\n    .dataframe thead th {\n        text-align: right;\n    }\n</style>\n<table border=\"1\" class=\"dataframe\">\n  <thead>\n    <tr style=\"text-align: right;\">\n      <th></th>\n      <th>year</th>\n      <th>Num</th>\n    </tr>\n  </thead>\n  <tbody>\n    <tr>\n      <th>0</th>\n      <td>1903</td>\n      <td>1</td>\n    </tr>\n    <tr>\n      <th>1</th>\n      <td>1911</td>\n      <td>1</td>\n    </tr>\n    <tr>\n      <th>2</th>\n      <td>1913</td>\n      <td>7</td>\n    </tr>\n    <tr>\n      <th>3</th>\n      <td>1914</td>\n      <td>4</td>\n    </tr>\n    <tr>\n      <th>4</th>\n      <td>1915</td>\n      <td>6</td>\n    </tr>\n    <tr>\n      <th>...</th>\n      <td>...</td>\n      <td>...</td>\n    </tr>\n    <tr>\n      <th>103</th>\n      <td>2014</td>\n      <td>946</td>\n    </tr>\n    <tr>\n      <th>104</th>\n      <td>2015</td>\n      <td>943</td>\n    </tr>\n    <tr>\n      <th>105</th>\n      <td>2016</td>\n      <td>938</td>\n    </tr>\n    <tr>\n      <th>106</th>\n      <td>2017</td>\n      <td>928</td>\n    </tr>\n    <tr>\n      <th>107</th>\n      <td>2018</td>\n      <td>771</td>\n    </tr>\n  </tbody>\n</table>\n<p>108 rows × 2 columns</p>\n</div>"
     },
     "execution_count": 31,
     "metadata": {},
     "output_type": "execute_result"
    }
   ],
   "source": [
    "yearNum = pd.read_csv(\"Output/yearNum.csv\", header=None)\n",
    "yearNum.columns = [\"year\", \"Num\"]\n",
    "yearNum = yearNum[:-1]         #2019年只有前两月多的数据，不考虑\n",
    "yearNum"
   ]
  },
  {
   "cell_type": "code",
   "execution_count": 32,
   "metadata": {
    "ExecuteTime": {
     "end_time": "2023-06-23T11:03:51.166775529Z",
     "start_time": "2023-06-23T11:03:51.038953353Z"
    }
   },
   "outputs": [
    {
     "data": {
      "application/vnd.plotly.v1+json": {
       "data": [
        {
         "alignmentgroup": "True",
         "hovertemplate": "year=%{x}<br>Num=%{marker.color}<extra></extra>",
         "legendgroup": "",
         "marker": {
          "color": [
           1,
           1,
           7,
           4,
           6,
           4,
           6,
           3,
           12,
           13,
           14,
           11,
           14,
           21,
           22,
           23,
           27,
           34,
           34,
           25,
           39,
           46,
           46,
           48,
           54,
           52,
           55,
           38,
           57,
           48,
           49,
           45,
           45,
           49,
           50,
           53,
           75,
           87,
           84,
           66,
           80,
           82,
           84,
           91,
           113,
           142,
           110,
           126,
           121,
           146,
           120,
           145,
           148,
           169,
           161,
           171,
           169,
           170,
           202,
           198,
           230,
           199,
           210,
           213,
           219,
           236,
           231,
           209,
           258,
           266,
           299,
           281,
           306,
           330,
           366,
           359,
           383,
           432,
           465,
           447,
           451,
           466,
           492,
           534,
           548,
           542,
           564,
           594,
           653,
           759,
           803,
           812,
           804,
           803,
           765,
           838,
           868,
           892,
           915,
           913,
           939,
           900,
           940,
           946,
           943,
           938,
           928,
           771
          ],
          "coloraxis": "coloraxis",
          "pattern": {
           "shape": ""
          }
         },
         "name": "",
         "offsetgroup": "",
         "orientation": "v",
         "showlegend": false,
         "textposition": "auto",
         "x": [
          1903,
          1911,
          1913,
          1914,
          1915,
          1916,
          1917,
          1918,
          1919,
          1920,
          1921,
          1922,
          1923,
          1924,
          1925,
          1926,
          1927,
          1928,
          1929,
          1930,
          1931,
          1932,
          1933,
          1934,
          1935,
          1936,
          1937,
          1938,
          1939,
          1940,
          1941,
          1942,
          1943,
          1944,
          1945,
          1946,
          1947,
          1948,
          1949,
          1950,
          1951,
          1952,
          1953,
          1954,
          1955,
          1956,
          1957,
          1958,
          1959,
          1960,
          1961,
          1962,
          1963,
          1964,
          1965,
          1966,
          1967,
          1968,
          1969,
          1970,
          1971,
          1972,
          1973,
          1974,
          1975,
          1976,
          1977,
          1978,
          1979,
          1980,
          1981,
          1982,
          1983,
          1984,
          1985,
          1986,
          1987,
          1988,
          1989,
          1990,
          1991,
          1992,
          1993,
          1994,
          1995,
          1996,
          1997,
          1998,
          1999,
          2000,
          2001,
          2002,
          2003,
          2004,
          2005,
          2006,
          2007,
          2008,
          2009,
          2010,
          2011,
          2012,
          2013,
          2014,
          2015,
          2016,
          2017,
          2018
         ],
         "xaxis": "x",
         "y": [
          1,
          1,
          7,
          4,
          6,
          4,
          6,
          3,
          12,
          13,
          14,
          11,
          14,
          21,
          22,
          23,
          27,
          34,
          34,
          25,
          39,
          46,
          46,
          48,
          54,
          52,
          55,
          38,
          57,
          48,
          49,
          45,
          45,
          49,
          50,
          53,
          75,
          87,
          84,
          66,
          80,
          82,
          84,
          91,
          113,
          142,
          110,
          126,
          121,
          146,
          120,
          145,
          148,
          169,
          161,
          171,
          169,
          170,
          202,
          198,
          230,
          199,
          210,
          213,
          219,
          236,
          231,
          209,
          258,
          266,
          299,
          281,
          306,
          330,
          366,
          359,
          383,
          432,
          465,
          447,
          451,
          466,
          492,
          534,
          548,
          542,
          564,
          594,
          653,
          759,
          803,
          812,
          804,
          803,
          765,
          838,
          868,
          892,
          915,
          913,
          939,
          900,
          940,
          946,
          943,
          938,
          928,
          771
         ],
         "yaxis": "y",
         "type": "bar"
        }
       ],
       "layout": {
        "template": {
         "data": {
          "histogram2dcontour": [
           {
            "type": "histogram2dcontour",
            "colorbar": {
             "outlinewidth": 0,
             "ticks": ""
            },
            "colorscale": [
             [
              0.0,
              "#0d0887"
             ],
             [
              0.1111111111111111,
              "#46039f"
             ],
             [
              0.2222222222222222,
              "#7201a8"
             ],
             [
              0.3333333333333333,
              "#9c179e"
             ],
             [
              0.4444444444444444,
              "#bd3786"
             ],
             [
              0.5555555555555556,
              "#d8576b"
             ],
             [
              0.6666666666666666,
              "#ed7953"
             ],
             [
              0.7777777777777778,
              "#fb9f3a"
             ],
             [
              0.8888888888888888,
              "#fdca26"
             ],
             [
              1.0,
              "#f0f921"
             ]
            ]
           }
          ],
          "choropleth": [
           {
            "type": "choropleth",
            "colorbar": {
             "outlinewidth": 0,
             "ticks": ""
            }
           }
          ],
          "histogram2d": [
           {
            "type": "histogram2d",
            "colorbar": {
             "outlinewidth": 0,
             "ticks": ""
            },
            "colorscale": [
             [
              0.0,
              "#0d0887"
             ],
             [
              0.1111111111111111,
              "#46039f"
             ],
             [
              0.2222222222222222,
              "#7201a8"
             ],
             [
              0.3333333333333333,
              "#9c179e"
             ],
             [
              0.4444444444444444,
              "#bd3786"
             ],
             [
              0.5555555555555556,
              "#d8576b"
             ],
             [
              0.6666666666666666,
              "#ed7953"
             ],
             [
              0.7777777777777778,
              "#fb9f3a"
             ],
             [
              0.8888888888888888,
              "#fdca26"
             ],
             [
              1.0,
              "#f0f921"
             ]
            ]
           }
          ],
          "heatmap": [
           {
            "type": "heatmap",
            "colorbar": {
             "outlinewidth": 0,
             "ticks": ""
            },
            "colorscale": [
             [
              0.0,
              "#0d0887"
             ],
             [
              0.1111111111111111,
              "#46039f"
             ],
             [
              0.2222222222222222,
              "#7201a8"
             ],
             [
              0.3333333333333333,
              "#9c179e"
             ],
             [
              0.4444444444444444,
              "#bd3786"
             ],
             [
              0.5555555555555556,
              "#d8576b"
             ],
             [
              0.6666666666666666,
              "#ed7953"
             ],
             [
              0.7777777777777778,
              "#fb9f3a"
             ],
             [
              0.8888888888888888,
              "#fdca26"
             ],
             [
              1.0,
              "#f0f921"
             ]
            ]
           }
          ],
          "heatmapgl": [
           {
            "type": "heatmapgl",
            "colorbar": {
             "outlinewidth": 0,
             "ticks": ""
            },
            "colorscale": [
             [
              0.0,
              "#0d0887"
             ],
             [
              0.1111111111111111,
              "#46039f"
             ],
             [
              0.2222222222222222,
              "#7201a8"
             ],
             [
              0.3333333333333333,
              "#9c179e"
             ],
             [
              0.4444444444444444,
              "#bd3786"
             ],
             [
              0.5555555555555556,
              "#d8576b"
             ],
             [
              0.6666666666666666,
              "#ed7953"
             ],
             [
              0.7777777777777778,
              "#fb9f3a"
             ],
             [
              0.8888888888888888,
              "#fdca26"
             ],
             [
              1.0,
              "#f0f921"
             ]
            ]
           }
          ],
          "contourcarpet": [
           {
            "type": "contourcarpet",
            "colorbar": {
             "outlinewidth": 0,
             "ticks": ""
            }
           }
          ],
          "contour": [
           {
            "type": "contour",
            "colorbar": {
             "outlinewidth": 0,
             "ticks": ""
            },
            "colorscale": [
             [
              0.0,
              "#0d0887"
             ],
             [
              0.1111111111111111,
              "#46039f"
             ],
             [
              0.2222222222222222,
              "#7201a8"
             ],
             [
              0.3333333333333333,
              "#9c179e"
             ],
             [
              0.4444444444444444,
              "#bd3786"
             ],
             [
              0.5555555555555556,
              "#d8576b"
             ],
             [
              0.6666666666666666,
              "#ed7953"
             ],
             [
              0.7777777777777778,
              "#fb9f3a"
             ],
             [
              0.8888888888888888,
              "#fdca26"
             ],
             [
              1.0,
              "#f0f921"
             ]
            ]
           }
          ],
          "surface": [
           {
            "type": "surface",
            "colorbar": {
             "outlinewidth": 0,
             "ticks": ""
            },
            "colorscale": [
             [
              0.0,
              "#0d0887"
             ],
             [
              0.1111111111111111,
              "#46039f"
             ],
             [
              0.2222222222222222,
              "#7201a8"
             ],
             [
              0.3333333333333333,
              "#9c179e"
             ],
             [
              0.4444444444444444,
              "#bd3786"
             ],
             [
              0.5555555555555556,
              "#d8576b"
             ],
             [
              0.6666666666666666,
              "#ed7953"
             ],
             [
              0.7777777777777778,
              "#fb9f3a"
             ],
             [
              0.8888888888888888,
              "#fdca26"
             ],
             [
              1.0,
              "#f0f921"
             ]
            ]
           }
          ],
          "mesh3d": [
           {
            "type": "mesh3d",
            "colorbar": {
             "outlinewidth": 0,
             "ticks": ""
            }
           }
          ],
          "scatter": [
           {
            "marker": {
             "line": {
              "color": "#283442"
             }
            },
            "type": "scatter"
           }
          ],
          "parcoords": [
           {
            "type": "parcoords",
            "line": {
             "colorbar": {
              "outlinewidth": 0,
              "ticks": ""
             }
            }
           }
          ],
          "scatterpolargl": [
           {
            "type": "scatterpolargl",
            "marker": {
             "colorbar": {
              "outlinewidth": 0,
              "ticks": ""
             }
            }
           }
          ],
          "bar": [
           {
            "error_x": {
             "color": "#f2f5fa"
            },
            "error_y": {
             "color": "#f2f5fa"
            },
            "marker": {
             "line": {
              "color": "rgb(17,17,17)",
              "width": 0.5
             },
             "pattern": {
              "fillmode": "overlay",
              "size": 10,
              "solidity": 0.2
             }
            },
            "type": "bar"
           }
          ],
          "scattergeo": [
           {
            "type": "scattergeo",
            "marker": {
             "colorbar": {
              "outlinewidth": 0,
              "ticks": ""
             }
            }
           }
          ],
          "scatterpolar": [
           {
            "type": "scatterpolar",
            "marker": {
             "colorbar": {
              "outlinewidth": 0,
              "ticks": ""
             }
            }
           }
          ],
          "histogram": [
           {
            "marker": {
             "pattern": {
              "fillmode": "overlay",
              "size": 10,
              "solidity": 0.2
             }
            },
            "type": "histogram"
           }
          ],
          "scattergl": [
           {
            "marker": {
             "line": {
              "color": "#283442"
             }
            },
            "type": "scattergl"
           }
          ],
          "scatter3d": [
           {
            "type": "scatter3d",
            "line": {
             "colorbar": {
              "outlinewidth": 0,
              "ticks": ""
             }
            },
            "marker": {
             "colorbar": {
              "outlinewidth": 0,
              "ticks": ""
             }
            }
           }
          ],
          "scattermapbox": [
           {
            "type": "scattermapbox",
            "marker": {
             "colorbar": {
              "outlinewidth": 0,
              "ticks": ""
             }
            }
           }
          ],
          "scatterternary": [
           {
            "type": "scatterternary",
            "marker": {
             "colorbar": {
              "outlinewidth": 0,
              "ticks": ""
             }
            }
           }
          ],
          "scattercarpet": [
           {
            "type": "scattercarpet",
            "marker": {
             "colorbar": {
              "outlinewidth": 0,
              "ticks": ""
             }
            }
           }
          ],
          "carpet": [
           {
            "aaxis": {
             "endlinecolor": "#A2B1C6",
             "gridcolor": "#506784",
             "linecolor": "#506784",
             "minorgridcolor": "#506784",
             "startlinecolor": "#A2B1C6"
            },
            "baxis": {
             "endlinecolor": "#A2B1C6",
             "gridcolor": "#506784",
             "linecolor": "#506784",
             "minorgridcolor": "#506784",
             "startlinecolor": "#A2B1C6"
            },
            "type": "carpet"
           }
          ],
          "table": [
           {
            "cells": {
             "fill": {
              "color": "#506784"
             },
             "line": {
              "color": "rgb(17,17,17)"
             }
            },
            "header": {
             "fill": {
              "color": "#2a3f5f"
             },
             "line": {
              "color": "rgb(17,17,17)"
             }
            },
            "type": "table"
           }
          ],
          "barpolar": [
           {
            "marker": {
             "line": {
              "color": "rgb(17,17,17)",
              "width": 0.5
             },
             "pattern": {
              "fillmode": "overlay",
              "size": 10,
              "solidity": 0.2
             }
            },
            "type": "barpolar"
           }
          ],
          "pie": [
           {
            "automargin": true,
            "type": "pie"
           }
          ]
         },
         "layout": {
          "autotypenumbers": "strict",
          "colorway": [
           "#636efa",
           "#EF553B",
           "#00cc96",
           "#ab63fa",
           "#FFA15A",
           "#19d3f3",
           "#FF6692",
           "#B6E880",
           "#FF97FF",
           "#FECB52"
          ],
          "font": {
           "color": "#f2f5fa"
          },
          "hovermode": "closest",
          "hoverlabel": {
           "align": "left"
          },
          "paper_bgcolor": "rgb(17,17,17)",
          "plot_bgcolor": "rgb(17,17,17)",
          "polar": {
           "bgcolor": "rgb(17,17,17)",
           "angularaxis": {
            "gridcolor": "#506784",
            "linecolor": "#506784",
            "ticks": ""
           },
           "radialaxis": {
            "gridcolor": "#506784",
            "linecolor": "#506784",
            "ticks": ""
           }
          },
          "ternary": {
           "bgcolor": "rgb(17,17,17)",
           "aaxis": {
            "gridcolor": "#506784",
            "linecolor": "#506784",
            "ticks": ""
           },
           "baxis": {
            "gridcolor": "#506784",
            "linecolor": "#506784",
            "ticks": ""
           },
           "caxis": {
            "gridcolor": "#506784",
            "linecolor": "#506784",
            "ticks": ""
           }
          },
          "coloraxis": {
           "colorbar": {
            "outlinewidth": 0,
            "ticks": ""
           }
          },
          "colorscale": {
           "sequential": [
            [
             0.0,
             "#0d0887"
            ],
            [
             0.1111111111111111,
             "#46039f"
            ],
            [
             0.2222222222222222,
             "#7201a8"
            ],
            [
             0.3333333333333333,
             "#9c179e"
            ],
            [
             0.4444444444444444,
             "#bd3786"
            ],
            [
             0.5555555555555556,
             "#d8576b"
            ],
            [
             0.6666666666666666,
             "#ed7953"
            ],
            [
             0.7777777777777778,
             "#fb9f3a"
            ],
            [
             0.8888888888888888,
             "#fdca26"
            ],
            [
             1.0,
             "#f0f921"
            ]
           ],
           "sequentialminus": [
            [
             0.0,
             "#0d0887"
            ],
            [
             0.1111111111111111,
             "#46039f"
            ],
            [
             0.2222222222222222,
             "#7201a8"
            ],
            [
             0.3333333333333333,
             "#9c179e"
            ],
            [
             0.4444444444444444,
             "#bd3786"
            ],
            [
             0.5555555555555556,
             "#d8576b"
            ],
            [
             0.6666666666666666,
             "#ed7953"
            ],
            [
             0.7777777777777778,
             "#fb9f3a"
            ],
            [
             0.8888888888888888,
             "#fdca26"
            ],
            [
             1.0,
             "#f0f921"
            ]
           ],
           "diverging": [
            [
             0,
             "#8e0152"
            ],
            [
             0.1,
             "#c51b7d"
            ],
            [
             0.2,
             "#de77ae"
            ],
            [
             0.3,
             "#f1b6da"
            ],
            [
             0.4,
             "#fde0ef"
            ],
            [
             0.5,
             "#f7f7f7"
            ],
            [
             0.6,
             "#e6f5d0"
            ],
            [
             0.7,
             "#b8e186"
            ],
            [
             0.8,
             "#7fbc41"
            ],
            [
             0.9,
             "#4d9221"
            ],
            [
             1,
             "#276419"
            ]
           ]
          },
          "xaxis": {
           "gridcolor": "#283442",
           "linecolor": "#506784",
           "ticks": "",
           "title": {
            "standoff": 15
           },
           "zerolinecolor": "#283442",
           "automargin": true,
           "zerolinewidth": 2
          },
          "yaxis": {
           "gridcolor": "#283442",
           "linecolor": "#506784",
           "ticks": "",
           "title": {
            "standoff": 15
           },
           "zerolinecolor": "#283442",
           "automargin": true,
           "zerolinewidth": 2
          },
          "scene": {
           "xaxis": {
            "backgroundcolor": "rgb(17,17,17)",
            "gridcolor": "#506784",
            "linecolor": "#506784",
            "showbackground": true,
            "ticks": "",
            "zerolinecolor": "#C8D4E3",
            "gridwidth": 2
           },
           "yaxis": {
            "backgroundcolor": "rgb(17,17,17)",
            "gridcolor": "#506784",
            "linecolor": "#506784",
            "showbackground": true,
            "ticks": "",
            "zerolinecolor": "#C8D4E3",
            "gridwidth": 2
           },
           "zaxis": {
            "backgroundcolor": "rgb(17,17,17)",
            "gridcolor": "#506784",
            "linecolor": "#506784",
            "showbackground": true,
            "ticks": "",
            "zerolinecolor": "#C8D4E3",
            "gridwidth": 2
           }
          },
          "shapedefaults": {
           "line": {
            "color": "#f2f5fa"
           }
          },
          "annotationdefaults": {
           "arrowcolor": "#f2f5fa",
           "arrowhead": 0,
           "arrowwidth": 1
          },
          "geo": {
           "bgcolor": "rgb(17,17,17)",
           "landcolor": "rgb(17,17,17)",
           "subunitcolor": "#506784",
           "showland": true,
           "showlakes": true,
           "lakecolor": "rgb(17,17,17)"
          },
          "title": {
           "x": 0.05
          },
          "updatemenudefaults": {
           "bgcolor": "#506784",
           "borderwidth": 0
          },
          "sliderdefaults": {
           "bgcolor": "#C8D4E3",
           "borderwidth": 1,
           "bordercolor": "rgb(17,17,17)",
           "tickwidth": 0
          },
          "mapbox": {
           "style": "dark"
          }
         }
        },
        "xaxis": {
         "anchor": "y",
         "domain": [
          0.0,
          1.0
         ],
         "title": {
          "text": "year"
         }
        },
        "yaxis": {
         "anchor": "x",
         "domain": [
          0.0,
          1.0
         ],
         "title": {
          "text": "Num"
         }
        },
        "coloraxis": {
         "colorbar": {
          "title": {
           "text": "Num"
          }
         },
         "colorscale": [
          [
           0.0,
           "#0d0887"
          ],
          [
           0.1111111111111111,
           "#46039f"
          ],
          [
           0.2222222222222222,
           "#7201a8"
          ],
          [
           0.3333333333333333,
           "#9c179e"
          ],
          [
           0.4444444444444444,
           "#bd3786"
          ],
          [
           0.5555555555555556,
           "#d8576b"
          ],
          [
           0.6666666666666666,
           "#ed7953"
          ],
          [
           0.7777777777777778,
           "#fb9f3a"
          ],
          [
           0.8888888888888888,
           "#fdca26"
          ],
          [
           1.0,
           "#f0f921"
          ]
         ]
        },
        "legend": {
         "tracegroupgap": 0
        },
        "title": {
         "text": "1900至2018年的电影数"
        },
        "barmode": "relative"
       },
       "config": {
        "plotlyServerURL": "https://plot.ly"
       }
      },
      "text/html": "<div>                            <div id=\"38bae3cc-c54a-4f7f-8ca5-0086d2f3443c\" class=\"plotly-graph-div\" style=\"height:525px; width:100%;\"></div>            <script type=\"text/javascript\">                require([\"plotly\"], function(Plotly) {                    window.PLOTLYENV=window.PLOTLYENV || {};                                    if (document.getElementById(\"38bae3cc-c54a-4f7f-8ca5-0086d2f3443c\")) {                    Plotly.newPlot(                        \"38bae3cc-c54a-4f7f-8ca5-0086d2f3443c\",                        [{\"alignmentgroup\":\"True\",\"hovertemplate\":\"year=%{x}\\u003cbr\\u003eNum=%{marker.color}\\u003cextra\\u003e\\u003c\\u002fextra\\u003e\",\"legendgroup\":\"\",\"marker\":{\"color\":[1,1,7,4,6,4,6,3,12,13,14,11,14,21,22,23,27,34,34,25,39,46,46,48,54,52,55,38,57,48,49,45,45,49,50,53,75,87,84,66,80,82,84,91,113,142,110,126,121,146,120,145,148,169,161,171,169,170,202,198,230,199,210,213,219,236,231,209,258,266,299,281,306,330,366,359,383,432,465,447,451,466,492,534,548,542,564,594,653,759,803,812,804,803,765,838,868,892,915,913,939,900,940,946,943,938,928,771],\"coloraxis\":\"coloraxis\",\"pattern\":{\"shape\":\"\"}},\"name\":\"\",\"offsetgroup\":\"\",\"orientation\":\"v\",\"showlegend\":false,\"textposition\":\"auto\",\"x\":[1903,1911,1913,1914,1915,1916,1917,1918,1919,1920,1921,1922,1923,1924,1925,1926,1927,1928,1929,1930,1931,1932,1933,1934,1935,1936,1937,1938,1939,1940,1941,1942,1943,1944,1945,1946,1947,1948,1949,1950,1951,1952,1953,1954,1955,1956,1957,1958,1959,1960,1961,1962,1963,1964,1965,1966,1967,1968,1969,1970,1971,1972,1973,1974,1975,1976,1977,1978,1979,1980,1981,1982,1983,1984,1985,1986,1987,1988,1989,1990,1991,1992,1993,1994,1995,1996,1997,1998,1999,2000,2001,2002,2003,2004,2005,2006,2007,2008,2009,2010,2011,2012,2013,2014,2015,2016,2017,2018],\"xaxis\":\"x\",\"y\":[1,1,7,4,6,4,6,3,12,13,14,11,14,21,22,23,27,34,34,25,39,46,46,48,54,52,55,38,57,48,49,45,45,49,50,53,75,87,84,66,80,82,84,91,113,142,110,126,121,146,120,145,148,169,161,171,169,170,202,198,230,199,210,213,219,236,231,209,258,266,299,281,306,330,366,359,383,432,465,447,451,466,492,534,548,542,564,594,653,759,803,812,804,803,765,838,868,892,915,913,939,900,940,946,943,938,928,771],\"yaxis\":\"y\",\"type\":\"bar\"}],                        {\"template\":{\"data\":{\"histogram2dcontour\":[{\"type\":\"histogram2dcontour\",\"colorbar\":{\"outlinewidth\":0,\"ticks\":\"\"},\"colorscale\":[[0.0,\"#0d0887\"],[0.1111111111111111,\"#46039f\"],[0.2222222222222222,\"#7201a8\"],[0.3333333333333333,\"#9c179e\"],[0.4444444444444444,\"#bd3786\"],[0.5555555555555556,\"#d8576b\"],[0.6666666666666666,\"#ed7953\"],[0.7777777777777778,\"#fb9f3a\"],[0.8888888888888888,\"#fdca26\"],[1.0,\"#f0f921\"]]}],\"choropleth\":[{\"type\":\"choropleth\",\"colorbar\":{\"outlinewidth\":0,\"ticks\":\"\"}}],\"histogram2d\":[{\"type\":\"histogram2d\",\"colorbar\":{\"outlinewidth\":0,\"ticks\":\"\"},\"colorscale\":[[0.0,\"#0d0887\"],[0.1111111111111111,\"#46039f\"],[0.2222222222222222,\"#7201a8\"],[0.3333333333333333,\"#9c179e\"],[0.4444444444444444,\"#bd3786\"],[0.5555555555555556,\"#d8576b\"],[0.6666666666666666,\"#ed7953\"],[0.7777777777777778,\"#fb9f3a\"],[0.8888888888888888,\"#fdca26\"],[1.0,\"#f0f921\"]]}],\"heatmap\":[{\"type\":\"heatmap\",\"colorbar\":{\"outlinewidth\":0,\"ticks\":\"\"},\"colorscale\":[[0.0,\"#0d0887\"],[0.1111111111111111,\"#46039f\"],[0.2222222222222222,\"#7201a8\"],[0.3333333333333333,\"#9c179e\"],[0.4444444444444444,\"#bd3786\"],[0.5555555555555556,\"#d8576b\"],[0.6666666666666666,\"#ed7953\"],[0.7777777777777778,\"#fb9f3a\"],[0.8888888888888888,\"#fdca26\"],[1.0,\"#f0f921\"]]}],\"heatmapgl\":[{\"type\":\"heatmapgl\",\"colorbar\":{\"outlinewidth\":0,\"ticks\":\"\"},\"colorscale\":[[0.0,\"#0d0887\"],[0.1111111111111111,\"#46039f\"],[0.2222222222222222,\"#7201a8\"],[0.3333333333333333,\"#9c179e\"],[0.4444444444444444,\"#bd3786\"],[0.5555555555555556,\"#d8576b\"],[0.6666666666666666,\"#ed7953\"],[0.7777777777777778,\"#fb9f3a\"],[0.8888888888888888,\"#fdca26\"],[1.0,\"#f0f921\"]]}],\"contourcarpet\":[{\"type\":\"contourcarpet\",\"colorbar\":{\"outlinewidth\":0,\"ticks\":\"\"}}],\"contour\":[{\"type\":\"contour\",\"colorbar\":{\"outlinewidth\":0,\"ticks\":\"\"},\"colorscale\":[[0.0,\"#0d0887\"],[0.1111111111111111,\"#46039f\"],[0.2222222222222222,\"#7201a8\"],[0.3333333333333333,\"#9c179e\"],[0.4444444444444444,\"#bd3786\"],[0.5555555555555556,\"#d8576b\"],[0.6666666666666666,\"#ed7953\"],[0.7777777777777778,\"#fb9f3a\"],[0.8888888888888888,\"#fdca26\"],[1.0,\"#f0f921\"]]}],\"surface\":[{\"type\":\"surface\",\"colorbar\":{\"outlinewidth\":0,\"ticks\":\"\"},\"colorscale\":[[0.0,\"#0d0887\"],[0.1111111111111111,\"#46039f\"],[0.2222222222222222,\"#7201a8\"],[0.3333333333333333,\"#9c179e\"],[0.4444444444444444,\"#bd3786\"],[0.5555555555555556,\"#d8576b\"],[0.6666666666666666,\"#ed7953\"],[0.7777777777777778,\"#fb9f3a\"],[0.8888888888888888,\"#fdca26\"],[1.0,\"#f0f921\"]]}],\"mesh3d\":[{\"type\":\"mesh3d\",\"colorbar\":{\"outlinewidth\":0,\"ticks\":\"\"}}],\"scatter\":[{\"marker\":{\"line\":{\"color\":\"#283442\"}},\"type\":\"scatter\"}],\"parcoords\":[{\"type\":\"parcoords\",\"line\":{\"colorbar\":{\"outlinewidth\":0,\"ticks\":\"\"}}}],\"scatterpolargl\":[{\"type\":\"scatterpolargl\",\"marker\":{\"colorbar\":{\"outlinewidth\":0,\"ticks\":\"\"}}}],\"bar\":[{\"error_x\":{\"color\":\"#f2f5fa\"},\"error_y\":{\"color\":\"#f2f5fa\"},\"marker\":{\"line\":{\"color\":\"rgb(17,17,17)\",\"width\":0.5},\"pattern\":{\"fillmode\":\"overlay\",\"size\":10,\"solidity\":0.2}},\"type\":\"bar\"}],\"scattergeo\":[{\"type\":\"scattergeo\",\"marker\":{\"colorbar\":{\"outlinewidth\":0,\"ticks\":\"\"}}}],\"scatterpolar\":[{\"type\":\"scatterpolar\",\"marker\":{\"colorbar\":{\"outlinewidth\":0,\"ticks\":\"\"}}}],\"histogram\":[{\"marker\":{\"pattern\":{\"fillmode\":\"overlay\",\"size\":10,\"solidity\":0.2}},\"type\":\"histogram\"}],\"scattergl\":[{\"marker\":{\"line\":{\"color\":\"#283442\"}},\"type\":\"scattergl\"}],\"scatter3d\":[{\"type\":\"scatter3d\",\"line\":{\"colorbar\":{\"outlinewidth\":0,\"ticks\":\"\"}},\"marker\":{\"colorbar\":{\"outlinewidth\":0,\"ticks\":\"\"}}}],\"scattermapbox\":[{\"type\":\"scattermapbox\",\"marker\":{\"colorbar\":{\"outlinewidth\":0,\"ticks\":\"\"}}}],\"scatterternary\":[{\"type\":\"scatterternary\",\"marker\":{\"colorbar\":{\"outlinewidth\":0,\"ticks\":\"\"}}}],\"scattercarpet\":[{\"type\":\"scattercarpet\",\"marker\":{\"colorbar\":{\"outlinewidth\":0,\"ticks\":\"\"}}}],\"carpet\":[{\"aaxis\":{\"endlinecolor\":\"#A2B1C6\",\"gridcolor\":\"#506784\",\"linecolor\":\"#506784\",\"minorgridcolor\":\"#506784\",\"startlinecolor\":\"#A2B1C6\"},\"baxis\":{\"endlinecolor\":\"#A2B1C6\",\"gridcolor\":\"#506784\",\"linecolor\":\"#506784\",\"minorgridcolor\":\"#506784\",\"startlinecolor\":\"#A2B1C6\"},\"type\":\"carpet\"}],\"table\":[{\"cells\":{\"fill\":{\"color\":\"#506784\"},\"line\":{\"color\":\"rgb(17,17,17)\"}},\"header\":{\"fill\":{\"color\":\"#2a3f5f\"},\"line\":{\"color\":\"rgb(17,17,17)\"}},\"type\":\"table\"}],\"barpolar\":[{\"marker\":{\"line\":{\"color\":\"rgb(17,17,17)\",\"width\":0.5},\"pattern\":{\"fillmode\":\"overlay\",\"size\":10,\"solidity\":0.2}},\"type\":\"barpolar\"}],\"pie\":[{\"automargin\":true,\"type\":\"pie\"}]},\"layout\":{\"autotypenumbers\":\"strict\",\"colorway\":[\"#636efa\",\"#EF553B\",\"#00cc96\",\"#ab63fa\",\"#FFA15A\",\"#19d3f3\",\"#FF6692\",\"#B6E880\",\"#FF97FF\",\"#FECB52\"],\"font\":{\"color\":\"#f2f5fa\"},\"hovermode\":\"closest\",\"hoverlabel\":{\"align\":\"left\"},\"paper_bgcolor\":\"rgb(17,17,17)\",\"plot_bgcolor\":\"rgb(17,17,17)\",\"polar\":{\"bgcolor\":\"rgb(17,17,17)\",\"angularaxis\":{\"gridcolor\":\"#506784\",\"linecolor\":\"#506784\",\"ticks\":\"\"},\"radialaxis\":{\"gridcolor\":\"#506784\",\"linecolor\":\"#506784\",\"ticks\":\"\"}},\"ternary\":{\"bgcolor\":\"rgb(17,17,17)\",\"aaxis\":{\"gridcolor\":\"#506784\",\"linecolor\":\"#506784\",\"ticks\":\"\"},\"baxis\":{\"gridcolor\":\"#506784\",\"linecolor\":\"#506784\",\"ticks\":\"\"},\"caxis\":{\"gridcolor\":\"#506784\",\"linecolor\":\"#506784\",\"ticks\":\"\"}},\"coloraxis\":{\"colorbar\":{\"outlinewidth\":0,\"ticks\":\"\"}},\"colorscale\":{\"sequential\":[[0.0,\"#0d0887\"],[0.1111111111111111,\"#46039f\"],[0.2222222222222222,\"#7201a8\"],[0.3333333333333333,\"#9c179e\"],[0.4444444444444444,\"#bd3786\"],[0.5555555555555556,\"#d8576b\"],[0.6666666666666666,\"#ed7953\"],[0.7777777777777778,\"#fb9f3a\"],[0.8888888888888888,\"#fdca26\"],[1.0,\"#f0f921\"]],\"sequentialminus\":[[0.0,\"#0d0887\"],[0.1111111111111111,\"#46039f\"],[0.2222222222222222,\"#7201a8\"],[0.3333333333333333,\"#9c179e\"],[0.4444444444444444,\"#bd3786\"],[0.5555555555555556,\"#d8576b\"],[0.6666666666666666,\"#ed7953\"],[0.7777777777777778,\"#fb9f3a\"],[0.8888888888888888,\"#fdca26\"],[1.0,\"#f0f921\"]],\"diverging\":[[0,\"#8e0152\"],[0.1,\"#c51b7d\"],[0.2,\"#de77ae\"],[0.3,\"#f1b6da\"],[0.4,\"#fde0ef\"],[0.5,\"#f7f7f7\"],[0.6,\"#e6f5d0\"],[0.7,\"#b8e186\"],[0.8,\"#7fbc41\"],[0.9,\"#4d9221\"],[1,\"#276419\"]]},\"xaxis\":{\"gridcolor\":\"#283442\",\"linecolor\":\"#506784\",\"ticks\":\"\",\"title\":{\"standoff\":15},\"zerolinecolor\":\"#283442\",\"automargin\":true,\"zerolinewidth\":2},\"yaxis\":{\"gridcolor\":\"#283442\",\"linecolor\":\"#506784\",\"ticks\":\"\",\"title\":{\"standoff\":15},\"zerolinecolor\":\"#283442\",\"automargin\":true,\"zerolinewidth\":2},\"scene\":{\"xaxis\":{\"backgroundcolor\":\"rgb(17,17,17)\",\"gridcolor\":\"#506784\",\"linecolor\":\"#506784\",\"showbackground\":true,\"ticks\":\"\",\"zerolinecolor\":\"#C8D4E3\",\"gridwidth\":2},\"yaxis\":{\"backgroundcolor\":\"rgb(17,17,17)\",\"gridcolor\":\"#506784\",\"linecolor\":\"#506784\",\"showbackground\":true,\"ticks\":\"\",\"zerolinecolor\":\"#C8D4E3\",\"gridwidth\":2},\"zaxis\":{\"backgroundcolor\":\"rgb(17,17,17)\",\"gridcolor\":\"#506784\",\"linecolor\":\"#506784\",\"showbackground\":true,\"ticks\":\"\",\"zerolinecolor\":\"#C8D4E3\",\"gridwidth\":2}},\"shapedefaults\":{\"line\":{\"color\":\"#f2f5fa\"}},\"annotationdefaults\":{\"arrowcolor\":\"#f2f5fa\",\"arrowhead\":0,\"arrowwidth\":1},\"geo\":{\"bgcolor\":\"rgb(17,17,17)\",\"landcolor\":\"rgb(17,17,17)\",\"subunitcolor\":\"#506784\",\"showland\":true,\"showlakes\":true,\"lakecolor\":\"rgb(17,17,17)\"},\"title\":{\"x\":0.05},\"updatemenudefaults\":{\"bgcolor\":\"#506784\",\"borderwidth\":0},\"sliderdefaults\":{\"bgcolor\":\"#C8D4E3\",\"borderwidth\":1,\"bordercolor\":\"rgb(17,17,17)\",\"tickwidth\":0},\"mapbox\":{\"style\":\"dark\"}}},\"xaxis\":{\"anchor\":\"y\",\"domain\":[0.0,1.0],\"title\":{\"text\":\"year\"}},\"yaxis\":{\"anchor\":\"x\",\"domain\":[0.0,1.0],\"title\":{\"text\":\"Num\"}},\"coloraxis\":{\"colorbar\":{\"title\":{\"text\":\"Num\"}},\"colorscale\":[[0.0,\"#0d0887\"],[0.1111111111111111,\"#46039f\"],[0.2222222222222222,\"#7201a8\"],[0.3333333333333333,\"#9c179e\"],[0.4444444444444444,\"#bd3786\"],[0.5555555555555556,\"#d8576b\"],[0.6666666666666666,\"#ed7953\"],[0.7777777777777778,\"#fb9f3a\"],[0.8888888888888888,\"#fdca26\"],[1.0,\"#f0f921\"]]},\"legend\":{\"tracegroupgap\":0},\"title\":{\"text\":\"1900\\u81f32018\\u5e74\\u7684\\u7535\\u5f71\\u6570\"},\"barmode\":\"relative\"},                        {\"responsive\": true}                    ).then(function(){\n                            \nvar gd = document.getElementById('38bae3cc-c54a-4f7f-8ca5-0086d2f3443c');\nvar x = new MutationObserver(function (mutations, observer) {{\n        var display = window.getComputedStyle(gd).display;\n        if (!display || display === 'none') {{\n            console.log([gd, 'removed!']);\n            Plotly.purge(gd);\n            observer.disconnect();\n        }}\n}});\n\n// Listen for the removal of the full notebook cells\nvar notebookContainer = gd.closest('#notebook-container');\nif (notebookContainer) {{\n    x.observe(notebookContainer, {childList: true});\n}}\n\n// Listen for the clearing of the current output cell\nvar outputEl = gd.closest('.output');\nif (outputEl) {{\n    x.observe(outputEl, {childList: true});\n}}\n\n                        })                };                });            </script>        </div>"
     },
     "metadata": {},
     "output_type": "display_data"
    }
   ],
   "source": [
    "fig1 = px.bar(yearNum,\n",
    "              x = \"year\",\n",
    "              y = \"Num\", \n",
    "              title = \"1900至2018年的电影数\",\n",
    "              color='Num'\n",
    "             )\n",
    "fig1.show()"
   ]
  },
  {
   "cell_type": "code",
   "execution_count": 33,
   "metadata": {
    "ExecuteTime": {
     "end_time": "2023-06-23T11:03:51.166902258Z",
     "start_time": "2023-06-23T11:03:51.040372032Z"
    }
   },
   "outputs": [
    {
     "data": {
      "text/plain": "   rating_from    Num\n0            1      0\n1            2     94\n2            3    387\n3            4   1011\n4            5   3358\n5            6   9300\n6            7  11835\n7            8   4884\n8            9    572",
      "text/html": "<div>\n<style scoped>\n    .dataframe tbody tr th:only-of-type {\n        vertical-align: middle;\n    }\n\n    .dataframe tbody tr th {\n        vertical-align: top;\n    }\n\n    .dataframe thead th {\n        text-align: right;\n    }\n</style>\n<table border=\"1\" class=\"dataframe\">\n  <thead>\n    <tr style=\"text-align: right;\">\n      <th></th>\n      <th>rating_from</th>\n      <th>Num</th>\n    </tr>\n  </thead>\n  <tbody>\n    <tr>\n      <th>0</th>\n      <td>1</td>\n      <td>0</td>\n    </tr>\n    <tr>\n      <th>1</th>\n      <td>2</td>\n      <td>94</td>\n    </tr>\n    <tr>\n      <th>2</th>\n      <td>3</td>\n      <td>387</td>\n    </tr>\n    <tr>\n      <th>3</th>\n      <td>4</td>\n      <td>1011</td>\n    </tr>\n    <tr>\n      <th>4</th>\n      <td>5</td>\n      <td>3358</td>\n    </tr>\n    <tr>\n      <th>5</th>\n      <td>6</td>\n      <td>9300</td>\n    </tr>\n    <tr>\n      <th>6</th>\n      <td>7</td>\n      <td>11835</td>\n    </tr>\n    <tr>\n      <th>7</th>\n      <td>8</td>\n      <td>4884</td>\n    </tr>\n    <tr>\n      <th>8</th>\n      <td>9</td>\n      <td>572</td>\n    </tr>\n  </tbody>\n</table>\n</div>"
     },
     "execution_count": 33,
     "metadata": {},
     "output_type": "execute_result"
    }
   ],
   "source": [
    "ratingNum = pd.read_csv(\"Output/ratingNum.csv\", header=None)\n",
    "ratingNum.columns = [\"rating_from\", \"Num\"]\n",
    "ratingNum"
   ]
  },
  {
   "cell_type": "code",
   "execution_count": 34,
   "metadata": {
    "ExecuteTime": {
     "end_time": "2023-06-23T11:03:51.167126057Z",
     "start_time": "2023-06-23T11:03:51.057431676Z"
    }
   },
   "outputs": [
    {
     "data": {
      "application/vnd.plotly.v1+json": {
       "data": [
        {
         "domain": {
          "x": [
           0.0,
           1.0
          ],
          "y": [
           0.0,
           1.0
          ]
         },
         "hovertemplate": "rating_from=%{label}<br>Num=%{value}<extra></extra>",
         "labels": [
          1,
          2,
          3,
          4,
          5,
          6,
          7,
          8,
          9
         ],
         "legendgroup": "",
         "name": "",
         "showlegend": true,
         "values": [
          0,
          94,
          387,
          1011,
          3358,
          9300,
          11835,
          4884,
          572
         ],
         "type": "pie"
        }
       ],
       "layout": {
        "template": {
         "data": {
          "histogram2dcontour": [
           {
            "type": "histogram2dcontour",
            "colorbar": {
             "outlinewidth": 0,
             "ticks": ""
            },
            "colorscale": [
             [
              0.0,
              "#0d0887"
             ],
             [
              0.1111111111111111,
              "#46039f"
             ],
             [
              0.2222222222222222,
              "#7201a8"
             ],
             [
              0.3333333333333333,
              "#9c179e"
             ],
             [
              0.4444444444444444,
              "#bd3786"
             ],
             [
              0.5555555555555556,
              "#d8576b"
             ],
             [
              0.6666666666666666,
              "#ed7953"
             ],
             [
              0.7777777777777778,
              "#fb9f3a"
             ],
             [
              0.8888888888888888,
              "#fdca26"
             ],
             [
              1.0,
              "#f0f921"
             ]
            ]
           }
          ],
          "choropleth": [
           {
            "type": "choropleth",
            "colorbar": {
             "outlinewidth": 0,
             "ticks": ""
            }
           }
          ],
          "histogram2d": [
           {
            "type": "histogram2d",
            "colorbar": {
             "outlinewidth": 0,
             "ticks": ""
            },
            "colorscale": [
             [
              0.0,
              "#0d0887"
             ],
             [
              0.1111111111111111,
              "#46039f"
             ],
             [
              0.2222222222222222,
              "#7201a8"
             ],
             [
              0.3333333333333333,
              "#9c179e"
             ],
             [
              0.4444444444444444,
              "#bd3786"
             ],
             [
              0.5555555555555556,
              "#d8576b"
             ],
             [
              0.6666666666666666,
              "#ed7953"
             ],
             [
              0.7777777777777778,
              "#fb9f3a"
             ],
             [
              0.8888888888888888,
              "#fdca26"
             ],
             [
              1.0,
              "#f0f921"
             ]
            ]
           }
          ],
          "heatmap": [
           {
            "type": "heatmap",
            "colorbar": {
             "outlinewidth": 0,
             "ticks": ""
            },
            "colorscale": [
             [
              0.0,
              "#0d0887"
             ],
             [
              0.1111111111111111,
              "#46039f"
             ],
             [
              0.2222222222222222,
              "#7201a8"
             ],
             [
              0.3333333333333333,
              "#9c179e"
             ],
             [
              0.4444444444444444,
              "#bd3786"
             ],
             [
              0.5555555555555556,
              "#d8576b"
             ],
             [
              0.6666666666666666,
              "#ed7953"
             ],
             [
              0.7777777777777778,
              "#fb9f3a"
             ],
             [
              0.8888888888888888,
              "#fdca26"
             ],
             [
              1.0,
              "#f0f921"
             ]
            ]
           }
          ],
          "heatmapgl": [
           {
            "type": "heatmapgl",
            "colorbar": {
             "outlinewidth": 0,
             "ticks": ""
            },
            "colorscale": [
             [
              0.0,
              "#0d0887"
             ],
             [
              0.1111111111111111,
              "#46039f"
             ],
             [
              0.2222222222222222,
              "#7201a8"
             ],
             [
              0.3333333333333333,
              "#9c179e"
             ],
             [
              0.4444444444444444,
              "#bd3786"
             ],
             [
              0.5555555555555556,
              "#d8576b"
             ],
             [
              0.6666666666666666,
              "#ed7953"
             ],
             [
              0.7777777777777778,
              "#fb9f3a"
             ],
             [
              0.8888888888888888,
              "#fdca26"
             ],
             [
              1.0,
              "#f0f921"
             ]
            ]
           }
          ],
          "contourcarpet": [
           {
            "type": "contourcarpet",
            "colorbar": {
             "outlinewidth": 0,
             "ticks": ""
            }
           }
          ],
          "contour": [
           {
            "type": "contour",
            "colorbar": {
             "outlinewidth": 0,
             "ticks": ""
            },
            "colorscale": [
             [
              0.0,
              "#0d0887"
             ],
             [
              0.1111111111111111,
              "#46039f"
             ],
             [
              0.2222222222222222,
              "#7201a8"
             ],
             [
              0.3333333333333333,
              "#9c179e"
             ],
             [
              0.4444444444444444,
              "#bd3786"
             ],
             [
              0.5555555555555556,
              "#d8576b"
             ],
             [
              0.6666666666666666,
              "#ed7953"
             ],
             [
              0.7777777777777778,
              "#fb9f3a"
             ],
             [
              0.8888888888888888,
              "#fdca26"
             ],
             [
              1.0,
              "#f0f921"
             ]
            ]
           }
          ],
          "surface": [
           {
            "type": "surface",
            "colorbar": {
             "outlinewidth": 0,
             "ticks": ""
            },
            "colorscale": [
             [
              0.0,
              "#0d0887"
             ],
             [
              0.1111111111111111,
              "#46039f"
             ],
             [
              0.2222222222222222,
              "#7201a8"
             ],
             [
              0.3333333333333333,
              "#9c179e"
             ],
             [
              0.4444444444444444,
              "#bd3786"
             ],
             [
              0.5555555555555556,
              "#d8576b"
             ],
             [
              0.6666666666666666,
              "#ed7953"
             ],
             [
              0.7777777777777778,
              "#fb9f3a"
             ],
             [
              0.8888888888888888,
              "#fdca26"
             ],
             [
              1.0,
              "#f0f921"
             ]
            ]
           }
          ],
          "mesh3d": [
           {
            "type": "mesh3d",
            "colorbar": {
             "outlinewidth": 0,
             "ticks": ""
            }
           }
          ],
          "scatter": [
           {
            "marker": {
             "line": {
              "color": "#283442"
             }
            },
            "type": "scatter"
           }
          ],
          "parcoords": [
           {
            "type": "parcoords",
            "line": {
             "colorbar": {
              "outlinewidth": 0,
              "ticks": ""
             }
            }
           }
          ],
          "scatterpolargl": [
           {
            "type": "scatterpolargl",
            "marker": {
             "colorbar": {
              "outlinewidth": 0,
              "ticks": ""
             }
            }
           }
          ],
          "bar": [
           {
            "error_x": {
             "color": "#f2f5fa"
            },
            "error_y": {
             "color": "#f2f5fa"
            },
            "marker": {
             "line": {
              "color": "rgb(17,17,17)",
              "width": 0.5
             },
             "pattern": {
              "fillmode": "overlay",
              "size": 10,
              "solidity": 0.2
             }
            },
            "type": "bar"
           }
          ],
          "scattergeo": [
           {
            "type": "scattergeo",
            "marker": {
             "colorbar": {
              "outlinewidth": 0,
              "ticks": ""
             }
            }
           }
          ],
          "scatterpolar": [
           {
            "type": "scatterpolar",
            "marker": {
             "colorbar": {
              "outlinewidth": 0,
              "ticks": ""
             }
            }
           }
          ],
          "histogram": [
           {
            "marker": {
             "pattern": {
              "fillmode": "overlay",
              "size": 10,
              "solidity": 0.2
             }
            },
            "type": "histogram"
           }
          ],
          "scattergl": [
           {
            "marker": {
             "line": {
              "color": "#283442"
             }
            },
            "type": "scattergl"
           }
          ],
          "scatter3d": [
           {
            "type": "scatter3d",
            "line": {
             "colorbar": {
              "outlinewidth": 0,
              "ticks": ""
             }
            },
            "marker": {
             "colorbar": {
              "outlinewidth": 0,
              "ticks": ""
             }
            }
           }
          ],
          "scattermapbox": [
           {
            "type": "scattermapbox",
            "marker": {
             "colorbar": {
              "outlinewidth": 0,
              "ticks": ""
             }
            }
           }
          ],
          "scatterternary": [
           {
            "type": "scatterternary",
            "marker": {
             "colorbar": {
              "outlinewidth": 0,
              "ticks": ""
             }
            }
           }
          ],
          "scattercarpet": [
           {
            "type": "scattercarpet",
            "marker": {
             "colorbar": {
              "outlinewidth": 0,
              "ticks": ""
             }
            }
           }
          ],
          "carpet": [
           {
            "aaxis": {
             "endlinecolor": "#A2B1C6",
             "gridcolor": "#506784",
             "linecolor": "#506784",
             "minorgridcolor": "#506784",
             "startlinecolor": "#A2B1C6"
            },
            "baxis": {
             "endlinecolor": "#A2B1C6",
             "gridcolor": "#506784",
             "linecolor": "#506784",
             "minorgridcolor": "#506784",
             "startlinecolor": "#A2B1C6"
            },
            "type": "carpet"
           }
          ],
          "table": [
           {
            "cells": {
             "fill": {
              "color": "#506784"
             },
             "line": {
              "color": "rgb(17,17,17)"
             }
            },
            "header": {
             "fill": {
              "color": "#2a3f5f"
             },
             "line": {
              "color": "rgb(17,17,17)"
             }
            },
            "type": "table"
           }
          ],
          "barpolar": [
           {
            "marker": {
             "line": {
              "color": "rgb(17,17,17)",
              "width": 0.5
             },
             "pattern": {
              "fillmode": "overlay",
              "size": 10,
              "solidity": 0.2
             }
            },
            "type": "barpolar"
           }
          ],
          "pie": [
           {
            "automargin": true,
            "type": "pie"
           }
          ]
         },
         "layout": {
          "autotypenumbers": "strict",
          "colorway": [
           "#636efa",
           "#EF553B",
           "#00cc96",
           "#ab63fa",
           "#FFA15A",
           "#19d3f3",
           "#FF6692",
           "#B6E880",
           "#FF97FF",
           "#FECB52"
          ],
          "font": {
           "color": "#f2f5fa"
          },
          "hovermode": "closest",
          "hoverlabel": {
           "align": "left"
          },
          "paper_bgcolor": "rgb(17,17,17)",
          "plot_bgcolor": "rgb(17,17,17)",
          "polar": {
           "bgcolor": "rgb(17,17,17)",
           "angularaxis": {
            "gridcolor": "#506784",
            "linecolor": "#506784",
            "ticks": ""
           },
           "radialaxis": {
            "gridcolor": "#506784",
            "linecolor": "#506784",
            "ticks": ""
           }
          },
          "ternary": {
           "bgcolor": "rgb(17,17,17)",
           "aaxis": {
            "gridcolor": "#506784",
            "linecolor": "#506784",
            "ticks": ""
           },
           "baxis": {
            "gridcolor": "#506784",
            "linecolor": "#506784",
            "ticks": ""
           },
           "caxis": {
            "gridcolor": "#506784",
            "linecolor": "#506784",
            "ticks": ""
           }
          },
          "coloraxis": {
           "colorbar": {
            "outlinewidth": 0,
            "ticks": ""
           }
          },
          "colorscale": {
           "sequential": [
            [
             0.0,
             "#0d0887"
            ],
            [
             0.1111111111111111,
             "#46039f"
            ],
            [
             0.2222222222222222,
             "#7201a8"
            ],
            [
             0.3333333333333333,
             "#9c179e"
            ],
            [
             0.4444444444444444,
             "#bd3786"
            ],
            [
             0.5555555555555556,
             "#d8576b"
            ],
            [
             0.6666666666666666,
             "#ed7953"
            ],
            [
             0.7777777777777778,
             "#fb9f3a"
            ],
            [
             0.8888888888888888,
             "#fdca26"
            ],
            [
             1.0,
             "#f0f921"
            ]
           ],
           "sequentialminus": [
            [
             0.0,
             "#0d0887"
            ],
            [
             0.1111111111111111,
             "#46039f"
            ],
            [
             0.2222222222222222,
             "#7201a8"
            ],
            [
             0.3333333333333333,
             "#9c179e"
            ],
            [
             0.4444444444444444,
             "#bd3786"
            ],
            [
             0.5555555555555556,
             "#d8576b"
            ],
            [
             0.6666666666666666,
             "#ed7953"
            ],
            [
             0.7777777777777778,
             "#fb9f3a"
            ],
            [
             0.8888888888888888,
             "#fdca26"
            ],
            [
             1.0,
             "#f0f921"
            ]
           ],
           "diverging": [
            [
             0,
             "#8e0152"
            ],
            [
             0.1,
             "#c51b7d"
            ],
            [
             0.2,
             "#de77ae"
            ],
            [
             0.3,
             "#f1b6da"
            ],
            [
             0.4,
             "#fde0ef"
            ],
            [
             0.5,
             "#f7f7f7"
            ],
            [
             0.6,
             "#e6f5d0"
            ],
            [
             0.7,
             "#b8e186"
            ],
            [
             0.8,
             "#7fbc41"
            ],
            [
             0.9,
             "#4d9221"
            ],
            [
             1,
             "#276419"
            ]
           ]
          },
          "xaxis": {
           "gridcolor": "#283442",
           "linecolor": "#506784",
           "ticks": "",
           "title": {
            "standoff": 15
           },
           "zerolinecolor": "#283442",
           "automargin": true,
           "zerolinewidth": 2
          },
          "yaxis": {
           "gridcolor": "#283442",
           "linecolor": "#506784",
           "ticks": "",
           "title": {
            "standoff": 15
           },
           "zerolinecolor": "#283442",
           "automargin": true,
           "zerolinewidth": 2
          },
          "scene": {
           "xaxis": {
            "backgroundcolor": "rgb(17,17,17)",
            "gridcolor": "#506784",
            "linecolor": "#506784",
            "showbackground": true,
            "ticks": "",
            "zerolinecolor": "#C8D4E3",
            "gridwidth": 2
           },
           "yaxis": {
            "backgroundcolor": "rgb(17,17,17)",
            "gridcolor": "#506784",
            "linecolor": "#506784",
            "showbackground": true,
            "ticks": "",
            "zerolinecolor": "#C8D4E3",
            "gridwidth": 2
           },
           "zaxis": {
            "backgroundcolor": "rgb(17,17,17)",
            "gridcolor": "#506784",
            "linecolor": "#506784",
            "showbackground": true,
            "ticks": "",
            "zerolinecolor": "#C8D4E3",
            "gridwidth": 2
           }
          },
          "shapedefaults": {
           "line": {
            "color": "#f2f5fa"
           }
          },
          "annotationdefaults": {
           "arrowcolor": "#f2f5fa",
           "arrowhead": 0,
           "arrowwidth": 1
          },
          "geo": {
           "bgcolor": "rgb(17,17,17)",
           "landcolor": "rgb(17,17,17)",
           "subunitcolor": "#506784",
           "showland": true,
           "showlakes": true,
           "lakecolor": "rgb(17,17,17)"
          },
          "title": {
           "x": 0.05
          },
          "updatemenudefaults": {
           "bgcolor": "#506784",
           "borderwidth": 0
          },
          "sliderdefaults": {
           "bgcolor": "#C8D4E3",
           "borderwidth": 1,
           "bordercolor": "rgb(17,17,17)",
           "tickwidth": 0
          },
          "mapbox": {
           "style": "dark"
          }
         }
        },
        "legend": {
         "tracegroupgap": 0
        },
        "title": {
         "text": "各个评分区间的电影数"
        }
       },
       "config": {
        "plotlyServerURL": "https://plot.ly"
       }
      },
      "text/html": "<div>                            <div id=\"b442d9b3-f8cf-4c91-a223-fc8a1d676179\" class=\"plotly-graph-div\" style=\"height:525px; width:100%;\"></div>            <script type=\"text/javascript\">                require([\"plotly\"], function(Plotly) {                    window.PLOTLYENV=window.PLOTLYENV || {};                                    if (document.getElementById(\"b442d9b3-f8cf-4c91-a223-fc8a1d676179\")) {                    Plotly.newPlot(                        \"b442d9b3-f8cf-4c91-a223-fc8a1d676179\",                        [{\"domain\":{\"x\":[0.0,1.0],\"y\":[0.0,1.0]},\"hovertemplate\":\"rating_from=%{label}\\u003cbr\\u003eNum=%{value}\\u003cextra\\u003e\\u003c\\u002fextra\\u003e\",\"labels\":[1,2,3,4,5,6,7,8,9],\"legendgroup\":\"\",\"name\":\"\",\"showlegend\":true,\"values\":[0,94,387,1011,3358,9300,11835,4884,572],\"type\":\"pie\"}],                        {\"template\":{\"data\":{\"histogram2dcontour\":[{\"type\":\"histogram2dcontour\",\"colorbar\":{\"outlinewidth\":0,\"ticks\":\"\"},\"colorscale\":[[0.0,\"#0d0887\"],[0.1111111111111111,\"#46039f\"],[0.2222222222222222,\"#7201a8\"],[0.3333333333333333,\"#9c179e\"],[0.4444444444444444,\"#bd3786\"],[0.5555555555555556,\"#d8576b\"],[0.6666666666666666,\"#ed7953\"],[0.7777777777777778,\"#fb9f3a\"],[0.8888888888888888,\"#fdca26\"],[1.0,\"#f0f921\"]]}],\"choropleth\":[{\"type\":\"choropleth\",\"colorbar\":{\"outlinewidth\":0,\"ticks\":\"\"}}],\"histogram2d\":[{\"type\":\"histogram2d\",\"colorbar\":{\"outlinewidth\":0,\"ticks\":\"\"},\"colorscale\":[[0.0,\"#0d0887\"],[0.1111111111111111,\"#46039f\"],[0.2222222222222222,\"#7201a8\"],[0.3333333333333333,\"#9c179e\"],[0.4444444444444444,\"#bd3786\"],[0.5555555555555556,\"#d8576b\"],[0.6666666666666666,\"#ed7953\"],[0.7777777777777778,\"#fb9f3a\"],[0.8888888888888888,\"#fdca26\"],[1.0,\"#f0f921\"]]}],\"heatmap\":[{\"type\":\"heatmap\",\"colorbar\":{\"outlinewidth\":0,\"ticks\":\"\"},\"colorscale\":[[0.0,\"#0d0887\"],[0.1111111111111111,\"#46039f\"],[0.2222222222222222,\"#7201a8\"],[0.3333333333333333,\"#9c179e\"],[0.4444444444444444,\"#bd3786\"],[0.5555555555555556,\"#d8576b\"],[0.6666666666666666,\"#ed7953\"],[0.7777777777777778,\"#fb9f3a\"],[0.8888888888888888,\"#fdca26\"],[1.0,\"#f0f921\"]]}],\"heatmapgl\":[{\"type\":\"heatmapgl\",\"colorbar\":{\"outlinewidth\":0,\"ticks\":\"\"},\"colorscale\":[[0.0,\"#0d0887\"],[0.1111111111111111,\"#46039f\"],[0.2222222222222222,\"#7201a8\"],[0.3333333333333333,\"#9c179e\"],[0.4444444444444444,\"#bd3786\"],[0.5555555555555556,\"#d8576b\"],[0.6666666666666666,\"#ed7953\"],[0.7777777777777778,\"#fb9f3a\"],[0.8888888888888888,\"#fdca26\"],[1.0,\"#f0f921\"]]}],\"contourcarpet\":[{\"type\":\"contourcarpet\",\"colorbar\":{\"outlinewidth\":0,\"ticks\":\"\"}}],\"contour\":[{\"type\":\"contour\",\"colorbar\":{\"outlinewidth\":0,\"ticks\":\"\"},\"colorscale\":[[0.0,\"#0d0887\"],[0.1111111111111111,\"#46039f\"],[0.2222222222222222,\"#7201a8\"],[0.3333333333333333,\"#9c179e\"],[0.4444444444444444,\"#bd3786\"],[0.5555555555555556,\"#d8576b\"],[0.6666666666666666,\"#ed7953\"],[0.7777777777777778,\"#fb9f3a\"],[0.8888888888888888,\"#fdca26\"],[1.0,\"#f0f921\"]]}],\"surface\":[{\"type\":\"surface\",\"colorbar\":{\"outlinewidth\":0,\"ticks\":\"\"},\"colorscale\":[[0.0,\"#0d0887\"],[0.1111111111111111,\"#46039f\"],[0.2222222222222222,\"#7201a8\"],[0.3333333333333333,\"#9c179e\"],[0.4444444444444444,\"#bd3786\"],[0.5555555555555556,\"#d8576b\"],[0.6666666666666666,\"#ed7953\"],[0.7777777777777778,\"#fb9f3a\"],[0.8888888888888888,\"#fdca26\"],[1.0,\"#f0f921\"]]}],\"mesh3d\":[{\"type\":\"mesh3d\",\"colorbar\":{\"outlinewidth\":0,\"ticks\":\"\"}}],\"scatter\":[{\"marker\":{\"line\":{\"color\":\"#283442\"}},\"type\":\"scatter\"}],\"parcoords\":[{\"type\":\"parcoords\",\"line\":{\"colorbar\":{\"outlinewidth\":0,\"ticks\":\"\"}}}],\"scatterpolargl\":[{\"type\":\"scatterpolargl\",\"marker\":{\"colorbar\":{\"outlinewidth\":0,\"ticks\":\"\"}}}],\"bar\":[{\"error_x\":{\"color\":\"#f2f5fa\"},\"error_y\":{\"color\":\"#f2f5fa\"},\"marker\":{\"line\":{\"color\":\"rgb(17,17,17)\",\"width\":0.5},\"pattern\":{\"fillmode\":\"overlay\",\"size\":10,\"solidity\":0.2}},\"type\":\"bar\"}],\"scattergeo\":[{\"type\":\"scattergeo\",\"marker\":{\"colorbar\":{\"outlinewidth\":0,\"ticks\":\"\"}}}],\"scatterpolar\":[{\"type\":\"scatterpolar\",\"marker\":{\"colorbar\":{\"outlinewidth\":0,\"ticks\":\"\"}}}],\"histogram\":[{\"marker\":{\"pattern\":{\"fillmode\":\"overlay\",\"size\":10,\"solidity\":0.2}},\"type\":\"histogram\"}],\"scattergl\":[{\"marker\":{\"line\":{\"color\":\"#283442\"}},\"type\":\"scattergl\"}],\"scatter3d\":[{\"type\":\"scatter3d\",\"line\":{\"colorbar\":{\"outlinewidth\":0,\"ticks\":\"\"}},\"marker\":{\"colorbar\":{\"outlinewidth\":0,\"ticks\":\"\"}}}],\"scattermapbox\":[{\"type\":\"scattermapbox\",\"marker\":{\"colorbar\":{\"outlinewidth\":0,\"ticks\":\"\"}}}],\"scatterternary\":[{\"type\":\"scatterternary\",\"marker\":{\"colorbar\":{\"outlinewidth\":0,\"ticks\":\"\"}}}],\"scattercarpet\":[{\"type\":\"scattercarpet\",\"marker\":{\"colorbar\":{\"outlinewidth\":0,\"ticks\":\"\"}}}],\"carpet\":[{\"aaxis\":{\"endlinecolor\":\"#A2B1C6\",\"gridcolor\":\"#506784\",\"linecolor\":\"#506784\",\"minorgridcolor\":\"#506784\",\"startlinecolor\":\"#A2B1C6\"},\"baxis\":{\"endlinecolor\":\"#A2B1C6\",\"gridcolor\":\"#506784\",\"linecolor\":\"#506784\",\"minorgridcolor\":\"#506784\",\"startlinecolor\":\"#A2B1C6\"},\"type\":\"carpet\"}],\"table\":[{\"cells\":{\"fill\":{\"color\":\"#506784\"},\"line\":{\"color\":\"rgb(17,17,17)\"}},\"header\":{\"fill\":{\"color\":\"#2a3f5f\"},\"line\":{\"color\":\"rgb(17,17,17)\"}},\"type\":\"table\"}],\"barpolar\":[{\"marker\":{\"line\":{\"color\":\"rgb(17,17,17)\",\"width\":0.5},\"pattern\":{\"fillmode\":\"overlay\",\"size\":10,\"solidity\":0.2}},\"type\":\"barpolar\"}],\"pie\":[{\"automargin\":true,\"type\":\"pie\"}]},\"layout\":{\"autotypenumbers\":\"strict\",\"colorway\":[\"#636efa\",\"#EF553B\",\"#00cc96\",\"#ab63fa\",\"#FFA15A\",\"#19d3f3\",\"#FF6692\",\"#B6E880\",\"#FF97FF\",\"#FECB52\"],\"font\":{\"color\":\"#f2f5fa\"},\"hovermode\":\"closest\",\"hoverlabel\":{\"align\":\"left\"},\"paper_bgcolor\":\"rgb(17,17,17)\",\"plot_bgcolor\":\"rgb(17,17,17)\",\"polar\":{\"bgcolor\":\"rgb(17,17,17)\",\"angularaxis\":{\"gridcolor\":\"#506784\",\"linecolor\":\"#506784\",\"ticks\":\"\"},\"radialaxis\":{\"gridcolor\":\"#506784\",\"linecolor\":\"#506784\",\"ticks\":\"\"}},\"ternary\":{\"bgcolor\":\"rgb(17,17,17)\",\"aaxis\":{\"gridcolor\":\"#506784\",\"linecolor\":\"#506784\",\"ticks\":\"\"},\"baxis\":{\"gridcolor\":\"#506784\",\"linecolor\":\"#506784\",\"ticks\":\"\"},\"caxis\":{\"gridcolor\":\"#506784\",\"linecolor\":\"#506784\",\"ticks\":\"\"}},\"coloraxis\":{\"colorbar\":{\"outlinewidth\":0,\"ticks\":\"\"}},\"colorscale\":{\"sequential\":[[0.0,\"#0d0887\"],[0.1111111111111111,\"#46039f\"],[0.2222222222222222,\"#7201a8\"],[0.3333333333333333,\"#9c179e\"],[0.4444444444444444,\"#bd3786\"],[0.5555555555555556,\"#d8576b\"],[0.6666666666666666,\"#ed7953\"],[0.7777777777777778,\"#fb9f3a\"],[0.8888888888888888,\"#fdca26\"],[1.0,\"#f0f921\"]],\"sequentialminus\":[[0.0,\"#0d0887\"],[0.1111111111111111,\"#46039f\"],[0.2222222222222222,\"#7201a8\"],[0.3333333333333333,\"#9c179e\"],[0.4444444444444444,\"#bd3786\"],[0.5555555555555556,\"#d8576b\"],[0.6666666666666666,\"#ed7953\"],[0.7777777777777778,\"#fb9f3a\"],[0.8888888888888888,\"#fdca26\"],[1.0,\"#f0f921\"]],\"diverging\":[[0,\"#8e0152\"],[0.1,\"#c51b7d\"],[0.2,\"#de77ae\"],[0.3,\"#f1b6da\"],[0.4,\"#fde0ef\"],[0.5,\"#f7f7f7\"],[0.6,\"#e6f5d0\"],[0.7,\"#b8e186\"],[0.8,\"#7fbc41\"],[0.9,\"#4d9221\"],[1,\"#276419\"]]},\"xaxis\":{\"gridcolor\":\"#283442\",\"linecolor\":\"#506784\",\"ticks\":\"\",\"title\":{\"standoff\":15},\"zerolinecolor\":\"#283442\",\"automargin\":true,\"zerolinewidth\":2},\"yaxis\":{\"gridcolor\":\"#283442\",\"linecolor\":\"#506784\",\"ticks\":\"\",\"title\":{\"standoff\":15},\"zerolinecolor\":\"#283442\",\"automargin\":true,\"zerolinewidth\":2},\"scene\":{\"xaxis\":{\"backgroundcolor\":\"rgb(17,17,17)\",\"gridcolor\":\"#506784\",\"linecolor\":\"#506784\",\"showbackground\":true,\"ticks\":\"\",\"zerolinecolor\":\"#C8D4E3\",\"gridwidth\":2},\"yaxis\":{\"backgroundcolor\":\"rgb(17,17,17)\",\"gridcolor\":\"#506784\",\"linecolor\":\"#506784\",\"showbackground\":true,\"ticks\":\"\",\"zerolinecolor\":\"#C8D4E3\",\"gridwidth\":2},\"zaxis\":{\"backgroundcolor\":\"rgb(17,17,17)\",\"gridcolor\":\"#506784\",\"linecolor\":\"#506784\",\"showbackground\":true,\"ticks\":\"\",\"zerolinecolor\":\"#C8D4E3\",\"gridwidth\":2}},\"shapedefaults\":{\"line\":{\"color\":\"#f2f5fa\"}},\"annotationdefaults\":{\"arrowcolor\":\"#f2f5fa\",\"arrowhead\":0,\"arrowwidth\":1},\"geo\":{\"bgcolor\":\"rgb(17,17,17)\",\"landcolor\":\"rgb(17,17,17)\",\"subunitcolor\":\"#506784\",\"showland\":true,\"showlakes\":true,\"lakecolor\":\"rgb(17,17,17)\"},\"title\":{\"x\":0.05},\"updatemenudefaults\":{\"bgcolor\":\"#506784\",\"borderwidth\":0},\"sliderdefaults\":{\"bgcolor\":\"#C8D4E3\",\"borderwidth\":1,\"bordercolor\":\"rgb(17,17,17)\",\"tickwidth\":0},\"mapbox\":{\"style\":\"dark\"}}},\"legend\":{\"tracegroupgap\":0},\"title\":{\"text\":\"\\u5404\\u4e2a\\u8bc4\\u5206\\u533a\\u95f4\\u7684\\u7535\\u5f71\\u6570\"}},                        {\"responsive\": true}                    ).then(function(){\n                            \nvar gd = document.getElementById('b442d9b3-f8cf-4c91-a223-fc8a1d676179');\nvar x = new MutationObserver(function (mutations, observer) {{\n        var display = window.getComputedStyle(gd).display;\n        if (!display || display === 'none') {{\n            console.log([gd, 'removed!']);\n            Plotly.purge(gd);\n            observer.disconnect();\n        }}\n}});\n\n// Listen for the removal of the full notebook cells\nvar notebookContainer = gd.closest('#notebook-container');\nif (notebookContainer) {{\n    x.observe(notebookContainer, {childList: true});\n}}\n\n// Listen for the clearing of the current output cell\nvar outputEl = gd.closest('.output');\nif (outputEl) {{\n    x.observe(outputEl, {childList: true});\n}}\n\n                        })                };                });            </script>        </div>"
     },
     "metadata": {},
     "output_type": "display_data"
    }
   ],
   "source": [
    "fig2 = px.pie(ratingNum,\n",
    "              values = \"Num\",\n",
    "              names = \"rating_from\", \n",
    "              title = \"各个评分区间的电影数\"\n",
    "\n",
    "             )\n",
    "fig2.show()"
   ]
  },
  {
   "cell_type": "code",
   "execution_count": 35,
   "metadata": {
    "ExecuteTime": {
     "end_time": "2023-06-23T11:03:51.167270083Z",
     "start_time": "2023-06-23T11:03:51.064084246Z"
    }
   },
   "outputs": [
    {
     "data": {
      "text/plain": "       area   Num\n0        美国  9277\n1        日本  4276\n2      中国大陆  3203\n3        香港  3037\n4        法国  2073\n..      ...   ...\n185   英国BBC     1\n186     阿联酋     1\n187    阿鲁巴岛     1\n188      马里     1\n189  吉尔吉斯斯坦     1\n\n[190 rows x 2 columns]",
      "text/html": "<div>\n<style scoped>\n    .dataframe tbody tr th:only-of-type {\n        vertical-align: middle;\n    }\n\n    .dataframe tbody tr th {\n        vertical-align: top;\n    }\n\n    .dataframe thead th {\n        text-align: right;\n    }\n</style>\n<table border=\"1\" class=\"dataframe\">\n  <thead>\n    <tr style=\"text-align: right;\">\n      <th></th>\n      <th>area</th>\n      <th>Num</th>\n    </tr>\n  </thead>\n  <tbody>\n    <tr>\n      <th>0</th>\n      <td>美国</td>\n      <td>9277</td>\n    </tr>\n    <tr>\n      <th>1</th>\n      <td>日本</td>\n      <td>4276</td>\n    </tr>\n    <tr>\n      <th>2</th>\n      <td>中国大陆</td>\n      <td>3203</td>\n    </tr>\n    <tr>\n      <th>3</th>\n      <td>香港</td>\n      <td>3037</td>\n    </tr>\n    <tr>\n      <th>4</th>\n      <td>法国</td>\n      <td>2073</td>\n    </tr>\n    <tr>\n      <th>...</th>\n      <td>...</td>\n      <td>...</td>\n    </tr>\n    <tr>\n      <th>185</th>\n      <td>英国BBC</td>\n      <td>1</td>\n    </tr>\n    <tr>\n      <th>186</th>\n      <td>阿联酋</td>\n      <td>1</td>\n    </tr>\n    <tr>\n      <th>187</th>\n      <td>阿鲁巴岛</td>\n      <td>1</td>\n    </tr>\n    <tr>\n      <th>188</th>\n      <td>马里</td>\n      <td>1</td>\n    </tr>\n    <tr>\n      <th>189</th>\n      <td>吉尔吉斯斯坦</td>\n      <td>1</td>\n    </tr>\n  </tbody>\n</table>\n<p>190 rows × 2 columns</p>\n</div>"
     },
     "execution_count": 35,
     "metadata": {},
     "output_type": "execute_result"
    }
   ],
   "source": [
    "filmCountryNum_Sort = pd.read_csv(\"Output/filmCountryNum_Sort.csv\", header=None)\n",
    "filmCountryNum_Sort.columns = [\"area\", \"Num\"]\n",
    "filmCountryNum_Sort"
   ]
  },
  {
   "cell_type": "code",
   "execution_count": 36,
   "metadata": {
    "ExecuteTime": {
     "end_time": "2023-06-23T11:03:51.167393580Z",
     "start_time": "2023-06-23T11:03:51.110468746Z"
    }
   },
   "outputs": [
    {
     "data": {
      "text/plain": "            area  Average_Rating\n0       德意志联邦共和国            9.20\n1    WestGermany            8.90\n2           博茨瓦纳            8.80\n3        塞尔维亚和黑山            8.80\n4        Austria            8.60\n..           ...             ...\n185         中国香港            5.52\n186         尼日利亚            5.50\n187        Aruba            5.40\n188          阿联酋            5.20\n189     挪威Norway            4.90\n\n[190 rows x 2 columns]",
      "text/html": "<div>\n<style scoped>\n    .dataframe tbody tr th:only-of-type {\n        vertical-align: middle;\n    }\n\n    .dataframe tbody tr th {\n        vertical-align: top;\n    }\n\n    .dataframe thead th {\n        text-align: right;\n    }\n</style>\n<table border=\"1\" class=\"dataframe\">\n  <thead>\n    <tr style=\"text-align: right;\">\n      <th></th>\n      <th>area</th>\n      <th>Average_Rating</th>\n    </tr>\n  </thead>\n  <tbody>\n    <tr>\n      <th>0</th>\n      <td>德意志联邦共和国</td>\n      <td>9.20</td>\n    </tr>\n    <tr>\n      <th>1</th>\n      <td>WestGermany</td>\n      <td>8.90</td>\n    </tr>\n    <tr>\n      <th>2</th>\n      <td>博茨瓦纳</td>\n      <td>8.80</td>\n    </tr>\n    <tr>\n      <th>3</th>\n      <td>塞尔维亚和黑山</td>\n      <td>8.80</td>\n    </tr>\n    <tr>\n      <th>4</th>\n      <td>Austria</td>\n      <td>8.60</td>\n    </tr>\n    <tr>\n      <th>...</th>\n      <td>...</td>\n      <td>...</td>\n    </tr>\n    <tr>\n      <th>185</th>\n      <td>中国香港</td>\n      <td>5.52</td>\n    </tr>\n    <tr>\n      <th>186</th>\n      <td>尼日利亚</td>\n      <td>5.50</td>\n    </tr>\n    <tr>\n      <th>187</th>\n      <td>Aruba</td>\n      <td>5.40</td>\n    </tr>\n    <tr>\n      <th>188</th>\n      <td>阿联酋</td>\n      <td>5.20</td>\n    </tr>\n    <tr>\n      <th>189</th>\n      <td>挪威Norway</td>\n      <td>4.90</td>\n    </tr>\n  </tbody>\n</table>\n<p>190 rows × 2 columns</p>\n</div>"
     },
     "execution_count": 36,
     "metadata": {},
     "output_type": "execute_result"
    }
   ],
   "source": [
    "filmCountry_ratingAverage_Sort = pd.read_csv(\"Output/filmCountry_ratingAverage_Sort.csv\", header=None)\n",
    "filmCountry_ratingAverage_Sort.columns = [\"area\", \"Average_Rating\"]\n",
    "\n",
    "filmCountry_ratingAverage_Sort"
   ]
  },
  {
   "cell_type": "code",
   "execution_count": 37,
   "metadata": {
    "ExecuteTime": {
     "end_time": "2023-06-23T11:03:51.167541915Z",
     "start_time": "2023-06-23T11:03:51.110692568Z"
    }
   },
   "outputs": [
    {
     "data": {
      "text/plain": "       area   Num  Average_Rating\n0        美国  9277        6.969074\n1        日本  4276        7.285454\n2      中国大陆  3203        6.321917\n3        香港  3037        6.451037\n4        法国  2073        7.270912\n..      ...   ...             ...\n185   英国BBC     1        7.500000\n186     阿联酋     1        5.200000\n187    阿鲁巴岛     1        7.500000\n188      马里     1        7.300000\n189  吉尔吉斯斯坦     1        7.300000\n\n[190 rows x 3 columns]",
      "text/html": "<div>\n<style scoped>\n    .dataframe tbody tr th:only-of-type {\n        vertical-align: middle;\n    }\n\n    .dataframe tbody tr th {\n        vertical-align: top;\n    }\n\n    .dataframe thead th {\n        text-align: right;\n    }\n</style>\n<table border=\"1\" class=\"dataframe\">\n  <thead>\n    <tr style=\"text-align: right;\">\n      <th></th>\n      <th>area</th>\n      <th>Num</th>\n      <th>Average_Rating</th>\n    </tr>\n  </thead>\n  <tbody>\n    <tr>\n      <th>0</th>\n      <td>美国</td>\n      <td>9277</td>\n      <td>6.969074</td>\n    </tr>\n    <tr>\n      <th>1</th>\n      <td>日本</td>\n      <td>4276</td>\n      <td>7.285454</td>\n    </tr>\n    <tr>\n      <th>2</th>\n      <td>中国大陆</td>\n      <td>3203</td>\n      <td>6.321917</td>\n    </tr>\n    <tr>\n      <th>3</th>\n      <td>香港</td>\n      <td>3037</td>\n      <td>6.451037</td>\n    </tr>\n    <tr>\n      <th>4</th>\n      <td>法国</td>\n      <td>2073</td>\n      <td>7.270912</td>\n    </tr>\n    <tr>\n      <th>...</th>\n      <td>...</td>\n      <td>...</td>\n      <td>...</td>\n    </tr>\n    <tr>\n      <th>185</th>\n      <td>英国BBC</td>\n      <td>1</td>\n      <td>7.500000</td>\n    </tr>\n    <tr>\n      <th>186</th>\n      <td>阿联酋</td>\n      <td>1</td>\n      <td>5.200000</td>\n    </tr>\n    <tr>\n      <th>187</th>\n      <td>阿鲁巴岛</td>\n      <td>1</td>\n      <td>7.500000</td>\n    </tr>\n    <tr>\n      <th>188</th>\n      <td>马里</td>\n      <td>1</td>\n      <td>7.300000</td>\n    </tr>\n    <tr>\n      <th>189</th>\n      <td>吉尔吉斯斯坦</td>\n      <td>1</td>\n      <td>7.300000</td>\n    </tr>\n  </tbody>\n</table>\n<p>190 rows × 3 columns</p>\n</div>"
     },
     "execution_count": 37,
     "metadata": {},
     "output_type": "execute_result"
    }
   ],
   "source": [
    "countryNum_avergeRating = pd.merge(filmCountryNum_Sort, filmCountry_ratingAverage_Sort, on='area') #合并两表\n",
    "countryNum_avergeRating"
   ]
  },
  {
   "cell_type": "code",
   "execution_count": 38,
   "metadata": {
    "ExecuteTime": {
     "end_time": "2023-06-23T11:03:51.167857648Z",
     "start_time": "2023-06-23T11:03:51.110901349Z"
    }
   },
   "outputs": [
    {
     "data": {
      "application/vnd.plotly.v1+json": {
       "data": [
        {
         "hovertemplate": "<b>%{hovertext}</b><br><br>area=美国<br>Num=%{x}<br>Average_Rating=%{y}<extra></extra>",
         "hovertext": [
          "美国"
         ],
         "legendgroup": "美国",
         "marker": {
          "color": "#636efa",
          "symbol": "circle"
         },
         "mode": "markers",
         "name": "美国",
         "orientation": "v",
         "showlegend": true,
         "x": [
          9277
         ],
         "xaxis": "x",
         "y": [
          6.969074054112332
         ],
         "yaxis": "y",
         "type": "scatter"
        },
        {
         "hovertemplate": "<b>%{hovertext}</b><br><br>area=日本<br>Num=%{x}<br>Average_Rating=%{y}<extra></extra>",
         "hovertext": [
          "日本"
         ],
         "legendgroup": "日本",
         "marker": {
          "color": "#EF553B",
          "symbol": "circle"
         },
         "mode": "markers",
         "name": "日本",
         "orientation": "v",
         "showlegend": true,
         "x": [
          4276
         ],
         "xaxis": "x",
         "y": [
          7.2854536950420945
         ],
         "yaxis": "y",
         "type": "scatter"
        },
        {
         "hovertemplate": "<b>%{hovertext}</b><br><br>area=中国大陆<br>Num=%{x}<br>Average_Rating=%{y}<extra></extra>",
         "hovertext": [
          "中国大陆"
         ],
         "legendgroup": "中国大陆",
         "marker": {
          "color": "#00cc96",
          "symbol": "circle"
         },
         "mode": "markers",
         "name": "中国大陆",
         "orientation": "v",
         "showlegend": true,
         "x": [
          3203
         ],
         "xaxis": "x",
         "y": [
          6.321916952856686
         ],
         "yaxis": "y",
         "type": "scatter"
        },
        {
         "hovertemplate": "<b>%{hovertext}</b><br><br>area=香港<br>Num=%{x}<br>Average_Rating=%{y}<extra></extra>",
         "hovertext": [
          "香港"
         ],
         "legendgroup": "香港",
         "marker": {
          "color": "#ab63fa",
          "symbol": "circle"
         },
         "mode": "markers",
         "name": "香港",
         "orientation": "v",
         "showlegend": true,
         "x": [
          3037
         ],
         "xaxis": "x",
         "y": [
          6.451037207770825
         ],
         "yaxis": "y",
         "type": "scatter"
        },
        {
         "hovertemplate": "<b>%{hovertext}</b><br><br>area=法国<br>Num=%{x}<br>Average_Rating=%{y}<extra></extra>",
         "hovertext": [
          "法国"
         ],
         "legendgroup": "法国",
         "marker": {
          "color": "#FFA15A",
          "symbol": "circle"
         },
         "mode": "markers",
         "name": "法国",
         "orientation": "v",
         "showlegend": true,
         "x": [
          2073
         ],
         "xaxis": "x",
         "y": [
          7.270911722141837
         ],
         "yaxis": "y",
         "type": "scatter"
        },
        {
         "hovertemplate": "<b>%{hovertext}</b><br><br>area=英国<br>Num=%{x}<br>Average_Rating=%{y}<extra></extra>",
         "hovertext": [
          "英国"
         ],
         "legendgroup": "英国",
         "marker": {
          "color": "#19d3f3",
          "symbol": "circle"
         },
         "mode": "markers",
         "name": "英国",
         "orientation": "v",
         "showlegend": true,
         "x": [
          2046
         ],
         "xaxis": "x",
         "y": [
          7.431133919843607
         ],
         "yaxis": "y",
         "type": "scatter"
        },
        {
         "hovertemplate": "<b>%{hovertext}</b><br><br>area=韩国<br>Num=%{x}<br>Average_Rating=%{y}<extra></extra>",
         "hovertext": [
          "韩国"
         ],
         "legendgroup": "韩国",
         "marker": {
          "color": "#FF6692",
          "symbol": "circle"
         },
         "mode": "markers",
         "name": "韩国",
         "orientation": "v",
         "showlegend": true,
         "x": [
          1161
         ],
         "xaxis": "x",
         "y": [
          6.632041343669251
         ],
         "yaxis": "y",
         "type": "scatter"
        },
        {
         "hovertemplate": "<b>%{hovertext}</b><br><br>area=意大利<br>Num=%{x}<br>Average_Rating=%{y}<extra></extra>",
         "hovertext": [
          "意大利"
         ],
         "legendgroup": "意大利",
         "marker": {
          "color": "#B6E880",
          "symbol": "circle"
         },
         "mode": "markers",
         "name": "意大利",
         "orientation": "v",
         "showlegend": true,
         "x": [
          734
         ],
         "xaxis": "x",
         "y": [
          7.154632152588563
         ],
         "yaxis": "y",
         "type": "scatter"
        },
        {
         "hovertemplate": "<b>%{hovertext}</b><br><br>area=德国<br>Num=%{x}<br>Average_Rating=%{y}<extra></extra>",
         "hovertext": [
          "德国"
         ],
         "legendgroup": "德国",
         "marker": {
          "color": "#FF97FF",
          "symbol": "circle"
         },
         "mode": "markers",
         "name": "德国",
         "orientation": "v",
         "showlegend": true,
         "x": [
          624
         ],
         "xaxis": "x",
         "y": [
          7.193429487179488
         ],
         "yaxis": "y",
         "type": "scatter"
        },
        {
         "hovertemplate": "<b>%{hovertext}</b><br><br>area=台湾<br>Num=%{x}<br>Average_Rating=%{y}<extra></extra>",
         "hovertext": [
          "台湾"
         ],
         "legendgroup": "台湾",
         "marker": {
          "color": "#FECB52",
          "symbol": "circle"
         },
         "mode": "markers",
         "name": "台湾",
         "orientation": "v",
         "showlegend": true,
         "x": [
          618
         ],
         "xaxis": "x",
         "y": [
          6.850161812297741
         ],
         "yaxis": "y",
         "type": "scatter"
        },
        {
         "hovertemplate": "<b>%{hovertext}</b><br><br>area=加拿大<br>Num=%{x}<br>Average_Rating=%{y}<extra></extra>",
         "hovertext": [
          "加拿大"
         ],
         "legendgroup": "加拿大",
         "marker": {
          "color": "#636efa",
          "symbol": "circle"
         },
         "mode": "markers",
         "name": "加拿大",
         "orientation": "v",
         "showlegend": true,
         "x": [
          427
         ],
         "xaxis": "x",
         "y": [
          6.805854800936771
         ],
         "yaxis": "y",
         "type": "scatter"
        },
        {
         "hovertemplate": "<b>%{hovertext}</b><br><br>area=西班牙<br>Num=%{x}<br>Average_Rating=%{y}<extra></extra>",
         "hovertext": [
          "西班牙"
         ],
         "legendgroup": "西班牙",
         "marker": {
          "color": "#EF553B",
          "symbol": "circle"
         },
         "mode": "markers",
         "name": "西班牙",
         "orientation": "v",
         "showlegend": true,
         "x": [
          368
         ],
         "xaxis": "x",
         "y": [
          7.004619565217391
         ],
         "yaxis": "y",
         "type": "scatter"
        },
        {
         "hovertemplate": "<b>%{hovertext}</b><br><br>area=印度<br>Num=%{x}<br>Average_Rating=%{y}<extra></extra>",
         "hovertext": [
          "印度"
         ],
         "legendgroup": "印度",
         "marker": {
          "color": "#00cc96",
          "symbol": "circle"
         },
         "mode": "markers",
         "name": "印度",
         "orientation": "v",
         "showlegend": true,
         "x": [
          275
         ],
         "xaxis": "x",
         "y": [
          7.335999999999995
         ],
         "yaxis": "y",
         "type": "scatter"
        },
        {
         "hovertemplate": "<b>%{hovertext}</b><br><br>area=苏联<br>Num=%{x}<br>Average_Rating=%{y}<extra></extra>",
         "hovertext": [
          "苏联"
         ],
         "legendgroup": "苏联",
         "marker": {
          "color": "#ab63fa",
          "symbol": "circle"
         },
         "mode": "markers",
         "name": "苏联",
         "orientation": "v",
         "showlegend": true,
         "x": [
          262
         ],
         "xaxis": "x",
         "y": [
          7.880152671755732
         ],
         "yaxis": "y",
         "type": "scatter"
        },
        {
         "hovertemplate": "<b>%{hovertext}</b><br><br>area=澳大利亚<br>Num=%{x}<br>Average_Rating=%{y}<extra></extra>",
         "hovertext": [
          "澳大利亚"
         ],
         "legendgroup": "澳大利亚",
         "marker": {
          "color": "#FFA15A",
          "symbol": "circle"
         },
         "mode": "markers",
         "name": "澳大利亚",
         "orientation": "v",
         "showlegend": true,
         "x": [
          214
         ],
         "xaxis": "x",
         "y": [
          6.875233644859815
         ],
         "yaxis": "y",
         "type": "scatter"
        },
        {
         "hovertemplate": "<b>%{hovertext}</b><br><br>area=泰国<br>Num=%{x}<br>Average_Rating=%{y}<extra></extra>",
         "hovertext": [
          "泰国"
         ],
         "legendgroup": "泰国",
         "marker": {
          "color": "#19d3f3",
          "symbol": "circle"
         },
         "mode": "markers",
         "name": "泰国",
         "orientation": "v",
         "showlegend": true,
         "x": [
          184
         ],
         "xaxis": "x",
         "y": [
          6.582065217391305
         ],
         "yaxis": "y",
         "type": "scatter"
        },
        {
         "hovertemplate": "<b>%{hovertext}</b><br><br>area=俄罗斯<br>Num=%{x}<br>Average_Rating=%{y}<extra></extra>",
         "hovertext": [
          "俄罗斯"
         ],
         "legendgroup": "俄罗斯",
         "marker": {
          "color": "#FF6692",
          "symbol": "circle"
         },
         "mode": "markers",
         "name": "俄罗斯",
         "orientation": "v",
         "showlegend": true,
         "x": [
          184
         ],
         "xaxis": "x",
         "y": [
          7.217934782608695
         ],
         "yaxis": "y",
         "type": "scatter"
        },
        {
         "hovertemplate": "<b>%{hovertext}</b><br><br>area=瑞典<br>Num=%{x}<br>Average_Rating=%{y}<extra></extra>",
         "hovertext": [
          "瑞典"
         ],
         "legendgroup": "瑞典",
         "marker": {
          "color": "#B6E880",
          "symbol": "circle"
         },
         "mode": "markers",
         "name": "瑞典",
         "orientation": "v",
         "showlegend": true,
         "x": [
          146
         ],
         "xaxis": "x",
         "y": [
          7.527397260273973
         ],
         "yaxis": "y",
         "type": "scatter"
        },
        {
         "hovertemplate": "<b>%{hovertext}</b><br><br>area=波兰<br>Num=%{x}<br>Average_Rating=%{y}<extra></extra>",
         "hovertext": [
          "波兰"
         ],
         "legendgroup": "波兰",
         "marker": {
          "color": "#FF97FF",
          "symbol": "circle"
         },
         "mode": "markers",
         "name": "波兰",
         "orientation": "v",
         "showlegend": true,
         "x": [
          136
         ],
         "xaxis": "x",
         "y": [
          7.483823529411769
         ],
         "yaxis": "y",
         "type": "scatter"
        },
        {
         "hovertemplate": "<b>%{hovertext}</b><br><br>area=丹麦<br>Num=%{x}<br>Average_Rating=%{y}<extra></extra>",
         "hovertext": [
          "丹麦"
         ],
         "legendgroup": "丹麦",
         "marker": {
          "color": "#FECB52",
          "symbol": "circle"
         },
         "mode": "markers",
         "name": "丹麦",
         "orientation": "v",
         "showlegend": true,
         "x": [
          123
         ],
         "xaxis": "x",
         "y": [
          7.382113821138208
         ],
         "yaxis": "y",
         "type": "scatter"
        },
        {
         "hovertemplate": "<b>%{hovertext}</b><br><br>area=西德<br>Num=%{x}<br>Average_Rating=%{y}<extra></extra>",
         "hovertext": [
          "西德"
         ],
         "legendgroup": "西德",
         "marker": {
          "color": "#636efa",
          "symbol": "circle"
         },
         "mode": "markers",
         "name": "西德",
         "orientation": "v",
         "showlegend": true,
         "x": [
          121
         ],
         "xaxis": "x",
         "y": [
          7.451239669421489
         ],
         "yaxis": "y",
         "type": "scatter"
        },
        {
         "hovertemplate": "<b>%{hovertext}</b><br><br>area=墨西哥<br>Num=%{x}<br>Average_Rating=%{y}<extra></extra>",
         "hovertext": [
          "墨西哥"
         ],
         "legendgroup": "墨西哥",
         "marker": {
          "color": "#EF553B",
          "symbol": "circle"
         },
         "mode": "markers",
         "name": "墨西哥",
         "orientation": "v",
         "showlegend": true,
         "x": [
          94
         ],
         "xaxis": "x",
         "y": [
          7.096808510638301
         ],
         "yaxis": "y",
         "type": "scatter"
        },
        {
         "hovertemplate": "<b>%{hovertext}</b><br><br>area=阿根廷<br>Num=%{x}<br>Average_Rating=%{y}<extra></extra>",
         "hovertext": [
          "阿根廷"
         ],
         "legendgroup": "阿根廷",
         "marker": {
          "color": "#00cc96",
          "symbol": "circle"
         },
         "mode": "markers",
         "name": "阿根廷",
         "orientation": "v",
         "showlegend": true,
         "x": [
          91
         ],
         "xaxis": "x",
         "y": [
          7.356043956043957
         ],
         "yaxis": "y",
         "type": "scatter"
        },
        {
         "hovertemplate": "<b>%{hovertext}</b><br><br>area=比利时<br>Num=%{x}<br>Average_Rating=%{y}<extra></extra>",
         "hovertext": [
          "比利时"
         ],
         "legendgroup": "比利时",
         "marker": {
          "color": "#ab63fa",
          "symbol": "circle"
         },
         "mode": "markers",
         "name": "比利时",
         "orientation": "v",
         "showlegend": true,
         "x": [
          89
         ],
         "xaxis": "x",
         "y": [
          7.244943820224718
         ],
         "yaxis": "y",
         "type": "scatter"
        },
        {
         "hovertemplate": "<b>%{hovertext}</b><br><br>area=捷克斯洛伐克<br>Num=%{x}<br>Average_Rating=%{y}<extra></extra>",
         "hovertext": [
          "捷克斯洛伐克"
         ],
         "legendgroup": "捷克斯洛伐克",
         "marker": {
          "color": "#FFA15A",
          "symbol": "circle"
         },
         "mode": "markers",
         "name": "捷克斯洛伐克",
         "orientation": "v",
         "showlegend": true,
         "x": [
          79
         ],
         "xaxis": "x",
         "y": [
          7.717721518987339
         ],
         "yaxis": "y",
         "type": "scatter"
        }
       ],
       "layout": {
        "template": {
         "data": {
          "histogram2dcontour": [
           {
            "type": "histogram2dcontour",
            "colorbar": {
             "outlinewidth": 0,
             "ticks": ""
            },
            "colorscale": [
             [
              0.0,
              "#0d0887"
             ],
             [
              0.1111111111111111,
              "#46039f"
             ],
             [
              0.2222222222222222,
              "#7201a8"
             ],
             [
              0.3333333333333333,
              "#9c179e"
             ],
             [
              0.4444444444444444,
              "#bd3786"
             ],
             [
              0.5555555555555556,
              "#d8576b"
             ],
             [
              0.6666666666666666,
              "#ed7953"
             ],
             [
              0.7777777777777778,
              "#fb9f3a"
             ],
             [
              0.8888888888888888,
              "#fdca26"
             ],
             [
              1.0,
              "#f0f921"
             ]
            ]
           }
          ],
          "choropleth": [
           {
            "type": "choropleth",
            "colorbar": {
             "outlinewidth": 0,
             "ticks": ""
            }
           }
          ],
          "histogram2d": [
           {
            "type": "histogram2d",
            "colorbar": {
             "outlinewidth": 0,
             "ticks": ""
            },
            "colorscale": [
             [
              0.0,
              "#0d0887"
             ],
             [
              0.1111111111111111,
              "#46039f"
             ],
             [
              0.2222222222222222,
              "#7201a8"
             ],
             [
              0.3333333333333333,
              "#9c179e"
             ],
             [
              0.4444444444444444,
              "#bd3786"
             ],
             [
              0.5555555555555556,
              "#d8576b"
             ],
             [
              0.6666666666666666,
              "#ed7953"
             ],
             [
              0.7777777777777778,
              "#fb9f3a"
             ],
             [
              0.8888888888888888,
              "#fdca26"
             ],
             [
              1.0,
              "#f0f921"
             ]
            ]
           }
          ],
          "heatmap": [
           {
            "type": "heatmap",
            "colorbar": {
             "outlinewidth": 0,
             "ticks": ""
            },
            "colorscale": [
             [
              0.0,
              "#0d0887"
             ],
             [
              0.1111111111111111,
              "#46039f"
             ],
             [
              0.2222222222222222,
              "#7201a8"
             ],
             [
              0.3333333333333333,
              "#9c179e"
             ],
             [
              0.4444444444444444,
              "#bd3786"
             ],
             [
              0.5555555555555556,
              "#d8576b"
             ],
             [
              0.6666666666666666,
              "#ed7953"
             ],
             [
              0.7777777777777778,
              "#fb9f3a"
             ],
             [
              0.8888888888888888,
              "#fdca26"
             ],
             [
              1.0,
              "#f0f921"
             ]
            ]
           }
          ],
          "heatmapgl": [
           {
            "type": "heatmapgl",
            "colorbar": {
             "outlinewidth": 0,
             "ticks": ""
            },
            "colorscale": [
             [
              0.0,
              "#0d0887"
             ],
             [
              0.1111111111111111,
              "#46039f"
             ],
             [
              0.2222222222222222,
              "#7201a8"
             ],
             [
              0.3333333333333333,
              "#9c179e"
             ],
             [
              0.4444444444444444,
              "#bd3786"
             ],
             [
              0.5555555555555556,
              "#d8576b"
             ],
             [
              0.6666666666666666,
              "#ed7953"
             ],
             [
              0.7777777777777778,
              "#fb9f3a"
             ],
             [
              0.8888888888888888,
              "#fdca26"
             ],
             [
              1.0,
              "#f0f921"
             ]
            ]
           }
          ],
          "contourcarpet": [
           {
            "type": "contourcarpet",
            "colorbar": {
             "outlinewidth": 0,
             "ticks": ""
            }
           }
          ],
          "contour": [
           {
            "type": "contour",
            "colorbar": {
             "outlinewidth": 0,
             "ticks": ""
            },
            "colorscale": [
             [
              0.0,
              "#0d0887"
             ],
             [
              0.1111111111111111,
              "#46039f"
             ],
             [
              0.2222222222222222,
              "#7201a8"
             ],
             [
              0.3333333333333333,
              "#9c179e"
             ],
             [
              0.4444444444444444,
              "#bd3786"
             ],
             [
              0.5555555555555556,
              "#d8576b"
             ],
             [
              0.6666666666666666,
              "#ed7953"
             ],
             [
              0.7777777777777778,
              "#fb9f3a"
             ],
             [
              0.8888888888888888,
              "#fdca26"
             ],
             [
              1.0,
              "#f0f921"
             ]
            ]
           }
          ],
          "surface": [
           {
            "type": "surface",
            "colorbar": {
             "outlinewidth": 0,
             "ticks": ""
            },
            "colorscale": [
             [
              0.0,
              "#0d0887"
             ],
             [
              0.1111111111111111,
              "#46039f"
             ],
             [
              0.2222222222222222,
              "#7201a8"
             ],
             [
              0.3333333333333333,
              "#9c179e"
             ],
             [
              0.4444444444444444,
              "#bd3786"
             ],
             [
              0.5555555555555556,
              "#d8576b"
             ],
             [
              0.6666666666666666,
              "#ed7953"
             ],
             [
              0.7777777777777778,
              "#fb9f3a"
             ],
             [
              0.8888888888888888,
              "#fdca26"
             ],
             [
              1.0,
              "#f0f921"
             ]
            ]
           }
          ],
          "mesh3d": [
           {
            "type": "mesh3d",
            "colorbar": {
             "outlinewidth": 0,
             "ticks": ""
            }
           }
          ],
          "scatter": [
           {
            "marker": {
             "line": {
              "color": "#283442"
             }
            },
            "type": "scatter"
           }
          ],
          "parcoords": [
           {
            "type": "parcoords",
            "line": {
             "colorbar": {
              "outlinewidth": 0,
              "ticks": ""
             }
            }
           }
          ],
          "scatterpolargl": [
           {
            "type": "scatterpolargl",
            "marker": {
             "colorbar": {
              "outlinewidth": 0,
              "ticks": ""
             }
            }
           }
          ],
          "bar": [
           {
            "error_x": {
             "color": "#f2f5fa"
            },
            "error_y": {
             "color": "#f2f5fa"
            },
            "marker": {
             "line": {
              "color": "rgb(17,17,17)",
              "width": 0.5
             },
             "pattern": {
              "fillmode": "overlay",
              "size": 10,
              "solidity": 0.2
             }
            },
            "type": "bar"
           }
          ],
          "scattergeo": [
           {
            "type": "scattergeo",
            "marker": {
             "colorbar": {
              "outlinewidth": 0,
              "ticks": ""
             }
            }
           }
          ],
          "scatterpolar": [
           {
            "type": "scatterpolar",
            "marker": {
             "colorbar": {
              "outlinewidth": 0,
              "ticks": ""
             }
            }
           }
          ],
          "histogram": [
           {
            "marker": {
             "pattern": {
              "fillmode": "overlay",
              "size": 10,
              "solidity": 0.2
             }
            },
            "type": "histogram"
           }
          ],
          "scattergl": [
           {
            "marker": {
             "line": {
              "color": "#283442"
             }
            },
            "type": "scattergl"
           }
          ],
          "scatter3d": [
           {
            "type": "scatter3d",
            "line": {
             "colorbar": {
              "outlinewidth": 0,
              "ticks": ""
             }
            },
            "marker": {
             "colorbar": {
              "outlinewidth": 0,
              "ticks": ""
             }
            }
           }
          ],
          "scattermapbox": [
           {
            "type": "scattermapbox",
            "marker": {
             "colorbar": {
              "outlinewidth": 0,
              "ticks": ""
             }
            }
           }
          ],
          "scatterternary": [
           {
            "type": "scatterternary",
            "marker": {
             "colorbar": {
              "outlinewidth": 0,
              "ticks": ""
             }
            }
           }
          ],
          "scattercarpet": [
           {
            "type": "scattercarpet",
            "marker": {
             "colorbar": {
              "outlinewidth": 0,
              "ticks": ""
             }
            }
           }
          ],
          "carpet": [
           {
            "aaxis": {
             "endlinecolor": "#A2B1C6",
             "gridcolor": "#506784",
             "linecolor": "#506784",
             "minorgridcolor": "#506784",
             "startlinecolor": "#A2B1C6"
            },
            "baxis": {
             "endlinecolor": "#A2B1C6",
             "gridcolor": "#506784",
             "linecolor": "#506784",
             "minorgridcolor": "#506784",
             "startlinecolor": "#A2B1C6"
            },
            "type": "carpet"
           }
          ],
          "table": [
           {
            "cells": {
             "fill": {
              "color": "#506784"
             },
             "line": {
              "color": "rgb(17,17,17)"
             }
            },
            "header": {
             "fill": {
              "color": "#2a3f5f"
             },
             "line": {
              "color": "rgb(17,17,17)"
             }
            },
            "type": "table"
           }
          ],
          "barpolar": [
           {
            "marker": {
             "line": {
              "color": "rgb(17,17,17)",
              "width": 0.5
             },
             "pattern": {
              "fillmode": "overlay",
              "size": 10,
              "solidity": 0.2
             }
            },
            "type": "barpolar"
           }
          ],
          "pie": [
           {
            "automargin": true,
            "type": "pie"
           }
          ]
         },
         "layout": {
          "autotypenumbers": "strict",
          "colorway": [
           "#636efa",
           "#EF553B",
           "#00cc96",
           "#ab63fa",
           "#FFA15A",
           "#19d3f3",
           "#FF6692",
           "#B6E880",
           "#FF97FF",
           "#FECB52"
          ],
          "font": {
           "color": "#f2f5fa"
          },
          "hovermode": "closest",
          "hoverlabel": {
           "align": "left"
          },
          "paper_bgcolor": "rgb(17,17,17)",
          "plot_bgcolor": "rgb(17,17,17)",
          "polar": {
           "bgcolor": "rgb(17,17,17)",
           "angularaxis": {
            "gridcolor": "#506784",
            "linecolor": "#506784",
            "ticks": ""
           },
           "radialaxis": {
            "gridcolor": "#506784",
            "linecolor": "#506784",
            "ticks": ""
           }
          },
          "ternary": {
           "bgcolor": "rgb(17,17,17)",
           "aaxis": {
            "gridcolor": "#506784",
            "linecolor": "#506784",
            "ticks": ""
           },
           "baxis": {
            "gridcolor": "#506784",
            "linecolor": "#506784",
            "ticks": ""
           },
           "caxis": {
            "gridcolor": "#506784",
            "linecolor": "#506784",
            "ticks": ""
           }
          },
          "coloraxis": {
           "colorbar": {
            "outlinewidth": 0,
            "ticks": ""
           }
          },
          "colorscale": {
           "sequential": [
            [
             0.0,
             "#0d0887"
            ],
            [
             0.1111111111111111,
             "#46039f"
            ],
            [
             0.2222222222222222,
             "#7201a8"
            ],
            [
             0.3333333333333333,
             "#9c179e"
            ],
            [
             0.4444444444444444,
             "#bd3786"
            ],
            [
             0.5555555555555556,
             "#d8576b"
            ],
            [
             0.6666666666666666,
             "#ed7953"
            ],
            [
             0.7777777777777778,
             "#fb9f3a"
            ],
            [
             0.8888888888888888,
             "#fdca26"
            ],
            [
             1.0,
             "#f0f921"
            ]
           ],
           "sequentialminus": [
            [
             0.0,
             "#0d0887"
            ],
            [
             0.1111111111111111,
             "#46039f"
            ],
            [
             0.2222222222222222,
             "#7201a8"
            ],
            [
             0.3333333333333333,
             "#9c179e"
            ],
            [
             0.4444444444444444,
             "#bd3786"
            ],
            [
             0.5555555555555556,
             "#d8576b"
            ],
            [
             0.6666666666666666,
             "#ed7953"
            ],
            [
             0.7777777777777778,
             "#fb9f3a"
            ],
            [
             0.8888888888888888,
             "#fdca26"
            ],
            [
             1.0,
             "#f0f921"
            ]
           ],
           "diverging": [
            [
             0,
             "#8e0152"
            ],
            [
             0.1,
             "#c51b7d"
            ],
            [
             0.2,
             "#de77ae"
            ],
            [
             0.3,
             "#f1b6da"
            ],
            [
             0.4,
             "#fde0ef"
            ],
            [
             0.5,
             "#f7f7f7"
            ],
            [
             0.6,
             "#e6f5d0"
            ],
            [
             0.7,
             "#b8e186"
            ],
            [
             0.8,
             "#7fbc41"
            ],
            [
             0.9,
             "#4d9221"
            ],
            [
             1,
             "#276419"
            ]
           ]
          },
          "xaxis": {
           "gridcolor": "#283442",
           "linecolor": "#506784",
           "ticks": "",
           "title": {
            "standoff": 15
           },
           "zerolinecolor": "#283442",
           "automargin": true,
           "zerolinewidth": 2
          },
          "yaxis": {
           "gridcolor": "#283442",
           "linecolor": "#506784",
           "ticks": "",
           "title": {
            "standoff": 15
           },
           "zerolinecolor": "#283442",
           "automargin": true,
           "zerolinewidth": 2
          },
          "scene": {
           "xaxis": {
            "backgroundcolor": "rgb(17,17,17)",
            "gridcolor": "#506784",
            "linecolor": "#506784",
            "showbackground": true,
            "ticks": "",
            "zerolinecolor": "#C8D4E3",
            "gridwidth": 2
           },
           "yaxis": {
            "backgroundcolor": "rgb(17,17,17)",
            "gridcolor": "#506784",
            "linecolor": "#506784",
            "showbackground": true,
            "ticks": "",
            "zerolinecolor": "#C8D4E3",
            "gridwidth": 2
           },
           "zaxis": {
            "backgroundcolor": "rgb(17,17,17)",
            "gridcolor": "#506784",
            "linecolor": "#506784",
            "showbackground": true,
            "ticks": "",
            "zerolinecolor": "#C8D4E3",
            "gridwidth": 2
           }
          },
          "shapedefaults": {
           "line": {
            "color": "#f2f5fa"
           }
          },
          "annotationdefaults": {
           "arrowcolor": "#f2f5fa",
           "arrowhead": 0,
           "arrowwidth": 1
          },
          "geo": {
           "bgcolor": "rgb(17,17,17)",
           "landcolor": "rgb(17,17,17)",
           "subunitcolor": "#506784",
           "showland": true,
           "showlakes": true,
           "lakecolor": "rgb(17,17,17)"
          },
          "title": {
           "x": 0.05
          },
          "updatemenudefaults": {
           "bgcolor": "#506784",
           "borderwidth": 0
          },
          "sliderdefaults": {
           "bgcolor": "#C8D4E3",
           "borderwidth": 1,
           "bordercolor": "rgb(17,17,17)",
           "tickwidth": 0
          },
          "mapbox": {
           "style": "dark"
          }
         }
        },
        "xaxis": {
         "anchor": "y",
         "domain": [
          0.0,
          1.0
         ],
         "title": {
          "text": "Num"
         }
        },
        "yaxis": {
         "anchor": "x",
         "domain": [
          0.0,
          1.0
         ],
         "title": {
          "text": "Average_Rating"
         }
        },
        "legend": {
         "title": {
          "text": "area"
         },
         "tracegroupgap": 0
        },
        "title": {
         "text": "各制片地区电影数和平均评分关系"
        }
       },
       "config": {
        "plotlyServerURL": "https://plot.ly"
       }
      },
      "text/html": "<div>                            <div id=\"e77682a9-d68b-42c1-ab95-c8a6bd01f6eb\" class=\"plotly-graph-div\" style=\"height:525px; width:100%;\"></div>            <script type=\"text/javascript\">                require([\"plotly\"], function(Plotly) {                    window.PLOTLYENV=window.PLOTLYENV || {};                                    if (document.getElementById(\"e77682a9-d68b-42c1-ab95-c8a6bd01f6eb\")) {                    Plotly.newPlot(                        \"e77682a9-d68b-42c1-ab95-c8a6bd01f6eb\",                        [{\"hovertemplate\":\"\\u003cb\\u003e%{hovertext}\\u003c\\u002fb\\u003e\\u003cbr\\u003e\\u003cbr\\u003earea=\\u7f8e\\u56fd\\u003cbr\\u003eNum=%{x}\\u003cbr\\u003eAverage_Rating=%{y}\\u003cextra\\u003e\\u003c\\u002fextra\\u003e\",\"hovertext\":[\"\\u7f8e\\u56fd\"],\"legendgroup\":\"\\u7f8e\\u56fd\",\"marker\":{\"color\":\"#636efa\",\"symbol\":\"circle\"},\"mode\":\"markers\",\"name\":\"\\u7f8e\\u56fd\",\"orientation\":\"v\",\"showlegend\":true,\"x\":[9277],\"xaxis\":\"x\",\"y\":[6.969074054112332],\"yaxis\":\"y\",\"type\":\"scatter\"},{\"hovertemplate\":\"\\u003cb\\u003e%{hovertext}\\u003c\\u002fb\\u003e\\u003cbr\\u003e\\u003cbr\\u003earea=\\u65e5\\u672c\\u003cbr\\u003eNum=%{x}\\u003cbr\\u003eAverage_Rating=%{y}\\u003cextra\\u003e\\u003c\\u002fextra\\u003e\",\"hovertext\":[\"\\u65e5\\u672c\"],\"legendgroup\":\"\\u65e5\\u672c\",\"marker\":{\"color\":\"#EF553B\",\"symbol\":\"circle\"},\"mode\":\"markers\",\"name\":\"\\u65e5\\u672c\",\"orientation\":\"v\",\"showlegend\":true,\"x\":[4276],\"xaxis\":\"x\",\"y\":[7.2854536950420945],\"yaxis\":\"y\",\"type\":\"scatter\"},{\"hovertemplate\":\"\\u003cb\\u003e%{hovertext}\\u003c\\u002fb\\u003e\\u003cbr\\u003e\\u003cbr\\u003earea=\\u4e2d\\u56fd\\u5927\\u9646\\u003cbr\\u003eNum=%{x}\\u003cbr\\u003eAverage_Rating=%{y}\\u003cextra\\u003e\\u003c\\u002fextra\\u003e\",\"hovertext\":[\"\\u4e2d\\u56fd\\u5927\\u9646\"],\"legendgroup\":\"\\u4e2d\\u56fd\\u5927\\u9646\",\"marker\":{\"color\":\"#00cc96\",\"symbol\":\"circle\"},\"mode\":\"markers\",\"name\":\"\\u4e2d\\u56fd\\u5927\\u9646\",\"orientation\":\"v\",\"showlegend\":true,\"x\":[3203],\"xaxis\":\"x\",\"y\":[6.321916952856686],\"yaxis\":\"y\",\"type\":\"scatter\"},{\"hovertemplate\":\"\\u003cb\\u003e%{hovertext}\\u003c\\u002fb\\u003e\\u003cbr\\u003e\\u003cbr\\u003earea=\\u9999\\u6e2f\\u003cbr\\u003eNum=%{x}\\u003cbr\\u003eAverage_Rating=%{y}\\u003cextra\\u003e\\u003c\\u002fextra\\u003e\",\"hovertext\":[\"\\u9999\\u6e2f\"],\"legendgroup\":\"\\u9999\\u6e2f\",\"marker\":{\"color\":\"#ab63fa\",\"symbol\":\"circle\"},\"mode\":\"markers\",\"name\":\"\\u9999\\u6e2f\",\"orientation\":\"v\",\"showlegend\":true,\"x\":[3037],\"xaxis\":\"x\",\"y\":[6.451037207770825],\"yaxis\":\"y\",\"type\":\"scatter\"},{\"hovertemplate\":\"\\u003cb\\u003e%{hovertext}\\u003c\\u002fb\\u003e\\u003cbr\\u003e\\u003cbr\\u003earea=\\u6cd5\\u56fd\\u003cbr\\u003eNum=%{x}\\u003cbr\\u003eAverage_Rating=%{y}\\u003cextra\\u003e\\u003c\\u002fextra\\u003e\",\"hovertext\":[\"\\u6cd5\\u56fd\"],\"legendgroup\":\"\\u6cd5\\u56fd\",\"marker\":{\"color\":\"#FFA15A\",\"symbol\":\"circle\"},\"mode\":\"markers\",\"name\":\"\\u6cd5\\u56fd\",\"orientation\":\"v\",\"showlegend\":true,\"x\":[2073],\"xaxis\":\"x\",\"y\":[7.270911722141837],\"yaxis\":\"y\",\"type\":\"scatter\"},{\"hovertemplate\":\"\\u003cb\\u003e%{hovertext}\\u003c\\u002fb\\u003e\\u003cbr\\u003e\\u003cbr\\u003earea=\\u82f1\\u56fd\\u003cbr\\u003eNum=%{x}\\u003cbr\\u003eAverage_Rating=%{y}\\u003cextra\\u003e\\u003c\\u002fextra\\u003e\",\"hovertext\":[\"\\u82f1\\u56fd\"],\"legendgroup\":\"\\u82f1\\u56fd\",\"marker\":{\"color\":\"#19d3f3\",\"symbol\":\"circle\"},\"mode\":\"markers\",\"name\":\"\\u82f1\\u56fd\",\"orientation\":\"v\",\"showlegend\":true,\"x\":[2046],\"xaxis\":\"x\",\"y\":[7.431133919843607],\"yaxis\":\"y\",\"type\":\"scatter\"},{\"hovertemplate\":\"\\u003cb\\u003e%{hovertext}\\u003c\\u002fb\\u003e\\u003cbr\\u003e\\u003cbr\\u003earea=\\u97e9\\u56fd\\u003cbr\\u003eNum=%{x}\\u003cbr\\u003eAverage_Rating=%{y}\\u003cextra\\u003e\\u003c\\u002fextra\\u003e\",\"hovertext\":[\"\\u97e9\\u56fd\"],\"legendgroup\":\"\\u97e9\\u56fd\",\"marker\":{\"color\":\"#FF6692\",\"symbol\":\"circle\"},\"mode\":\"markers\",\"name\":\"\\u97e9\\u56fd\",\"orientation\":\"v\",\"showlegend\":true,\"x\":[1161],\"xaxis\":\"x\",\"y\":[6.632041343669251],\"yaxis\":\"y\",\"type\":\"scatter\"},{\"hovertemplate\":\"\\u003cb\\u003e%{hovertext}\\u003c\\u002fb\\u003e\\u003cbr\\u003e\\u003cbr\\u003earea=\\u610f\\u5927\\u5229\\u003cbr\\u003eNum=%{x}\\u003cbr\\u003eAverage_Rating=%{y}\\u003cextra\\u003e\\u003c\\u002fextra\\u003e\",\"hovertext\":[\"\\u610f\\u5927\\u5229\"],\"legendgroup\":\"\\u610f\\u5927\\u5229\",\"marker\":{\"color\":\"#B6E880\",\"symbol\":\"circle\"},\"mode\":\"markers\",\"name\":\"\\u610f\\u5927\\u5229\",\"orientation\":\"v\",\"showlegend\":true,\"x\":[734],\"xaxis\":\"x\",\"y\":[7.154632152588563],\"yaxis\":\"y\",\"type\":\"scatter\"},{\"hovertemplate\":\"\\u003cb\\u003e%{hovertext}\\u003c\\u002fb\\u003e\\u003cbr\\u003e\\u003cbr\\u003earea=\\u5fb7\\u56fd\\u003cbr\\u003eNum=%{x}\\u003cbr\\u003eAverage_Rating=%{y}\\u003cextra\\u003e\\u003c\\u002fextra\\u003e\",\"hovertext\":[\"\\u5fb7\\u56fd\"],\"legendgroup\":\"\\u5fb7\\u56fd\",\"marker\":{\"color\":\"#FF97FF\",\"symbol\":\"circle\"},\"mode\":\"markers\",\"name\":\"\\u5fb7\\u56fd\",\"orientation\":\"v\",\"showlegend\":true,\"x\":[624],\"xaxis\":\"x\",\"y\":[7.193429487179488],\"yaxis\":\"y\",\"type\":\"scatter\"},{\"hovertemplate\":\"\\u003cb\\u003e%{hovertext}\\u003c\\u002fb\\u003e\\u003cbr\\u003e\\u003cbr\\u003earea=\\u53f0\\u6e7e\\u003cbr\\u003eNum=%{x}\\u003cbr\\u003eAverage_Rating=%{y}\\u003cextra\\u003e\\u003c\\u002fextra\\u003e\",\"hovertext\":[\"\\u53f0\\u6e7e\"],\"legendgroup\":\"\\u53f0\\u6e7e\",\"marker\":{\"color\":\"#FECB52\",\"symbol\":\"circle\"},\"mode\":\"markers\",\"name\":\"\\u53f0\\u6e7e\",\"orientation\":\"v\",\"showlegend\":true,\"x\":[618],\"xaxis\":\"x\",\"y\":[6.850161812297741],\"yaxis\":\"y\",\"type\":\"scatter\"},{\"hovertemplate\":\"\\u003cb\\u003e%{hovertext}\\u003c\\u002fb\\u003e\\u003cbr\\u003e\\u003cbr\\u003earea=\\u52a0\\u62ff\\u5927\\u003cbr\\u003eNum=%{x}\\u003cbr\\u003eAverage_Rating=%{y}\\u003cextra\\u003e\\u003c\\u002fextra\\u003e\",\"hovertext\":[\"\\u52a0\\u62ff\\u5927\"],\"legendgroup\":\"\\u52a0\\u62ff\\u5927\",\"marker\":{\"color\":\"#636efa\",\"symbol\":\"circle\"},\"mode\":\"markers\",\"name\":\"\\u52a0\\u62ff\\u5927\",\"orientation\":\"v\",\"showlegend\":true,\"x\":[427],\"xaxis\":\"x\",\"y\":[6.805854800936771],\"yaxis\":\"y\",\"type\":\"scatter\"},{\"hovertemplate\":\"\\u003cb\\u003e%{hovertext}\\u003c\\u002fb\\u003e\\u003cbr\\u003e\\u003cbr\\u003earea=\\u897f\\u73ed\\u7259\\u003cbr\\u003eNum=%{x}\\u003cbr\\u003eAverage_Rating=%{y}\\u003cextra\\u003e\\u003c\\u002fextra\\u003e\",\"hovertext\":[\"\\u897f\\u73ed\\u7259\"],\"legendgroup\":\"\\u897f\\u73ed\\u7259\",\"marker\":{\"color\":\"#EF553B\",\"symbol\":\"circle\"},\"mode\":\"markers\",\"name\":\"\\u897f\\u73ed\\u7259\",\"orientation\":\"v\",\"showlegend\":true,\"x\":[368],\"xaxis\":\"x\",\"y\":[7.004619565217391],\"yaxis\":\"y\",\"type\":\"scatter\"},{\"hovertemplate\":\"\\u003cb\\u003e%{hovertext}\\u003c\\u002fb\\u003e\\u003cbr\\u003e\\u003cbr\\u003earea=\\u5370\\u5ea6\\u003cbr\\u003eNum=%{x}\\u003cbr\\u003eAverage_Rating=%{y}\\u003cextra\\u003e\\u003c\\u002fextra\\u003e\",\"hovertext\":[\"\\u5370\\u5ea6\"],\"legendgroup\":\"\\u5370\\u5ea6\",\"marker\":{\"color\":\"#00cc96\",\"symbol\":\"circle\"},\"mode\":\"markers\",\"name\":\"\\u5370\\u5ea6\",\"orientation\":\"v\",\"showlegend\":true,\"x\":[275],\"xaxis\":\"x\",\"y\":[7.335999999999995],\"yaxis\":\"y\",\"type\":\"scatter\"},{\"hovertemplate\":\"\\u003cb\\u003e%{hovertext}\\u003c\\u002fb\\u003e\\u003cbr\\u003e\\u003cbr\\u003earea=\\u82cf\\u8054\\u003cbr\\u003eNum=%{x}\\u003cbr\\u003eAverage_Rating=%{y}\\u003cextra\\u003e\\u003c\\u002fextra\\u003e\",\"hovertext\":[\"\\u82cf\\u8054\"],\"legendgroup\":\"\\u82cf\\u8054\",\"marker\":{\"color\":\"#ab63fa\",\"symbol\":\"circle\"},\"mode\":\"markers\",\"name\":\"\\u82cf\\u8054\",\"orientation\":\"v\",\"showlegend\":true,\"x\":[262],\"xaxis\":\"x\",\"y\":[7.880152671755732],\"yaxis\":\"y\",\"type\":\"scatter\"},{\"hovertemplate\":\"\\u003cb\\u003e%{hovertext}\\u003c\\u002fb\\u003e\\u003cbr\\u003e\\u003cbr\\u003earea=\\u6fb3\\u5927\\u5229\\u4e9a\\u003cbr\\u003eNum=%{x}\\u003cbr\\u003eAverage_Rating=%{y}\\u003cextra\\u003e\\u003c\\u002fextra\\u003e\",\"hovertext\":[\"\\u6fb3\\u5927\\u5229\\u4e9a\"],\"legendgroup\":\"\\u6fb3\\u5927\\u5229\\u4e9a\",\"marker\":{\"color\":\"#FFA15A\",\"symbol\":\"circle\"},\"mode\":\"markers\",\"name\":\"\\u6fb3\\u5927\\u5229\\u4e9a\",\"orientation\":\"v\",\"showlegend\":true,\"x\":[214],\"xaxis\":\"x\",\"y\":[6.875233644859815],\"yaxis\":\"y\",\"type\":\"scatter\"},{\"hovertemplate\":\"\\u003cb\\u003e%{hovertext}\\u003c\\u002fb\\u003e\\u003cbr\\u003e\\u003cbr\\u003earea=\\u6cf0\\u56fd\\u003cbr\\u003eNum=%{x}\\u003cbr\\u003eAverage_Rating=%{y}\\u003cextra\\u003e\\u003c\\u002fextra\\u003e\",\"hovertext\":[\"\\u6cf0\\u56fd\"],\"legendgroup\":\"\\u6cf0\\u56fd\",\"marker\":{\"color\":\"#19d3f3\",\"symbol\":\"circle\"},\"mode\":\"markers\",\"name\":\"\\u6cf0\\u56fd\",\"orientation\":\"v\",\"showlegend\":true,\"x\":[184],\"xaxis\":\"x\",\"y\":[6.582065217391305],\"yaxis\":\"y\",\"type\":\"scatter\"},{\"hovertemplate\":\"\\u003cb\\u003e%{hovertext}\\u003c\\u002fb\\u003e\\u003cbr\\u003e\\u003cbr\\u003earea=\\u4fc4\\u7f57\\u65af\\u003cbr\\u003eNum=%{x}\\u003cbr\\u003eAverage_Rating=%{y}\\u003cextra\\u003e\\u003c\\u002fextra\\u003e\",\"hovertext\":[\"\\u4fc4\\u7f57\\u65af\"],\"legendgroup\":\"\\u4fc4\\u7f57\\u65af\",\"marker\":{\"color\":\"#FF6692\",\"symbol\":\"circle\"},\"mode\":\"markers\",\"name\":\"\\u4fc4\\u7f57\\u65af\",\"orientation\":\"v\",\"showlegend\":true,\"x\":[184],\"xaxis\":\"x\",\"y\":[7.217934782608695],\"yaxis\":\"y\",\"type\":\"scatter\"},{\"hovertemplate\":\"\\u003cb\\u003e%{hovertext}\\u003c\\u002fb\\u003e\\u003cbr\\u003e\\u003cbr\\u003earea=\\u745e\\u5178\\u003cbr\\u003eNum=%{x}\\u003cbr\\u003eAverage_Rating=%{y}\\u003cextra\\u003e\\u003c\\u002fextra\\u003e\",\"hovertext\":[\"\\u745e\\u5178\"],\"legendgroup\":\"\\u745e\\u5178\",\"marker\":{\"color\":\"#B6E880\",\"symbol\":\"circle\"},\"mode\":\"markers\",\"name\":\"\\u745e\\u5178\",\"orientation\":\"v\",\"showlegend\":true,\"x\":[146],\"xaxis\":\"x\",\"y\":[7.527397260273973],\"yaxis\":\"y\",\"type\":\"scatter\"},{\"hovertemplate\":\"\\u003cb\\u003e%{hovertext}\\u003c\\u002fb\\u003e\\u003cbr\\u003e\\u003cbr\\u003earea=\\u6ce2\\u5170\\u003cbr\\u003eNum=%{x}\\u003cbr\\u003eAverage_Rating=%{y}\\u003cextra\\u003e\\u003c\\u002fextra\\u003e\",\"hovertext\":[\"\\u6ce2\\u5170\"],\"legendgroup\":\"\\u6ce2\\u5170\",\"marker\":{\"color\":\"#FF97FF\",\"symbol\":\"circle\"},\"mode\":\"markers\",\"name\":\"\\u6ce2\\u5170\",\"orientation\":\"v\",\"showlegend\":true,\"x\":[136],\"xaxis\":\"x\",\"y\":[7.483823529411769],\"yaxis\":\"y\",\"type\":\"scatter\"},{\"hovertemplate\":\"\\u003cb\\u003e%{hovertext}\\u003c\\u002fb\\u003e\\u003cbr\\u003e\\u003cbr\\u003earea=\\u4e39\\u9ea6\\u003cbr\\u003eNum=%{x}\\u003cbr\\u003eAverage_Rating=%{y}\\u003cextra\\u003e\\u003c\\u002fextra\\u003e\",\"hovertext\":[\"\\u4e39\\u9ea6\"],\"legendgroup\":\"\\u4e39\\u9ea6\",\"marker\":{\"color\":\"#FECB52\",\"symbol\":\"circle\"},\"mode\":\"markers\",\"name\":\"\\u4e39\\u9ea6\",\"orientation\":\"v\",\"showlegend\":true,\"x\":[123],\"xaxis\":\"x\",\"y\":[7.382113821138208],\"yaxis\":\"y\",\"type\":\"scatter\"},{\"hovertemplate\":\"\\u003cb\\u003e%{hovertext}\\u003c\\u002fb\\u003e\\u003cbr\\u003e\\u003cbr\\u003earea=\\u897f\\u5fb7\\u003cbr\\u003eNum=%{x}\\u003cbr\\u003eAverage_Rating=%{y}\\u003cextra\\u003e\\u003c\\u002fextra\\u003e\",\"hovertext\":[\"\\u897f\\u5fb7\"],\"legendgroup\":\"\\u897f\\u5fb7\",\"marker\":{\"color\":\"#636efa\",\"symbol\":\"circle\"},\"mode\":\"markers\",\"name\":\"\\u897f\\u5fb7\",\"orientation\":\"v\",\"showlegend\":true,\"x\":[121],\"xaxis\":\"x\",\"y\":[7.451239669421489],\"yaxis\":\"y\",\"type\":\"scatter\"},{\"hovertemplate\":\"\\u003cb\\u003e%{hovertext}\\u003c\\u002fb\\u003e\\u003cbr\\u003e\\u003cbr\\u003earea=\\u58a8\\u897f\\u54e5\\u003cbr\\u003eNum=%{x}\\u003cbr\\u003eAverage_Rating=%{y}\\u003cextra\\u003e\\u003c\\u002fextra\\u003e\",\"hovertext\":[\"\\u58a8\\u897f\\u54e5\"],\"legendgroup\":\"\\u58a8\\u897f\\u54e5\",\"marker\":{\"color\":\"#EF553B\",\"symbol\":\"circle\"},\"mode\":\"markers\",\"name\":\"\\u58a8\\u897f\\u54e5\",\"orientation\":\"v\",\"showlegend\":true,\"x\":[94],\"xaxis\":\"x\",\"y\":[7.096808510638301],\"yaxis\":\"y\",\"type\":\"scatter\"},{\"hovertemplate\":\"\\u003cb\\u003e%{hovertext}\\u003c\\u002fb\\u003e\\u003cbr\\u003e\\u003cbr\\u003earea=\\u963f\\u6839\\u5ef7\\u003cbr\\u003eNum=%{x}\\u003cbr\\u003eAverage_Rating=%{y}\\u003cextra\\u003e\\u003c\\u002fextra\\u003e\",\"hovertext\":[\"\\u963f\\u6839\\u5ef7\"],\"legendgroup\":\"\\u963f\\u6839\\u5ef7\",\"marker\":{\"color\":\"#00cc96\",\"symbol\":\"circle\"},\"mode\":\"markers\",\"name\":\"\\u963f\\u6839\\u5ef7\",\"orientation\":\"v\",\"showlegend\":true,\"x\":[91],\"xaxis\":\"x\",\"y\":[7.356043956043957],\"yaxis\":\"y\",\"type\":\"scatter\"},{\"hovertemplate\":\"\\u003cb\\u003e%{hovertext}\\u003c\\u002fb\\u003e\\u003cbr\\u003e\\u003cbr\\u003earea=\\u6bd4\\u5229\\u65f6\\u003cbr\\u003eNum=%{x}\\u003cbr\\u003eAverage_Rating=%{y}\\u003cextra\\u003e\\u003c\\u002fextra\\u003e\",\"hovertext\":[\"\\u6bd4\\u5229\\u65f6\"],\"legendgroup\":\"\\u6bd4\\u5229\\u65f6\",\"marker\":{\"color\":\"#ab63fa\",\"symbol\":\"circle\"},\"mode\":\"markers\",\"name\":\"\\u6bd4\\u5229\\u65f6\",\"orientation\":\"v\",\"showlegend\":true,\"x\":[89],\"xaxis\":\"x\",\"y\":[7.244943820224718],\"yaxis\":\"y\",\"type\":\"scatter\"},{\"hovertemplate\":\"\\u003cb\\u003e%{hovertext}\\u003c\\u002fb\\u003e\\u003cbr\\u003e\\u003cbr\\u003earea=\\u6377\\u514b\\u65af\\u6d1b\\u4f10\\u514b\\u003cbr\\u003eNum=%{x}\\u003cbr\\u003eAverage_Rating=%{y}\\u003cextra\\u003e\\u003c\\u002fextra\\u003e\",\"hovertext\":[\"\\u6377\\u514b\\u65af\\u6d1b\\u4f10\\u514b\"],\"legendgroup\":\"\\u6377\\u514b\\u65af\\u6d1b\\u4f10\\u514b\",\"marker\":{\"color\":\"#FFA15A\",\"symbol\":\"circle\"},\"mode\":\"markers\",\"name\":\"\\u6377\\u514b\\u65af\\u6d1b\\u4f10\\u514b\",\"orientation\":\"v\",\"showlegend\":true,\"x\":[79],\"xaxis\":\"x\",\"y\":[7.717721518987339],\"yaxis\":\"y\",\"type\":\"scatter\"}],                        {\"template\":{\"data\":{\"histogram2dcontour\":[{\"type\":\"histogram2dcontour\",\"colorbar\":{\"outlinewidth\":0,\"ticks\":\"\"},\"colorscale\":[[0.0,\"#0d0887\"],[0.1111111111111111,\"#46039f\"],[0.2222222222222222,\"#7201a8\"],[0.3333333333333333,\"#9c179e\"],[0.4444444444444444,\"#bd3786\"],[0.5555555555555556,\"#d8576b\"],[0.6666666666666666,\"#ed7953\"],[0.7777777777777778,\"#fb9f3a\"],[0.8888888888888888,\"#fdca26\"],[1.0,\"#f0f921\"]]}],\"choropleth\":[{\"type\":\"choropleth\",\"colorbar\":{\"outlinewidth\":0,\"ticks\":\"\"}}],\"histogram2d\":[{\"type\":\"histogram2d\",\"colorbar\":{\"outlinewidth\":0,\"ticks\":\"\"},\"colorscale\":[[0.0,\"#0d0887\"],[0.1111111111111111,\"#46039f\"],[0.2222222222222222,\"#7201a8\"],[0.3333333333333333,\"#9c179e\"],[0.4444444444444444,\"#bd3786\"],[0.5555555555555556,\"#d8576b\"],[0.6666666666666666,\"#ed7953\"],[0.7777777777777778,\"#fb9f3a\"],[0.8888888888888888,\"#fdca26\"],[1.0,\"#f0f921\"]]}],\"heatmap\":[{\"type\":\"heatmap\",\"colorbar\":{\"outlinewidth\":0,\"ticks\":\"\"},\"colorscale\":[[0.0,\"#0d0887\"],[0.1111111111111111,\"#46039f\"],[0.2222222222222222,\"#7201a8\"],[0.3333333333333333,\"#9c179e\"],[0.4444444444444444,\"#bd3786\"],[0.5555555555555556,\"#d8576b\"],[0.6666666666666666,\"#ed7953\"],[0.7777777777777778,\"#fb9f3a\"],[0.8888888888888888,\"#fdca26\"],[1.0,\"#f0f921\"]]}],\"heatmapgl\":[{\"type\":\"heatmapgl\",\"colorbar\":{\"outlinewidth\":0,\"ticks\":\"\"},\"colorscale\":[[0.0,\"#0d0887\"],[0.1111111111111111,\"#46039f\"],[0.2222222222222222,\"#7201a8\"],[0.3333333333333333,\"#9c179e\"],[0.4444444444444444,\"#bd3786\"],[0.5555555555555556,\"#d8576b\"],[0.6666666666666666,\"#ed7953\"],[0.7777777777777778,\"#fb9f3a\"],[0.8888888888888888,\"#fdca26\"],[1.0,\"#f0f921\"]]}],\"contourcarpet\":[{\"type\":\"contourcarpet\",\"colorbar\":{\"outlinewidth\":0,\"ticks\":\"\"}}],\"contour\":[{\"type\":\"contour\",\"colorbar\":{\"outlinewidth\":0,\"ticks\":\"\"},\"colorscale\":[[0.0,\"#0d0887\"],[0.1111111111111111,\"#46039f\"],[0.2222222222222222,\"#7201a8\"],[0.3333333333333333,\"#9c179e\"],[0.4444444444444444,\"#bd3786\"],[0.5555555555555556,\"#d8576b\"],[0.6666666666666666,\"#ed7953\"],[0.7777777777777778,\"#fb9f3a\"],[0.8888888888888888,\"#fdca26\"],[1.0,\"#f0f921\"]]}],\"surface\":[{\"type\":\"surface\",\"colorbar\":{\"outlinewidth\":0,\"ticks\":\"\"},\"colorscale\":[[0.0,\"#0d0887\"],[0.1111111111111111,\"#46039f\"],[0.2222222222222222,\"#7201a8\"],[0.3333333333333333,\"#9c179e\"],[0.4444444444444444,\"#bd3786\"],[0.5555555555555556,\"#d8576b\"],[0.6666666666666666,\"#ed7953\"],[0.7777777777777778,\"#fb9f3a\"],[0.8888888888888888,\"#fdca26\"],[1.0,\"#f0f921\"]]}],\"mesh3d\":[{\"type\":\"mesh3d\",\"colorbar\":{\"outlinewidth\":0,\"ticks\":\"\"}}],\"scatter\":[{\"marker\":{\"line\":{\"color\":\"#283442\"}},\"type\":\"scatter\"}],\"parcoords\":[{\"type\":\"parcoords\",\"line\":{\"colorbar\":{\"outlinewidth\":0,\"ticks\":\"\"}}}],\"scatterpolargl\":[{\"type\":\"scatterpolargl\",\"marker\":{\"colorbar\":{\"outlinewidth\":0,\"ticks\":\"\"}}}],\"bar\":[{\"error_x\":{\"color\":\"#f2f5fa\"},\"error_y\":{\"color\":\"#f2f5fa\"},\"marker\":{\"line\":{\"color\":\"rgb(17,17,17)\",\"width\":0.5},\"pattern\":{\"fillmode\":\"overlay\",\"size\":10,\"solidity\":0.2}},\"type\":\"bar\"}],\"scattergeo\":[{\"type\":\"scattergeo\",\"marker\":{\"colorbar\":{\"outlinewidth\":0,\"ticks\":\"\"}}}],\"scatterpolar\":[{\"type\":\"scatterpolar\",\"marker\":{\"colorbar\":{\"outlinewidth\":0,\"ticks\":\"\"}}}],\"histogram\":[{\"marker\":{\"pattern\":{\"fillmode\":\"overlay\",\"size\":10,\"solidity\":0.2}},\"type\":\"histogram\"}],\"scattergl\":[{\"marker\":{\"line\":{\"color\":\"#283442\"}},\"type\":\"scattergl\"}],\"scatter3d\":[{\"type\":\"scatter3d\",\"line\":{\"colorbar\":{\"outlinewidth\":0,\"ticks\":\"\"}},\"marker\":{\"colorbar\":{\"outlinewidth\":0,\"ticks\":\"\"}}}],\"scattermapbox\":[{\"type\":\"scattermapbox\",\"marker\":{\"colorbar\":{\"outlinewidth\":0,\"ticks\":\"\"}}}],\"scatterternary\":[{\"type\":\"scatterternary\",\"marker\":{\"colorbar\":{\"outlinewidth\":0,\"ticks\":\"\"}}}],\"scattercarpet\":[{\"type\":\"scattercarpet\",\"marker\":{\"colorbar\":{\"outlinewidth\":0,\"ticks\":\"\"}}}],\"carpet\":[{\"aaxis\":{\"endlinecolor\":\"#A2B1C6\",\"gridcolor\":\"#506784\",\"linecolor\":\"#506784\",\"minorgridcolor\":\"#506784\",\"startlinecolor\":\"#A2B1C6\"},\"baxis\":{\"endlinecolor\":\"#A2B1C6\",\"gridcolor\":\"#506784\",\"linecolor\":\"#506784\",\"minorgridcolor\":\"#506784\",\"startlinecolor\":\"#A2B1C6\"},\"type\":\"carpet\"}],\"table\":[{\"cells\":{\"fill\":{\"color\":\"#506784\"},\"line\":{\"color\":\"rgb(17,17,17)\"}},\"header\":{\"fill\":{\"color\":\"#2a3f5f\"},\"line\":{\"color\":\"rgb(17,17,17)\"}},\"type\":\"table\"}],\"barpolar\":[{\"marker\":{\"line\":{\"color\":\"rgb(17,17,17)\",\"width\":0.5},\"pattern\":{\"fillmode\":\"overlay\",\"size\":10,\"solidity\":0.2}},\"type\":\"barpolar\"}],\"pie\":[{\"automargin\":true,\"type\":\"pie\"}]},\"layout\":{\"autotypenumbers\":\"strict\",\"colorway\":[\"#636efa\",\"#EF553B\",\"#00cc96\",\"#ab63fa\",\"#FFA15A\",\"#19d3f3\",\"#FF6692\",\"#B6E880\",\"#FF97FF\",\"#FECB52\"],\"font\":{\"color\":\"#f2f5fa\"},\"hovermode\":\"closest\",\"hoverlabel\":{\"align\":\"left\"},\"paper_bgcolor\":\"rgb(17,17,17)\",\"plot_bgcolor\":\"rgb(17,17,17)\",\"polar\":{\"bgcolor\":\"rgb(17,17,17)\",\"angularaxis\":{\"gridcolor\":\"#506784\",\"linecolor\":\"#506784\",\"ticks\":\"\"},\"radialaxis\":{\"gridcolor\":\"#506784\",\"linecolor\":\"#506784\",\"ticks\":\"\"}},\"ternary\":{\"bgcolor\":\"rgb(17,17,17)\",\"aaxis\":{\"gridcolor\":\"#506784\",\"linecolor\":\"#506784\",\"ticks\":\"\"},\"baxis\":{\"gridcolor\":\"#506784\",\"linecolor\":\"#506784\",\"ticks\":\"\"},\"caxis\":{\"gridcolor\":\"#506784\",\"linecolor\":\"#506784\",\"ticks\":\"\"}},\"coloraxis\":{\"colorbar\":{\"outlinewidth\":0,\"ticks\":\"\"}},\"colorscale\":{\"sequential\":[[0.0,\"#0d0887\"],[0.1111111111111111,\"#46039f\"],[0.2222222222222222,\"#7201a8\"],[0.3333333333333333,\"#9c179e\"],[0.4444444444444444,\"#bd3786\"],[0.5555555555555556,\"#d8576b\"],[0.6666666666666666,\"#ed7953\"],[0.7777777777777778,\"#fb9f3a\"],[0.8888888888888888,\"#fdca26\"],[1.0,\"#f0f921\"]],\"sequentialminus\":[[0.0,\"#0d0887\"],[0.1111111111111111,\"#46039f\"],[0.2222222222222222,\"#7201a8\"],[0.3333333333333333,\"#9c179e\"],[0.4444444444444444,\"#bd3786\"],[0.5555555555555556,\"#d8576b\"],[0.6666666666666666,\"#ed7953\"],[0.7777777777777778,\"#fb9f3a\"],[0.8888888888888888,\"#fdca26\"],[1.0,\"#f0f921\"]],\"diverging\":[[0,\"#8e0152\"],[0.1,\"#c51b7d\"],[0.2,\"#de77ae\"],[0.3,\"#f1b6da\"],[0.4,\"#fde0ef\"],[0.5,\"#f7f7f7\"],[0.6,\"#e6f5d0\"],[0.7,\"#b8e186\"],[0.8,\"#7fbc41\"],[0.9,\"#4d9221\"],[1,\"#276419\"]]},\"xaxis\":{\"gridcolor\":\"#283442\",\"linecolor\":\"#506784\",\"ticks\":\"\",\"title\":{\"standoff\":15},\"zerolinecolor\":\"#283442\",\"automargin\":true,\"zerolinewidth\":2},\"yaxis\":{\"gridcolor\":\"#283442\",\"linecolor\":\"#506784\",\"ticks\":\"\",\"title\":{\"standoff\":15},\"zerolinecolor\":\"#283442\",\"automargin\":true,\"zerolinewidth\":2},\"scene\":{\"xaxis\":{\"backgroundcolor\":\"rgb(17,17,17)\",\"gridcolor\":\"#506784\",\"linecolor\":\"#506784\",\"showbackground\":true,\"ticks\":\"\",\"zerolinecolor\":\"#C8D4E3\",\"gridwidth\":2},\"yaxis\":{\"backgroundcolor\":\"rgb(17,17,17)\",\"gridcolor\":\"#506784\",\"linecolor\":\"#506784\",\"showbackground\":true,\"ticks\":\"\",\"zerolinecolor\":\"#C8D4E3\",\"gridwidth\":2},\"zaxis\":{\"backgroundcolor\":\"rgb(17,17,17)\",\"gridcolor\":\"#506784\",\"linecolor\":\"#506784\",\"showbackground\":true,\"ticks\":\"\",\"zerolinecolor\":\"#C8D4E3\",\"gridwidth\":2}},\"shapedefaults\":{\"line\":{\"color\":\"#f2f5fa\"}},\"annotationdefaults\":{\"arrowcolor\":\"#f2f5fa\",\"arrowhead\":0,\"arrowwidth\":1},\"geo\":{\"bgcolor\":\"rgb(17,17,17)\",\"landcolor\":\"rgb(17,17,17)\",\"subunitcolor\":\"#506784\",\"showland\":true,\"showlakes\":true,\"lakecolor\":\"rgb(17,17,17)\"},\"title\":{\"x\":0.05},\"updatemenudefaults\":{\"bgcolor\":\"#506784\",\"borderwidth\":0},\"sliderdefaults\":{\"bgcolor\":\"#C8D4E3\",\"borderwidth\":1,\"bordercolor\":\"rgb(17,17,17)\",\"tickwidth\":0},\"mapbox\":{\"style\":\"dark\"}}},\"xaxis\":{\"anchor\":\"y\",\"domain\":[0.0,1.0],\"title\":{\"text\":\"Num\"}},\"yaxis\":{\"anchor\":\"x\",\"domain\":[0.0,1.0],\"title\":{\"text\":\"Average_Rating\"}},\"legend\":{\"title\":{\"text\":\"area\"},\"tracegroupgap\":0},\"title\":{\"text\":\"\\u5404\\u5236\\u7247\\u5730\\u533a\\u7535\\u5f71\\u6570\\u548c\\u5e73\\u5747\\u8bc4\\u5206\\u5173\\u7cfb\"}},                        {\"responsive\": true}                    ).then(function(){\n                            \nvar gd = document.getElementById('e77682a9-d68b-42c1-ab95-c8a6bd01f6eb');\nvar x = new MutationObserver(function (mutations, observer) {{\n        var display = window.getComputedStyle(gd).display;\n        if (!display || display === 'none') {{\n            console.log([gd, 'removed!']);\n            Plotly.purge(gd);\n            observer.disconnect();\n        }}\n}});\n\n// Listen for the removal of the full notebook cells\nvar notebookContainer = gd.closest('#notebook-container');\nif (notebookContainer) {{\n    x.observe(notebookContainer, {childList: true});\n}}\n\n// Listen for the clearing of the current output cell\nvar outputEl = gd.closest('.output');\nif (outputEl) {{\n    x.observe(outputEl, {childList: true});\n}}\n\n                        })                };                });            </script>        </div>"
     },
     "metadata": {},
     "output_type": "display_data"
    }
   ],
   "source": [
    "fig3 = px.scatter(countryNum_avergeRating[:25], x=\"Num\", y=\"Average_Rating\",  #展示电影数前25位的制片地区的电影数目和均分的散点图\n",
    "                 color=\"area\",\n",
    "                 hover_name=\"area\", \n",
    "                 title=\"各制片地区电影数和平均评分关系\")\n",
    "fig3.show()"
   ]
  },
  {
   "cell_type": "code",
   "execution_count": 39,
   "metadata": {
    "ExecuteTime": {
     "end_time": "2023-06-23T11:03:51.296565127Z",
     "start_time": "2023-06-23T11:03:51.155002166Z"
    }
   },
   "outputs": [
    {
     "data": {
      "application/vnd.plotly.v1+json": {
       "data": [
        {
         "hovertemplate": "<b>%{hovertext}</b><br><br>area=%{x}<br>Average_Rating=%{y}<br>Num=%{marker.size}<extra></extra>",
         "hovertext": [
          "美国"
         ],
         "legendgroup": "美国",
         "marker": {
          "color": "#636efa",
          "size": [
           9277
          ],
          "sizemode": "area",
          "sizeref": 23.1925,
          "symbol": "circle"
         },
         "mode": "markers",
         "name": "美国",
         "orientation": "v",
         "showlegend": true,
         "x": [
          "美国"
         ],
         "xaxis": "x",
         "y": [
          6.969074054112332
         ],
         "yaxis": "y",
         "type": "scatter"
        },
        {
         "hovertemplate": "<b>%{hovertext}</b><br><br>area=%{x}<br>Average_Rating=%{y}<br>Num=%{marker.size}<extra></extra>",
         "hovertext": [
          "日本"
         ],
         "legendgroup": "日本",
         "marker": {
          "color": "#EF553B",
          "size": [
           4276
          ],
          "sizemode": "area",
          "sizeref": 23.1925,
          "symbol": "circle"
         },
         "mode": "markers",
         "name": "日本",
         "orientation": "v",
         "showlegend": true,
         "x": [
          "日本"
         ],
         "xaxis": "x",
         "y": [
          7.2854536950420945
         ],
         "yaxis": "y",
         "type": "scatter"
        },
        {
         "hovertemplate": "<b>%{hovertext}</b><br><br>area=%{x}<br>Average_Rating=%{y}<br>Num=%{marker.size}<extra></extra>",
         "hovertext": [
          "中国大陆"
         ],
         "legendgroup": "中国大陆",
         "marker": {
          "color": "#00cc96",
          "size": [
           3203
          ],
          "sizemode": "area",
          "sizeref": 23.1925,
          "symbol": "circle"
         },
         "mode": "markers",
         "name": "中国大陆",
         "orientation": "v",
         "showlegend": true,
         "x": [
          "中国大陆"
         ],
         "xaxis": "x",
         "y": [
          6.321916952856686
         ],
         "yaxis": "y",
         "type": "scatter"
        },
        {
         "hovertemplate": "<b>%{hovertext}</b><br><br>area=%{x}<br>Average_Rating=%{y}<br>Num=%{marker.size}<extra></extra>",
         "hovertext": [
          "香港"
         ],
         "legendgroup": "香港",
         "marker": {
          "color": "#ab63fa",
          "size": [
           3037
          ],
          "sizemode": "area",
          "sizeref": 23.1925,
          "symbol": "circle"
         },
         "mode": "markers",
         "name": "香港",
         "orientation": "v",
         "showlegend": true,
         "x": [
          "香港"
         ],
         "xaxis": "x",
         "y": [
          6.451037207770825
         ],
         "yaxis": "y",
         "type": "scatter"
        },
        {
         "hovertemplate": "<b>%{hovertext}</b><br><br>area=%{x}<br>Average_Rating=%{y}<br>Num=%{marker.size}<extra></extra>",
         "hovertext": [
          "法国"
         ],
         "legendgroup": "法国",
         "marker": {
          "color": "#FFA15A",
          "size": [
           2073
          ],
          "sizemode": "area",
          "sizeref": 23.1925,
          "symbol": "circle"
         },
         "mode": "markers",
         "name": "法国",
         "orientation": "v",
         "showlegend": true,
         "x": [
          "法国"
         ],
         "xaxis": "x",
         "y": [
          7.270911722141837
         ],
         "yaxis": "y",
         "type": "scatter"
        },
        {
         "hovertemplate": "<b>%{hovertext}</b><br><br>area=%{x}<br>Average_Rating=%{y}<br>Num=%{marker.size}<extra></extra>",
         "hovertext": [
          "英国"
         ],
         "legendgroup": "英国",
         "marker": {
          "color": "#19d3f3",
          "size": [
           2046
          ],
          "sizemode": "area",
          "sizeref": 23.1925,
          "symbol": "circle"
         },
         "mode": "markers",
         "name": "英国",
         "orientation": "v",
         "showlegend": true,
         "x": [
          "英国"
         ],
         "xaxis": "x",
         "y": [
          7.431133919843607
         ],
         "yaxis": "y",
         "type": "scatter"
        },
        {
         "hovertemplate": "<b>%{hovertext}</b><br><br>area=%{x}<br>Average_Rating=%{y}<br>Num=%{marker.size}<extra></extra>",
         "hovertext": [
          "韩国"
         ],
         "legendgroup": "韩国",
         "marker": {
          "color": "#FF6692",
          "size": [
           1161
          ],
          "sizemode": "area",
          "sizeref": 23.1925,
          "symbol": "circle"
         },
         "mode": "markers",
         "name": "韩国",
         "orientation": "v",
         "showlegend": true,
         "x": [
          "韩国"
         ],
         "xaxis": "x",
         "y": [
          6.632041343669251
         ],
         "yaxis": "y",
         "type": "scatter"
        },
        {
         "hovertemplate": "<b>%{hovertext}</b><br><br>area=%{x}<br>Average_Rating=%{y}<br>Num=%{marker.size}<extra></extra>",
         "hovertext": [
          "意大利"
         ],
         "legendgroup": "意大利",
         "marker": {
          "color": "#B6E880",
          "size": [
           734
          ],
          "sizemode": "area",
          "sizeref": 23.1925,
          "symbol": "circle"
         },
         "mode": "markers",
         "name": "意大利",
         "orientation": "v",
         "showlegend": true,
         "x": [
          "意大利"
         ],
         "xaxis": "x",
         "y": [
          7.154632152588563
         ],
         "yaxis": "y",
         "type": "scatter"
        },
        {
         "hovertemplate": "<b>%{hovertext}</b><br><br>area=%{x}<br>Average_Rating=%{y}<br>Num=%{marker.size}<extra></extra>",
         "hovertext": [
          "德国"
         ],
         "legendgroup": "德国",
         "marker": {
          "color": "#FF97FF",
          "size": [
           624
          ],
          "sizemode": "area",
          "sizeref": 23.1925,
          "symbol": "circle"
         },
         "mode": "markers",
         "name": "德国",
         "orientation": "v",
         "showlegend": true,
         "x": [
          "德国"
         ],
         "xaxis": "x",
         "y": [
          7.193429487179488
         ],
         "yaxis": "y",
         "type": "scatter"
        },
        {
         "hovertemplate": "<b>%{hovertext}</b><br><br>area=%{x}<br>Average_Rating=%{y}<br>Num=%{marker.size}<extra></extra>",
         "hovertext": [
          "台湾"
         ],
         "legendgroup": "台湾",
         "marker": {
          "color": "#FECB52",
          "size": [
           618
          ],
          "sizemode": "area",
          "sizeref": 23.1925,
          "symbol": "circle"
         },
         "mode": "markers",
         "name": "台湾",
         "orientation": "v",
         "showlegend": true,
         "x": [
          "台湾"
         ],
         "xaxis": "x",
         "y": [
          6.850161812297741
         ],
         "yaxis": "y",
         "type": "scatter"
        },
        {
         "hovertemplate": "<b>%{hovertext}</b><br><br>area=%{x}<br>Average_Rating=%{y}<br>Num=%{marker.size}<extra></extra>",
         "hovertext": [
          "加拿大"
         ],
         "legendgroup": "加拿大",
         "marker": {
          "color": "#636efa",
          "size": [
           427
          ],
          "sizemode": "area",
          "sizeref": 23.1925,
          "symbol": "circle"
         },
         "mode": "markers",
         "name": "加拿大",
         "orientation": "v",
         "showlegend": true,
         "x": [
          "加拿大"
         ],
         "xaxis": "x",
         "y": [
          6.805854800936771
         ],
         "yaxis": "y",
         "type": "scatter"
        },
        {
         "hovertemplate": "<b>%{hovertext}</b><br><br>area=%{x}<br>Average_Rating=%{y}<br>Num=%{marker.size}<extra></extra>",
         "hovertext": [
          "西班牙"
         ],
         "legendgroup": "西班牙",
         "marker": {
          "color": "#EF553B",
          "size": [
           368
          ],
          "sizemode": "area",
          "sizeref": 23.1925,
          "symbol": "circle"
         },
         "mode": "markers",
         "name": "西班牙",
         "orientation": "v",
         "showlegend": true,
         "x": [
          "西班牙"
         ],
         "xaxis": "x",
         "y": [
          7.004619565217391
         ],
         "yaxis": "y",
         "type": "scatter"
        },
        {
         "hovertemplate": "<b>%{hovertext}</b><br><br>area=%{x}<br>Average_Rating=%{y}<br>Num=%{marker.size}<extra></extra>",
         "hovertext": [
          "印度"
         ],
         "legendgroup": "印度",
         "marker": {
          "color": "#00cc96",
          "size": [
           275
          ],
          "sizemode": "area",
          "sizeref": 23.1925,
          "symbol": "circle"
         },
         "mode": "markers",
         "name": "印度",
         "orientation": "v",
         "showlegend": true,
         "x": [
          "印度"
         ],
         "xaxis": "x",
         "y": [
          7.335999999999995
         ],
         "yaxis": "y",
         "type": "scatter"
        },
        {
         "hovertemplate": "<b>%{hovertext}</b><br><br>area=%{x}<br>Average_Rating=%{y}<br>Num=%{marker.size}<extra></extra>",
         "hovertext": [
          "苏联"
         ],
         "legendgroup": "苏联",
         "marker": {
          "color": "#ab63fa",
          "size": [
           262
          ],
          "sizemode": "area",
          "sizeref": 23.1925,
          "symbol": "circle"
         },
         "mode": "markers",
         "name": "苏联",
         "orientation": "v",
         "showlegend": true,
         "x": [
          "苏联"
         ],
         "xaxis": "x",
         "y": [
          7.880152671755732
         ],
         "yaxis": "y",
         "type": "scatter"
        },
        {
         "hovertemplate": "<b>%{hovertext}</b><br><br>area=%{x}<br>Average_Rating=%{y}<br>Num=%{marker.size}<extra></extra>",
         "hovertext": [
          "澳大利亚"
         ],
         "legendgroup": "澳大利亚",
         "marker": {
          "color": "#FFA15A",
          "size": [
           214
          ],
          "sizemode": "area",
          "sizeref": 23.1925,
          "symbol": "circle"
         },
         "mode": "markers",
         "name": "澳大利亚",
         "orientation": "v",
         "showlegend": true,
         "x": [
          "澳大利亚"
         ],
         "xaxis": "x",
         "y": [
          6.875233644859815
         ],
         "yaxis": "y",
         "type": "scatter"
        }
       ],
       "layout": {
        "template": {
         "data": {
          "histogram2dcontour": [
           {
            "type": "histogram2dcontour",
            "colorbar": {
             "outlinewidth": 0,
             "ticks": ""
            },
            "colorscale": [
             [
              0.0,
              "#0d0887"
             ],
             [
              0.1111111111111111,
              "#46039f"
             ],
             [
              0.2222222222222222,
              "#7201a8"
             ],
             [
              0.3333333333333333,
              "#9c179e"
             ],
             [
              0.4444444444444444,
              "#bd3786"
             ],
             [
              0.5555555555555556,
              "#d8576b"
             ],
             [
              0.6666666666666666,
              "#ed7953"
             ],
             [
              0.7777777777777778,
              "#fb9f3a"
             ],
             [
              0.8888888888888888,
              "#fdca26"
             ],
             [
              1.0,
              "#f0f921"
             ]
            ]
           }
          ],
          "choropleth": [
           {
            "type": "choropleth",
            "colorbar": {
             "outlinewidth": 0,
             "ticks": ""
            }
           }
          ],
          "histogram2d": [
           {
            "type": "histogram2d",
            "colorbar": {
             "outlinewidth": 0,
             "ticks": ""
            },
            "colorscale": [
             [
              0.0,
              "#0d0887"
             ],
             [
              0.1111111111111111,
              "#46039f"
             ],
             [
              0.2222222222222222,
              "#7201a8"
             ],
             [
              0.3333333333333333,
              "#9c179e"
             ],
             [
              0.4444444444444444,
              "#bd3786"
             ],
             [
              0.5555555555555556,
              "#d8576b"
             ],
             [
              0.6666666666666666,
              "#ed7953"
             ],
             [
              0.7777777777777778,
              "#fb9f3a"
             ],
             [
              0.8888888888888888,
              "#fdca26"
             ],
             [
              1.0,
              "#f0f921"
             ]
            ]
           }
          ],
          "heatmap": [
           {
            "type": "heatmap",
            "colorbar": {
             "outlinewidth": 0,
             "ticks": ""
            },
            "colorscale": [
             [
              0.0,
              "#0d0887"
             ],
             [
              0.1111111111111111,
              "#46039f"
             ],
             [
              0.2222222222222222,
              "#7201a8"
             ],
             [
              0.3333333333333333,
              "#9c179e"
             ],
             [
              0.4444444444444444,
              "#bd3786"
             ],
             [
              0.5555555555555556,
              "#d8576b"
             ],
             [
              0.6666666666666666,
              "#ed7953"
             ],
             [
              0.7777777777777778,
              "#fb9f3a"
             ],
             [
              0.8888888888888888,
              "#fdca26"
             ],
             [
              1.0,
              "#f0f921"
             ]
            ]
           }
          ],
          "heatmapgl": [
           {
            "type": "heatmapgl",
            "colorbar": {
             "outlinewidth": 0,
             "ticks": ""
            },
            "colorscale": [
             [
              0.0,
              "#0d0887"
             ],
             [
              0.1111111111111111,
              "#46039f"
             ],
             [
              0.2222222222222222,
              "#7201a8"
             ],
             [
              0.3333333333333333,
              "#9c179e"
             ],
             [
              0.4444444444444444,
              "#bd3786"
             ],
             [
              0.5555555555555556,
              "#d8576b"
             ],
             [
              0.6666666666666666,
              "#ed7953"
             ],
             [
              0.7777777777777778,
              "#fb9f3a"
             ],
             [
              0.8888888888888888,
              "#fdca26"
             ],
             [
              1.0,
              "#f0f921"
             ]
            ]
           }
          ],
          "contourcarpet": [
           {
            "type": "contourcarpet",
            "colorbar": {
             "outlinewidth": 0,
             "ticks": ""
            }
           }
          ],
          "contour": [
           {
            "type": "contour",
            "colorbar": {
             "outlinewidth": 0,
             "ticks": ""
            },
            "colorscale": [
             [
              0.0,
              "#0d0887"
             ],
             [
              0.1111111111111111,
              "#46039f"
             ],
             [
              0.2222222222222222,
              "#7201a8"
             ],
             [
              0.3333333333333333,
              "#9c179e"
             ],
             [
              0.4444444444444444,
              "#bd3786"
             ],
             [
              0.5555555555555556,
              "#d8576b"
             ],
             [
              0.6666666666666666,
              "#ed7953"
             ],
             [
              0.7777777777777778,
              "#fb9f3a"
             ],
             [
              0.8888888888888888,
              "#fdca26"
             ],
             [
              1.0,
              "#f0f921"
             ]
            ]
           }
          ],
          "surface": [
           {
            "type": "surface",
            "colorbar": {
             "outlinewidth": 0,
             "ticks": ""
            },
            "colorscale": [
             [
              0.0,
              "#0d0887"
             ],
             [
              0.1111111111111111,
              "#46039f"
             ],
             [
              0.2222222222222222,
              "#7201a8"
             ],
             [
              0.3333333333333333,
              "#9c179e"
             ],
             [
              0.4444444444444444,
              "#bd3786"
             ],
             [
              0.5555555555555556,
              "#d8576b"
             ],
             [
              0.6666666666666666,
              "#ed7953"
             ],
             [
              0.7777777777777778,
              "#fb9f3a"
             ],
             [
              0.8888888888888888,
              "#fdca26"
             ],
             [
              1.0,
              "#f0f921"
             ]
            ]
           }
          ],
          "mesh3d": [
           {
            "type": "mesh3d",
            "colorbar": {
             "outlinewidth": 0,
             "ticks": ""
            }
           }
          ],
          "scatter": [
           {
            "marker": {
             "line": {
              "color": "#283442"
             }
            },
            "type": "scatter"
           }
          ],
          "parcoords": [
           {
            "type": "parcoords",
            "line": {
             "colorbar": {
              "outlinewidth": 0,
              "ticks": ""
             }
            }
           }
          ],
          "scatterpolargl": [
           {
            "type": "scatterpolargl",
            "marker": {
             "colorbar": {
              "outlinewidth": 0,
              "ticks": ""
             }
            }
           }
          ],
          "bar": [
           {
            "error_x": {
             "color": "#f2f5fa"
            },
            "error_y": {
             "color": "#f2f5fa"
            },
            "marker": {
             "line": {
              "color": "rgb(17,17,17)",
              "width": 0.5
             },
             "pattern": {
              "fillmode": "overlay",
              "size": 10,
              "solidity": 0.2
             }
            },
            "type": "bar"
           }
          ],
          "scattergeo": [
           {
            "type": "scattergeo",
            "marker": {
             "colorbar": {
              "outlinewidth": 0,
              "ticks": ""
             }
            }
           }
          ],
          "scatterpolar": [
           {
            "type": "scatterpolar",
            "marker": {
             "colorbar": {
              "outlinewidth": 0,
              "ticks": ""
             }
            }
           }
          ],
          "histogram": [
           {
            "marker": {
             "pattern": {
              "fillmode": "overlay",
              "size": 10,
              "solidity": 0.2
             }
            },
            "type": "histogram"
           }
          ],
          "scattergl": [
           {
            "marker": {
             "line": {
              "color": "#283442"
             }
            },
            "type": "scattergl"
           }
          ],
          "scatter3d": [
           {
            "type": "scatter3d",
            "line": {
             "colorbar": {
              "outlinewidth": 0,
              "ticks": ""
             }
            },
            "marker": {
             "colorbar": {
              "outlinewidth": 0,
              "ticks": ""
             }
            }
           }
          ],
          "scattermapbox": [
           {
            "type": "scattermapbox",
            "marker": {
             "colorbar": {
              "outlinewidth": 0,
              "ticks": ""
             }
            }
           }
          ],
          "scatterternary": [
           {
            "type": "scatterternary",
            "marker": {
             "colorbar": {
              "outlinewidth": 0,
              "ticks": ""
             }
            }
           }
          ],
          "scattercarpet": [
           {
            "type": "scattercarpet",
            "marker": {
             "colorbar": {
              "outlinewidth": 0,
              "ticks": ""
             }
            }
           }
          ],
          "carpet": [
           {
            "aaxis": {
             "endlinecolor": "#A2B1C6",
             "gridcolor": "#506784",
             "linecolor": "#506784",
             "minorgridcolor": "#506784",
             "startlinecolor": "#A2B1C6"
            },
            "baxis": {
             "endlinecolor": "#A2B1C6",
             "gridcolor": "#506784",
             "linecolor": "#506784",
             "minorgridcolor": "#506784",
             "startlinecolor": "#A2B1C6"
            },
            "type": "carpet"
           }
          ],
          "table": [
           {
            "cells": {
             "fill": {
              "color": "#506784"
             },
             "line": {
              "color": "rgb(17,17,17)"
             }
            },
            "header": {
             "fill": {
              "color": "#2a3f5f"
             },
             "line": {
              "color": "rgb(17,17,17)"
             }
            },
            "type": "table"
           }
          ],
          "barpolar": [
           {
            "marker": {
             "line": {
              "color": "rgb(17,17,17)",
              "width": 0.5
             },
             "pattern": {
              "fillmode": "overlay",
              "size": 10,
              "solidity": 0.2
             }
            },
            "type": "barpolar"
           }
          ],
          "pie": [
           {
            "automargin": true,
            "type": "pie"
           }
          ]
         },
         "layout": {
          "autotypenumbers": "strict",
          "colorway": [
           "#636efa",
           "#EF553B",
           "#00cc96",
           "#ab63fa",
           "#FFA15A",
           "#19d3f3",
           "#FF6692",
           "#B6E880",
           "#FF97FF",
           "#FECB52"
          ],
          "font": {
           "color": "#f2f5fa"
          },
          "hovermode": "closest",
          "hoverlabel": {
           "align": "left"
          },
          "paper_bgcolor": "rgb(17,17,17)",
          "plot_bgcolor": "rgb(17,17,17)",
          "polar": {
           "bgcolor": "rgb(17,17,17)",
           "angularaxis": {
            "gridcolor": "#506784",
            "linecolor": "#506784",
            "ticks": ""
           },
           "radialaxis": {
            "gridcolor": "#506784",
            "linecolor": "#506784",
            "ticks": ""
           }
          },
          "ternary": {
           "bgcolor": "rgb(17,17,17)",
           "aaxis": {
            "gridcolor": "#506784",
            "linecolor": "#506784",
            "ticks": ""
           },
           "baxis": {
            "gridcolor": "#506784",
            "linecolor": "#506784",
            "ticks": ""
           },
           "caxis": {
            "gridcolor": "#506784",
            "linecolor": "#506784",
            "ticks": ""
           }
          },
          "coloraxis": {
           "colorbar": {
            "outlinewidth": 0,
            "ticks": ""
           }
          },
          "colorscale": {
           "sequential": [
            [
             0.0,
             "#0d0887"
            ],
            [
             0.1111111111111111,
             "#46039f"
            ],
            [
             0.2222222222222222,
             "#7201a8"
            ],
            [
             0.3333333333333333,
             "#9c179e"
            ],
            [
             0.4444444444444444,
             "#bd3786"
            ],
            [
             0.5555555555555556,
             "#d8576b"
            ],
            [
             0.6666666666666666,
             "#ed7953"
            ],
            [
             0.7777777777777778,
             "#fb9f3a"
            ],
            [
             0.8888888888888888,
             "#fdca26"
            ],
            [
             1.0,
             "#f0f921"
            ]
           ],
           "sequentialminus": [
            [
             0.0,
             "#0d0887"
            ],
            [
             0.1111111111111111,
             "#46039f"
            ],
            [
             0.2222222222222222,
             "#7201a8"
            ],
            [
             0.3333333333333333,
             "#9c179e"
            ],
            [
             0.4444444444444444,
             "#bd3786"
            ],
            [
             0.5555555555555556,
             "#d8576b"
            ],
            [
             0.6666666666666666,
             "#ed7953"
            ],
            [
             0.7777777777777778,
             "#fb9f3a"
            ],
            [
             0.8888888888888888,
             "#fdca26"
            ],
            [
             1.0,
             "#f0f921"
            ]
           ],
           "diverging": [
            [
             0,
             "#8e0152"
            ],
            [
             0.1,
             "#c51b7d"
            ],
            [
             0.2,
             "#de77ae"
            ],
            [
             0.3,
             "#f1b6da"
            ],
            [
             0.4,
             "#fde0ef"
            ],
            [
             0.5,
             "#f7f7f7"
            ],
            [
             0.6,
             "#e6f5d0"
            ],
            [
             0.7,
             "#b8e186"
            ],
            [
             0.8,
             "#7fbc41"
            ],
            [
             0.9,
             "#4d9221"
            ],
            [
             1,
             "#276419"
            ]
           ]
          },
          "xaxis": {
           "gridcolor": "#283442",
           "linecolor": "#506784",
           "ticks": "",
           "title": {
            "standoff": 15
           },
           "zerolinecolor": "#283442",
           "automargin": true,
           "zerolinewidth": 2
          },
          "yaxis": {
           "gridcolor": "#283442",
           "linecolor": "#506784",
           "ticks": "",
           "title": {
            "standoff": 15
           },
           "zerolinecolor": "#283442",
           "automargin": true,
           "zerolinewidth": 2
          },
          "scene": {
           "xaxis": {
            "backgroundcolor": "rgb(17,17,17)",
            "gridcolor": "#506784",
            "linecolor": "#506784",
            "showbackground": true,
            "ticks": "",
            "zerolinecolor": "#C8D4E3",
            "gridwidth": 2
           },
           "yaxis": {
            "backgroundcolor": "rgb(17,17,17)",
            "gridcolor": "#506784",
            "linecolor": "#506784",
            "showbackground": true,
            "ticks": "",
            "zerolinecolor": "#C8D4E3",
            "gridwidth": 2
           },
           "zaxis": {
            "backgroundcolor": "rgb(17,17,17)",
            "gridcolor": "#506784",
            "linecolor": "#506784",
            "showbackground": true,
            "ticks": "",
            "zerolinecolor": "#C8D4E3",
            "gridwidth": 2
           }
          },
          "shapedefaults": {
           "line": {
            "color": "#f2f5fa"
           }
          },
          "annotationdefaults": {
           "arrowcolor": "#f2f5fa",
           "arrowhead": 0,
           "arrowwidth": 1
          },
          "geo": {
           "bgcolor": "rgb(17,17,17)",
           "landcolor": "rgb(17,17,17)",
           "subunitcolor": "#506784",
           "showland": true,
           "showlakes": true,
           "lakecolor": "rgb(17,17,17)"
          },
          "title": {
           "x": 0.05
          },
          "updatemenudefaults": {
           "bgcolor": "#506784",
           "borderwidth": 0
          },
          "sliderdefaults": {
           "bgcolor": "#C8D4E3",
           "borderwidth": 1,
           "bordercolor": "rgb(17,17,17)",
           "tickwidth": 0
          },
          "mapbox": {
           "style": "dark"
          }
         }
        },
        "xaxis": {
         "anchor": "y",
         "domain": [
          0.0,
          1.0
         ],
         "title": {
          "text": "area"
         },
         "categoryorder": "array",
         "categoryarray": [
          "美国",
          "日本",
          "中国大陆",
          "香港",
          "法国",
          "英国",
          "韩国",
          "意大利",
          "德国",
          "台湾",
          "加拿大",
          "西班牙",
          "印度",
          "苏联",
          "澳大利亚"
         ]
        },
        "yaxis": {
         "anchor": "x",
         "domain": [
          0.0,
          1.0
         ],
         "title": {
          "text": "Average_Rating"
         }
        },
        "legend": {
         "title": {
          "text": "area"
         },
         "tracegroupgap": 0,
         "itemsizing": "constant"
        },
        "title": {
         "text": "各制片地区电影数和平均评分"
        }
       },
       "config": {
        "plotlyServerURL": "https://plot.ly"
       }
      },
      "text/html": "<div>                            <div id=\"f5b9adbc-9e1b-438b-9621-0a7ca3f14bb1\" class=\"plotly-graph-div\" style=\"height:525px; width:100%;\"></div>            <script type=\"text/javascript\">                require([\"plotly\"], function(Plotly) {                    window.PLOTLYENV=window.PLOTLYENV || {};                                    if (document.getElementById(\"f5b9adbc-9e1b-438b-9621-0a7ca3f14bb1\")) {                    Plotly.newPlot(                        \"f5b9adbc-9e1b-438b-9621-0a7ca3f14bb1\",                        [{\"hovertemplate\":\"\\u003cb\\u003e%{hovertext}\\u003c\\u002fb\\u003e\\u003cbr\\u003e\\u003cbr\\u003earea=%{x}\\u003cbr\\u003eAverage_Rating=%{y}\\u003cbr\\u003eNum=%{marker.size}\\u003cextra\\u003e\\u003c\\u002fextra\\u003e\",\"hovertext\":[\"\\u7f8e\\u56fd\"],\"legendgroup\":\"\\u7f8e\\u56fd\",\"marker\":{\"color\":\"#636efa\",\"size\":[9277],\"sizemode\":\"area\",\"sizeref\":23.1925,\"symbol\":\"circle\"},\"mode\":\"markers\",\"name\":\"\\u7f8e\\u56fd\",\"orientation\":\"v\",\"showlegend\":true,\"x\":[\"\\u7f8e\\u56fd\"],\"xaxis\":\"x\",\"y\":[6.969074054112332],\"yaxis\":\"y\",\"type\":\"scatter\"},{\"hovertemplate\":\"\\u003cb\\u003e%{hovertext}\\u003c\\u002fb\\u003e\\u003cbr\\u003e\\u003cbr\\u003earea=%{x}\\u003cbr\\u003eAverage_Rating=%{y}\\u003cbr\\u003eNum=%{marker.size}\\u003cextra\\u003e\\u003c\\u002fextra\\u003e\",\"hovertext\":[\"\\u65e5\\u672c\"],\"legendgroup\":\"\\u65e5\\u672c\",\"marker\":{\"color\":\"#EF553B\",\"size\":[4276],\"sizemode\":\"area\",\"sizeref\":23.1925,\"symbol\":\"circle\"},\"mode\":\"markers\",\"name\":\"\\u65e5\\u672c\",\"orientation\":\"v\",\"showlegend\":true,\"x\":[\"\\u65e5\\u672c\"],\"xaxis\":\"x\",\"y\":[7.2854536950420945],\"yaxis\":\"y\",\"type\":\"scatter\"},{\"hovertemplate\":\"\\u003cb\\u003e%{hovertext}\\u003c\\u002fb\\u003e\\u003cbr\\u003e\\u003cbr\\u003earea=%{x}\\u003cbr\\u003eAverage_Rating=%{y}\\u003cbr\\u003eNum=%{marker.size}\\u003cextra\\u003e\\u003c\\u002fextra\\u003e\",\"hovertext\":[\"\\u4e2d\\u56fd\\u5927\\u9646\"],\"legendgroup\":\"\\u4e2d\\u56fd\\u5927\\u9646\",\"marker\":{\"color\":\"#00cc96\",\"size\":[3203],\"sizemode\":\"area\",\"sizeref\":23.1925,\"symbol\":\"circle\"},\"mode\":\"markers\",\"name\":\"\\u4e2d\\u56fd\\u5927\\u9646\",\"orientation\":\"v\",\"showlegend\":true,\"x\":[\"\\u4e2d\\u56fd\\u5927\\u9646\"],\"xaxis\":\"x\",\"y\":[6.321916952856686],\"yaxis\":\"y\",\"type\":\"scatter\"},{\"hovertemplate\":\"\\u003cb\\u003e%{hovertext}\\u003c\\u002fb\\u003e\\u003cbr\\u003e\\u003cbr\\u003earea=%{x}\\u003cbr\\u003eAverage_Rating=%{y}\\u003cbr\\u003eNum=%{marker.size}\\u003cextra\\u003e\\u003c\\u002fextra\\u003e\",\"hovertext\":[\"\\u9999\\u6e2f\"],\"legendgroup\":\"\\u9999\\u6e2f\",\"marker\":{\"color\":\"#ab63fa\",\"size\":[3037],\"sizemode\":\"area\",\"sizeref\":23.1925,\"symbol\":\"circle\"},\"mode\":\"markers\",\"name\":\"\\u9999\\u6e2f\",\"orientation\":\"v\",\"showlegend\":true,\"x\":[\"\\u9999\\u6e2f\"],\"xaxis\":\"x\",\"y\":[6.451037207770825],\"yaxis\":\"y\",\"type\":\"scatter\"},{\"hovertemplate\":\"\\u003cb\\u003e%{hovertext}\\u003c\\u002fb\\u003e\\u003cbr\\u003e\\u003cbr\\u003earea=%{x}\\u003cbr\\u003eAverage_Rating=%{y}\\u003cbr\\u003eNum=%{marker.size}\\u003cextra\\u003e\\u003c\\u002fextra\\u003e\",\"hovertext\":[\"\\u6cd5\\u56fd\"],\"legendgroup\":\"\\u6cd5\\u56fd\",\"marker\":{\"color\":\"#FFA15A\",\"size\":[2073],\"sizemode\":\"area\",\"sizeref\":23.1925,\"symbol\":\"circle\"},\"mode\":\"markers\",\"name\":\"\\u6cd5\\u56fd\",\"orientation\":\"v\",\"showlegend\":true,\"x\":[\"\\u6cd5\\u56fd\"],\"xaxis\":\"x\",\"y\":[7.270911722141837],\"yaxis\":\"y\",\"type\":\"scatter\"},{\"hovertemplate\":\"\\u003cb\\u003e%{hovertext}\\u003c\\u002fb\\u003e\\u003cbr\\u003e\\u003cbr\\u003earea=%{x}\\u003cbr\\u003eAverage_Rating=%{y}\\u003cbr\\u003eNum=%{marker.size}\\u003cextra\\u003e\\u003c\\u002fextra\\u003e\",\"hovertext\":[\"\\u82f1\\u56fd\"],\"legendgroup\":\"\\u82f1\\u56fd\",\"marker\":{\"color\":\"#19d3f3\",\"size\":[2046],\"sizemode\":\"area\",\"sizeref\":23.1925,\"symbol\":\"circle\"},\"mode\":\"markers\",\"name\":\"\\u82f1\\u56fd\",\"orientation\":\"v\",\"showlegend\":true,\"x\":[\"\\u82f1\\u56fd\"],\"xaxis\":\"x\",\"y\":[7.431133919843607],\"yaxis\":\"y\",\"type\":\"scatter\"},{\"hovertemplate\":\"\\u003cb\\u003e%{hovertext}\\u003c\\u002fb\\u003e\\u003cbr\\u003e\\u003cbr\\u003earea=%{x}\\u003cbr\\u003eAverage_Rating=%{y}\\u003cbr\\u003eNum=%{marker.size}\\u003cextra\\u003e\\u003c\\u002fextra\\u003e\",\"hovertext\":[\"\\u97e9\\u56fd\"],\"legendgroup\":\"\\u97e9\\u56fd\",\"marker\":{\"color\":\"#FF6692\",\"size\":[1161],\"sizemode\":\"area\",\"sizeref\":23.1925,\"symbol\":\"circle\"},\"mode\":\"markers\",\"name\":\"\\u97e9\\u56fd\",\"orientation\":\"v\",\"showlegend\":true,\"x\":[\"\\u97e9\\u56fd\"],\"xaxis\":\"x\",\"y\":[6.632041343669251],\"yaxis\":\"y\",\"type\":\"scatter\"},{\"hovertemplate\":\"\\u003cb\\u003e%{hovertext}\\u003c\\u002fb\\u003e\\u003cbr\\u003e\\u003cbr\\u003earea=%{x}\\u003cbr\\u003eAverage_Rating=%{y}\\u003cbr\\u003eNum=%{marker.size}\\u003cextra\\u003e\\u003c\\u002fextra\\u003e\",\"hovertext\":[\"\\u610f\\u5927\\u5229\"],\"legendgroup\":\"\\u610f\\u5927\\u5229\",\"marker\":{\"color\":\"#B6E880\",\"size\":[734],\"sizemode\":\"area\",\"sizeref\":23.1925,\"symbol\":\"circle\"},\"mode\":\"markers\",\"name\":\"\\u610f\\u5927\\u5229\",\"orientation\":\"v\",\"showlegend\":true,\"x\":[\"\\u610f\\u5927\\u5229\"],\"xaxis\":\"x\",\"y\":[7.154632152588563],\"yaxis\":\"y\",\"type\":\"scatter\"},{\"hovertemplate\":\"\\u003cb\\u003e%{hovertext}\\u003c\\u002fb\\u003e\\u003cbr\\u003e\\u003cbr\\u003earea=%{x}\\u003cbr\\u003eAverage_Rating=%{y}\\u003cbr\\u003eNum=%{marker.size}\\u003cextra\\u003e\\u003c\\u002fextra\\u003e\",\"hovertext\":[\"\\u5fb7\\u56fd\"],\"legendgroup\":\"\\u5fb7\\u56fd\",\"marker\":{\"color\":\"#FF97FF\",\"size\":[624],\"sizemode\":\"area\",\"sizeref\":23.1925,\"symbol\":\"circle\"},\"mode\":\"markers\",\"name\":\"\\u5fb7\\u56fd\",\"orientation\":\"v\",\"showlegend\":true,\"x\":[\"\\u5fb7\\u56fd\"],\"xaxis\":\"x\",\"y\":[7.193429487179488],\"yaxis\":\"y\",\"type\":\"scatter\"},{\"hovertemplate\":\"\\u003cb\\u003e%{hovertext}\\u003c\\u002fb\\u003e\\u003cbr\\u003e\\u003cbr\\u003earea=%{x}\\u003cbr\\u003eAverage_Rating=%{y}\\u003cbr\\u003eNum=%{marker.size}\\u003cextra\\u003e\\u003c\\u002fextra\\u003e\",\"hovertext\":[\"\\u53f0\\u6e7e\"],\"legendgroup\":\"\\u53f0\\u6e7e\",\"marker\":{\"color\":\"#FECB52\",\"size\":[618],\"sizemode\":\"area\",\"sizeref\":23.1925,\"symbol\":\"circle\"},\"mode\":\"markers\",\"name\":\"\\u53f0\\u6e7e\",\"orientation\":\"v\",\"showlegend\":true,\"x\":[\"\\u53f0\\u6e7e\"],\"xaxis\":\"x\",\"y\":[6.850161812297741],\"yaxis\":\"y\",\"type\":\"scatter\"},{\"hovertemplate\":\"\\u003cb\\u003e%{hovertext}\\u003c\\u002fb\\u003e\\u003cbr\\u003e\\u003cbr\\u003earea=%{x}\\u003cbr\\u003eAverage_Rating=%{y}\\u003cbr\\u003eNum=%{marker.size}\\u003cextra\\u003e\\u003c\\u002fextra\\u003e\",\"hovertext\":[\"\\u52a0\\u62ff\\u5927\"],\"legendgroup\":\"\\u52a0\\u62ff\\u5927\",\"marker\":{\"color\":\"#636efa\",\"size\":[427],\"sizemode\":\"area\",\"sizeref\":23.1925,\"symbol\":\"circle\"},\"mode\":\"markers\",\"name\":\"\\u52a0\\u62ff\\u5927\",\"orientation\":\"v\",\"showlegend\":true,\"x\":[\"\\u52a0\\u62ff\\u5927\"],\"xaxis\":\"x\",\"y\":[6.805854800936771],\"yaxis\":\"y\",\"type\":\"scatter\"},{\"hovertemplate\":\"\\u003cb\\u003e%{hovertext}\\u003c\\u002fb\\u003e\\u003cbr\\u003e\\u003cbr\\u003earea=%{x}\\u003cbr\\u003eAverage_Rating=%{y}\\u003cbr\\u003eNum=%{marker.size}\\u003cextra\\u003e\\u003c\\u002fextra\\u003e\",\"hovertext\":[\"\\u897f\\u73ed\\u7259\"],\"legendgroup\":\"\\u897f\\u73ed\\u7259\",\"marker\":{\"color\":\"#EF553B\",\"size\":[368],\"sizemode\":\"area\",\"sizeref\":23.1925,\"symbol\":\"circle\"},\"mode\":\"markers\",\"name\":\"\\u897f\\u73ed\\u7259\",\"orientation\":\"v\",\"showlegend\":true,\"x\":[\"\\u897f\\u73ed\\u7259\"],\"xaxis\":\"x\",\"y\":[7.004619565217391],\"yaxis\":\"y\",\"type\":\"scatter\"},{\"hovertemplate\":\"\\u003cb\\u003e%{hovertext}\\u003c\\u002fb\\u003e\\u003cbr\\u003e\\u003cbr\\u003earea=%{x}\\u003cbr\\u003eAverage_Rating=%{y}\\u003cbr\\u003eNum=%{marker.size}\\u003cextra\\u003e\\u003c\\u002fextra\\u003e\",\"hovertext\":[\"\\u5370\\u5ea6\"],\"legendgroup\":\"\\u5370\\u5ea6\",\"marker\":{\"color\":\"#00cc96\",\"size\":[275],\"sizemode\":\"area\",\"sizeref\":23.1925,\"symbol\":\"circle\"},\"mode\":\"markers\",\"name\":\"\\u5370\\u5ea6\",\"orientation\":\"v\",\"showlegend\":true,\"x\":[\"\\u5370\\u5ea6\"],\"xaxis\":\"x\",\"y\":[7.335999999999995],\"yaxis\":\"y\",\"type\":\"scatter\"},{\"hovertemplate\":\"\\u003cb\\u003e%{hovertext}\\u003c\\u002fb\\u003e\\u003cbr\\u003e\\u003cbr\\u003earea=%{x}\\u003cbr\\u003eAverage_Rating=%{y}\\u003cbr\\u003eNum=%{marker.size}\\u003cextra\\u003e\\u003c\\u002fextra\\u003e\",\"hovertext\":[\"\\u82cf\\u8054\"],\"legendgroup\":\"\\u82cf\\u8054\",\"marker\":{\"color\":\"#ab63fa\",\"size\":[262],\"sizemode\":\"area\",\"sizeref\":23.1925,\"symbol\":\"circle\"},\"mode\":\"markers\",\"name\":\"\\u82cf\\u8054\",\"orientation\":\"v\",\"showlegend\":true,\"x\":[\"\\u82cf\\u8054\"],\"xaxis\":\"x\",\"y\":[7.880152671755732],\"yaxis\":\"y\",\"type\":\"scatter\"},{\"hovertemplate\":\"\\u003cb\\u003e%{hovertext}\\u003c\\u002fb\\u003e\\u003cbr\\u003e\\u003cbr\\u003earea=%{x}\\u003cbr\\u003eAverage_Rating=%{y}\\u003cbr\\u003eNum=%{marker.size}\\u003cextra\\u003e\\u003c\\u002fextra\\u003e\",\"hovertext\":[\"\\u6fb3\\u5927\\u5229\\u4e9a\"],\"legendgroup\":\"\\u6fb3\\u5927\\u5229\\u4e9a\",\"marker\":{\"color\":\"#FFA15A\",\"size\":[214],\"sizemode\":\"area\",\"sizeref\":23.1925,\"symbol\":\"circle\"},\"mode\":\"markers\",\"name\":\"\\u6fb3\\u5927\\u5229\\u4e9a\",\"orientation\":\"v\",\"showlegend\":true,\"x\":[\"\\u6fb3\\u5927\\u5229\\u4e9a\"],\"xaxis\":\"x\",\"y\":[6.875233644859815],\"yaxis\":\"y\",\"type\":\"scatter\"}],                        {\"template\":{\"data\":{\"histogram2dcontour\":[{\"type\":\"histogram2dcontour\",\"colorbar\":{\"outlinewidth\":0,\"ticks\":\"\"},\"colorscale\":[[0.0,\"#0d0887\"],[0.1111111111111111,\"#46039f\"],[0.2222222222222222,\"#7201a8\"],[0.3333333333333333,\"#9c179e\"],[0.4444444444444444,\"#bd3786\"],[0.5555555555555556,\"#d8576b\"],[0.6666666666666666,\"#ed7953\"],[0.7777777777777778,\"#fb9f3a\"],[0.8888888888888888,\"#fdca26\"],[1.0,\"#f0f921\"]]}],\"choropleth\":[{\"type\":\"choropleth\",\"colorbar\":{\"outlinewidth\":0,\"ticks\":\"\"}}],\"histogram2d\":[{\"type\":\"histogram2d\",\"colorbar\":{\"outlinewidth\":0,\"ticks\":\"\"},\"colorscale\":[[0.0,\"#0d0887\"],[0.1111111111111111,\"#46039f\"],[0.2222222222222222,\"#7201a8\"],[0.3333333333333333,\"#9c179e\"],[0.4444444444444444,\"#bd3786\"],[0.5555555555555556,\"#d8576b\"],[0.6666666666666666,\"#ed7953\"],[0.7777777777777778,\"#fb9f3a\"],[0.8888888888888888,\"#fdca26\"],[1.0,\"#f0f921\"]]}],\"heatmap\":[{\"type\":\"heatmap\",\"colorbar\":{\"outlinewidth\":0,\"ticks\":\"\"},\"colorscale\":[[0.0,\"#0d0887\"],[0.1111111111111111,\"#46039f\"],[0.2222222222222222,\"#7201a8\"],[0.3333333333333333,\"#9c179e\"],[0.4444444444444444,\"#bd3786\"],[0.5555555555555556,\"#d8576b\"],[0.6666666666666666,\"#ed7953\"],[0.7777777777777778,\"#fb9f3a\"],[0.8888888888888888,\"#fdca26\"],[1.0,\"#f0f921\"]]}],\"heatmapgl\":[{\"type\":\"heatmapgl\",\"colorbar\":{\"outlinewidth\":0,\"ticks\":\"\"},\"colorscale\":[[0.0,\"#0d0887\"],[0.1111111111111111,\"#46039f\"],[0.2222222222222222,\"#7201a8\"],[0.3333333333333333,\"#9c179e\"],[0.4444444444444444,\"#bd3786\"],[0.5555555555555556,\"#d8576b\"],[0.6666666666666666,\"#ed7953\"],[0.7777777777777778,\"#fb9f3a\"],[0.8888888888888888,\"#fdca26\"],[1.0,\"#f0f921\"]]}],\"contourcarpet\":[{\"type\":\"contourcarpet\",\"colorbar\":{\"outlinewidth\":0,\"ticks\":\"\"}}],\"contour\":[{\"type\":\"contour\",\"colorbar\":{\"outlinewidth\":0,\"ticks\":\"\"},\"colorscale\":[[0.0,\"#0d0887\"],[0.1111111111111111,\"#46039f\"],[0.2222222222222222,\"#7201a8\"],[0.3333333333333333,\"#9c179e\"],[0.4444444444444444,\"#bd3786\"],[0.5555555555555556,\"#d8576b\"],[0.6666666666666666,\"#ed7953\"],[0.7777777777777778,\"#fb9f3a\"],[0.8888888888888888,\"#fdca26\"],[1.0,\"#f0f921\"]]}],\"surface\":[{\"type\":\"surface\",\"colorbar\":{\"outlinewidth\":0,\"ticks\":\"\"},\"colorscale\":[[0.0,\"#0d0887\"],[0.1111111111111111,\"#46039f\"],[0.2222222222222222,\"#7201a8\"],[0.3333333333333333,\"#9c179e\"],[0.4444444444444444,\"#bd3786\"],[0.5555555555555556,\"#d8576b\"],[0.6666666666666666,\"#ed7953\"],[0.7777777777777778,\"#fb9f3a\"],[0.8888888888888888,\"#fdca26\"],[1.0,\"#f0f921\"]]}],\"mesh3d\":[{\"type\":\"mesh3d\",\"colorbar\":{\"outlinewidth\":0,\"ticks\":\"\"}}],\"scatter\":[{\"marker\":{\"line\":{\"color\":\"#283442\"}},\"type\":\"scatter\"}],\"parcoords\":[{\"type\":\"parcoords\",\"line\":{\"colorbar\":{\"outlinewidth\":0,\"ticks\":\"\"}}}],\"scatterpolargl\":[{\"type\":\"scatterpolargl\",\"marker\":{\"colorbar\":{\"outlinewidth\":0,\"ticks\":\"\"}}}],\"bar\":[{\"error_x\":{\"color\":\"#f2f5fa\"},\"error_y\":{\"color\":\"#f2f5fa\"},\"marker\":{\"line\":{\"color\":\"rgb(17,17,17)\",\"width\":0.5},\"pattern\":{\"fillmode\":\"overlay\",\"size\":10,\"solidity\":0.2}},\"type\":\"bar\"}],\"scattergeo\":[{\"type\":\"scattergeo\",\"marker\":{\"colorbar\":{\"outlinewidth\":0,\"ticks\":\"\"}}}],\"scatterpolar\":[{\"type\":\"scatterpolar\",\"marker\":{\"colorbar\":{\"outlinewidth\":0,\"ticks\":\"\"}}}],\"histogram\":[{\"marker\":{\"pattern\":{\"fillmode\":\"overlay\",\"size\":10,\"solidity\":0.2}},\"type\":\"histogram\"}],\"scattergl\":[{\"marker\":{\"line\":{\"color\":\"#283442\"}},\"type\":\"scattergl\"}],\"scatter3d\":[{\"type\":\"scatter3d\",\"line\":{\"colorbar\":{\"outlinewidth\":0,\"ticks\":\"\"}},\"marker\":{\"colorbar\":{\"outlinewidth\":0,\"ticks\":\"\"}}}],\"scattermapbox\":[{\"type\":\"scattermapbox\",\"marker\":{\"colorbar\":{\"outlinewidth\":0,\"ticks\":\"\"}}}],\"scatterternary\":[{\"type\":\"scatterternary\",\"marker\":{\"colorbar\":{\"outlinewidth\":0,\"ticks\":\"\"}}}],\"scattercarpet\":[{\"type\":\"scattercarpet\",\"marker\":{\"colorbar\":{\"outlinewidth\":0,\"ticks\":\"\"}}}],\"carpet\":[{\"aaxis\":{\"endlinecolor\":\"#A2B1C6\",\"gridcolor\":\"#506784\",\"linecolor\":\"#506784\",\"minorgridcolor\":\"#506784\",\"startlinecolor\":\"#A2B1C6\"},\"baxis\":{\"endlinecolor\":\"#A2B1C6\",\"gridcolor\":\"#506784\",\"linecolor\":\"#506784\",\"minorgridcolor\":\"#506784\",\"startlinecolor\":\"#A2B1C6\"},\"type\":\"carpet\"}],\"table\":[{\"cells\":{\"fill\":{\"color\":\"#506784\"},\"line\":{\"color\":\"rgb(17,17,17)\"}},\"header\":{\"fill\":{\"color\":\"#2a3f5f\"},\"line\":{\"color\":\"rgb(17,17,17)\"}},\"type\":\"table\"}],\"barpolar\":[{\"marker\":{\"line\":{\"color\":\"rgb(17,17,17)\",\"width\":0.5},\"pattern\":{\"fillmode\":\"overlay\",\"size\":10,\"solidity\":0.2}},\"type\":\"barpolar\"}],\"pie\":[{\"automargin\":true,\"type\":\"pie\"}]},\"layout\":{\"autotypenumbers\":\"strict\",\"colorway\":[\"#636efa\",\"#EF553B\",\"#00cc96\",\"#ab63fa\",\"#FFA15A\",\"#19d3f3\",\"#FF6692\",\"#B6E880\",\"#FF97FF\",\"#FECB52\"],\"font\":{\"color\":\"#f2f5fa\"},\"hovermode\":\"closest\",\"hoverlabel\":{\"align\":\"left\"},\"paper_bgcolor\":\"rgb(17,17,17)\",\"plot_bgcolor\":\"rgb(17,17,17)\",\"polar\":{\"bgcolor\":\"rgb(17,17,17)\",\"angularaxis\":{\"gridcolor\":\"#506784\",\"linecolor\":\"#506784\",\"ticks\":\"\"},\"radialaxis\":{\"gridcolor\":\"#506784\",\"linecolor\":\"#506784\",\"ticks\":\"\"}},\"ternary\":{\"bgcolor\":\"rgb(17,17,17)\",\"aaxis\":{\"gridcolor\":\"#506784\",\"linecolor\":\"#506784\",\"ticks\":\"\"},\"baxis\":{\"gridcolor\":\"#506784\",\"linecolor\":\"#506784\",\"ticks\":\"\"},\"caxis\":{\"gridcolor\":\"#506784\",\"linecolor\":\"#506784\",\"ticks\":\"\"}},\"coloraxis\":{\"colorbar\":{\"outlinewidth\":0,\"ticks\":\"\"}},\"colorscale\":{\"sequential\":[[0.0,\"#0d0887\"],[0.1111111111111111,\"#46039f\"],[0.2222222222222222,\"#7201a8\"],[0.3333333333333333,\"#9c179e\"],[0.4444444444444444,\"#bd3786\"],[0.5555555555555556,\"#d8576b\"],[0.6666666666666666,\"#ed7953\"],[0.7777777777777778,\"#fb9f3a\"],[0.8888888888888888,\"#fdca26\"],[1.0,\"#f0f921\"]],\"sequentialminus\":[[0.0,\"#0d0887\"],[0.1111111111111111,\"#46039f\"],[0.2222222222222222,\"#7201a8\"],[0.3333333333333333,\"#9c179e\"],[0.4444444444444444,\"#bd3786\"],[0.5555555555555556,\"#d8576b\"],[0.6666666666666666,\"#ed7953\"],[0.7777777777777778,\"#fb9f3a\"],[0.8888888888888888,\"#fdca26\"],[1.0,\"#f0f921\"]],\"diverging\":[[0,\"#8e0152\"],[0.1,\"#c51b7d\"],[0.2,\"#de77ae\"],[0.3,\"#f1b6da\"],[0.4,\"#fde0ef\"],[0.5,\"#f7f7f7\"],[0.6,\"#e6f5d0\"],[0.7,\"#b8e186\"],[0.8,\"#7fbc41\"],[0.9,\"#4d9221\"],[1,\"#276419\"]]},\"xaxis\":{\"gridcolor\":\"#283442\",\"linecolor\":\"#506784\",\"ticks\":\"\",\"title\":{\"standoff\":15},\"zerolinecolor\":\"#283442\",\"automargin\":true,\"zerolinewidth\":2},\"yaxis\":{\"gridcolor\":\"#283442\",\"linecolor\":\"#506784\",\"ticks\":\"\",\"title\":{\"standoff\":15},\"zerolinecolor\":\"#283442\",\"automargin\":true,\"zerolinewidth\":2},\"scene\":{\"xaxis\":{\"backgroundcolor\":\"rgb(17,17,17)\",\"gridcolor\":\"#506784\",\"linecolor\":\"#506784\",\"showbackground\":true,\"ticks\":\"\",\"zerolinecolor\":\"#C8D4E3\",\"gridwidth\":2},\"yaxis\":{\"backgroundcolor\":\"rgb(17,17,17)\",\"gridcolor\":\"#506784\",\"linecolor\":\"#506784\",\"showbackground\":true,\"ticks\":\"\",\"zerolinecolor\":\"#C8D4E3\",\"gridwidth\":2},\"zaxis\":{\"backgroundcolor\":\"rgb(17,17,17)\",\"gridcolor\":\"#506784\",\"linecolor\":\"#506784\",\"showbackground\":true,\"ticks\":\"\",\"zerolinecolor\":\"#C8D4E3\",\"gridwidth\":2}},\"shapedefaults\":{\"line\":{\"color\":\"#f2f5fa\"}},\"annotationdefaults\":{\"arrowcolor\":\"#f2f5fa\",\"arrowhead\":0,\"arrowwidth\":1},\"geo\":{\"bgcolor\":\"rgb(17,17,17)\",\"landcolor\":\"rgb(17,17,17)\",\"subunitcolor\":\"#506784\",\"showland\":true,\"showlakes\":true,\"lakecolor\":\"rgb(17,17,17)\"},\"title\":{\"x\":0.05},\"updatemenudefaults\":{\"bgcolor\":\"#506784\",\"borderwidth\":0},\"sliderdefaults\":{\"bgcolor\":\"#C8D4E3\",\"borderwidth\":1,\"bordercolor\":\"rgb(17,17,17)\",\"tickwidth\":0},\"mapbox\":{\"style\":\"dark\"}}},\"xaxis\":{\"anchor\":\"y\",\"domain\":[0.0,1.0],\"title\":{\"text\":\"area\"},\"categoryorder\":\"array\",\"categoryarray\":[\"\\u7f8e\\u56fd\",\"\\u65e5\\u672c\",\"\\u4e2d\\u56fd\\u5927\\u9646\",\"\\u9999\\u6e2f\",\"\\u6cd5\\u56fd\",\"\\u82f1\\u56fd\",\"\\u97e9\\u56fd\",\"\\u610f\\u5927\\u5229\",\"\\u5fb7\\u56fd\",\"\\u53f0\\u6e7e\",\"\\u52a0\\u62ff\\u5927\",\"\\u897f\\u73ed\\u7259\",\"\\u5370\\u5ea6\",\"\\u82cf\\u8054\",\"\\u6fb3\\u5927\\u5229\\u4e9a\"]},\"yaxis\":{\"anchor\":\"x\",\"domain\":[0.0,1.0],\"title\":{\"text\":\"Average_Rating\"}},\"legend\":{\"title\":{\"text\":\"area\"},\"tracegroupgap\":0,\"itemsizing\":\"constant\"},\"title\":{\"text\":\"\\u5404\\u5236\\u7247\\u5730\\u533a\\u7535\\u5f71\\u6570\\u548c\\u5e73\\u5747\\u8bc4\\u5206\"}},                        {\"responsive\": true}                    ).then(function(){\n                            \nvar gd = document.getElementById('f5b9adbc-9e1b-438b-9621-0a7ca3f14bb1');\nvar x = new MutationObserver(function (mutations, observer) {{\n        var display = window.getComputedStyle(gd).display;\n        if (!display || display === 'none') {{\n            console.log([gd, 'removed!']);\n            Plotly.purge(gd);\n            observer.disconnect();\n        }}\n}});\n\n// Listen for the removal of the full notebook cells\nvar notebookContainer = gd.closest('#notebook-container');\nif (notebookContainer) {{\n    x.observe(notebookContainer, {childList: true});\n}}\n\n// Listen for the clearing of the current output cell\nvar outputEl = gd.closest('.output');\nif (outputEl) {{\n    x.observe(outputEl, {childList: true});\n}}\n\n                        })                };                });            </script>        </div>"
     },
     "metadata": {},
     "output_type": "display_data"
    }
   ],
   "source": [
    "fig4 = px.scatter(countryNum_avergeRating[:15], x=\"area\", y=\"Average_Rating\", \n",
    "                  size=\"Num\", color = \"area\",\n",
    "                  hover_name=\"area\", title=\"各制片地区电影数和平均评分\")\n",
    "fig4.show()"
   ]
  },
  {
   "cell_type": "code",
   "execution_count": 40,
   "metadata": {
    "ExecuteTime": {
     "end_time": "2023-06-23T11:03:51.578549130Z",
     "start_time": "2023-06-23T11:03:51.240176665Z"
    }
   },
   "outputs": [
    {
     "data": {
      "text/plain": "         genre    Num\n0           剧情  17570\n1           喜剧   8462\n2           爱情   6083\n3           动作   4877\n4           惊悚   4472\n5           犯罪   3753\n6           恐怖   2758\n7           冒险   2578\n8           悬疑   2444\n9           动画   2228\n10          奇幻   2063\n11          科幻   1869\n12          家庭   1517\n13          战争   1389\n14          历史   1064\n15          传记    971\n16          音乐    877\n17          歌舞    685\n18          同性    678\n19          古装    557\n20          运动    435\n21          武侠    363\n22          情色    340\n23          西部    323\n24          儿童    229\n25        黑色电影    202\n26          灾难    133\n27          戏曲     87\n28        舞台艺术     68\n29         脱口秀     58\n30         真人秀     49\n31       Adult     36\n32          鬼怪     32\n33          惊栗     17\n34          悬念      5\n35          荒诞      5\n36         纪录片      3\n37   Talk-Show      2\n38  Reality-TV      2\n39      Comedy      1",
      "text/html": "<div>\n<style scoped>\n    .dataframe tbody tr th:only-of-type {\n        vertical-align: middle;\n    }\n\n    .dataframe tbody tr th {\n        vertical-align: top;\n    }\n\n    .dataframe thead th {\n        text-align: right;\n    }\n</style>\n<table border=\"1\" class=\"dataframe\">\n  <thead>\n    <tr style=\"text-align: right;\">\n      <th></th>\n      <th>genre</th>\n      <th>Num</th>\n    </tr>\n  </thead>\n  <tbody>\n    <tr>\n      <th>0</th>\n      <td>剧情</td>\n      <td>17570</td>\n    </tr>\n    <tr>\n      <th>1</th>\n      <td>喜剧</td>\n      <td>8462</td>\n    </tr>\n    <tr>\n      <th>2</th>\n      <td>爱情</td>\n      <td>6083</td>\n    </tr>\n    <tr>\n      <th>3</th>\n      <td>动作</td>\n      <td>4877</td>\n    </tr>\n    <tr>\n      <th>4</th>\n      <td>惊悚</td>\n      <td>4472</td>\n    </tr>\n    <tr>\n      <th>5</th>\n      <td>犯罪</td>\n      <td>3753</td>\n    </tr>\n    <tr>\n      <th>6</th>\n      <td>恐怖</td>\n      <td>2758</td>\n    </tr>\n    <tr>\n      <th>7</th>\n      <td>冒险</td>\n      <td>2578</td>\n    </tr>\n    <tr>\n      <th>8</th>\n      <td>悬疑</td>\n      <td>2444</td>\n    </tr>\n    <tr>\n      <th>9</th>\n      <td>动画</td>\n      <td>2228</td>\n    </tr>\n    <tr>\n      <th>10</th>\n      <td>奇幻</td>\n      <td>2063</td>\n    </tr>\n    <tr>\n      <th>11</th>\n      <td>科幻</td>\n      <td>1869</td>\n    </tr>\n    <tr>\n      <th>12</th>\n      <td>家庭</td>\n      <td>1517</td>\n    </tr>\n    <tr>\n      <th>13</th>\n      <td>战争</td>\n      <td>1389</td>\n    </tr>\n    <tr>\n      <th>14</th>\n      <td>历史</td>\n      <td>1064</td>\n    </tr>\n    <tr>\n      <th>15</th>\n      <td>传记</td>\n      <td>971</td>\n    </tr>\n    <tr>\n      <th>16</th>\n      <td>音乐</td>\n      <td>877</td>\n    </tr>\n    <tr>\n      <th>17</th>\n      <td>歌舞</td>\n      <td>685</td>\n    </tr>\n    <tr>\n      <th>18</th>\n      <td>同性</td>\n      <td>678</td>\n    </tr>\n    <tr>\n      <th>19</th>\n      <td>古装</td>\n      <td>557</td>\n    </tr>\n    <tr>\n      <th>20</th>\n      <td>运动</td>\n      <td>435</td>\n    </tr>\n    <tr>\n      <th>21</th>\n      <td>武侠</td>\n      <td>363</td>\n    </tr>\n    <tr>\n      <th>22</th>\n      <td>情色</td>\n      <td>340</td>\n    </tr>\n    <tr>\n      <th>23</th>\n      <td>西部</td>\n      <td>323</td>\n    </tr>\n    <tr>\n      <th>24</th>\n      <td>儿童</td>\n      <td>229</td>\n    </tr>\n    <tr>\n      <th>25</th>\n      <td>黑色电影</td>\n      <td>202</td>\n    </tr>\n    <tr>\n      <th>26</th>\n      <td>灾难</td>\n      <td>133</td>\n    </tr>\n    <tr>\n      <th>27</th>\n      <td>戏曲</td>\n      <td>87</td>\n    </tr>\n    <tr>\n      <th>28</th>\n      <td>舞台艺术</td>\n      <td>68</td>\n    </tr>\n    <tr>\n      <th>29</th>\n      <td>脱口秀</td>\n      <td>58</td>\n    </tr>\n    <tr>\n      <th>30</th>\n      <td>真人秀</td>\n      <td>49</td>\n    </tr>\n    <tr>\n      <th>31</th>\n      <td>Adult</td>\n      <td>36</td>\n    </tr>\n    <tr>\n      <th>32</th>\n      <td>鬼怪</td>\n      <td>32</td>\n    </tr>\n    <tr>\n      <th>33</th>\n      <td>惊栗</td>\n      <td>17</td>\n    </tr>\n    <tr>\n      <th>34</th>\n      <td>悬念</td>\n      <td>5</td>\n    </tr>\n    <tr>\n      <th>35</th>\n      <td>荒诞</td>\n      <td>5</td>\n    </tr>\n    <tr>\n      <th>36</th>\n      <td>纪录片</td>\n      <td>3</td>\n    </tr>\n    <tr>\n      <th>37</th>\n      <td>Talk-Show</td>\n      <td>2</td>\n    </tr>\n    <tr>\n      <th>38</th>\n      <td>Reality-TV</td>\n      <td>2</td>\n    </tr>\n    <tr>\n      <th>39</th>\n      <td>Comedy</td>\n      <td>1</td>\n    </tr>\n  </tbody>\n</table>\n</div>"
     },
     "execution_count": 40,
     "metadata": {},
     "output_type": "execute_result"
    }
   ],
   "source": [
    "genres_num_Sort = pd.read_csv(\"Output/genres_num_Sort.csv\", header=None)\n",
    "genres_num_Sort.columns = [\"genre\", \"Num\"]\n",
    "\n",
    "genres_num_Sort"
   ]
  },
  {
   "cell_type": "code",
   "execution_count": 41,
   "metadata": {
    "ExecuteTime": {
     "end_time": "2023-06-23T11:03:51.578902209Z",
     "start_time": "2023-06-23T11:03:51.282455645Z"
    }
   },
   "outputs": [
    {
     "data": {
      "application/vnd.plotly.v1+json": {
       "data": [
        {
         "alignmentgroup": "True",
         "hovertemplate": "genre=%{x}<br>Num=%{marker.color}<extra></extra>",
         "legendgroup": "",
         "marker": {
          "color": [
           17570,
           8462,
           6083,
           4877,
           4472,
           3753,
           2758,
           2578,
           2444,
           2228,
           2063,
           1869,
           1517,
           1389,
           1064,
           971,
           877,
           685,
           678,
           557,
           435,
           363,
           340,
           323,
           229,
           202,
           133,
           87,
           68,
           58,
           49,
           36,
           32,
           17,
           5,
           5,
           3,
           2,
           2,
           1
          ],
          "coloraxis": "coloraxis",
          "pattern": {
           "shape": ""
          }
         },
         "name": "",
         "offsetgroup": "",
         "orientation": "v",
         "showlegend": false,
         "textposition": "auto",
         "x": [
          "剧情",
          "喜剧",
          "爱情",
          "动作",
          "惊悚",
          "犯罪",
          "恐怖",
          "冒险",
          "悬疑",
          "动画",
          "奇幻",
          "科幻",
          "家庭",
          "战争",
          "历史",
          "传记",
          "音乐",
          "歌舞",
          "同性",
          "古装",
          "运动",
          "武侠",
          "情色",
          "西部",
          "儿童",
          "黑色电影",
          "灾难",
          "戏曲",
          "舞台艺术",
          "脱口秀",
          "真人秀",
          "Adult",
          "鬼怪",
          "惊栗",
          "悬念",
          "荒诞",
          "纪录片",
          "Talk-Show",
          "Reality-TV",
          "Comedy"
         ],
         "xaxis": "x",
         "y": [
          17570,
          8462,
          6083,
          4877,
          4472,
          3753,
          2758,
          2578,
          2444,
          2228,
          2063,
          1869,
          1517,
          1389,
          1064,
          971,
          877,
          685,
          678,
          557,
          435,
          363,
          340,
          323,
          229,
          202,
          133,
          87,
          68,
          58,
          49,
          36,
          32,
          17,
          5,
          5,
          3,
          2,
          2,
          1
         ],
         "yaxis": "y",
         "type": "bar"
        }
       ],
       "layout": {
        "template": {
         "data": {
          "histogram2dcontour": [
           {
            "type": "histogram2dcontour",
            "colorbar": {
             "outlinewidth": 0,
             "ticks": ""
            },
            "colorscale": [
             [
              0.0,
              "#0d0887"
             ],
             [
              0.1111111111111111,
              "#46039f"
             ],
             [
              0.2222222222222222,
              "#7201a8"
             ],
             [
              0.3333333333333333,
              "#9c179e"
             ],
             [
              0.4444444444444444,
              "#bd3786"
             ],
             [
              0.5555555555555556,
              "#d8576b"
             ],
             [
              0.6666666666666666,
              "#ed7953"
             ],
             [
              0.7777777777777778,
              "#fb9f3a"
             ],
             [
              0.8888888888888888,
              "#fdca26"
             ],
             [
              1.0,
              "#f0f921"
             ]
            ]
           }
          ],
          "choropleth": [
           {
            "type": "choropleth",
            "colorbar": {
             "outlinewidth": 0,
             "ticks": ""
            }
           }
          ],
          "histogram2d": [
           {
            "type": "histogram2d",
            "colorbar": {
             "outlinewidth": 0,
             "ticks": ""
            },
            "colorscale": [
             [
              0.0,
              "#0d0887"
             ],
             [
              0.1111111111111111,
              "#46039f"
             ],
             [
              0.2222222222222222,
              "#7201a8"
             ],
             [
              0.3333333333333333,
              "#9c179e"
             ],
             [
              0.4444444444444444,
              "#bd3786"
             ],
             [
              0.5555555555555556,
              "#d8576b"
             ],
             [
              0.6666666666666666,
              "#ed7953"
             ],
             [
              0.7777777777777778,
              "#fb9f3a"
             ],
             [
              0.8888888888888888,
              "#fdca26"
             ],
             [
              1.0,
              "#f0f921"
             ]
            ]
           }
          ],
          "heatmap": [
           {
            "type": "heatmap",
            "colorbar": {
             "outlinewidth": 0,
             "ticks": ""
            },
            "colorscale": [
             [
              0.0,
              "#0d0887"
             ],
             [
              0.1111111111111111,
              "#46039f"
             ],
             [
              0.2222222222222222,
              "#7201a8"
             ],
             [
              0.3333333333333333,
              "#9c179e"
             ],
             [
              0.4444444444444444,
              "#bd3786"
             ],
             [
              0.5555555555555556,
              "#d8576b"
             ],
             [
              0.6666666666666666,
              "#ed7953"
             ],
             [
              0.7777777777777778,
              "#fb9f3a"
             ],
             [
              0.8888888888888888,
              "#fdca26"
             ],
             [
              1.0,
              "#f0f921"
             ]
            ]
           }
          ],
          "heatmapgl": [
           {
            "type": "heatmapgl",
            "colorbar": {
             "outlinewidth": 0,
             "ticks": ""
            },
            "colorscale": [
             [
              0.0,
              "#0d0887"
             ],
             [
              0.1111111111111111,
              "#46039f"
             ],
             [
              0.2222222222222222,
              "#7201a8"
             ],
             [
              0.3333333333333333,
              "#9c179e"
             ],
             [
              0.4444444444444444,
              "#bd3786"
             ],
             [
              0.5555555555555556,
              "#d8576b"
             ],
             [
              0.6666666666666666,
              "#ed7953"
             ],
             [
              0.7777777777777778,
              "#fb9f3a"
             ],
             [
              0.8888888888888888,
              "#fdca26"
             ],
             [
              1.0,
              "#f0f921"
             ]
            ]
           }
          ],
          "contourcarpet": [
           {
            "type": "contourcarpet",
            "colorbar": {
             "outlinewidth": 0,
             "ticks": ""
            }
           }
          ],
          "contour": [
           {
            "type": "contour",
            "colorbar": {
             "outlinewidth": 0,
             "ticks": ""
            },
            "colorscale": [
             [
              0.0,
              "#0d0887"
             ],
             [
              0.1111111111111111,
              "#46039f"
             ],
             [
              0.2222222222222222,
              "#7201a8"
             ],
             [
              0.3333333333333333,
              "#9c179e"
             ],
             [
              0.4444444444444444,
              "#bd3786"
             ],
             [
              0.5555555555555556,
              "#d8576b"
             ],
             [
              0.6666666666666666,
              "#ed7953"
             ],
             [
              0.7777777777777778,
              "#fb9f3a"
             ],
             [
              0.8888888888888888,
              "#fdca26"
             ],
             [
              1.0,
              "#f0f921"
             ]
            ]
           }
          ],
          "surface": [
           {
            "type": "surface",
            "colorbar": {
             "outlinewidth": 0,
             "ticks": ""
            },
            "colorscale": [
             [
              0.0,
              "#0d0887"
             ],
             [
              0.1111111111111111,
              "#46039f"
             ],
             [
              0.2222222222222222,
              "#7201a8"
             ],
             [
              0.3333333333333333,
              "#9c179e"
             ],
             [
              0.4444444444444444,
              "#bd3786"
             ],
             [
              0.5555555555555556,
              "#d8576b"
             ],
             [
              0.6666666666666666,
              "#ed7953"
             ],
             [
              0.7777777777777778,
              "#fb9f3a"
             ],
             [
              0.8888888888888888,
              "#fdca26"
             ],
             [
              1.0,
              "#f0f921"
             ]
            ]
           }
          ],
          "mesh3d": [
           {
            "type": "mesh3d",
            "colorbar": {
             "outlinewidth": 0,
             "ticks": ""
            }
           }
          ],
          "scatter": [
           {
            "marker": {
             "line": {
              "color": "#283442"
             }
            },
            "type": "scatter"
           }
          ],
          "parcoords": [
           {
            "type": "parcoords",
            "line": {
             "colorbar": {
              "outlinewidth": 0,
              "ticks": ""
             }
            }
           }
          ],
          "scatterpolargl": [
           {
            "type": "scatterpolargl",
            "marker": {
             "colorbar": {
              "outlinewidth": 0,
              "ticks": ""
             }
            }
           }
          ],
          "bar": [
           {
            "error_x": {
             "color": "#f2f5fa"
            },
            "error_y": {
             "color": "#f2f5fa"
            },
            "marker": {
             "line": {
              "color": "rgb(17,17,17)",
              "width": 0.5
             },
             "pattern": {
              "fillmode": "overlay",
              "size": 10,
              "solidity": 0.2
             }
            },
            "type": "bar"
           }
          ],
          "scattergeo": [
           {
            "type": "scattergeo",
            "marker": {
             "colorbar": {
              "outlinewidth": 0,
              "ticks": ""
             }
            }
           }
          ],
          "scatterpolar": [
           {
            "type": "scatterpolar",
            "marker": {
             "colorbar": {
              "outlinewidth": 0,
              "ticks": ""
             }
            }
           }
          ],
          "histogram": [
           {
            "marker": {
             "pattern": {
              "fillmode": "overlay",
              "size": 10,
              "solidity": 0.2
             }
            },
            "type": "histogram"
           }
          ],
          "scattergl": [
           {
            "marker": {
             "line": {
              "color": "#283442"
             }
            },
            "type": "scattergl"
           }
          ],
          "scatter3d": [
           {
            "type": "scatter3d",
            "line": {
             "colorbar": {
              "outlinewidth": 0,
              "ticks": ""
             }
            },
            "marker": {
             "colorbar": {
              "outlinewidth": 0,
              "ticks": ""
             }
            }
           }
          ],
          "scattermapbox": [
           {
            "type": "scattermapbox",
            "marker": {
             "colorbar": {
              "outlinewidth": 0,
              "ticks": ""
             }
            }
           }
          ],
          "scatterternary": [
           {
            "type": "scatterternary",
            "marker": {
             "colorbar": {
              "outlinewidth": 0,
              "ticks": ""
             }
            }
           }
          ],
          "scattercarpet": [
           {
            "type": "scattercarpet",
            "marker": {
             "colorbar": {
              "outlinewidth": 0,
              "ticks": ""
             }
            }
           }
          ],
          "carpet": [
           {
            "aaxis": {
             "endlinecolor": "#A2B1C6",
             "gridcolor": "#506784",
             "linecolor": "#506784",
             "minorgridcolor": "#506784",
             "startlinecolor": "#A2B1C6"
            },
            "baxis": {
             "endlinecolor": "#A2B1C6",
             "gridcolor": "#506784",
             "linecolor": "#506784",
             "minorgridcolor": "#506784",
             "startlinecolor": "#A2B1C6"
            },
            "type": "carpet"
           }
          ],
          "table": [
           {
            "cells": {
             "fill": {
              "color": "#506784"
             },
             "line": {
              "color": "rgb(17,17,17)"
             }
            },
            "header": {
             "fill": {
              "color": "#2a3f5f"
             },
             "line": {
              "color": "rgb(17,17,17)"
             }
            },
            "type": "table"
           }
          ],
          "barpolar": [
           {
            "marker": {
             "line": {
              "color": "rgb(17,17,17)",
              "width": 0.5
             },
             "pattern": {
              "fillmode": "overlay",
              "size": 10,
              "solidity": 0.2
             }
            },
            "type": "barpolar"
           }
          ],
          "pie": [
           {
            "automargin": true,
            "type": "pie"
           }
          ]
         },
         "layout": {
          "autotypenumbers": "strict",
          "colorway": [
           "#636efa",
           "#EF553B",
           "#00cc96",
           "#ab63fa",
           "#FFA15A",
           "#19d3f3",
           "#FF6692",
           "#B6E880",
           "#FF97FF",
           "#FECB52"
          ],
          "font": {
           "color": "#f2f5fa"
          },
          "hovermode": "closest",
          "hoverlabel": {
           "align": "left"
          },
          "paper_bgcolor": "rgb(17,17,17)",
          "plot_bgcolor": "rgb(17,17,17)",
          "polar": {
           "bgcolor": "rgb(17,17,17)",
           "angularaxis": {
            "gridcolor": "#506784",
            "linecolor": "#506784",
            "ticks": ""
           },
           "radialaxis": {
            "gridcolor": "#506784",
            "linecolor": "#506784",
            "ticks": ""
           }
          },
          "ternary": {
           "bgcolor": "rgb(17,17,17)",
           "aaxis": {
            "gridcolor": "#506784",
            "linecolor": "#506784",
            "ticks": ""
           },
           "baxis": {
            "gridcolor": "#506784",
            "linecolor": "#506784",
            "ticks": ""
           },
           "caxis": {
            "gridcolor": "#506784",
            "linecolor": "#506784",
            "ticks": ""
           }
          },
          "coloraxis": {
           "colorbar": {
            "outlinewidth": 0,
            "ticks": ""
           }
          },
          "colorscale": {
           "sequential": [
            [
             0.0,
             "#0d0887"
            ],
            [
             0.1111111111111111,
             "#46039f"
            ],
            [
             0.2222222222222222,
             "#7201a8"
            ],
            [
             0.3333333333333333,
             "#9c179e"
            ],
            [
             0.4444444444444444,
             "#bd3786"
            ],
            [
             0.5555555555555556,
             "#d8576b"
            ],
            [
             0.6666666666666666,
             "#ed7953"
            ],
            [
             0.7777777777777778,
             "#fb9f3a"
            ],
            [
             0.8888888888888888,
             "#fdca26"
            ],
            [
             1.0,
             "#f0f921"
            ]
           ],
           "sequentialminus": [
            [
             0.0,
             "#0d0887"
            ],
            [
             0.1111111111111111,
             "#46039f"
            ],
            [
             0.2222222222222222,
             "#7201a8"
            ],
            [
             0.3333333333333333,
             "#9c179e"
            ],
            [
             0.4444444444444444,
             "#bd3786"
            ],
            [
             0.5555555555555556,
             "#d8576b"
            ],
            [
             0.6666666666666666,
             "#ed7953"
            ],
            [
             0.7777777777777778,
             "#fb9f3a"
            ],
            [
             0.8888888888888888,
             "#fdca26"
            ],
            [
             1.0,
             "#f0f921"
            ]
           ],
           "diverging": [
            [
             0,
             "#8e0152"
            ],
            [
             0.1,
             "#c51b7d"
            ],
            [
             0.2,
             "#de77ae"
            ],
            [
             0.3,
             "#f1b6da"
            ],
            [
             0.4,
             "#fde0ef"
            ],
            [
             0.5,
             "#f7f7f7"
            ],
            [
             0.6,
             "#e6f5d0"
            ],
            [
             0.7,
             "#b8e186"
            ],
            [
             0.8,
             "#7fbc41"
            ],
            [
             0.9,
             "#4d9221"
            ],
            [
             1,
             "#276419"
            ]
           ]
          },
          "xaxis": {
           "gridcolor": "#283442",
           "linecolor": "#506784",
           "ticks": "",
           "title": {
            "standoff": 15
           },
           "zerolinecolor": "#283442",
           "automargin": true,
           "zerolinewidth": 2
          },
          "yaxis": {
           "gridcolor": "#283442",
           "linecolor": "#506784",
           "ticks": "",
           "title": {
            "standoff": 15
           },
           "zerolinecolor": "#283442",
           "automargin": true,
           "zerolinewidth": 2
          },
          "scene": {
           "xaxis": {
            "backgroundcolor": "rgb(17,17,17)",
            "gridcolor": "#506784",
            "linecolor": "#506784",
            "showbackground": true,
            "ticks": "",
            "zerolinecolor": "#C8D4E3",
            "gridwidth": 2
           },
           "yaxis": {
            "backgroundcolor": "rgb(17,17,17)",
            "gridcolor": "#506784",
            "linecolor": "#506784",
            "showbackground": true,
            "ticks": "",
            "zerolinecolor": "#C8D4E3",
            "gridwidth": 2
           },
           "zaxis": {
            "backgroundcolor": "rgb(17,17,17)",
            "gridcolor": "#506784",
            "linecolor": "#506784",
            "showbackground": true,
            "ticks": "",
            "zerolinecolor": "#C8D4E3",
            "gridwidth": 2
           }
          },
          "shapedefaults": {
           "line": {
            "color": "#f2f5fa"
           }
          },
          "annotationdefaults": {
           "arrowcolor": "#f2f5fa",
           "arrowhead": 0,
           "arrowwidth": 1
          },
          "geo": {
           "bgcolor": "rgb(17,17,17)",
           "landcolor": "rgb(17,17,17)",
           "subunitcolor": "#506784",
           "showland": true,
           "showlakes": true,
           "lakecolor": "rgb(17,17,17)"
          },
          "title": {
           "x": 0.05
          },
          "updatemenudefaults": {
           "bgcolor": "#506784",
           "borderwidth": 0
          },
          "sliderdefaults": {
           "bgcolor": "#C8D4E3",
           "borderwidth": 1,
           "bordercolor": "rgb(17,17,17)",
           "tickwidth": 0
          },
          "mapbox": {
           "style": "dark"
          }
         }
        },
        "xaxis": {
         "anchor": "y",
         "domain": [
          0.0,
          1.0
         ],
         "title": {
          "text": "genre"
         }
        },
        "yaxis": {
         "anchor": "x",
         "domain": [
          0.0,
          1.0
         ],
         "title": {
          "text": "Num"
         }
        },
        "coloraxis": {
         "colorbar": {
          "title": {
           "text": "Num"
          }
         },
         "colorscale": [
          [
           0.0,
           "#0d0887"
          ],
          [
           0.1111111111111111,
           "#46039f"
          ],
          [
           0.2222222222222222,
           "#7201a8"
          ],
          [
           0.3333333333333333,
           "#9c179e"
          ],
          [
           0.4444444444444444,
           "#bd3786"
          ],
          [
           0.5555555555555556,
           "#d8576b"
          ],
          [
           0.6666666666666666,
           "#ed7953"
          ],
          [
           0.7777777777777778,
           "#fb9f3a"
          ],
          [
           0.8888888888888888,
           "#fdca26"
          ],
          [
           1.0,
           "#f0f921"
          ]
         ]
        },
        "legend": {
         "tracegroupgap": 0
        },
        "title": {
         "text": "各类型电影数"
        },
        "barmode": "relative"
       },
       "config": {
        "plotlyServerURL": "https://plot.ly"
       }
      },
      "text/html": "<div>                            <div id=\"4425aa9a-06ad-4257-8539-70b8ae7802b2\" class=\"plotly-graph-div\" style=\"height:525px; width:100%;\"></div>            <script type=\"text/javascript\">                require([\"plotly\"], function(Plotly) {                    window.PLOTLYENV=window.PLOTLYENV || {};                                    if (document.getElementById(\"4425aa9a-06ad-4257-8539-70b8ae7802b2\")) {                    Plotly.newPlot(                        \"4425aa9a-06ad-4257-8539-70b8ae7802b2\",                        [{\"alignmentgroup\":\"True\",\"hovertemplate\":\"genre=%{x}\\u003cbr\\u003eNum=%{marker.color}\\u003cextra\\u003e\\u003c\\u002fextra\\u003e\",\"legendgroup\":\"\",\"marker\":{\"color\":[17570,8462,6083,4877,4472,3753,2758,2578,2444,2228,2063,1869,1517,1389,1064,971,877,685,678,557,435,363,340,323,229,202,133,87,68,58,49,36,32,17,5,5,3,2,2,1],\"coloraxis\":\"coloraxis\",\"pattern\":{\"shape\":\"\"}},\"name\":\"\",\"offsetgroup\":\"\",\"orientation\":\"v\",\"showlegend\":false,\"textposition\":\"auto\",\"x\":[\"\\u5267\\u60c5\",\"\\u559c\\u5267\",\"\\u7231\\u60c5\",\"\\u52a8\\u4f5c\",\"\\u60ca\\u609a\",\"\\u72af\\u7f6a\",\"\\u6050\\u6016\",\"\\u5192\\u9669\",\"\\u60ac\\u7591\",\"\\u52a8\\u753b\",\"\\u5947\\u5e7b\",\"\\u79d1\\u5e7b\",\"\\u5bb6\\u5ead\",\"\\u6218\\u4e89\",\"\\u5386\\u53f2\",\"\\u4f20\\u8bb0\",\"\\u97f3\\u4e50\",\"\\u6b4c\\u821e\",\"\\u540c\\u6027\",\"\\u53e4\\u88c5\",\"\\u8fd0\\u52a8\",\"\\u6b66\\u4fa0\",\"\\u60c5\\u8272\",\"\\u897f\\u90e8\",\"\\u513f\\u7ae5\",\"\\u9ed1\\u8272\\u7535\\u5f71\",\"\\u707e\\u96be\",\"\\u620f\\u66f2\",\"\\u821e\\u53f0\\u827a\\u672f\",\"\\u8131\\u53e3\\u79c0\",\"\\u771f\\u4eba\\u79c0\",\"Adult\",\"\\u9b3c\\u602a\",\"\\u60ca\\u6817\",\"\\u60ac\\u5ff5\",\"\\u8352\\u8bde\",\"\\u7eaa\\u5f55\\u7247\",\"Talk-Show\",\"Reality-TV\",\"Comedy\"],\"xaxis\":\"x\",\"y\":[17570,8462,6083,4877,4472,3753,2758,2578,2444,2228,2063,1869,1517,1389,1064,971,877,685,678,557,435,363,340,323,229,202,133,87,68,58,49,36,32,17,5,5,3,2,2,1],\"yaxis\":\"y\",\"type\":\"bar\"}],                        {\"template\":{\"data\":{\"histogram2dcontour\":[{\"type\":\"histogram2dcontour\",\"colorbar\":{\"outlinewidth\":0,\"ticks\":\"\"},\"colorscale\":[[0.0,\"#0d0887\"],[0.1111111111111111,\"#46039f\"],[0.2222222222222222,\"#7201a8\"],[0.3333333333333333,\"#9c179e\"],[0.4444444444444444,\"#bd3786\"],[0.5555555555555556,\"#d8576b\"],[0.6666666666666666,\"#ed7953\"],[0.7777777777777778,\"#fb9f3a\"],[0.8888888888888888,\"#fdca26\"],[1.0,\"#f0f921\"]]}],\"choropleth\":[{\"type\":\"choropleth\",\"colorbar\":{\"outlinewidth\":0,\"ticks\":\"\"}}],\"histogram2d\":[{\"type\":\"histogram2d\",\"colorbar\":{\"outlinewidth\":0,\"ticks\":\"\"},\"colorscale\":[[0.0,\"#0d0887\"],[0.1111111111111111,\"#46039f\"],[0.2222222222222222,\"#7201a8\"],[0.3333333333333333,\"#9c179e\"],[0.4444444444444444,\"#bd3786\"],[0.5555555555555556,\"#d8576b\"],[0.6666666666666666,\"#ed7953\"],[0.7777777777777778,\"#fb9f3a\"],[0.8888888888888888,\"#fdca26\"],[1.0,\"#f0f921\"]]}],\"heatmap\":[{\"type\":\"heatmap\",\"colorbar\":{\"outlinewidth\":0,\"ticks\":\"\"},\"colorscale\":[[0.0,\"#0d0887\"],[0.1111111111111111,\"#46039f\"],[0.2222222222222222,\"#7201a8\"],[0.3333333333333333,\"#9c179e\"],[0.4444444444444444,\"#bd3786\"],[0.5555555555555556,\"#d8576b\"],[0.6666666666666666,\"#ed7953\"],[0.7777777777777778,\"#fb9f3a\"],[0.8888888888888888,\"#fdca26\"],[1.0,\"#f0f921\"]]}],\"heatmapgl\":[{\"type\":\"heatmapgl\",\"colorbar\":{\"outlinewidth\":0,\"ticks\":\"\"},\"colorscale\":[[0.0,\"#0d0887\"],[0.1111111111111111,\"#46039f\"],[0.2222222222222222,\"#7201a8\"],[0.3333333333333333,\"#9c179e\"],[0.4444444444444444,\"#bd3786\"],[0.5555555555555556,\"#d8576b\"],[0.6666666666666666,\"#ed7953\"],[0.7777777777777778,\"#fb9f3a\"],[0.8888888888888888,\"#fdca26\"],[1.0,\"#f0f921\"]]}],\"contourcarpet\":[{\"type\":\"contourcarpet\",\"colorbar\":{\"outlinewidth\":0,\"ticks\":\"\"}}],\"contour\":[{\"type\":\"contour\",\"colorbar\":{\"outlinewidth\":0,\"ticks\":\"\"},\"colorscale\":[[0.0,\"#0d0887\"],[0.1111111111111111,\"#46039f\"],[0.2222222222222222,\"#7201a8\"],[0.3333333333333333,\"#9c179e\"],[0.4444444444444444,\"#bd3786\"],[0.5555555555555556,\"#d8576b\"],[0.6666666666666666,\"#ed7953\"],[0.7777777777777778,\"#fb9f3a\"],[0.8888888888888888,\"#fdca26\"],[1.0,\"#f0f921\"]]}],\"surface\":[{\"type\":\"surface\",\"colorbar\":{\"outlinewidth\":0,\"ticks\":\"\"},\"colorscale\":[[0.0,\"#0d0887\"],[0.1111111111111111,\"#46039f\"],[0.2222222222222222,\"#7201a8\"],[0.3333333333333333,\"#9c179e\"],[0.4444444444444444,\"#bd3786\"],[0.5555555555555556,\"#d8576b\"],[0.6666666666666666,\"#ed7953\"],[0.7777777777777778,\"#fb9f3a\"],[0.8888888888888888,\"#fdca26\"],[1.0,\"#f0f921\"]]}],\"mesh3d\":[{\"type\":\"mesh3d\",\"colorbar\":{\"outlinewidth\":0,\"ticks\":\"\"}}],\"scatter\":[{\"marker\":{\"line\":{\"color\":\"#283442\"}},\"type\":\"scatter\"}],\"parcoords\":[{\"type\":\"parcoords\",\"line\":{\"colorbar\":{\"outlinewidth\":0,\"ticks\":\"\"}}}],\"scatterpolargl\":[{\"type\":\"scatterpolargl\",\"marker\":{\"colorbar\":{\"outlinewidth\":0,\"ticks\":\"\"}}}],\"bar\":[{\"error_x\":{\"color\":\"#f2f5fa\"},\"error_y\":{\"color\":\"#f2f5fa\"},\"marker\":{\"line\":{\"color\":\"rgb(17,17,17)\",\"width\":0.5},\"pattern\":{\"fillmode\":\"overlay\",\"size\":10,\"solidity\":0.2}},\"type\":\"bar\"}],\"scattergeo\":[{\"type\":\"scattergeo\",\"marker\":{\"colorbar\":{\"outlinewidth\":0,\"ticks\":\"\"}}}],\"scatterpolar\":[{\"type\":\"scatterpolar\",\"marker\":{\"colorbar\":{\"outlinewidth\":0,\"ticks\":\"\"}}}],\"histogram\":[{\"marker\":{\"pattern\":{\"fillmode\":\"overlay\",\"size\":10,\"solidity\":0.2}},\"type\":\"histogram\"}],\"scattergl\":[{\"marker\":{\"line\":{\"color\":\"#283442\"}},\"type\":\"scattergl\"}],\"scatter3d\":[{\"type\":\"scatter3d\",\"line\":{\"colorbar\":{\"outlinewidth\":0,\"ticks\":\"\"}},\"marker\":{\"colorbar\":{\"outlinewidth\":0,\"ticks\":\"\"}}}],\"scattermapbox\":[{\"type\":\"scattermapbox\",\"marker\":{\"colorbar\":{\"outlinewidth\":0,\"ticks\":\"\"}}}],\"scatterternary\":[{\"type\":\"scatterternary\",\"marker\":{\"colorbar\":{\"outlinewidth\":0,\"ticks\":\"\"}}}],\"scattercarpet\":[{\"type\":\"scattercarpet\",\"marker\":{\"colorbar\":{\"outlinewidth\":0,\"ticks\":\"\"}}}],\"carpet\":[{\"aaxis\":{\"endlinecolor\":\"#A2B1C6\",\"gridcolor\":\"#506784\",\"linecolor\":\"#506784\",\"minorgridcolor\":\"#506784\",\"startlinecolor\":\"#A2B1C6\"},\"baxis\":{\"endlinecolor\":\"#A2B1C6\",\"gridcolor\":\"#506784\",\"linecolor\":\"#506784\",\"minorgridcolor\":\"#506784\",\"startlinecolor\":\"#A2B1C6\"},\"type\":\"carpet\"}],\"table\":[{\"cells\":{\"fill\":{\"color\":\"#506784\"},\"line\":{\"color\":\"rgb(17,17,17)\"}},\"header\":{\"fill\":{\"color\":\"#2a3f5f\"},\"line\":{\"color\":\"rgb(17,17,17)\"}},\"type\":\"table\"}],\"barpolar\":[{\"marker\":{\"line\":{\"color\":\"rgb(17,17,17)\",\"width\":0.5},\"pattern\":{\"fillmode\":\"overlay\",\"size\":10,\"solidity\":0.2}},\"type\":\"barpolar\"}],\"pie\":[{\"automargin\":true,\"type\":\"pie\"}]},\"layout\":{\"autotypenumbers\":\"strict\",\"colorway\":[\"#636efa\",\"#EF553B\",\"#00cc96\",\"#ab63fa\",\"#FFA15A\",\"#19d3f3\",\"#FF6692\",\"#B6E880\",\"#FF97FF\",\"#FECB52\"],\"font\":{\"color\":\"#f2f5fa\"},\"hovermode\":\"closest\",\"hoverlabel\":{\"align\":\"left\"},\"paper_bgcolor\":\"rgb(17,17,17)\",\"plot_bgcolor\":\"rgb(17,17,17)\",\"polar\":{\"bgcolor\":\"rgb(17,17,17)\",\"angularaxis\":{\"gridcolor\":\"#506784\",\"linecolor\":\"#506784\",\"ticks\":\"\"},\"radialaxis\":{\"gridcolor\":\"#506784\",\"linecolor\":\"#506784\",\"ticks\":\"\"}},\"ternary\":{\"bgcolor\":\"rgb(17,17,17)\",\"aaxis\":{\"gridcolor\":\"#506784\",\"linecolor\":\"#506784\",\"ticks\":\"\"},\"baxis\":{\"gridcolor\":\"#506784\",\"linecolor\":\"#506784\",\"ticks\":\"\"},\"caxis\":{\"gridcolor\":\"#506784\",\"linecolor\":\"#506784\",\"ticks\":\"\"}},\"coloraxis\":{\"colorbar\":{\"outlinewidth\":0,\"ticks\":\"\"}},\"colorscale\":{\"sequential\":[[0.0,\"#0d0887\"],[0.1111111111111111,\"#46039f\"],[0.2222222222222222,\"#7201a8\"],[0.3333333333333333,\"#9c179e\"],[0.4444444444444444,\"#bd3786\"],[0.5555555555555556,\"#d8576b\"],[0.6666666666666666,\"#ed7953\"],[0.7777777777777778,\"#fb9f3a\"],[0.8888888888888888,\"#fdca26\"],[1.0,\"#f0f921\"]],\"sequentialminus\":[[0.0,\"#0d0887\"],[0.1111111111111111,\"#46039f\"],[0.2222222222222222,\"#7201a8\"],[0.3333333333333333,\"#9c179e\"],[0.4444444444444444,\"#bd3786\"],[0.5555555555555556,\"#d8576b\"],[0.6666666666666666,\"#ed7953\"],[0.7777777777777778,\"#fb9f3a\"],[0.8888888888888888,\"#fdca26\"],[1.0,\"#f0f921\"]],\"diverging\":[[0,\"#8e0152\"],[0.1,\"#c51b7d\"],[0.2,\"#de77ae\"],[0.3,\"#f1b6da\"],[0.4,\"#fde0ef\"],[0.5,\"#f7f7f7\"],[0.6,\"#e6f5d0\"],[0.7,\"#b8e186\"],[0.8,\"#7fbc41\"],[0.9,\"#4d9221\"],[1,\"#276419\"]]},\"xaxis\":{\"gridcolor\":\"#283442\",\"linecolor\":\"#506784\",\"ticks\":\"\",\"title\":{\"standoff\":15},\"zerolinecolor\":\"#283442\",\"automargin\":true,\"zerolinewidth\":2},\"yaxis\":{\"gridcolor\":\"#283442\",\"linecolor\":\"#506784\",\"ticks\":\"\",\"title\":{\"standoff\":15},\"zerolinecolor\":\"#283442\",\"automargin\":true,\"zerolinewidth\":2},\"scene\":{\"xaxis\":{\"backgroundcolor\":\"rgb(17,17,17)\",\"gridcolor\":\"#506784\",\"linecolor\":\"#506784\",\"showbackground\":true,\"ticks\":\"\",\"zerolinecolor\":\"#C8D4E3\",\"gridwidth\":2},\"yaxis\":{\"backgroundcolor\":\"rgb(17,17,17)\",\"gridcolor\":\"#506784\",\"linecolor\":\"#506784\",\"showbackground\":true,\"ticks\":\"\",\"zerolinecolor\":\"#C8D4E3\",\"gridwidth\":2},\"zaxis\":{\"backgroundcolor\":\"rgb(17,17,17)\",\"gridcolor\":\"#506784\",\"linecolor\":\"#506784\",\"showbackground\":true,\"ticks\":\"\",\"zerolinecolor\":\"#C8D4E3\",\"gridwidth\":2}},\"shapedefaults\":{\"line\":{\"color\":\"#f2f5fa\"}},\"annotationdefaults\":{\"arrowcolor\":\"#f2f5fa\",\"arrowhead\":0,\"arrowwidth\":1},\"geo\":{\"bgcolor\":\"rgb(17,17,17)\",\"landcolor\":\"rgb(17,17,17)\",\"subunitcolor\":\"#506784\",\"showland\":true,\"showlakes\":true,\"lakecolor\":\"rgb(17,17,17)\"},\"title\":{\"x\":0.05},\"updatemenudefaults\":{\"bgcolor\":\"#506784\",\"borderwidth\":0},\"sliderdefaults\":{\"bgcolor\":\"#C8D4E3\",\"borderwidth\":1,\"bordercolor\":\"rgb(17,17,17)\",\"tickwidth\":0},\"mapbox\":{\"style\":\"dark\"}}},\"xaxis\":{\"anchor\":\"y\",\"domain\":[0.0,1.0],\"title\":{\"text\":\"genre\"}},\"yaxis\":{\"anchor\":\"x\",\"domain\":[0.0,1.0],\"title\":{\"text\":\"Num\"}},\"coloraxis\":{\"colorbar\":{\"title\":{\"text\":\"Num\"}},\"colorscale\":[[0.0,\"#0d0887\"],[0.1111111111111111,\"#46039f\"],[0.2222222222222222,\"#7201a8\"],[0.3333333333333333,\"#9c179e\"],[0.4444444444444444,\"#bd3786\"],[0.5555555555555556,\"#d8576b\"],[0.6666666666666666,\"#ed7953\"],[0.7777777777777778,\"#fb9f3a\"],[0.8888888888888888,\"#fdca26\"],[1.0,\"#f0f921\"]]},\"legend\":{\"tracegroupgap\":0},\"title\":{\"text\":\"\\u5404\\u7c7b\\u578b\\u7535\\u5f71\\u6570\"},\"barmode\":\"relative\"},                        {\"responsive\": true}                    ).then(function(){\n                            \nvar gd = document.getElementById('4425aa9a-06ad-4257-8539-70b8ae7802b2');\nvar x = new MutationObserver(function (mutations, observer) {{\n        var display = window.getComputedStyle(gd).display;\n        if (!display || display === 'none') {{\n            console.log([gd, 'removed!']);\n            Plotly.purge(gd);\n            observer.disconnect();\n        }}\n}});\n\n// Listen for the removal of the full notebook cells\nvar notebookContainer = gd.closest('#notebook-container');\nif (notebookContainer) {{\n    x.observe(notebookContainer, {childList: true});\n}}\n\n// Listen for the clearing of the current output cell\nvar outputEl = gd.closest('.output');\nif (outputEl) {{\n    x.observe(outputEl, {childList: true});\n}}\n\n                        })                };                });            </script>        </div>"
     },
     "metadata": {},
     "output_type": "display_data"
    }
   ],
   "source": [
    "fig5 = px.bar(genres_num_Sort,\n",
    "              x = \"genre\",\n",
    "              y = \"Num\", \n",
    "              title = \"各类型电影数\",\n",
    "              color='Num'\n",
    "             )\n",
    "fig5.show()"
   ]
  },
  {
   "cell_type": "code",
   "execution_count": 42,
   "metadata": {
    "ExecuteTime": {
     "end_time": "2023-06-23T11:03:51.579051927Z",
     "start_time": "2023-06-23T11:03:51.290252556Z"
    }
   },
   "outputs": [
    {
     "data": {
      "text/plain": "         genre  Average_Rating\n0    Talk-Show        9.000000\n1         舞台艺术        8.536765\n2          纪录片        8.500000\n3          脱口秀        8.434483\n4           戏曲        8.244828\n5           荒诞        8.060000\n6           音乐        7.756670\n7           动画        7.556777\n8           传记        7.491040\n9           歌舞        7.423942\n10          历史        7.403289\n11          家庭        7.402307\n12          运动        7.327816\n13          儿童        7.321834\n14          战争        7.307271\n15         真人秀        7.302041\n16          悬念        7.280000\n17          西部        7.207430\n18        黑色电影        7.194059\n19          剧情        7.193278\n20          同性        7.071091\n21          冒险        6.979092\n22          犯罪        6.971196\n23          爱情        6.946523\n24          喜剧        6.936965\n25          奇幻        6.915996\n26          悬疑        6.881301\n27          科幻        6.724773\n28      Comedy        6.700000\n29          古装        6.663914\n30          武侠        6.645455\n31          惊悚        6.578198\n32          灾难        6.576692\n33          惊栗        6.564706\n34          动作        6.538897\n35          鬼怪        6.371875\n36          恐怖        6.109971\n37          情色        6.041471\n38       Adult        5.947222\n39  Reality-TV        5.800000",
      "text/html": "<div>\n<style scoped>\n    .dataframe tbody tr th:only-of-type {\n        vertical-align: middle;\n    }\n\n    .dataframe tbody tr th {\n        vertical-align: top;\n    }\n\n    .dataframe thead th {\n        text-align: right;\n    }\n</style>\n<table border=\"1\" class=\"dataframe\">\n  <thead>\n    <tr style=\"text-align: right;\">\n      <th></th>\n      <th>genre</th>\n      <th>Average_Rating</th>\n    </tr>\n  </thead>\n  <tbody>\n    <tr>\n      <th>0</th>\n      <td>Talk-Show</td>\n      <td>9.000000</td>\n    </tr>\n    <tr>\n      <th>1</th>\n      <td>舞台艺术</td>\n      <td>8.536765</td>\n    </tr>\n    <tr>\n      <th>2</th>\n      <td>纪录片</td>\n      <td>8.500000</td>\n    </tr>\n    <tr>\n      <th>3</th>\n      <td>脱口秀</td>\n      <td>8.434483</td>\n    </tr>\n    <tr>\n      <th>4</th>\n      <td>戏曲</td>\n      <td>8.244828</td>\n    </tr>\n    <tr>\n      <th>5</th>\n      <td>荒诞</td>\n      <td>8.060000</td>\n    </tr>\n    <tr>\n      <th>6</th>\n      <td>音乐</td>\n      <td>7.756670</td>\n    </tr>\n    <tr>\n      <th>7</th>\n      <td>动画</td>\n      <td>7.556777</td>\n    </tr>\n    <tr>\n      <th>8</th>\n      <td>传记</td>\n      <td>7.491040</td>\n    </tr>\n    <tr>\n      <th>9</th>\n      <td>歌舞</td>\n      <td>7.423942</td>\n    </tr>\n    <tr>\n      <th>10</th>\n      <td>历史</td>\n      <td>7.403289</td>\n    </tr>\n    <tr>\n      <th>11</th>\n      <td>家庭</td>\n      <td>7.402307</td>\n    </tr>\n    <tr>\n      <th>12</th>\n      <td>运动</td>\n      <td>7.327816</td>\n    </tr>\n    <tr>\n      <th>13</th>\n      <td>儿童</td>\n      <td>7.321834</td>\n    </tr>\n    <tr>\n      <th>14</th>\n      <td>战争</td>\n      <td>7.307271</td>\n    </tr>\n    <tr>\n      <th>15</th>\n      <td>真人秀</td>\n      <td>7.302041</td>\n    </tr>\n    <tr>\n      <th>16</th>\n      <td>悬念</td>\n      <td>7.280000</td>\n    </tr>\n    <tr>\n      <th>17</th>\n      <td>西部</td>\n      <td>7.207430</td>\n    </tr>\n    <tr>\n      <th>18</th>\n      <td>黑色电影</td>\n      <td>7.194059</td>\n    </tr>\n    <tr>\n      <th>19</th>\n      <td>剧情</td>\n      <td>7.193278</td>\n    </tr>\n    <tr>\n      <th>20</th>\n      <td>同性</td>\n      <td>7.071091</td>\n    </tr>\n    <tr>\n      <th>21</th>\n      <td>冒险</td>\n      <td>6.979092</td>\n    </tr>\n    <tr>\n      <th>22</th>\n      <td>犯罪</td>\n      <td>6.971196</td>\n    </tr>\n    <tr>\n      <th>23</th>\n      <td>爱情</td>\n      <td>6.946523</td>\n    </tr>\n    <tr>\n      <th>24</th>\n      <td>喜剧</td>\n      <td>6.936965</td>\n    </tr>\n    <tr>\n      <th>25</th>\n      <td>奇幻</td>\n      <td>6.915996</td>\n    </tr>\n    <tr>\n      <th>26</th>\n      <td>悬疑</td>\n      <td>6.881301</td>\n    </tr>\n    <tr>\n      <th>27</th>\n      <td>科幻</td>\n      <td>6.724773</td>\n    </tr>\n    <tr>\n      <th>28</th>\n      <td>Comedy</td>\n      <td>6.700000</td>\n    </tr>\n    <tr>\n      <th>29</th>\n      <td>古装</td>\n      <td>6.663914</td>\n    </tr>\n    <tr>\n      <th>30</th>\n      <td>武侠</td>\n      <td>6.645455</td>\n    </tr>\n    <tr>\n      <th>31</th>\n      <td>惊悚</td>\n      <td>6.578198</td>\n    </tr>\n    <tr>\n      <th>32</th>\n      <td>灾难</td>\n      <td>6.576692</td>\n    </tr>\n    <tr>\n      <th>33</th>\n      <td>惊栗</td>\n      <td>6.564706</td>\n    </tr>\n    <tr>\n      <th>34</th>\n      <td>动作</td>\n      <td>6.538897</td>\n    </tr>\n    <tr>\n      <th>35</th>\n      <td>鬼怪</td>\n      <td>6.371875</td>\n    </tr>\n    <tr>\n      <th>36</th>\n      <td>恐怖</td>\n      <td>6.109971</td>\n    </tr>\n    <tr>\n      <th>37</th>\n      <td>情色</td>\n      <td>6.041471</td>\n    </tr>\n    <tr>\n      <th>38</th>\n      <td>Adult</td>\n      <td>5.947222</td>\n    </tr>\n    <tr>\n      <th>39</th>\n      <td>Reality-TV</td>\n      <td>5.800000</td>\n    </tr>\n  </tbody>\n</table>\n</div>"
     },
     "execution_count": 42,
     "metadata": {},
     "output_type": "execute_result"
    }
   ],
   "source": [
    "genres_ratingAverage_Sort = pd.read_csv(\"Output/genres_ratingAverage_Sort.csv\", header=None)\n",
    "genres_ratingAverage_Sort.columns = [\"genre\", \"Average_Rating\"]\n",
    "\n",
    "genres_ratingAverage_Sort"
   ]
  },
  {
   "cell_type": "code",
   "execution_count": 43,
   "metadata": {
    "ExecuteTime": {
     "end_time": "2023-06-23T11:03:51.579225461Z",
     "start_time": "2023-06-23T11:03:51.290425044Z"
    }
   },
   "outputs": [
    {
     "data": {
      "text/plain": "         genre    Num  Average_Rating\n0           剧情  17570        7.193278\n1           喜剧   8462        6.936965\n2           爱情   6083        6.946523\n3           动作   4877        6.538897\n4           惊悚   4472        6.578198\n5           犯罪   3753        6.971196\n6           恐怖   2758        6.109971\n7           冒险   2578        6.979092\n8           悬疑   2444        6.881301\n9           动画   2228        7.556777\n10          奇幻   2063        6.915996\n11          科幻   1869        6.724773\n12          家庭   1517        7.402307\n13          战争   1389        7.307271\n14          历史   1064        7.403289\n15          传记    971        7.491040\n16          音乐    877        7.756670\n17          歌舞    685        7.423942\n18          同性    678        7.071091\n19          古装    557        6.663914\n20          运动    435        7.327816\n21          武侠    363        6.645455\n22          情色    340        6.041471\n23          西部    323        7.207430\n24          儿童    229        7.321834\n25        黑色电影    202        7.194059\n26          灾难    133        6.576692\n27          戏曲     87        8.244828\n28        舞台艺术     68        8.536765\n29         脱口秀     58        8.434483\n30         真人秀     49        7.302041\n31       Adult     36        5.947222\n32          鬼怪     32        6.371875\n33          惊栗     17        6.564706\n34          悬念      5        7.280000\n35          荒诞      5        8.060000\n36         纪录片      3        8.500000\n37   Talk-Show      2        9.000000\n38  Reality-TV      2        5.800000\n39      Comedy      1        6.700000",
      "text/html": "<div>\n<style scoped>\n    .dataframe tbody tr th:only-of-type {\n        vertical-align: middle;\n    }\n\n    .dataframe tbody tr th {\n        vertical-align: top;\n    }\n\n    .dataframe thead th {\n        text-align: right;\n    }\n</style>\n<table border=\"1\" class=\"dataframe\">\n  <thead>\n    <tr style=\"text-align: right;\">\n      <th></th>\n      <th>genre</th>\n      <th>Num</th>\n      <th>Average_Rating</th>\n    </tr>\n  </thead>\n  <tbody>\n    <tr>\n      <th>0</th>\n      <td>剧情</td>\n      <td>17570</td>\n      <td>7.193278</td>\n    </tr>\n    <tr>\n      <th>1</th>\n      <td>喜剧</td>\n      <td>8462</td>\n      <td>6.936965</td>\n    </tr>\n    <tr>\n      <th>2</th>\n      <td>爱情</td>\n      <td>6083</td>\n      <td>6.946523</td>\n    </tr>\n    <tr>\n      <th>3</th>\n      <td>动作</td>\n      <td>4877</td>\n      <td>6.538897</td>\n    </tr>\n    <tr>\n      <th>4</th>\n      <td>惊悚</td>\n      <td>4472</td>\n      <td>6.578198</td>\n    </tr>\n    <tr>\n      <th>5</th>\n      <td>犯罪</td>\n      <td>3753</td>\n      <td>6.971196</td>\n    </tr>\n    <tr>\n      <th>6</th>\n      <td>恐怖</td>\n      <td>2758</td>\n      <td>6.109971</td>\n    </tr>\n    <tr>\n      <th>7</th>\n      <td>冒险</td>\n      <td>2578</td>\n      <td>6.979092</td>\n    </tr>\n    <tr>\n      <th>8</th>\n      <td>悬疑</td>\n      <td>2444</td>\n      <td>6.881301</td>\n    </tr>\n    <tr>\n      <th>9</th>\n      <td>动画</td>\n      <td>2228</td>\n      <td>7.556777</td>\n    </tr>\n    <tr>\n      <th>10</th>\n      <td>奇幻</td>\n      <td>2063</td>\n      <td>6.915996</td>\n    </tr>\n    <tr>\n      <th>11</th>\n      <td>科幻</td>\n      <td>1869</td>\n      <td>6.724773</td>\n    </tr>\n    <tr>\n      <th>12</th>\n      <td>家庭</td>\n      <td>1517</td>\n      <td>7.402307</td>\n    </tr>\n    <tr>\n      <th>13</th>\n      <td>战争</td>\n      <td>1389</td>\n      <td>7.307271</td>\n    </tr>\n    <tr>\n      <th>14</th>\n      <td>历史</td>\n      <td>1064</td>\n      <td>7.403289</td>\n    </tr>\n    <tr>\n      <th>15</th>\n      <td>传记</td>\n      <td>971</td>\n      <td>7.491040</td>\n    </tr>\n    <tr>\n      <th>16</th>\n      <td>音乐</td>\n      <td>877</td>\n      <td>7.756670</td>\n    </tr>\n    <tr>\n      <th>17</th>\n      <td>歌舞</td>\n      <td>685</td>\n      <td>7.423942</td>\n    </tr>\n    <tr>\n      <th>18</th>\n      <td>同性</td>\n      <td>678</td>\n      <td>7.071091</td>\n    </tr>\n    <tr>\n      <th>19</th>\n      <td>古装</td>\n      <td>557</td>\n      <td>6.663914</td>\n    </tr>\n    <tr>\n      <th>20</th>\n      <td>运动</td>\n      <td>435</td>\n      <td>7.327816</td>\n    </tr>\n    <tr>\n      <th>21</th>\n      <td>武侠</td>\n      <td>363</td>\n      <td>6.645455</td>\n    </tr>\n    <tr>\n      <th>22</th>\n      <td>情色</td>\n      <td>340</td>\n      <td>6.041471</td>\n    </tr>\n    <tr>\n      <th>23</th>\n      <td>西部</td>\n      <td>323</td>\n      <td>7.207430</td>\n    </tr>\n    <tr>\n      <th>24</th>\n      <td>儿童</td>\n      <td>229</td>\n      <td>7.321834</td>\n    </tr>\n    <tr>\n      <th>25</th>\n      <td>黑色电影</td>\n      <td>202</td>\n      <td>7.194059</td>\n    </tr>\n    <tr>\n      <th>26</th>\n      <td>灾难</td>\n      <td>133</td>\n      <td>6.576692</td>\n    </tr>\n    <tr>\n      <th>27</th>\n      <td>戏曲</td>\n      <td>87</td>\n      <td>8.244828</td>\n    </tr>\n    <tr>\n      <th>28</th>\n      <td>舞台艺术</td>\n      <td>68</td>\n      <td>8.536765</td>\n    </tr>\n    <tr>\n      <th>29</th>\n      <td>脱口秀</td>\n      <td>58</td>\n      <td>8.434483</td>\n    </tr>\n    <tr>\n      <th>30</th>\n      <td>真人秀</td>\n      <td>49</td>\n      <td>7.302041</td>\n    </tr>\n    <tr>\n      <th>31</th>\n      <td>Adult</td>\n      <td>36</td>\n      <td>5.947222</td>\n    </tr>\n    <tr>\n      <th>32</th>\n      <td>鬼怪</td>\n      <td>32</td>\n      <td>6.371875</td>\n    </tr>\n    <tr>\n      <th>33</th>\n      <td>惊栗</td>\n      <td>17</td>\n      <td>6.564706</td>\n    </tr>\n    <tr>\n      <th>34</th>\n      <td>悬念</td>\n      <td>5</td>\n      <td>7.280000</td>\n    </tr>\n    <tr>\n      <th>35</th>\n      <td>荒诞</td>\n      <td>5</td>\n      <td>8.060000</td>\n    </tr>\n    <tr>\n      <th>36</th>\n      <td>纪录片</td>\n      <td>3</td>\n      <td>8.500000</td>\n    </tr>\n    <tr>\n      <th>37</th>\n      <td>Talk-Show</td>\n      <td>2</td>\n      <td>9.000000</td>\n    </tr>\n    <tr>\n      <th>38</th>\n      <td>Reality-TV</td>\n      <td>2</td>\n      <td>5.800000</td>\n    </tr>\n    <tr>\n      <th>39</th>\n      <td>Comedy</td>\n      <td>1</td>\n      <td>6.700000</td>\n    </tr>\n  </tbody>\n</table>\n</div>"
     },
     "execution_count": 43,
     "metadata": {},
     "output_type": "execute_result"
    }
   ],
   "source": [
    "genreNum_avergeRating = pd.merge(genres_num_Sort, genres_ratingAverage_Sort, on='genre') #两表合并\n",
    "genreNum_avergeRating"
   ]
  },
  {
   "cell_type": "code",
   "execution_count": 44,
   "metadata": {
    "scrolled": false,
    "ExecuteTime": {
     "end_time": "2023-06-23T11:03:51.993242700Z",
     "start_time": "2023-06-23T11:03:51.326212715Z"
    }
   },
   "outputs": [
    {
     "data": {
      "application/vnd.plotly.v1+json": {
       "data": [
        {
         "hovertemplate": "<b>%{hovertext}</b><br><br>genre=剧情<br>Num=%{x}<br>Average_Rating=%{y}<extra></extra>",
         "hovertext": [
          "剧情"
         ],
         "legendgroup": "剧情",
         "marker": {
          "color": "#636efa",
          "symbol": "circle"
         },
         "mode": "markers",
         "name": "剧情",
         "orientation": "v",
         "showlegend": true,
         "x": [
          17570
         ],
         "xaxis": "x",
         "y": [
          7.193278315310261
         ],
         "yaxis": "y",
         "type": "scatter"
        },
        {
         "hovertemplate": "<b>%{hovertext}</b><br><br>genre=喜剧<br>Num=%{x}<br>Average_Rating=%{y}<extra></extra>",
         "hovertext": [
          "喜剧"
         ],
         "legendgroup": "喜剧",
         "marker": {
          "color": "#EF553B",
          "symbol": "circle"
         },
         "mode": "markers",
         "name": "喜剧",
         "orientation": "v",
         "showlegend": true,
         "x": [
          8462
         ],
         "xaxis": "x",
         "y": [
          6.936965256440555
         ],
         "yaxis": "y",
         "type": "scatter"
        },
        {
         "hovertemplate": "<b>%{hovertext}</b><br><br>genre=爱情<br>Num=%{x}<br>Average_Rating=%{y}<extra></extra>",
         "hovertext": [
          "爱情"
         ],
         "legendgroup": "爱情",
         "marker": {
          "color": "#00cc96",
          "symbol": "circle"
         },
         "mode": "markers",
         "name": "爱情",
         "orientation": "v",
         "showlegend": true,
         "x": [
          6083
         ],
         "xaxis": "x",
         "y": [
          6.9465230971559935
         ],
         "yaxis": "y",
         "type": "scatter"
        },
        {
         "hovertemplate": "<b>%{hovertext}</b><br><br>genre=动作<br>Num=%{x}<br>Average_Rating=%{y}<extra></extra>",
         "hovertext": [
          "动作"
         ],
         "legendgroup": "动作",
         "marker": {
          "color": "#ab63fa",
          "symbol": "circle"
         },
         "mode": "markers",
         "name": "动作",
         "orientation": "v",
         "showlegend": true,
         "x": [
          4877
         ],
         "xaxis": "x",
         "y": [
          6.538896862825516
         ],
         "yaxis": "y",
         "type": "scatter"
        },
        {
         "hovertemplate": "<b>%{hovertext}</b><br><br>genre=惊悚<br>Num=%{x}<br>Average_Rating=%{y}<extra></extra>",
         "hovertext": [
          "惊悚"
         ],
         "legendgroup": "惊悚",
         "marker": {
          "color": "#FFA15A",
          "symbol": "circle"
         },
         "mode": "markers",
         "name": "惊悚",
         "orientation": "v",
         "showlegend": true,
         "x": [
          4472
         ],
         "xaxis": "x",
         "y": [
          6.5781976744186
         ],
         "yaxis": "y",
         "type": "scatter"
        },
        {
         "hovertemplate": "<b>%{hovertext}</b><br><br>genre=犯罪<br>Num=%{x}<br>Average_Rating=%{y}<extra></extra>",
         "hovertext": [
          "犯罪"
         ],
         "legendgroup": "犯罪",
         "marker": {
          "color": "#19d3f3",
          "symbol": "circle"
         },
         "mode": "markers",
         "name": "犯罪",
         "orientation": "v",
         "showlegend": true,
         "x": [
          3753
         ],
         "xaxis": "x",
         "y": [
          6.971196376232337
         ],
         "yaxis": "y",
         "type": "scatter"
        },
        {
         "hovertemplate": "<b>%{hovertext}</b><br><br>genre=恐怖<br>Num=%{x}<br>Average_Rating=%{y}<extra></extra>",
         "hovertext": [
          "恐怖"
         ],
         "legendgroup": "恐怖",
         "marker": {
          "color": "#FF6692",
          "symbol": "circle"
         },
         "mode": "markers",
         "name": "恐怖",
         "orientation": "v",
         "showlegend": true,
         "x": [
          2758
         ],
         "xaxis": "x",
         "y": [
          6.109970993473535
         ],
         "yaxis": "y",
         "type": "scatter"
        },
        {
         "hovertemplate": "<b>%{hovertext}</b><br><br>genre=冒险<br>Num=%{x}<br>Average_Rating=%{y}<extra></extra>",
         "hovertext": [
          "冒险"
         ],
         "legendgroup": "冒险",
         "marker": {
          "color": "#B6E880",
          "symbol": "circle"
         },
         "mode": "markers",
         "name": "冒险",
         "orientation": "v",
         "showlegend": true,
         "x": [
          2578
         ],
         "xaxis": "x",
         "y": [
          6.979092319627616
         ],
         "yaxis": "y",
         "type": "scatter"
        },
        {
         "hovertemplate": "<b>%{hovertext}</b><br><br>genre=悬疑<br>Num=%{x}<br>Average_Rating=%{y}<extra></extra>",
         "hovertext": [
          "悬疑"
         ],
         "legendgroup": "悬疑",
         "marker": {
          "color": "#FF97FF",
          "symbol": "circle"
         },
         "mode": "markers",
         "name": "悬疑",
         "orientation": "v",
         "showlegend": true,
         "x": [
          2444
         ],
         "xaxis": "x",
         "y": [
          6.881301145662859
         ],
         "yaxis": "y",
         "type": "scatter"
        },
        {
         "hovertemplate": "<b>%{hovertext}</b><br><br>genre=动画<br>Num=%{x}<br>Average_Rating=%{y}<extra></extra>",
         "hovertext": [
          "动画"
         ],
         "legendgroup": "动画",
         "marker": {
          "color": "#FECB52",
          "symbol": "circle"
         },
         "mode": "markers",
         "name": "动画",
         "orientation": "v",
         "showlegend": true,
         "x": [
          2228
         ],
         "xaxis": "x",
         "y": [
          7.5567773788150845
         ],
         "yaxis": "y",
         "type": "scatter"
        },
        {
         "hovertemplate": "<b>%{hovertext}</b><br><br>genre=奇幻<br>Num=%{x}<br>Average_Rating=%{y}<extra></extra>",
         "hovertext": [
          "奇幻"
         ],
         "legendgroup": "奇幻",
         "marker": {
          "color": "#636efa",
          "symbol": "circle"
         },
         "mode": "markers",
         "name": "奇幻",
         "orientation": "v",
         "showlegend": true,
         "x": [
          2063
         ],
         "xaxis": "x",
         "y": [
          6.9159961221522055
         ],
         "yaxis": "y",
         "type": "scatter"
        },
        {
         "hovertemplate": "<b>%{hovertext}</b><br><br>genre=科幻<br>Num=%{x}<br>Average_Rating=%{y}<extra></extra>",
         "hovertext": [
          "科幻"
         ],
         "legendgroup": "科幻",
         "marker": {
          "color": "#EF553B",
          "symbol": "circle"
         },
         "mode": "markers",
         "name": "科幻",
         "orientation": "v",
         "showlegend": true,
         "x": [
          1869
         ],
         "xaxis": "x",
         "y": [
          6.724772605671484
         ],
         "yaxis": "y",
         "type": "scatter"
        },
        {
         "hovertemplate": "<b>%{hovertext}</b><br><br>genre=家庭<br>Num=%{x}<br>Average_Rating=%{y}<extra></extra>",
         "hovertext": [
          "家庭"
         ],
         "legendgroup": "家庭",
         "marker": {
          "color": "#00cc96",
          "symbol": "circle"
         },
         "mode": "markers",
         "name": "家庭",
         "orientation": "v",
         "showlegend": true,
         "x": [
          1517
         ],
         "xaxis": "x",
         "y": [
          7.402307185234009
         ],
         "yaxis": "y",
         "type": "scatter"
        },
        {
         "hovertemplate": "<b>%{hovertext}</b><br><br>genre=战争<br>Num=%{x}<br>Average_Rating=%{y}<extra></extra>",
         "hovertext": [
          "战争"
         ],
         "legendgroup": "战争",
         "marker": {
          "color": "#ab63fa",
          "symbol": "circle"
         },
         "mode": "markers",
         "name": "战争",
         "orientation": "v",
         "showlegend": true,
         "x": [
          1389
         ],
         "xaxis": "x",
         "y": [
          7.307271418286527
         ],
         "yaxis": "y",
         "type": "scatter"
        },
        {
         "hovertemplate": "<b>%{hovertext}</b><br><br>genre=历史<br>Num=%{x}<br>Average_Rating=%{y}<extra></extra>",
         "hovertext": [
          "历史"
         ],
         "legendgroup": "历史",
         "marker": {
          "color": "#FFA15A",
          "symbol": "circle"
         },
         "mode": "markers",
         "name": "历史",
         "orientation": "v",
         "showlegend": true,
         "x": [
          1064
         ],
         "xaxis": "x",
         "y": [
          7.403289473684213
         ],
         "yaxis": "y",
         "type": "scatter"
        },
        {
         "hovertemplate": "<b>%{hovertext}</b><br><br>genre=传记<br>Num=%{x}<br>Average_Rating=%{y}<extra></extra>",
         "hovertext": [
          "传记"
         ],
         "legendgroup": "传记",
         "marker": {
          "color": "#19d3f3",
          "symbol": "circle"
         },
         "mode": "markers",
         "name": "传记",
         "orientation": "v",
         "showlegend": true,
         "x": [
          971
         ],
         "xaxis": "x",
         "y": [
          7.49104016477858
         ],
         "yaxis": "y",
         "type": "scatter"
        },
        {
         "hovertemplate": "<b>%{hovertext}</b><br><br>genre=音乐<br>Num=%{x}<br>Average_Rating=%{y}<extra></extra>",
         "hovertext": [
          "音乐"
         ],
         "legendgroup": "音乐",
         "marker": {
          "color": "#FF6692",
          "symbol": "circle"
         },
         "mode": "markers",
         "name": "音乐",
         "orientation": "v",
         "showlegend": true,
         "x": [
          877
         ],
         "xaxis": "x",
         "y": [
          7.756670467502863
         ],
         "yaxis": "y",
         "type": "scatter"
        },
        {
         "hovertemplate": "<b>%{hovertext}</b><br><br>genre=歌舞<br>Num=%{x}<br>Average_Rating=%{y}<extra></extra>",
         "hovertext": [
          "歌舞"
         ],
         "legendgroup": "歌舞",
         "marker": {
          "color": "#B6E880",
          "symbol": "circle"
         },
         "mode": "markers",
         "name": "歌舞",
         "orientation": "v",
         "showlegend": true,
         "x": [
          685
         ],
         "xaxis": "x",
         "y": [
          7.423941605839417
         ],
         "yaxis": "y",
         "type": "scatter"
        },
        {
         "hovertemplate": "<b>%{hovertext}</b><br><br>genre=同性<br>Num=%{x}<br>Average_Rating=%{y}<extra></extra>",
         "hovertext": [
          "同性"
         ],
         "legendgroup": "同性",
         "marker": {
          "color": "#FF97FF",
          "symbol": "circle"
         },
         "mode": "markers",
         "name": "同性",
         "orientation": "v",
         "showlegend": true,
         "x": [
          678
         ],
         "xaxis": "x",
         "y": [
          7.071091445427729
         ],
         "yaxis": "y",
         "type": "scatter"
        },
        {
         "hovertemplate": "<b>%{hovertext}</b><br><br>genre=古装<br>Num=%{x}<br>Average_Rating=%{y}<extra></extra>",
         "hovertext": [
          "古装"
         ],
         "legendgroup": "古装",
         "marker": {
          "color": "#FECB52",
          "symbol": "circle"
         },
         "mode": "markers",
         "name": "古装",
         "orientation": "v",
         "showlegend": true,
         "x": [
          557
         ],
         "xaxis": "x",
         "y": [
          6.66391382405745
         ],
         "yaxis": "y",
         "type": "scatter"
        },
        {
         "hovertemplate": "<b>%{hovertext}</b><br><br>genre=运动<br>Num=%{x}<br>Average_Rating=%{y}<extra></extra>",
         "hovertext": [
          "运动"
         ],
         "legendgroup": "运动",
         "marker": {
          "color": "#636efa",
          "symbol": "circle"
         },
         "mode": "markers",
         "name": "运动",
         "orientation": "v",
         "showlegend": true,
         "x": [
          435
         ],
         "xaxis": "x",
         "y": [
          7.327816091954027
         ],
         "yaxis": "y",
         "type": "scatter"
        },
        {
         "hovertemplate": "<b>%{hovertext}</b><br><br>genre=武侠<br>Num=%{x}<br>Average_Rating=%{y}<extra></extra>",
         "hovertext": [
          "武侠"
         ],
         "legendgroup": "武侠",
         "marker": {
          "color": "#EF553B",
          "symbol": "circle"
         },
         "mode": "markers",
         "name": "武侠",
         "orientation": "v",
         "showlegend": true,
         "x": [
          363
         ],
         "xaxis": "x",
         "y": [
          6.6454545454545375
         ],
         "yaxis": "y",
         "type": "scatter"
        },
        {
         "hovertemplate": "<b>%{hovertext}</b><br><br>genre=情色<br>Num=%{x}<br>Average_Rating=%{y}<extra></extra>",
         "hovertext": [
          "情色"
         ],
         "legendgroup": "情色",
         "marker": {
          "color": "#00cc96",
          "symbol": "circle"
         },
         "mode": "markers",
         "name": "情色",
         "orientation": "v",
         "showlegend": true,
         "x": [
          340
         ],
         "xaxis": "x",
         "y": [
          6.041470588235294
         ],
         "yaxis": "y",
         "type": "scatter"
        },
        {
         "hovertemplate": "<b>%{hovertext}</b><br><br>genre=西部<br>Num=%{x}<br>Average_Rating=%{y}<extra></extra>",
         "hovertext": [
          "西部"
         ],
         "legendgroup": "西部",
         "marker": {
          "color": "#ab63fa",
          "symbol": "circle"
         },
         "mode": "markers",
         "name": "西部",
         "orientation": "v",
         "showlegend": true,
         "x": [
          323
         ],
         "xaxis": "x",
         "y": [
          7.207430340557275
         ],
         "yaxis": "y",
         "type": "scatter"
        },
        {
         "hovertemplate": "<b>%{hovertext}</b><br><br>genre=儿童<br>Num=%{x}<br>Average_Rating=%{y}<extra></extra>",
         "hovertext": [
          "儿童"
         ],
         "legendgroup": "儿童",
         "marker": {
          "color": "#FFA15A",
          "symbol": "circle"
         },
         "mode": "markers",
         "name": "儿童",
         "orientation": "v",
         "showlegend": true,
         "x": [
          229
         ],
         "xaxis": "x",
         "y": [
          7.321834061135366
         ],
         "yaxis": "y",
         "type": "scatter"
        },
        {
         "hovertemplate": "<b>%{hovertext}</b><br><br>genre=黑色电影<br>Num=%{x}<br>Average_Rating=%{y}<extra></extra>",
         "hovertext": [
          "黑色电影"
         ],
         "legendgroup": "黑色电影",
         "marker": {
          "color": "#19d3f3",
          "symbol": "circle"
         },
         "mode": "markers",
         "name": "黑色电影",
         "orientation": "v",
         "showlegend": true,
         "x": [
          202
         ],
         "xaxis": "x",
         "y": [
          7.194059405940593
         ],
         "yaxis": "y",
         "type": "scatter"
        },
        {
         "hovertemplate": "<b>%{hovertext}</b><br><br>genre=灾难<br>Num=%{x}<br>Average_Rating=%{y}<extra></extra>",
         "hovertext": [
          "灾难"
         ],
         "legendgroup": "灾难",
         "marker": {
          "color": "#FF6692",
          "symbol": "circle"
         },
         "mode": "markers",
         "name": "灾难",
         "orientation": "v",
         "showlegend": true,
         "x": [
          133
         ],
         "xaxis": "x",
         "y": [
          6.576691729323307
         ],
         "yaxis": "y",
         "type": "scatter"
        },
        {
         "hovertemplate": "<b>%{hovertext}</b><br><br>genre=戏曲<br>Num=%{x}<br>Average_Rating=%{y}<extra></extra>",
         "hovertext": [
          "戏曲"
         ],
         "legendgroup": "戏曲",
         "marker": {
          "color": "#B6E880",
          "symbol": "circle"
         },
         "mode": "markers",
         "name": "戏曲",
         "orientation": "v",
         "showlegend": true,
         "x": [
          87
         ],
         "xaxis": "x",
         "y": [
          8.244827586206895
         ],
         "yaxis": "y",
         "type": "scatter"
        },
        {
         "hovertemplate": "<b>%{hovertext}</b><br><br>genre=舞台艺术<br>Num=%{x}<br>Average_Rating=%{y}<extra></extra>",
         "hovertext": [
          "舞台艺术"
         ],
         "legendgroup": "舞台艺术",
         "marker": {
          "color": "#FF97FF",
          "symbol": "circle"
         },
         "mode": "markers",
         "name": "舞台艺术",
         "orientation": "v",
         "showlegend": true,
         "x": [
          68
         ],
         "xaxis": "x",
         "y": [
          8.536764705882353
         ],
         "yaxis": "y",
         "type": "scatter"
        },
        {
         "hovertemplate": "<b>%{hovertext}</b><br><br>genre=脱口秀<br>Num=%{x}<br>Average_Rating=%{y}<extra></extra>",
         "hovertext": [
          "脱口秀"
         ],
         "legendgroup": "脱口秀",
         "marker": {
          "color": "#FECB52",
          "symbol": "circle"
         },
         "mode": "markers",
         "name": "脱口秀",
         "orientation": "v",
         "showlegend": true,
         "x": [
          58
         ],
         "xaxis": "x",
         "y": [
          8.434482758620693
         ],
         "yaxis": "y",
         "type": "scatter"
        },
        {
         "hovertemplate": "<b>%{hovertext}</b><br><br>genre=真人秀<br>Num=%{x}<br>Average_Rating=%{y}<extra></extra>",
         "hovertext": [
          "真人秀"
         ],
         "legendgroup": "真人秀",
         "marker": {
          "color": "#636efa",
          "symbol": "circle"
         },
         "mode": "markers",
         "name": "真人秀",
         "orientation": "v",
         "showlegend": true,
         "x": [
          49
         ],
         "xaxis": "x",
         "y": [
          7.302040816326533
         ],
         "yaxis": "y",
         "type": "scatter"
        },
        {
         "hovertemplate": "<b>%{hovertext}</b><br><br>genre=Adult<br>Num=%{x}<br>Average_Rating=%{y}<extra></extra>",
         "hovertext": [
          "Adult"
         ],
         "legendgroup": "Adult",
         "marker": {
          "color": "#EF553B",
          "symbol": "circle"
         },
         "mode": "markers",
         "name": "Adult",
         "orientation": "v",
         "showlegend": true,
         "x": [
          36
         ],
         "xaxis": "x",
         "y": [
          5.947222222222223
         ],
         "yaxis": "y",
         "type": "scatter"
        },
        {
         "hovertemplate": "<b>%{hovertext}</b><br><br>genre=鬼怪<br>Num=%{x}<br>Average_Rating=%{y}<extra></extra>",
         "hovertext": [
          "鬼怪"
         ],
         "legendgroup": "鬼怪",
         "marker": {
          "color": "#00cc96",
          "symbol": "circle"
         },
         "mode": "markers",
         "name": "鬼怪",
         "orientation": "v",
         "showlegend": true,
         "x": [
          32
         ],
         "xaxis": "x",
         "y": [
          6.371874999999998
         ],
         "yaxis": "y",
         "type": "scatter"
        },
        {
         "hovertemplate": "<b>%{hovertext}</b><br><br>genre=惊栗<br>Num=%{x}<br>Average_Rating=%{y}<extra></extra>",
         "hovertext": [
          "惊栗"
         ],
         "legendgroup": "惊栗",
         "marker": {
          "color": "#ab63fa",
          "symbol": "circle"
         },
         "mode": "markers",
         "name": "惊栗",
         "orientation": "v",
         "showlegend": true,
         "x": [
          17
         ],
         "xaxis": "x",
         "y": [
          6.564705882352942
         ],
         "yaxis": "y",
         "type": "scatter"
        },
        {
         "hovertemplate": "<b>%{hovertext}</b><br><br>genre=悬念<br>Num=%{x}<br>Average_Rating=%{y}<extra></extra>",
         "hovertext": [
          "悬念"
         ],
         "legendgroup": "悬念",
         "marker": {
          "color": "#FFA15A",
          "symbol": "circle"
         },
         "mode": "markers",
         "name": "悬念",
         "orientation": "v",
         "showlegend": true,
         "x": [
          5
         ],
         "xaxis": "x",
         "y": [
          7.279999999999999
         ],
         "yaxis": "y",
         "type": "scatter"
        },
        {
         "hovertemplate": "<b>%{hovertext}</b><br><br>genre=荒诞<br>Num=%{x}<br>Average_Rating=%{y}<extra></extra>",
         "hovertext": [
          "荒诞"
         ],
         "legendgroup": "荒诞",
         "marker": {
          "color": "#19d3f3",
          "symbol": "circle"
         },
         "mode": "markers",
         "name": "荒诞",
         "orientation": "v",
         "showlegend": true,
         "x": [
          5
         ],
         "xaxis": "x",
         "y": [
          8.059999999999999
         ],
         "yaxis": "y",
         "type": "scatter"
        },
        {
         "hovertemplate": "<b>%{hovertext}</b><br><br>genre=纪录片<br>Num=%{x}<br>Average_Rating=%{y}<extra></extra>",
         "hovertext": [
          "纪录片"
         ],
         "legendgroup": "纪录片",
         "marker": {
          "color": "#FF6692",
          "symbol": "circle"
         },
         "mode": "markers",
         "name": "纪录片",
         "orientation": "v",
         "showlegend": true,
         "x": [
          3
         ],
         "xaxis": "x",
         "y": [
          8.5
         ],
         "yaxis": "y",
         "type": "scatter"
        },
        {
         "hovertemplate": "<b>%{hovertext}</b><br><br>genre=Talk-Show<br>Num=%{x}<br>Average_Rating=%{y}<extra></extra>",
         "hovertext": [
          "Talk-Show"
         ],
         "legendgroup": "Talk-Show",
         "marker": {
          "color": "#B6E880",
          "symbol": "circle"
         },
         "mode": "markers",
         "name": "Talk-Show",
         "orientation": "v",
         "showlegend": true,
         "x": [
          2
         ],
         "xaxis": "x",
         "y": [
          9.0
         ],
         "yaxis": "y",
         "type": "scatter"
        },
        {
         "hovertemplate": "<b>%{hovertext}</b><br><br>genre=Reality-TV<br>Num=%{x}<br>Average_Rating=%{y}<extra></extra>",
         "hovertext": [
          "Reality-TV"
         ],
         "legendgroup": "Reality-TV",
         "marker": {
          "color": "#FF97FF",
          "symbol": "circle"
         },
         "mode": "markers",
         "name": "Reality-TV",
         "orientation": "v",
         "showlegend": true,
         "x": [
          2
         ],
         "xaxis": "x",
         "y": [
          5.800000000000001
         ],
         "yaxis": "y",
         "type": "scatter"
        },
        {
         "hovertemplate": "<b>%{hovertext}</b><br><br>genre=Comedy<br>Num=%{x}<br>Average_Rating=%{y}<extra></extra>",
         "hovertext": [
          "Comedy"
         ],
         "legendgroup": "Comedy",
         "marker": {
          "color": "#FECB52",
          "symbol": "circle"
         },
         "mode": "markers",
         "name": "Comedy",
         "orientation": "v",
         "showlegend": true,
         "x": [
          1
         ],
         "xaxis": "x",
         "y": [
          6.7
         ],
         "yaxis": "y",
         "type": "scatter"
        }
       ],
       "layout": {
        "template": {
         "data": {
          "histogram2dcontour": [
           {
            "type": "histogram2dcontour",
            "colorbar": {
             "outlinewidth": 0,
             "ticks": ""
            },
            "colorscale": [
             [
              0.0,
              "#0d0887"
             ],
             [
              0.1111111111111111,
              "#46039f"
             ],
             [
              0.2222222222222222,
              "#7201a8"
             ],
             [
              0.3333333333333333,
              "#9c179e"
             ],
             [
              0.4444444444444444,
              "#bd3786"
             ],
             [
              0.5555555555555556,
              "#d8576b"
             ],
             [
              0.6666666666666666,
              "#ed7953"
             ],
             [
              0.7777777777777778,
              "#fb9f3a"
             ],
             [
              0.8888888888888888,
              "#fdca26"
             ],
             [
              1.0,
              "#f0f921"
             ]
            ]
           }
          ],
          "choropleth": [
           {
            "type": "choropleth",
            "colorbar": {
             "outlinewidth": 0,
             "ticks": ""
            }
           }
          ],
          "histogram2d": [
           {
            "type": "histogram2d",
            "colorbar": {
             "outlinewidth": 0,
             "ticks": ""
            },
            "colorscale": [
             [
              0.0,
              "#0d0887"
             ],
             [
              0.1111111111111111,
              "#46039f"
             ],
             [
              0.2222222222222222,
              "#7201a8"
             ],
             [
              0.3333333333333333,
              "#9c179e"
             ],
             [
              0.4444444444444444,
              "#bd3786"
             ],
             [
              0.5555555555555556,
              "#d8576b"
             ],
             [
              0.6666666666666666,
              "#ed7953"
             ],
             [
              0.7777777777777778,
              "#fb9f3a"
             ],
             [
              0.8888888888888888,
              "#fdca26"
             ],
             [
              1.0,
              "#f0f921"
             ]
            ]
           }
          ],
          "heatmap": [
           {
            "type": "heatmap",
            "colorbar": {
             "outlinewidth": 0,
             "ticks": ""
            },
            "colorscale": [
             [
              0.0,
              "#0d0887"
             ],
             [
              0.1111111111111111,
              "#46039f"
             ],
             [
              0.2222222222222222,
              "#7201a8"
             ],
             [
              0.3333333333333333,
              "#9c179e"
             ],
             [
              0.4444444444444444,
              "#bd3786"
             ],
             [
              0.5555555555555556,
              "#d8576b"
             ],
             [
              0.6666666666666666,
              "#ed7953"
             ],
             [
              0.7777777777777778,
              "#fb9f3a"
             ],
             [
              0.8888888888888888,
              "#fdca26"
             ],
             [
              1.0,
              "#f0f921"
             ]
            ]
           }
          ],
          "heatmapgl": [
           {
            "type": "heatmapgl",
            "colorbar": {
             "outlinewidth": 0,
             "ticks": ""
            },
            "colorscale": [
             [
              0.0,
              "#0d0887"
             ],
             [
              0.1111111111111111,
              "#46039f"
             ],
             [
              0.2222222222222222,
              "#7201a8"
             ],
             [
              0.3333333333333333,
              "#9c179e"
             ],
             [
              0.4444444444444444,
              "#bd3786"
             ],
             [
              0.5555555555555556,
              "#d8576b"
             ],
             [
              0.6666666666666666,
              "#ed7953"
             ],
             [
              0.7777777777777778,
              "#fb9f3a"
             ],
             [
              0.8888888888888888,
              "#fdca26"
             ],
             [
              1.0,
              "#f0f921"
             ]
            ]
           }
          ],
          "contourcarpet": [
           {
            "type": "contourcarpet",
            "colorbar": {
             "outlinewidth": 0,
             "ticks": ""
            }
           }
          ],
          "contour": [
           {
            "type": "contour",
            "colorbar": {
             "outlinewidth": 0,
             "ticks": ""
            },
            "colorscale": [
             [
              0.0,
              "#0d0887"
             ],
             [
              0.1111111111111111,
              "#46039f"
             ],
             [
              0.2222222222222222,
              "#7201a8"
             ],
             [
              0.3333333333333333,
              "#9c179e"
             ],
             [
              0.4444444444444444,
              "#bd3786"
             ],
             [
              0.5555555555555556,
              "#d8576b"
             ],
             [
              0.6666666666666666,
              "#ed7953"
             ],
             [
              0.7777777777777778,
              "#fb9f3a"
             ],
             [
              0.8888888888888888,
              "#fdca26"
             ],
             [
              1.0,
              "#f0f921"
             ]
            ]
           }
          ],
          "surface": [
           {
            "type": "surface",
            "colorbar": {
             "outlinewidth": 0,
             "ticks": ""
            },
            "colorscale": [
             [
              0.0,
              "#0d0887"
             ],
             [
              0.1111111111111111,
              "#46039f"
             ],
             [
              0.2222222222222222,
              "#7201a8"
             ],
             [
              0.3333333333333333,
              "#9c179e"
             ],
             [
              0.4444444444444444,
              "#bd3786"
             ],
             [
              0.5555555555555556,
              "#d8576b"
             ],
             [
              0.6666666666666666,
              "#ed7953"
             ],
             [
              0.7777777777777778,
              "#fb9f3a"
             ],
             [
              0.8888888888888888,
              "#fdca26"
             ],
             [
              1.0,
              "#f0f921"
             ]
            ]
           }
          ],
          "mesh3d": [
           {
            "type": "mesh3d",
            "colorbar": {
             "outlinewidth": 0,
             "ticks": ""
            }
           }
          ],
          "scatter": [
           {
            "marker": {
             "line": {
              "color": "#283442"
             }
            },
            "type": "scatter"
           }
          ],
          "parcoords": [
           {
            "type": "parcoords",
            "line": {
             "colorbar": {
              "outlinewidth": 0,
              "ticks": ""
             }
            }
           }
          ],
          "scatterpolargl": [
           {
            "type": "scatterpolargl",
            "marker": {
             "colorbar": {
              "outlinewidth": 0,
              "ticks": ""
             }
            }
           }
          ],
          "bar": [
           {
            "error_x": {
             "color": "#f2f5fa"
            },
            "error_y": {
             "color": "#f2f5fa"
            },
            "marker": {
             "line": {
              "color": "rgb(17,17,17)",
              "width": 0.5
             },
             "pattern": {
              "fillmode": "overlay",
              "size": 10,
              "solidity": 0.2
             }
            },
            "type": "bar"
           }
          ],
          "scattergeo": [
           {
            "type": "scattergeo",
            "marker": {
             "colorbar": {
              "outlinewidth": 0,
              "ticks": ""
             }
            }
           }
          ],
          "scatterpolar": [
           {
            "type": "scatterpolar",
            "marker": {
             "colorbar": {
              "outlinewidth": 0,
              "ticks": ""
             }
            }
           }
          ],
          "histogram": [
           {
            "marker": {
             "pattern": {
              "fillmode": "overlay",
              "size": 10,
              "solidity": 0.2
             }
            },
            "type": "histogram"
           }
          ],
          "scattergl": [
           {
            "marker": {
             "line": {
              "color": "#283442"
             }
            },
            "type": "scattergl"
           }
          ],
          "scatter3d": [
           {
            "type": "scatter3d",
            "line": {
             "colorbar": {
              "outlinewidth": 0,
              "ticks": ""
             }
            },
            "marker": {
             "colorbar": {
              "outlinewidth": 0,
              "ticks": ""
             }
            }
           }
          ],
          "scattermapbox": [
           {
            "type": "scattermapbox",
            "marker": {
             "colorbar": {
              "outlinewidth": 0,
              "ticks": ""
             }
            }
           }
          ],
          "scatterternary": [
           {
            "type": "scatterternary",
            "marker": {
             "colorbar": {
              "outlinewidth": 0,
              "ticks": ""
             }
            }
           }
          ],
          "scattercarpet": [
           {
            "type": "scattercarpet",
            "marker": {
             "colorbar": {
              "outlinewidth": 0,
              "ticks": ""
             }
            }
           }
          ],
          "carpet": [
           {
            "aaxis": {
             "endlinecolor": "#A2B1C6",
             "gridcolor": "#506784",
             "linecolor": "#506784",
             "minorgridcolor": "#506784",
             "startlinecolor": "#A2B1C6"
            },
            "baxis": {
             "endlinecolor": "#A2B1C6",
             "gridcolor": "#506784",
             "linecolor": "#506784",
             "minorgridcolor": "#506784",
             "startlinecolor": "#A2B1C6"
            },
            "type": "carpet"
           }
          ],
          "table": [
           {
            "cells": {
             "fill": {
              "color": "#506784"
             },
             "line": {
              "color": "rgb(17,17,17)"
             }
            },
            "header": {
             "fill": {
              "color": "#2a3f5f"
             },
             "line": {
              "color": "rgb(17,17,17)"
             }
            },
            "type": "table"
           }
          ],
          "barpolar": [
           {
            "marker": {
             "line": {
              "color": "rgb(17,17,17)",
              "width": 0.5
             },
             "pattern": {
              "fillmode": "overlay",
              "size": 10,
              "solidity": 0.2
             }
            },
            "type": "barpolar"
           }
          ],
          "pie": [
           {
            "automargin": true,
            "type": "pie"
           }
          ]
         },
         "layout": {
          "autotypenumbers": "strict",
          "colorway": [
           "#636efa",
           "#EF553B",
           "#00cc96",
           "#ab63fa",
           "#FFA15A",
           "#19d3f3",
           "#FF6692",
           "#B6E880",
           "#FF97FF",
           "#FECB52"
          ],
          "font": {
           "color": "#f2f5fa"
          },
          "hovermode": "closest",
          "hoverlabel": {
           "align": "left"
          },
          "paper_bgcolor": "rgb(17,17,17)",
          "plot_bgcolor": "rgb(17,17,17)",
          "polar": {
           "bgcolor": "rgb(17,17,17)",
           "angularaxis": {
            "gridcolor": "#506784",
            "linecolor": "#506784",
            "ticks": ""
           },
           "radialaxis": {
            "gridcolor": "#506784",
            "linecolor": "#506784",
            "ticks": ""
           }
          },
          "ternary": {
           "bgcolor": "rgb(17,17,17)",
           "aaxis": {
            "gridcolor": "#506784",
            "linecolor": "#506784",
            "ticks": ""
           },
           "baxis": {
            "gridcolor": "#506784",
            "linecolor": "#506784",
            "ticks": ""
           },
           "caxis": {
            "gridcolor": "#506784",
            "linecolor": "#506784",
            "ticks": ""
           }
          },
          "coloraxis": {
           "colorbar": {
            "outlinewidth": 0,
            "ticks": ""
           }
          },
          "colorscale": {
           "sequential": [
            [
             0.0,
             "#0d0887"
            ],
            [
             0.1111111111111111,
             "#46039f"
            ],
            [
             0.2222222222222222,
             "#7201a8"
            ],
            [
             0.3333333333333333,
             "#9c179e"
            ],
            [
             0.4444444444444444,
             "#bd3786"
            ],
            [
             0.5555555555555556,
             "#d8576b"
            ],
            [
             0.6666666666666666,
             "#ed7953"
            ],
            [
             0.7777777777777778,
             "#fb9f3a"
            ],
            [
             0.8888888888888888,
             "#fdca26"
            ],
            [
             1.0,
             "#f0f921"
            ]
           ],
           "sequentialminus": [
            [
             0.0,
             "#0d0887"
            ],
            [
             0.1111111111111111,
             "#46039f"
            ],
            [
             0.2222222222222222,
             "#7201a8"
            ],
            [
             0.3333333333333333,
             "#9c179e"
            ],
            [
             0.4444444444444444,
             "#bd3786"
            ],
            [
             0.5555555555555556,
             "#d8576b"
            ],
            [
             0.6666666666666666,
             "#ed7953"
            ],
            [
             0.7777777777777778,
             "#fb9f3a"
            ],
            [
             0.8888888888888888,
             "#fdca26"
            ],
            [
             1.0,
             "#f0f921"
            ]
           ],
           "diverging": [
            [
             0,
             "#8e0152"
            ],
            [
             0.1,
             "#c51b7d"
            ],
            [
             0.2,
             "#de77ae"
            ],
            [
             0.3,
             "#f1b6da"
            ],
            [
             0.4,
             "#fde0ef"
            ],
            [
             0.5,
             "#f7f7f7"
            ],
            [
             0.6,
             "#e6f5d0"
            ],
            [
             0.7,
             "#b8e186"
            ],
            [
             0.8,
             "#7fbc41"
            ],
            [
             0.9,
             "#4d9221"
            ],
            [
             1,
             "#276419"
            ]
           ]
          },
          "xaxis": {
           "gridcolor": "#283442",
           "linecolor": "#506784",
           "ticks": "",
           "title": {
            "standoff": 15
           },
           "zerolinecolor": "#283442",
           "automargin": true,
           "zerolinewidth": 2
          },
          "yaxis": {
           "gridcolor": "#283442",
           "linecolor": "#506784",
           "ticks": "",
           "title": {
            "standoff": 15
           },
           "zerolinecolor": "#283442",
           "automargin": true,
           "zerolinewidth": 2
          },
          "scene": {
           "xaxis": {
            "backgroundcolor": "rgb(17,17,17)",
            "gridcolor": "#506784",
            "linecolor": "#506784",
            "showbackground": true,
            "ticks": "",
            "zerolinecolor": "#C8D4E3",
            "gridwidth": 2
           },
           "yaxis": {
            "backgroundcolor": "rgb(17,17,17)",
            "gridcolor": "#506784",
            "linecolor": "#506784",
            "showbackground": true,
            "ticks": "",
            "zerolinecolor": "#C8D4E3",
            "gridwidth": 2
           },
           "zaxis": {
            "backgroundcolor": "rgb(17,17,17)",
            "gridcolor": "#506784",
            "linecolor": "#506784",
            "showbackground": true,
            "ticks": "",
            "zerolinecolor": "#C8D4E3",
            "gridwidth": 2
           }
          },
          "shapedefaults": {
           "line": {
            "color": "#f2f5fa"
           }
          },
          "annotationdefaults": {
           "arrowcolor": "#f2f5fa",
           "arrowhead": 0,
           "arrowwidth": 1
          },
          "geo": {
           "bgcolor": "rgb(17,17,17)",
           "landcolor": "rgb(17,17,17)",
           "subunitcolor": "#506784",
           "showland": true,
           "showlakes": true,
           "lakecolor": "rgb(17,17,17)"
          },
          "title": {
           "x": 0.05
          },
          "updatemenudefaults": {
           "bgcolor": "#506784",
           "borderwidth": 0
          },
          "sliderdefaults": {
           "bgcolor": "#C8D4E3",
           "borderwidth": 1,
           "bordercolor": "rgb(17,17,17)",
           "tickwidth": 0
          },
          "mapbox": {
           "style": "dark"
          }
         }
        },
        "xaxis": {
         "anchor": "y",
         "domain": [
          0.0,
          1.0
         ],
         "title": {
          "text": "Num"
         }
        },
        "yaxis": {
         "anchor": "x",
         "domain": [
          0.0,
          1.0
         ],
         "title": {
          "text": "Average_Rating"
         }
        },
        "legend": {
         "title": {
          "text": "genre"
         },
         "tracegroupgap": 0
        },
        "title": {
         "text": "各类型电影数和平均评分关系"
        }
       },
       "config": {
        "plotlyServerURL": "https://plot.ly"
       }
      },
      "text/html": "<div>                            <div id=\"e89f0886-b62d-4f7a-b92f-1c044e9096f9\" class=\"plotly-graph-div\" style=\"height:525px; width:100%;\"></div>            <script type=\"text/javascript\">                require([\"plotly\"], function(Plotly) {                    window.PLOTLYENV=window.PLOTLYENV || {};                                    if (document.getElementById(\"e89f0886-b62d-4f7a-b92f-1c044e9096f9\")) {                    Plotly.newPlot(                        \"e89f0886-b62d-4f7a-b92f-1c044e9096f9\",                        [{\"hovertemplate\":\"\\u003cb\\u003e%{hovertext}\\u003c\\u002fb\\u003e\\u003cbr\\u003e\\u003cbr\\u003egenre=\\u5267\\u60c5\\u003cbr\\u003eNum=%{x}\\u003cbr\\u003eAverage_Rating=%{y}\\u003cextra\\u003e\\u003c\\u002fextra\\u003e\",\"hovertext\":[\"\\u5267\\u60c5\"],\"legendgroup\":\"\\u5267\\u60c5\",\"marker\":{\"color\":\"#636efa\",\"symbol\":\"circle\"},\"mode\":\"markers\",\"name\":\"\\u5267\\u60c5\",\"orientation\":\"v\",\"showlegend\":true,\"x\":[17570],\"xaxis\":\"x\",\"y\":[7.193278315310261],\"yaxis\":\"y\",\"type\":\"scatter\"},{\"hovertemplate\":\"\\u003cb\\u003e%{hovertext}\\u003c\\u002fb\\u003e\\u003cbr\\u003e\\u003cbr\\u003egenre=\\u559c\\u5267\\u003cbr\\u003eNum=%{x}\\u003cbr\\u003eAverage_Rating=%{y}\\u003cextra\\u003e\\u003c\\u002fextra\\u003e\",\"hovertext\":[\"\\u559c\\u5267\"],\"legendgroup\":\"\\u559c\\u5267\",\"marker\":{\"color\":\"#EF553B\",\"symbol\":\"circle\"},\"mode\":\"markers\",\"name\":\"\\u559c\\u5267\",\"orientation\":\"v\",\"showlegend\":true,\"x\":[8462],\"xaxis\":\"x\",\"y\":[6.936965256440555],\"yaxis\":\"y\",\"type\":\"scatter\"},{\"hovertemplate\":\"\\u003cb\\u003e%{hovertext}\\u003c\\u002fb\\u003e\\u003cbr\\u003e\\u003cbr\\u003egenre=\\u7231\\u60c5\\u003cbr\\u003eNum=%{x}\\u003cbr\\u003eAverage_Rating=%{y}\\u003cextra\\u003e\\u003c\\u002fextra\\u003e\",\"hovertext\":[\"\\u7231\\u60c5\"],\"legendgroup\":\"\\u7231\\u60c5\",\"marker\":{\"color\":\"#00cc96\",\"symbol\":\"circle\"},\"mode\":\"markers\",\"name\":\"\\u7231\\u60c5\",\"orientation\":\"v\",\"showlegend\":true,\"x\":[6083],\"xaxis\":\"x\",\"y\":[6.9465230971559935],\"yaxis\":\"y\",\"type\":\"scatter\"},{\"hovertemplate\":\"\\u003cb\\u003e%{hovertext}\\u003c\\u002fb\\u003e\\u003cbr\\u003e\\u003cbr\\u003egenre=\\u52a8\\u4f5c\\u003cbr\\u003eNum=%{x}\\u003cbr\\u003eAverage_Rating=%{y}\\u003cextra\\u003e\\u003c\\u002fextra\\u003e\",\"hovertext\":[\"\\u52a8\\u4f5c\"],\"legendgroup\":\"\\u52a8\\u4f5c\",\"marker\":{\"color\":\"#ab63fa\",\"symbol\":\"circle\"},\"mode\":\"markers\",\"name\":\"\\u52a8\\u4f5c\",\"orientation\":\"v\",\"showlegend\":true,\"x\":[4877],\"xaxis\":\"x\",\"y\":[6.538896862825516],\"yaxis\":\"y\",\"type\":\"scatter\"},{\"hovertemplate\":\"\\u003cb\\u003e%{hovertext}\\u003c\\u002fb\\u003e\\u003cbr\\u003e\\u003cbr\\u003egenre=\\u60ca\\u609a\\u003cbr\\u003eNum=%{x}\\u003cbr\\u003eAverage_Rating=%{y}\\u003cextra\\u003e\\u003c\\u002fextra\\u003e\",\"hovertext\":[\"\\u60ca\\u609a\"],\"legendgroup\":\"\\u60ca\\u609a\",\"marker\":{\"color\":\"#FFA15A\",\"symbol\":\"circle\"},\"mode\":\"markers\",\"name\":\"\\u60ca\\u609a\",\"orientation\":\"v\",\"showlegend\":true,\"x\":[4472],\"xaxis\":\"x\",\"y\":[6.5781976744186],\"yaxis\":\"y\",\"type\":\"scatter\"},{\"hovertemplate\":\"\\u003cb\\u003e%{hovertext}\\u003c\\u002fb\\u003e\\u003cbr\\u003e\\u003cbr\\u003egenre=\\u72af\\u7f6a\\u003cbr\\u003eNum=%{x}\\u003cbr\\u003eAverage_Rating=%{y}\\u003cextra\\u003e\\u003c\\u002fextra\\u003e\",\"hovertext\":[\"\\u72af\\u7f6a\"],\"legendgroup\":\"\\u72af\\u7f6a\",\"marker\":{\"color\":\"#19d3f3\",\"symbol\":\"circle\"},\"mode\":\"markers\",\"name\":\"\\u72af\\u7f6a\",\"orientation\":\"v\",\"showlegend\":true,\"x\":[3753],\"xaxis\":\"x\",\"y\":[6.971196376232337],\"yaxis\":\"y\",\"type\":\"scatter\"},{\"hovertemplate\":\"\\u003cb\\u003e%{hovertext}\\u003c\\u002fb\\u003e\\u003cbr\\u003e\\u003cbr\\u003egenre=\\u6050\\u6016\\u003cbr\\u003eNum=%{x}\\u003cbr\\u003eAverage_Rating=%{y}\\u003cextra\\u003e\\u003c\\u002fextra\\u003e\",\"hovertext\":[\"\\u6050\\u6016\"],\"legendgroup\":\"\\u6050\\u6016\",\"marker\":{\"color\":\"#FF6692\",\"symbol\":\"circle\"},\"mode\":\"markers\",\"name\":\"\\u6050\\u6016\",\"orientation\":\"v\",\"showlegend\":true,\"x\":[2758],\"xaxis\":\"x\",\"y\":[6.109970993473535],\"yaxis\":\"y\",\"type\":\"scatter\"},{\"hovertemplate\":\"\\u003cb\\u003e%{hovertext}\\u003c\\u002fb\\u003e\\u003cbr\\u003e\\u003cbr\\u003egenre=\\u5192\\u9669\\u003cbr\\u003eNum=%{x}\\u003cbr\\u003eAverage_Rating=%{y}\\u003cextra\\u003e\\u003c\\u002fextra\\u003e\",\"hovertext\":[\"\\u5192\\u9669\"],\"legendgroup\":\"\\u5192\\u9669\",\"marker\":{\"color\":\"#B6E880\",\"symbol\":\"circle\"},\"mode\":\"markers\",\"name\":\"\\u5192\\u9669\",\"orientation\":\"v\",\"showlegend\":true,\"x\":[2578],\"xaxis\":\"x\",\"y\":[6.979092319627616],\"yaxis\":\"y\",\"type\":\"scatter\"},{\"hovertemplate\":\"\\u003cb\\u003e%{hovertext}\\u003c\\u002fb\\u003e\\u003cbr\\u003e\\u003cbr\\u003egenre=\\u60ac\\u7591\\u003cbr\\u003eNum=%{x}\\u003cbr\\u003eAverage_Rating=%{y}\\u003cextra\\u003e\\u003c\\u002fextra\\u003e\",\"hovertext\":[\"\\u60ac\\u7591\"],\"legendgroup\":\"\\u60ac\\u7591\",\"marker\":{\"color\":\"#FF97FF\",\"symbol\":\"circle\"},\"mode\":\"markers\",\"name\":\"\\u60ac\\u7591\",\"orientation\":\"v\",\"showlegend\":true,\"x\":[2444],\"xaxis\":\"x\",\"y\":[6.881301145662859],\"yaxis\":\"y\",\"type\":\"scatter\"},{\"hovertemplate\":\"\\u003cb\\u003e%{hovertext}\\u003c\\u002fb\\u003e\\u003cbr\\u003e\\u003cbr\\u003egenre=\\u52a8\\u753b\\u003cbr\\u003eNum=%{x}\\u003cbr\\u003eAverage_Rating=%{y}\\u003cextra\\u003e\\u003c\\u002fextra\\u003e\",\"hovertext\":[\"\\u52a8\\u753b\"],\"legendgroup\":\"\\u52a8\\u753b\",\"marker\":{\"color\":\"#FECB52\",\"symbol\":\"circle\"},\"mode\":\"markers\",\"name\":\"\\u52a8\\u753b\",\"orientation\":\"v\",\"showlegend\":true,\"x\":[2228],\"xaxis\":\"x\",\"y\":[7.5567773788150845],\"yaxis\":\"y\",\"type\":\"scatter\"},{\"hovertemplate\":\"\\u003cb\\u003e%{hovertext}\\u003c\\u002fb\\u003e\\u003cbr\\u003e\\u003cbr\\u003egenre=\\u5947\\u5e7b\\u003cbr\\u003eNum=%{x}\\u003cbr\\u003eAverage_Rating=%{y}\\u003cextra\\u003e\\u003c\\u002fextra\\u003e\",\"hovertext\":[\"\\u5947\\u5e7b\"],\"legendgroup\":\"\\u5947\\u5e7b\",\"marker\":{\"color\":\"#636efa\",\"symbol\":\"circle\"},\"mode\":\"markers\",\"name\":\"\\u5947\\u5e7b\",\"orientation\":\"v\",\"showlegend\":true,\"x\":[2063],\"xaxis\":\"x\",\"y\":[6.9159961221522055],\"yaxis\":\"y\",\"type\":\"scatter\"},{\"hovertemplate\":\"\\u003cb\\u003e%{hovertext}\\u003c\\u002fb\\u003e\\u003cbr\\u003e\\u003cbr\\u003egenre=\\u79d1\\u5e7b\\u003cbr\\u003eNum=%{x}\\u003cbr\\u003eAverage_Rating=%{y}\\u003cextra\\u003e\\u003c\\u002fextra\\u003e\",\"hovertext\":[\"\\u79d1\\u5e7b\"],\"legendgroup\":\"\\u79d1\\u5e7b\",\"marker\":{\"color\":\"#EF553B\",\"symbol\":\"circle\"},\"mode\":\"markers\",\"name\":\"\\u79d1\\u5e7b\",\"orientation\":\"v\",\"showlegend\":true,\"x\":[1869],\"xaxis\":\"x\",\"y\":[6.724772605671484],\"yaxis\":\"y\",\"type\":\"scatter\"},{\"hovertemplate\":\"\\u003cb\\u003e%{hovertext}\\u003c\\u002fb\\u003e\\u003cbr\\u003e\\u003cbr\\u003egenre=\\u5bb6\\u5ead\\u003cbr\\u003eNum=%{x}\\u003cbr\\u003eAverage_Rating=%{y}\\u003cextra\\u003e\\u003c\\u002fextra\\u003e\",\"hovertext\":[\"\\u5bb6\\u5ead\"],\"legendgroup\":\"\\u5bb6\\u5ead\",\"marker\":{\"color\":\"#00cc96\",\"symbol\":\"circle\"},\"mode\":\"markers\",\"name\":\"\\u5bb6\\u5ead\",\"orientation\":\"v\",\"showlegend\":true,\"x\":[1517],\"xaxis\":\"x\",\"y\":[7.402307185234009],\"yaxis\":\"y\",\"type\":\"scatter\"},{\"hovertemplate\":\"\\u003cb\\u003e%{hovertext}\\u003c\\u002fb\\u003e\\u003cbr\\u003e\\u003cbr\\u003egenre=\\u6218\\u4e89\\u003cbr\\u003eNum=%{x}\\u003cbr\\u003eAverage_Rating=%{y}\\u003cextra\\u003e\\u003c\\u002fextra\\u003e\",\"hovertext\":[\"\\u6218\\u4e89\"],\"legendgroup\":\"\\u6218\\u4e89\",\"marker\":{\"color\":\"#ab63fa\",\"symbol\":\"circle\"},\"mode\":\"markers\",\"name\":\"\\u6218\\u4e89\",\"orientation\":\"v\",\"showlegend\":true,\"x\":[1389],\"xaxis\":\"x\",\"y\":[7.307271418286527],\"yaxis\":\"y\",\"type\":\"scatter\"},{\"hovertemplate\":\"\\u003cb\\u003e%{hovertext}\\u003c\\u002fb\\u003e\\u003cbr\\u003e\\u003cbr\\u003egenre=\\u5386\\u53f2\\u003cbr\\u003eNum=%{x}\\u003cbr\\u003eAverage_Rating=%{y}\\u003cextra\\u003e\\u003c\\u002fextra\\u003e\",\"hovertext\":[\"\\u5386\\u53f2\"],\"legendgroup\":\"\\u5386\\u53f2\",\"marker\":{\"color\":\"#FFA15A\",\"symbol\":\"circle\"},\"mode\":\"markers\",\"name\":\"\\u5386\\u53f2\",\"orientation\":\"v\",\"showlegend\":true,\"x\":[1064],\"xaxis\":\"x\",\"y\":[7.403289473684213],\"yaxis\":\"y\",\"type\":\"scatter\"},{\"hovertemplate\":\"\\u003cb\\u003e%{hovertext}\\u003c\\u002fb\\u003e\\u003cbr\\u003e\\u003cbr\\u003egenre=\\u4f20\\u8bb0\\u003cbr\\u003eNum=%{x}\\u003cbr\\u003eAverage_Rating=%{y}\\u003cextra\\u003e\\u003c\\u002fextra\\u003e\",\"hovertext\":[\"\\u4f20\\u8bb0\"],\"legendgroup\":\"\\u4f20\\u8bb0\",\"marker\":{\"color\":\"#19d3f3\",\"symbol\":\"circle\"},\"mode\":\"markers\",\"name\":\"\\u4f20\\u8bb0\",\"orientation\":\"v\",\"showlegend\":true,\"x\":[971],\"xaxis\":\"x\",\"y\":[7.49104016477858],\"yaxis\":\"y\",\"type\":\"scatter\"},{\"hovertemplate\":\"\\u003cb\\u003e%{hovertext}\\u003c\\u002fb\\u003e\\u003cbr\\u003e\\u003cbr\\u003egenre=\\u97f3\\u4e50\\u003cbr\\u003eNum=%{x}\\u003cbr\\u003eAverage_Rating=%{y}\\u003cextra\\u003e\\u003c\\u002fextra\\u003e\",\"hovertext\":[\"\\u97f3\\u4e50\"],\"legendgroup\":\"\\u97f3\\u4e50\",\"marker\":{\"color\":\"#FF6692\",\"symbol\":\"circle\"},\"mode\":\"markers\",\"name\":\"\\u97f3\\u4e50\",\"orientation\":\"v\",\"showlegend\":true,\"x\":[877],\"xaxis\":\"x\",\"y\":[7.756670467502863],\"yaxis\":\"y\",\"type\":\"scatter\"},{\"hovertemplate\":\"\\u003cb\\u003e%{hovertext}\\u003c\\u002fb\\u003e\\u003cbr\\u003e\\u003cbr\\u003egenre=\\u6b4c\\u821e\\u003cbr\\u003eNum=%{x}\\u003cbr\\u003eAverage_Rating=%{y}\\u003cextra\\u003e\\u003c\\u002fextra\\u003e\",\"hovertext\":[\"\\u6b4c\\u821e\"],\"legendgroup\":\"\\u6b4c\\u821e\",\"marker\":{\"color\":\"#B6E880\",\"symbol\":\"circle\"},\"mode\":\"markers\",\"name\":\"\\u6b4c\\u821e\",\"orientation\":\"v\",\"showlegend\":true,\"x\":[685],\"xaxis\":\"x\",\"y\":[7.423941605839417],\"yaxis\":\"y\",\"type\":\"scatter\"},{\"hovertemplate\":\"\\u003cb\\u003e%{hovertext}\\u003c\\u002fb\\u003e\\u003cbr\\u003e\\u003cbr\\u003egenre=\\u540c\\u6027\\u003cbr\\u003eNum=%{x}\\u003cbr\\u003eAverage_Rating=%{y}\\u003cextra\\u003e\\u003c\\u002fextra\\u003e\",\"hovertext\":[\"\\u540c\\u6027\"],\"legendgroup\":\"\\u540c\\u6027\",\"marker\":{\"color\":\"#FF97FF\",\"symbol\":\"circle\"},\"mode\":\"markers\",\"name\":\"\\u540c\\u6027\",\"orientation\":\"v\",\"showlegend\":true,\"x\":[678],\"xaxis\":\"x\",\"y\":[7.071091445427729],\"yaxis\":\"y\",\"type\":\"scatter\"},{\"hovertemplate\":\"\\u003cb\\u003e%{hovertext}\\u003c\\u002fb\\u003e\\u003cbr\\u003e\\u003cbr\\u003egenre=\\u53e4\\u88c5\\u003cbr\\u003eNum=%{x}\\u003cbr\\u003eAverage_Rating=%{y}\\u003cextra\\u003e\\u003c\\u002fextra\\u003e\",\"hovertext\":[\"\\u53e4\\u88c5\"],\"legendgroup\":\"\\u53e4\\u88c5\",\"marker\":{\"color\":\"#FECB52\",\"symbol\":\"circle\"},\"mode\":\"markers\",\"name\":\"\\u53e4\\u88c5\",\"orientation\":\"v\",\"showlegend\":true,\"x\":[557],\"xaxis\":\"x\",\"y\":[6.66391382405745],\"yaxis\":\"y\",\"type\":\"scatter\"},{\"hovertemplate\":\"\\u003cb\\u003e%{hovertext}\\u003c\\u002fb\\u003e\\u003cbr\\u003e\\u003cbr\\u003egenre=\\u8fd0\\u52a8\\u003cbr\\u003eNum=%{x}\\u003cbr\\u003eAverage_Rating=%{y}\\u003cextra\\u003e\\u003c\\u002fextra\\u003e\",\"hovertext\":[\"\\u8fd0\\u52a8\"],\"legendgroup\":\"\\u8fd0\\u52a8\",\"marker\":{\"color\":\"#636efa\",\"symbol\":\"circle\"},\"mode\":\"markers\",\"name\":\"\\u8fd0\\u52a8\",\"orientation\":\"v\",\"showlegend\":true,\"x\":[435],\"xaxis\":\"x\",\"y\":[7.327816091954027],\"yaxis\":\"y\",\"type\":\"scatter\"},{\"hovertemplate\":\"\\u003cb\\u003e%{hovertext}\\u003c\\u002fb\\u003e\\u003cbr\\u003e\\u003cbr\\u003egenre=\\u6b66\\u4fa0\\u003cbr\\u003eNum=%{x}\\u003cbr\\u003eAverage_Rating=%{y}\\u003cextra\\u003e\\u003c\\u002fextra\\u003e\",\"hovertext\":[\"\\u6b66\\u4fa0\"],\"legendgroup\":\"\\u6b66\\u4fa0\",\"marker\":{\"color\":\"#EF553B\",\"symbol\":\"circle\"},\"mode\":\"markers\",\"name\":\"\\u6b66\\u4fa0\",\"orientation\":\"v\",\"showlegend\":true,\"x\":[363],\"xaxis\":\"x\",\"y\":[6.6454545454545375],\"yaxis\":\"y\",\"type\":\"scatter\"},{\"hovertemplate\":\"\\u003cb\\u003e%{hovertext}\\u003c\\u002fb\\u003e\\u003cbr\\u003e\\u003cbr\\u003egenre=\\u60c5\\u8272\\u003cbr\\u003eNum=%{x}\\u003cbr\\u003eAverage_Rating=%{y}\\u003cextra\\u003e\\u003c\\u002fextra\\u003e\",\"hovertext\":[\"\\u60c5\\u8272\"],\"legendgroup\":\"\\u60c5\\u8272\",\"marker\":{\"color\":\"#00cc96\",\"symbol\":\"circle\"},\"mode\":\"markers\",\"name\":\"\\u60c5\\u8272\",\"orientation\":\"v\",\"showlegend\":true,\"x\":[340],\"xaxis\":\"x\",\"y\":[6.041470588235294],\"yaxis\":\"y\",\"type\":\"scatter\"},{\"hovertemplate\":\"\\u003cb\\u003e%{hovertext}\\u003c\\u002fb\\u003e\\u003cbr\\u003e\\u003cbr\\u003egenre=\\u897f\\u90e8\\u003cbr\\u003eNum=%{x}\\u003cbr\\u003eAverage_Rating=%{y}\\u003cextra\\u003e\\u003c\\u002fextra\\u003e\",\"hovertext\":[\"\\u897f\\u90e8\"],\"legendgroup\":\"\\u897f\\u90e8\",\"marker\":{\"color\":\"#ab63fa\",\"symbol\":\"circle\"},\"mode\":\"markers\",\"name\":\"\\u897f\\u90e8\",\"orientation\":\"v\",\"showlegend\":true,\"x\":[323],\"xaxis\":\"x\",\"y\":[7.207430340557275],\"yaxis\":\"y\",\"type\":\"scatter\"},{\"hovertemplate\":\"\\u003cb\\u003e%{hovertext}\\u003c\\u002fb\\u003e\\u003cbr\\u003e\\u003cbr\\u003egenre=\\u513f\\u7ae5\\u003cbr\\u003eNum=%{x}\\u003cbr\\u003eAverage_Rating=%{y}\\u003cextra\\u003e\\u003c\\u002fextra\\u003e\",\"hovertext\":[\"\\u513f\\u7ae5\"],\"legendgroup\":\"\\u513f\\u7ae5\",\"marker\":{\"color\":\"#FFA15A\",\"symbol\":\"circle\"},\"mode\":\"markers\",\"name\":\"\\u513f\\u7ae5\",\"orientation\":\"v\",\"showlegend\":true,\"x\":[229],\"xaxis\":\"x\",\"y\":[7.321834061135366],\"yaxis\":\"y\",\"type\":\"scatter\"},{\"hovertemplate\":\"\\u003cb\\u003e%{hovertext}\\u003c\\u002fb\\u003e\\u003cbr\\u003e\\u003cbr\\u003egenre=\\u9ed1\\u8272\\u7535\\u5f71\\u003cbr\\u003eNum=%{x}\\u003cbr\\u003eAverage_Rating=%{y}\\u003cextra\\u003e\\u003c\\u002fextra\\u003e\",\"hovertext\":[\"\\u9ed1\\u8272\\u7535\\u5f71\"],\"legendgroup\":\"\\u9ed1\\u8272\\u7535\\u5f71\",\"marker\":{\"color\":\"#19d3f3\",\"symbol\":\"circle\"},\"mode\":\"markers\",\"name\":\"\\u9ed1\\u8272\\u7535\\u5f71\",\"orientation\":\"v\",\"showlegend\":true,\"x\":[202],\"xaxis\":\"x\",\"y\":[7.194059405940593],\"yaxis\":\"y\",\"type\":\"scatter\"},{\"hovertemplate\":\"\\u003cb\\u003e%{hovertext}\\u003c\\u002fb\\u003e\\u003cbr\\u003e\\u003cbr\\u003egenre=\\u707e\\u96be\\u003cbr\\u003eNum=%{x}\\u003cbr\\u003eAverage_Rating=%{y}\\u003cextra\\u003e\\u003c\\u002fextra\\u003e\",\"hovertext\":[\"\\u707e\\u96be\"],\"legendgroup\":\"\\u707e\\u96be\",\"marker\":{\"color\":\"#FF6692\",\"symbol\":\"circle\"},\"mode\":\"markers\",\"name\":\"\\u707e\\u96be\",\"orientation\":\"v\",\"showlegend\":true,\"x\":[133],\"xaxis\":\"x\",\"y\":[6.576691729323307],\"yaxis\":\"y\",\"type\":\"scatter\"},{\"hovertemplate\":\"\\u003cb\\u003e%{hovertext}\\u003c\\u002fb\\u003e\\u003cbr\\u003e\\u003cbr\\u003egenre=\\u620f\\u66f2\\u003cbr\\u003eNum=%{x}\\u003cbr\\u003eAverage_Rating=%{y}\\u003cextra\\u003e\\u003c\\u002fextra\\u003e\",\"hovertext\":[\"\\u620f\\u66f2\"],\"legendgroup\":\"\\u620f\\u66f2\",\"marker\":{\"color\":\"#B6E880\",\"symbol\":\"circle\"},\"mode\":\"markers\",\"name\":\"\\u620f\\u66f2\",\"orientation\":\"v\",\"showlegend\":true,\"x\":[87],\"xaxis\":\"x\",\"y\":[8.244827586206895],\"yaxis\":\"y\",\"type\":\"scatter\"},{\"hovertemplate\":\"\\u003cb\\u003e%{hovertext}\\u003c\\u002fb\\u003e\\u003cbr\\u003e\\u003cbr\\u003egenre=\\u821e\\u53f0\\u827a\\u672f\\u003cbr\\u003eNum=%{x}\\u003cbr\\u003eAverage_Rating=%{y}\\u003cextra\\u003e\\u003c\\u002fextra\\u003e\",\"hovertext\":[\"\\u821e\\u53f0\\u827a\\u672f\"],\"legendgroup\":\"\\u821e\\u53f0\\u827a\\u672f\",\"marker\":{\"color\":\"#FF97FF\",\"symbol\":\"circle\"},\"mode\":\"markers\",\"name\":\"\\u821e\\u53f0\\u827a\\u672f\",\"orientation\":\"v\",\"showlegend\":true,\"x\":[68],\"xaxis\":\"x\",\"y\":[8.536764705882353],\"yaxis\":\"y\",\"type\":\"scatter\"},{\"hovertemplate\":\"\\u003cb\\u003e%{hovertext}\\u003c\\u002fb\\u003e\\u003cbr\\u003e\\u003cbr\\u003egenre=\\u8131\\u53e3\\u79c0\\u003cbr\\u003eNum=%{x}\\u003cbr\\u003eAverage_Rating=%{y}\\u003cextra\\u003e\\u003c\\u002fextra\\u003e\",\"hovertext\":[\"\\u8131\\u53e3\\u79c0\"],\"legendgroup\":\"\\u8131\\u53e3\\u79c0\",\"marker\":{\"color\":\"#FECB52\",\"symbol\":\"circle\"},\"mode\":\"markers\",\"name\":\"\\u8131\\u53e3\\u79c0\",\"orientation\":\"v\",\"showlegend\":true,\"x\":[58],\"xaxis\":\"x\",\"y\":[8.434482758620693],\"yaxis\":\"y\",\"type\":\"scatter\"},{\"hovertemplate\":\"\\u003cb\\u003e%{hovertext}\\u003c\\u002fb\\u003e\\u003cbr\\u003e\\u003cbr\\u003egenre=\\u771f\\u4eba\\u79c0\\u003cbr\\u003eNum=%{x}\\u003cbr\\u003eAverage_Rating=%{y}\\u003cextra\\u003e\\u003c\\u002fextra\\u003e\",\"hovertext\":[\"\\u771f\\u4eba\\u79c0\"],\"legendgroup\":\"\\u771f\\u4eba\\u79c0\",\"marker\":{\"color\":\"#636efa\",\"symbol\":\"circle\"},\"mode\":\"markers\",\"name\":\"\\u771f\\u4eba\\u79c0\",\"orientation\":\"v\",\"showlegend\":true,\"x\":[49],\"xaxis\":\"x\",\"y\":[7.302040816326533],\"yaxis\":\"y\",\"type\":\"scatter\"},{\"hovertemplate\":\"\\u003cb\\u003e%{hovertext}\\u003c\\u002fb\\u003e\\u003cbr\\u003e\\u003cbr\\u003egenre=Adult\\u003cbr\\u003eNum=%{x}\\u003cbr\\u003eAverage_Rating=%{y}\\u003cextra\\u003e\\u003c\\u002fextra\\u003e\",\"hovertext\":[\"Adult\"],\"legendgroup\":\"Adult\",\"marker\":{\"color\":\"#EF553B\",\"symbol\":\"circle\"},\"mode\":\"markers\",\"name\":\"Adult\",\"orientation\":\"v\",\"showlegend\":true,\"x\":[36],\"xaxis\":\"x\",\"y\":[5.947222222222223],\"yaxis\":\"y\",\"type\":\"scatter\"},{\"hovertemplate\":\"\\u003cb\\u003e%{hovertext}\\u003c\\u002fb\\u003e\\u003cbr\\u003e\\u003cbr\\u003egenre=\\u9b3c\\u602a\\u003cbr\\u003eNum=%{x}\\u003cbr\\u003eAverage_Rating=%{y}\\u003cextra\\u003e\\u003c\\u002fextra\\u003e\",\"hovertext\":[\"\\u9b3c\\u602a\"],\"legendgroup\":\"\\u9b3c\\u602a\",\"marker\":{\"color\":\"#00cc96\",\"symbol\":\"circle\"},\"mode\":\"markers\",\"name\":\"\\u9b3c\\u602a\",\"orientation\":\"v\",\"showlegend\":true,\"x\":[32],\"xaxis\":\"x\",\"y\":[6.371874999999998],\"yaxis\":\"y\",\"type\":\"scatter\"},{\"hovertemplate\":\"\\u003cb\\u003e%{hovertext}\\u003c\\u002fb\\u003e\\u003cbr\\u003e\\u003cbr\\u003egenre=\\u60ca\\u6817\\u003cbr\\u003eNum=%{x}\\u003cbr\\u003eAverage_Rating=%{y}\\u003cextra\\u003e\\u003c\\u002fextra\\u003e\",\"hovertext\":[\"\\u60ca\\u6817\"],\"legendgroup\":\"\\u60ca\\u6817\",\"marker\":{\"color\":\"#ab63fa\",\"symbol\":\"circle\"},\"mode\":\"markers\",\"name\":\"\\u60ca\\u6817\",\"orientation\":\"v\",\"showlegend\":true,\"x\":[17],\"xaxis\":\"x\",\"y\":[6.564705882352942],\"yaxis\":\"y\",\"type\":\"scatter\"},{\"hovertemplate\":\"\\u003cb\\u003e%{hovertext}\\u003c\\u002fb\\u003e\\u003cbr\\u003e\\u003cbr\\u003egenre=\\u60ac\\u5ff5\\u003cbr\\u003eNum=%{x}\\u003cbr\\u003eAverage_Rating=%{y}\\u003cextra\\u003e\\u003c\\u002fextra\\u003e\",\"hovertext\":[\"\\u60ac\\u5ff5\"],\"legendgroup\":\"\\u60ac\\u5ff5\",\"marker\":{\"color\":\"#FFA15A\",\"symbol\":\"circle\"},\"mode\":\"markers\",\"name\":\"\\u60ac\\u5ff5\",\"orientation\":\"v\",\"showlegend\":true,\"x\":[5],\"xaxis\":\"x\",\"y\":[7.279999999999999],\"yaxis\":\"y\",\"type\":\"scatter\"},{\"hovertemplate\":\"\\u003cb\\u003e%{hovertext}\\u003c\\u002fb\\u003e\\u003cbr\\u003e\\u003cbr\\u003egenre=\\u8352\\u8bde\\u003cbr\\u003eNum=%{x}\\u003cbr\\u003eAverage_Rating=%{y}\\u003cextra\\u003e\\u003c\\u002fextra\\u003e\",\"hovertext\":[\"\\u8352\\u8bde\"],\"legendgroup\":\"\\u8352\\u8bde\",\"marker\":{\"color\":\"#19d3f3\",\"symbol\":\"circle\"},\"mode\":\"markers\",\"name\":\"\\u8352\\u8bde\",\"orientation\":\"v\",\"showlegend\":true,\"x\":[5],\"xaxis\":\"x\",\"y\":[8.059999999999999],\"yaxis\":\"y\",\"type\":\"scatter\"},{\"hovertemplate\":\"\\u003cb\\u003e%{hovertext}\\u003c\\u002fb\\u003e\\u003cbr\\u003e\\u003cbr\\u003egenre=\\u7eaa\\u5f55\\u7247\\u003cbr\\u003eNum=%{x}\\u003cbr\\u003eAverage_Rating=%{y}\\u003cextra\\u003e\\u003c\\u002fextra\\u003e\",\"hovertext\":[\"\\u7eaa\\u5f55\\u7247\"],\"legendgroup\":\"\\u7eaa\\u5f55\\u7247\",\"marker\":{\"color\":\"#FF6692\",\"symbol\":\"circle\"},\"mode\":\"markers\",\"name\":\"\\u7eaa\\u5f55\\u7247\",\"orientation\":\"v\",\"showlegend\":true,\"x\":[3],\"xaxis\":\"x\",\"y\":[8.5],\"yaxis\":\"y\",\"type\":\"scatter\"},{\"hovertemplate\":\"\\u003cb\\u003e%{hovertext}\\u003c\\u002fb\\u003e\\u003cbr\\u003e\\u003cbr\\u003egenre=Talk-Show\\u003cbr\\u003eNum=%{x}\\u003cbr\\u003eAverage_Rating=%{y}\\u003cextra\\u003e\\u003c\\u002fextra\\u003e\",\"hovertext\":[\"Talk-Show\"],\"legendgroup\":\"Talk-Show\",\"marker\":{\"color\":\"#B6E880\",\"symbol\":\"circle\"},\"mode\":\"markers\",\"name\":\"Talk-Show\",\"orientation\":\"v\",\"showlegend\":true,\"x\":[2],\"xaxis\":\"x\",\"y\":[9.0],\"yaxis\":\"y\",\"type\":\"scatter\"},{\"hovertemplate\":\"\\u003cb\\u003e%{hovertext}\\u003c\\u002fb\\u003e\\u003cbr\\u003e\\u003cbr\\u003egenre=Reality-TV\\u003cbr\\u003eNum=%{x}\\u003cbr\\u003eAverage_Rating=%{y}\\u003cextra\\u003e\\u003c\\u002fextra\\u003e\",\"hovertext\":[\"Reality-TV\"],\"legendgroup\":\"Reality-TV\",\"marker\":{\"color\":\"#FF97FF\",\"symbol\":\"circle\"},\"mode\":\"markers\",\"name\":\"Reality-TV\",\"orientation\":\"v\",\"showlegend\":true,\"x\":[2],\"xaxis\":\"x\",\"y\":[5.800000000000001],\"yaxis\":\"y\",\"type\":\"scatter\"},{\"hovertemplate\":\"\\u003cb\\u003e%{hovertext}\\u003c\\u002fb\\u003e\\u003cbr\\u003e\\u003cbr\\u003egenre=Comedy\\u003cbr\\u003eNum=%{x}\\u003cbr\\u003eAverage_Rating=%{y}\\u003cextra\\u003e\\u003c\\u002fextra\\u003e\",\"hovertext\":[\"Comedy\"],\"legendgroup\":\"Comedy\",\"marker\":{\"color\":\"#FECB52\",\"symbol\":\"circle\"},\"mode\":\"markers\",\"name\":\"Comedy\",\"orientation\":\"v\",\"showlegend\":true,\"x\":[1],\"xaxis\":\"x\",\"y\":[6.7],\"yaxis\":\"y\",\"type\":\"scatter\"}],                        {\"template\":{\"data\":{\"histogram2dcontour\":[{\"type\":\"histogram2dcontour\",\"colorbar\":{\"outlinewidth\":0,\"ticks\":\"\"},\"colorscale\":[[0.0,\"#0d0887\"],[0.1111111111111111,\"#46039f\"],[0.2222222222222222,\"#7201a8\"],[0.3333333333333333,\"#9c179e\"],[0.4444444444444444,\"#bd3786\"],[0.5555555555555556,\"#d8576b\"],[0.6666666666666666,\"#ed7953\"],[0.7777777777777778,\"#fb9f3a\"],[0.8888888888888888,\"#fdca26\"],[1.0,\"#f0f921\"]]}],\"choropleth\":[{\"type\":\"choropleth\",\"colorbar\":{\"outlinewidth\":0,\"ticks\":\"\"}}],\"histogram2d\":[{\"type\":\"histogram2d\",\"colorbar\":{\"outlinewidth\":0,\"ticks\":\"\"},\"colorscale\":[[0.0,\"#0d0887\"],[0.1111111111111111,\"#46039f\"],[0.2222222222222222,\"#7201a8\"],[0.3333333333333333,\"#9c179e\"],[0.4444444444444444,\"#bd3786\"],[0.5555555555555556,\"#d8576b\"],[0.6666666666666666,\"#ed7953\"],[0.7777777777777778,\"#fb9f3a\"],[0.8888888888888888,\"#fdca26\"],[1.0,\"#f0f921\"]]}],\"heatmap\":[{\"type\":\"heatmap\",\"colorbar\":{\"outlinewidth\":0,\"ticks\":\"\"},\"colorscale\":[[0.0,\"#0d0887\"],[0.1111111111111111,\"#46039f\"],[0.2222222222222222,\"#7201a8\"],[0.3333333333333333,\"#9c179e\"],[0.4444444444444444,\"#bd3786\"],[0.5555555555555556,\"#d8576b\"],[0.6666666666666666,\"#ed7953\"],[0.7777777777777778,\"#fb9f3a\"],[0.8888888888888888,\"#fdca26\"],[1.0,\"#f0f921\"]]}],\"heatmapgl\":[{\"type\":\"heatmapgl\",\"colorbar\":{\"outlinewidth\":0,\"ticks\":\"\"},\"colorscale\":[[0.0,\"#0d0887\"],[0.1111111111111111,\"#46039f\"],[0.2222222222222222,\"#7201a8\"],[0.3333333333333333,\"#9c179e\"],[0.4444444444444444,\"#bd3786\"],[0.5555555555555556,\"#d8576b\"],[0.6666666666666666,\"#ed7953\"],[0.7777777777777778,\"#fb9f3a\"],[0.8888888888888888,\"#fdca26\"],[1.0,\"#f0f921\"]]}],\"contourcarpet\":[{\"type\":\"contourcarpet\",\"colorbar\":{\"outlinewidth\":0,\"ticks\":\"\"}}],\"contour\":[{\"type\":\"contour\",\"colorbar\":{\"outlinewidth\":0,\"ticks\":\"\"},\"colorscale\":[[0.0,\"#0d0887\"],[0.1111111111111111,\"#46039f\"],[0.2222222222222222,\"#7201a8\"],[0.3333333333333333,\"#9c179e\"],[0.4444444444444444,\"#bd3786\"],[0.5555555555555556,\"#d8576b\"],[0.6666666666666666,\"#ed7953\"],[0.7777777777777778,\"#fb9f3a\"],[0.8888888888888888,\"#fdca26\"],[1.0,\"#f0f921\"]]}],\"surface\":[{\"type\":\"surface\",\"colorbar\":{\"outlinewidth\":0,\"ticks\":\"\"},\"colorscale\":[[0.0,\"#0d0887\"],[0.1111111111111111,\"#46039f\"],[0.2222222222222222,\"#7201a8\"],[0.3333333333333333,\"#9c179e\"],[0.4444444444444444,\"#bd3786\"],[0.5555555555555556,\"#d8576b\"],[0.6666666666666666,\"#ed7953\"],[0.7777777777777778,\"#fb9f3a\"],[0.8888888888888888,\"#fdca26\"],[1.0,\"#f0f921\"]]}],\"mesh3d\":[{\"type\":\"mesh3d\",\"colorbar\":{\"outlinewidth\":0,\"ticks\":\"\"}}],\"scatter\":[{\"marker\":{\"line\":{\"color\":\"#283442\"}},\"type\":\"scatter\"}],\"parcoords\":[{\"type\":\"parcoords\",\"line\":{\"colorbar\":{\"outlinewidth\":0,\"ticks\":\"\"}}}],\"scatterpolargl\":[{\"type\":\"scatterpolargl\",\"marker\":{\"colorbar\":{\"outlinewidth\":0,\"ticks\":\"\"}}}],\"bar\":[{\"error_x\":{\"color\":\"#f2f5fa\"},\"error_y\":{\"color\":\"#f2f5fa\"},\"marker\":{\"line\":{\"color\":\"rgb(17,17,17)\",\"width\":0.5},\"pattern\":{\"fillmode\":\"overlay\",\"size\":10,\"solidity\":0.2}},\"type\":\"bar\"}],\"scattergeo\":[{\"type\":\"scattergeo\",\"marker\":{\"colorbar\":{\"outlinewidth\":0,\"ticks\":\"\"}}}],\"scatterpolar\":[{\"type\":\"scatterpolar\",\"marker\":{\"colorbar\":{\"outlinewidth\":0,\"ticks\":\"\"}}}],\"histogram\":[{\"marker\":{\"pattern\":{\"fillmode\":\"overlay\",\"size\":10,\"solidity\":0.2}},\"type\":\"histogram\"}],\"scattergl\":[{\"marker\":{\"line\":{\"color\":\"#283442\"}},\"type\":\"scattergl\"}],\"scatter3d\":[{\"type\":\"scatter3d\",\"line\":{\"colorbar\":{\"outlinewidth\":0,\"ticks\":\"\"}},\"marker\":{\"colorbar\":{\"outlinewidth\":0,\"ticks\":\"\"}}}],\"scattermapbox\":[{\"type\":\"scattermapbox\",\"marker\":{\"colorbar\":{\"outlinewidth\":0,\"ticks\":\"\"}}}],\"scatterternary\":[{\"type\":\"scatterternary\",\"marker\":{\"colorbar\":{\"outlinewidth\":0,\"ticks\":\"\"}}}],\"scattercarpet\":[{\"type\":\"scattercarpet\",\"marker\":{\"colorbar\":{\"outlinewidth\":0,\"ticks\":\"\"}}}],\"carpet\":[{\"aaxis\":{\"endlinecolor\":\"#A2B1C6\",\"gridcolor\":\"#506784\",\"linecolor\":\"#506784\",\"minorgridcolor\":\"#506784\",\"startlinecolor\":\"#A2B1C6\"},\"baxis\":{\"endlinecolor\":\"#A2B1C6\",\"gridcolor\":\"#506784\",\"linecolor\":\"#506784\",\"minorgridcolor\":\"#506784\",\"startlinecolor\":\"#A2B1C6\"},\"type\":\"carpet\"}],\"table\":[{\"cells\":{\"fill\":{\"color\":\"#506784\"},\"line\":{\"color\":\"rgb(17,17,17)\"}},\"header\":{\"fill\":{\"color\":\"#2a3f5f\"},\"line\":{\"color\":\"rgb(17,17,17)\"}},\"type\":\"table\"}],\"barpolar\":[{\"marker\":{\"line\":{\"color\":\"rgb(17,17,17)\",\"width\":0.5},\"pattern\":{\"fillmode\":\"overlay\",\"size\":10,\"solidity\":0.2}},\"type\":\"barpolar\"}],\"pie\":[{\"automargin\":true,\"type\":\"pie\"}]},\"layout\":{\"autotypenumbers\":\"strict\",\"colorway\":[\"#636efa\",\"#EF553B\",\"#00cc96\",\"#ab63fa\",\"#FFA15A\",\"#19d3f3\",\"#FF6692\",\"#B6E880\",\"#FF97FF\",\"#FECB52\"],\"font\":{\"color\":\"#f2f5fa\"},\"hovermode\":\"closest\",\"hoverlabel\":{\"align\":\"left\"},\"paper_bgcolor\":\"rgb(17,17,17)\",\"plot_bgcolor\":\"rgb(17,17,17)\",\"polar\":{\"bgcolor\":\"rgb(17,17,17)\",\"angularaxis\":{\"gridcolor\":\"#506784\",\"linecolor\":\"#506784\",\"ticks\":\"\"},\"radialaxis\":{\"gridcolor\":\"#506784\",\"linecolor\":\"#506784\",\"ticks\":\"\"}},\"ternary\":{\"bgcolor\":\"rgb(17,17,17)\",\"aaxis\":{\"gridcolor\":\"#506784\",\"linecolor\":\"#506784\",\"ticks\":\"\"},\"baxis\":{\"gridcolor\":\"#506784\",\"linecolor\":\"#506784\",\"ticks\":\"\"},\"caxis\":{\"gridcolor\":\"#506784\",\"linecolor\":\"#506784\",\"ticks\":\"\"}},\"coloraxis\":{\"colorbar\":{\"outlinewidth\":0,\"ticks\":\"\"}},\"colorscale\":{\"sequential\":[[0.0,\"#0d0887\"],[0.1111111111111111,\"#46039f\"],[0.2222222222222222,\"#7201a8\"],[0.3333333333333333,\"#9c179e\"],[0.4444444444444444,\"#bd3786\"],[0.5555555555555556,\"#d8576b\"],[0.6666666666666666,\"#ed7953\"],[0.7777777777777778,\"#fb9f3a\"],[0.8888888888888888,\"#fdca26\"],[1.0,\"#f0f921\"]],\"sequentialminus\":[[0.0,\"#0d0887\"],[0.1111111111111111,\"#46039f\"],[0.2222222222222222,\"#7201a8\"],[0.3333333333333333,\"#9c179e\"],[0.4444444444444444,\"#bd3786\"],[0.5555555555555556,\"#d8576b\"],[0.6666666666666666,\"#ed7953\"],[0.7777777777777778,\"#fb9f3a\"],[0.8888888888888888,\"#fdca26\"],[1.0,\"#f0f921\"]],\"diverging\":[[0,\"#8e0152\"],[0.1,\"#c51b7d\"],[0.2,\"#de77ae\"],[0.3,\"#f1b6da\"],[0.4,\"#fde0ef\"],[0.5,\"#f7f7f7\"],[0.6,\"#e6f5d0\"],[0.7,\"#b8e186\"],[0.8,\"#7fbc41\"],[0.9,\"#4d9221\"],[1,\"#276419\"]]},\"xaxis\":{\"gridcolor\":\"#283442\",\"linecolor\":\"#506784\",\"ticks\":\"\",\"title\":{\"standoff\":15},\"zerolinecolor\":\"#283442\",\"automargin\":true,\"zerolinewidth\":2},\"yaxis\":{\"gridcolor\":\"#283442\",\"linecolor\":\"#506784\",\"ticks\":\"\",\"title\":{\"standoff\":15},\"zerolinecolor\":\"#283442\",\"automargin\":true,\"zerolinewidth\":2},\"scene\":{\"xaxis\":{\"backgroundcolor\":\"rgb(17,17,17)\",\"gridcolor\":\"#506784\",\"linecolor\":\"#506784\",\"showbackground\":true,\"ticks\":\"\",\"zerolinecolor\":\"#C8D4E3\",\"gridwidth\":2},\"yaxis\":{\"backgroundcolor\":\"rgb(17,17,17)\",\"gridcolor\":\"#506784\",\"linecolor\":\"#506784\",\"showbackground\":true,\"ticks\":\"\",\"zerolinecolor\":\"#C8D4E3\",\"gridwidth\":2},\"zaxis\":{\"backgroundcolor\":\"rgb(17,17,17)\",\"gridcolor\":\"#506784\",\"linecolor\":\"#506784\",\"showbackground\":true,\"ticks\":\"\",\"zerolinecolor\":\"#C8D4E3\",\"gridwidth\":2}},\"shapedefaults\":{\"line\":{\"color\":\"#f2f5fa\"}},\"annotationdefaults\":{\"arrowcolor\":\"#f2f5fa\",\"arrowhead\":0,\"arrowwidth\":1},\"geo\":{\"bgcolor\":\"rgb(17,17,17)\",\"landcolor\":\"rgb(17,17,17)\",\"subunitcolor\":\"#506784\",\"showland\":true,\"showlakes\":true,\"lakecolor\":\"rgb(17,17,17)\"},\"title\":{\"x\":0.05},\"updatemenudefaults\":{\"bgcolor\":\"#506784\",\"borderwidth\":0},\"sliderdefaults\":{\"bgcolor\":\"#C8D4E3\",\"borderwidth\":1,\"bordercolor\":\"rgb(17,17,17)\",\"tickwidth\":0},\"mapbox\":{\"style\":\"dark\"}}},\"xaxis\":{\"anchor\":\"y\",\"domain\":[0.0,1.0],\"title\":{\"text\":\"Num\"}},\"yaxis\":{\"anchor\":\"x\",\"domain\":[0.0,1.0],\"title\":{\"text\":\"Average_Rating\"}},\"legend\":{\"title\":{\"text\":\"genre\"},\"tracegroupgap\":0},\"title\":{\"text\":\"\\u5404\\u7c7b\\u578b\\u7535\\u5f71\\u6570\\u548c\\u5e73\\u5747\\u8bc4\\u5206\\u5173\\u7cfb\"}},                        {\"responsive\": true}                    ).then(function(){\n                            \nvar gd = document.getElementById('e89f0886-b62d-4f7a-b92f-1c044e9096f9');\nvar x = new MutationObserver(function (mutations, observer) {{\n        var display = window.getComputedStyle(gd).display;\n        if (!display || display === 'none') {{\n            console.log([gd, 'removed!']);\n            Plotly.purge(gd);\n            observer.disconnect();\n        }}\n}});\n\n// Listen for the removal of the full notebook cells\nvar notebookContainer = gd.closest('#notebook-container');\nif (notebookContainer) {{\n    x.observe(notebookContainer, {childList: true});\n}}\n\n// Listen for the clearing of the current output cell\nvar outputEl = gd.closest('.output');\nif (outputEl) {{\n    x.observe(outputEl, {childList: true});\n}}\n\n                        })                };                });            </script>        </div>"
     },
     "metadata": {},
     "output_type": "display_data"
    }
   ],
   "source": [
    "fig6 = px.scatter(genreNum_avergeRating, x=\"Num\", y=\"Average_Rating\",\n",
    "                 color=\"genre\",\n",
    "                 hover_name=\"genre\",\n",
    "                 title = \"各类型电影数和平均评分关系\"\n",
    "                 )\n",
    "fig6.show()"
   ]
  },
  {
   "cell_type": "code",
   "execution_count": 45,
   "metadata": {
    "ExecuteTime": {
     "end_time": "2023-06-23T11:03:52.073263064Z",
     "start_time": "2023-06-23T11:03:51.390244940Z"
    }
   },
   "outputs": [
    {
     "data": {
      "application/vnd.plotly.v1+json": {
       "data": [
        {
         "hovertemplate": "<b>%{hovertext}</b><br><br>genre=%{x}<br>Average_Rating=%{y}<br>Num=%{marker.size}<extra></extra>",
         "hovertext": [
          "剧情"
         ],
         "legendgroup": "剧情",
         "marker": {
          "color": "#636efa",
          "size": [
           17570
          ],
          "sizemode": "area",
          "sizeref": 43.925,
          "symbol": "circle"
         },
         "mode": "markers",
         "name": "剧情",
         "orientation": "v",
         "showlegend": true,
         "x": [
          "剧情"
         ],
         "xaxis": "x",
         "y": [
          7.193278315310261
         ],
         "yaxis": "y",
         "type": "scatter"
        },
        {
         "hovertemplate": "<b>%{hovertext}</b><br><br>genre=%{x}<br>Average_Rating=%{y}<br>Num=%{marker.size}<extra></extra>",
         "hovertext": [
          "喜剧"
         ],
         "legendgroup": "喜剧",
         "marker": {
          "color": "#EF553B",
          "size": [
           8462
          ],
          "sizemode": "area",
          "sizeref": 43.925,
          "symbol": "circle"
         },
         "mode": "markers",
         "name": "喜剧",
         "orientation": "v",
         "showlegend": true,
         "x": [
          "喜剧"
         ],
         "xaxis": "x",
         "y": [
          6.936965256440555
         ],
         "yaxis": "y",
         "type": "scatter"
        },
        {
         "hovertemplate": "<b>%{hovertext}</b><br><br>genre=%{x}<br>Average_Rating=%{y}<br>Num=%{marker.size}<extra></extra>",
         "hovertext": [
          "爱情"
         ],
         "legendgroup": "爱情",
         "marker": {
          "color": "#00cc96",
          "size": [
           6083
          ],
          "sizemode": "area",
          "sizeref": 43.925,
          "symbol": "circle"
         },
         "mode": "markers",
         "name": "爱情",
         "orientation": "v",
         "showlegend": true,
         "x": [
          "爱情"
         ],
         "xaxis": "x",
         "y": [
          6.9465230971559935
         ],
         "yaxis": "y",
         "type": "scatter"
        },
        {
         "hovertemplate": "<b>%{hovertext}</b><br><br>genre=%{x}<br>Average_Rating=%{y}<br>Num=%{marker.size}<extra></extra>",
         "hovertext": [
          "动作"
         ],
         "legendgroup": "动作",
         "marker": {
          "color": "#ab63fa",
          "size": [
           4877
          ],
          "sizemode": "area",
          "sizeref": 43.925,
          "symbol": "circle"
         },
         "mode": "markers",
         "name": "动作",
         "orientation": "v",
         "showlegend": true,
         "x": [
          "动作"
         ],
         "xaxis": "x",
         "y": [
          6.538896862825516
         ],
         "yaxis": "y",
         "type": "scatter"
        },
        {
         "hovertemplate": "<b>%{hovertext}</b><br><br>genre=%{x}<br>Average_Rating=%{y}<br>Num=%{marker.size}<extra></extra>",
         "hovertext": [
          "惊悚"
         ],
         "legendgroup": "惊悚",
         "marker": {
          "color": "#FFA15A",
          "size": [
           4472
          ],
          "sizemode": "area",
          "sizeref": 43.925,
          "symbol": "circle"
         },
         "mode": "markers",
         "name": "惊悚",
         "orientation": "v",
         "showlegend": true,
         "x": [
          "惊悚"
         ],
         "xaxis": "x",
         "y": [
          6.5781976744186
         ],
         "yaxis": "y",
         "type": "scatter"
        },
        {
         "hovertemplate": "<b>%{hovertext}</b><br><br>genre=%{x}<br>Average_Rating=%{y}<br>Num=%{marker.size}<extra></extra>",
         "hovertext": [
          "犯罪"
         ],
         "legendgroup": "犯罪",
         "marker": {
          "color": "#19d3f3",
          "size": [
           3753
          ],
          "sizemode": "area",
          "sizeref": 43.925,
          "symbol": "circle"
         },
         "mode": "markers",
         "name": "犯罪",
         "orientation": "v",
         "showlegend": true,
         "x": [
          "犯罪"
         ],
         "xaxis": "x",
         "y": [
          6.971196376232337
         ],
         "yaxis": "y",
         "type": "scatter"
        },
        {
         "hovertemplate": "<b>%{hovertext}</b><br><br>genre=%{x}<br>Average_Rating=%{y}<br>Num=%{marker.size}<extra></extra>",
         "hovertext": [
          "恐怖"
         ],
         "legendgroup": "恐怖",
         "marker": {
          "color": "#FF6692",
          "size": [
           2758
          ],
          "sizemode": "area",
          "sizeref": 43.925,
          "symbol": "circle"
         },
         "mode": "markers",
         "name": "恐怖",
         "orientation": "v",
         "showlegend": true,
         "x": [
          "恐怖"
         ],
         "xaxis": "x",
         "y": [
          6.109970993473535
         ],
         "yaxis": "y",
         "type": "scatter"
        },
        {
         "hovertemplate": "<b>%{hovertext}</b><br><br>genre=%{x}<br>Average_Rating=%{y}<br>Num=%{marker.size}<extra></extra>",
         "hovertext": [
          "冒险"
         ],
         "legendgroup": "冒险",
         "marker": {
          "color": "#B6E880",
          "size": [
           2578
          ],
          "sizemode": "area",
          "sizeref": 43.925,
          "symbol": "circle"
         },
         "mode": "markers",
         "name": "冒险",
         "orientation": "v",
         "showlegend": true,
         "x": [
          "冒险"
         ],
         "xaxis": "x",
         "y": [
          6.979092319627616
         ],
         "yaxis": "y",
         "type": "scatter"
        },
        {
         "hovertemplate": "<b>%{hovertext}</b><br><br>genre=%{x}<br>Average_Rating=%{y}<br>Num=%{marker.size}<extra></extra>",
         "hovertext": [
          "悬疑"
         ],
         "legendgroup": "悬疑",
         "marker": {
          "color": "#FF97FF",
          "size": [
           2444
          ],
          "sizemode": "area",
          "sizeref": 43.925,
          "symbol": "circle"
         },
         "mode": "markers",
         "name": "悬疑",
         "orientation": "v",
         "showlegend": true,
         "x": [
          "悬疑"
         ],
         "xaxis": "x",
         "y": [
          6.881301145662859
         ],
         "yaxis": "y",
         "type": "scatter"
        },
        {
         "hovertemplate": "<b>%{hovertext}</b><br><br>genre=%{x}<br>Average_Rating=%{y}<br>Num=%{marker.size}<extra></extra>",
         "hovertext": [
          "动画"
         ],
         "legendgroup": "动画",
         "marker": {
          "color": "#FECB52",
          "size": [
           2228
          ],
          "sizemode": "area",
          "sizeref": 43.925,
          "symbol": "circle"
         },
         "mode": "markers",
         "name": "动画",
         "orientation": "v",
         "showlegend": true,
         "x": [
          "动画"
         ],
         "xaxis": "x",
         "y": [
          7.5567773788150845
         ],
         "yaxis": "y",
         "type": "scatter"
        },
        {
         "hovertemplate": "<b>%{hovertext}</b><br><br>genre=%{x}<br>Average_Rating=%{y}<br>Num=%{marker.size}<extra></extra>",
         "hovertext": [
          "奇幻"
         ],
         "legendgroup": "奇幻",
         "marker": {
          "color": "#636efa",
          "size": [
           2063
          ],
          "sizemode": "area",
          "sizeref": 43.925,
          "symbol": "circle"
         },
         "mode": "markers",
         "name": "奇幻",
         "orientation": "v",
         "showlegend": true,
         "x": [
          "奇幻"
         ],
         "xaxis": "x",
         "y": [
          6.9159961221522055
         ],
         "yaxis": "y",
         "type": "scatter"
        },
        {
         "hovertemplate": "<b>%{hovertext}</b><br><br>genre=%{x}<br>Average_Rating=%{y}<br>Num=%{marker.size}<extra></extra>",
         "hovertext": [
          "科幻"
         ],
         "legendgroup": "科幻",
         "marker": {
          "color": "#EF553B",
          "size": [
           1869
          ],
          "sizemode": "area",
          "sizeref": 43.925,
          "symbol": "circle"
         },
         "mode": "markers",
         "name": "科幻",
         "orientation": "v",
         "showlegend": true,
         "x": [
          "科幻"
         ],
         "xaxis": "x",
         "y": [
          6.724772605671484
         ],
         "yaxis": "y",
         "type": "scatter"
        },
        {
         "hovertemplate": "<b>%{hovertext}</b><br><br>genre=%{x}<br>Average_Rating=%{y}<br>Num=%{marker.size}<extra></extra>",
         "hovertext": [
          "家庭"
         ],
         "legendgroup": "家庭",
         "marker": {
          "color": "#00cc96",
          "size": [
           1517
          ],
          "sizemode": "area",
          "sizeref": 43.925,
          "symbol": "circle"
         },
         "mode": "markers",
         "name": "家庭",
         "orientation": "v",
         "showlegend": true,
         "x": [
          "家庭"
         ],
         "xaxis": "x",
         "y": [
          7.402307185234009
         ],
         "yaxis": "y",
         "type": "scatter"
        },
        {
         "hovertemplate": "<b>%{hovertext}</b><br><br>genre=%{x}<br>Average_Rating=%{y}<br>Num=%{marker.size}<extra></extra>",
         "hovertext": [
          "战争"
         ],
         "legendgroup": "战争",
         "marker": {
          "color": "#ab63fa",
          "size": [
           1389
          ],
          "sizemode": "area",
          "sizeref": 43.925,
          "symbol": "circle"
         },
         "mode": "markers",
         "name": "战争",
         "orientation": "v",
         "showlegend": true,
         "x": [
          "战争"
         ],
         "xaxis": "x",
         "y": [
          7.307271418286527
         ],
         "yaxis": "y",
         "type": "scatter"
        },
        {
         "hovertemplate": "<b>%{hovertext}</b><br><br>genre=%{x}<br>Average_Rating=%{y}<br>Num=%{marker.size}<extra></extra>",
         "hovertext": [
          "历史"
         ],
         "legendgroup": "历史",
         "marker": {
          "color": "#FFA15A",
          "size": [
           1064
          ],
          "sizemode": "area",
          "sizeref": 43.925,
          "symbol": "circle"
         },
         "mode": "markers",
         "name": "历史",
         "orientation": "v",
         "showlegend": true,
         "x": [
          "历史"
         ],
         "xaxis": "x",
         "y": [
          7.403289473684213
         ],
         "yaxis": "y",
         "type": "scatter"
        },
        {
         "hovertemplate": "<b>%{hovertext}</b><br><br>genre=%{x}<br>Average_Rating=%{y}<br>Num=%{marker.size}<extra></extra>",
         "hovertext": [
          "传记"
         ],
         "legendgroup": "传记",
         "marker": {
          "color": "#19d3f3",
          "size": [
           971
          ],
          "sizemode": "area",
          "sizeref": 43.925,
          "symbol": "circle"
         },
         "mode": "markers",
         "name": "传记",
         "orientation": "v",
         "showlegend": true,
         "x": [
          "传记"
         ],
         "xaxis": "x",
         "y": [
          7.49104016477858
         ],
         "yaxis": "y",
         "type": "scatter"
        },
        {
         "hovertemplate": "<b>%{hovertext}</b><br><br>genre=%{x}<br>Average_Rating=%{y}<br>Num=%{marker.size}<extra></extra>",
         "hovertext": [
          "音乐"
         ],
         "legendgroup": "音乐",
         "marker": {
          "color": "#FF6692",
          "size": [
           877
          ],
          "sizemode": "area",
          "sizeref": 43.925,
          "symbol": "circle"
         },
         "mode": "markers",
         "name": "音乐",
         "orientation": "v",
         "showlegend": true,
         "x": [
          "音乐"
         ],
         "xaxis": "x",
         "y": [
          7.756670467502863
         ],
         "yaxis": "y",
         "type": "scatter"
        },
        {
         "hovertemplate": "<b>%{hovertext}</b><br><br>genre=%{x}<br>Average_Rating=%{y}<br>Num=%{marker.size}<extra></extra>",
         "hovertext": [
          "歌舞"
         ],
         "legendgroup": "歌舞",
         "marker": {
          "color": "#B6E880",
          "size": [
           685
          ],
          "sizemode": "area",
          "sizeref": 43.925,
          "symbol": "circle"
         },
         "mode": "markers",
         "name": "歌舞",
         "orientation": "v",
         "showlegend": true,
         "x": [
          "歌舞"
         ],
         "xaxis": "x",
         "y": [
          7.423941605839417
         ],
         "yaxis": "y",
         "type": "scatter"
        },
        {
         "hovertemplate": "<b>%{hovertext}</b><br><br>genre=%{x}<br>Average_Rating=%{y}<br>Num=%{marker.size}<extra></extra>",
         "hovertext": [
          "同性"
         ],
         "legendgroup": "同性",
         "marker": {
          "color": "#FF97FF",
          "size": [
           678
          ],
          "sizemode": "area",
          "sizeref": 43.925,
          "symbol": "circle"
         },
         "mode": "markers",
         "name": "同性",
         "orientation": "v",
         "showlegend": true,
         "x": [
          "同性"
         ],
         "xaxis": "x",
         "y": [
          7.071091445427729
         ],
         "yaxis": "y",
         "type": "scatter"
        },
        {
         "hovertemplate": "<b>%{hovertext}</b><br><br>genre=%{x}<br>Average_Rating=%{y}<br>Num=%{marker.size}<extra></extra>",
         "hovertext": [
          "古装"
         ],
         "legendgroup": "古装",
         "marker": {
          "color": "#FECB52",
          "size": [
           557
          ],
          "sizemode": "area",
          "sizeref": 43.925,
          "symbol": "circle"
         },
         "mode": "markers",
         "name": "古装",
         "orientation": "v",
         "showlegend": true,
         "x": [
          "古装"
         ],
         "xaxis": "x",
         "y": [
          6.66391382405745
         ],
         "yaxis": "y",
         "type": "scatter"
        },
        {
         "hovertemplate": "<b>%{hovertext}</b><br><br>genre=%{x}<br>Average_Rating=%{y}<br>Num=%{marker.size}<extra></extra>",
         "hovertext": [
          "运动"
         ],
         "legendgroup": "运动",
         "marker": {
          "color": "#636efa",
          "size": [
           435
          ],
          "sizemode": "area",
          "sizeref": 43.925,
          "symbol": "circle"
         },
         "mode": "markers",
         "name": "运动",
         "orientation": "v",
         "showlegend": true,
         "x": [
          "运动"
         ],
         "xaxis": "x",
         "y": [
          7.327816091954027
         ],
         "yaxis": "y",
         "type": "scatter"
        },
        {
         "hovertemplate": "<b>%{hovertext}</b><br><br>genre=%{x}<br>Average_Rating=%{y}<br>Num=%{marker.size}<extra></extra>",
         "hovertext": [
          "武侠"
         ],
         "legendgroup": "武侠",
         "marker": {
          "color": "#EF553B",
          "size": [
           363
          ],
          "sizemode": "area",
          "sizeref": 43.925,
          "symbol": "circle"
         },
         "mode": "markers",
         "name": "武侠",
         "orientation": "v",
         "showlegend": true,
         "x": [
          "武侠"
         ],
         "xaxis": "x",
         "y": [
          6.6454545454545375
         ],
         "yaxis": "y",
         "type": "scatter"
        },
        {
         "hovertemplate": "<b>%{hovertext}</b><br><br>genre=%{x}<br>Average_Rating=%{y}<br>Num=%{marker.size}<extra></extra>",
         "hovertext": [
          "情色"
         ],
         "legendgroup": "情色",
         "marker": {
          "color": "#00cc96",
          "size": [
           340
          ],
          "sizemode": "area",
          "sizeref": 43.925,
          "symbol": "circle"
         },
         "mode": "markers",
         "name": "情色",
         "orientation": "v",
         "showlegend": true,
         "x": [
          "情色"
         ],
         "xaxis": "x",
         "y": [
          6.041470588235294
         ],
         "yaxis": "y",
         "type": "scatter"
        },
        {
         "hovertemplate": "<b>%{hovertext}</b><br><br>genre=%{x}<br>Average_Rating=%{y}<br>Num=%{marker.size}<extra></extra>",
         "hovertext": [
          "西部"
         ],
         "legendgroup": "西部",
         "marker": {
          "color": "#ab63fa",
          "size": [
           323
          ],
          "sizemode": "area",
          "sizeref": 43.925,
          "symbol": "circle"
         },
         "mode": "markers",
         "name": "西部",
         "orientation": "v",
         "showlegend": true,
         "x": [
          "西部"
         ],
         "xaxis": "x",
         "y": [
          7.207430340557275
         ],
         "yaxis": "y",
         "type": "scatter"
        },
        {
         "hovertemplate": "<b>%{hovertext}</b><br><br>genre=%{x}<br>Average_Rating=%{y}<br>Num=%{marker.size}<extra></extra>",
         "hovertext": [
          "儿童"
         ],
         "legendgroup": "儿童",
         "marker": {
          "color": "#FFA15A",
          "size": [
           229
          ],
          "sizemode": "area",
          "sizeref": 43.925,
          "symbol": "circle"
         },
         "mode": "markers",
         "name": "儿童",
         "orientation": "v",
         "showlegend": true,
         "x": [
          "儿童"
         ],
         "xaxis": "x",
         "y": [
          7.321834061135366
         ],
         "yaxis": "y",
         "type": "scatter"
        },
        {
         "hovertemplate": "<b>%{hovertext}</b><br><br>genre=%{x}<br>Average_Rating=%{y}<br>Num=%{marker.size}<extra></extra>",
         "hovertext": [
          "黑色电影"
         ],
         "legendgroup": "黑色电影",
         "marker": {
          "color": "#19d3f3",
          "size": [
           202
          ],
          "sizemode": "area",
          "sizeref": 43.925,
          "symbol": "circle"
         },
         "mode": "markers",
         "name": "黑色电影",
         "orientation": "v",
         "showlegend": true,
         "x": [
          "黑色电影"
         ],
         "xaxis": "x",
         "y": [
          7.194059405940593
         ],
         "yaxis": "y",
         "type": "scatter"
        },
        {
         "hovertemplate": "<b>%{hovertext}</b><br><br>genre=%{x}<br>Average_Rating=%{y}<br>Num=%{marker.size}<extra></extra>",
         "hovertext": [
          "灾难"
         ],
         "legendgroup": "灾难",
         "marker": {
          "color": "#FF6692",
          "size": [
           133
          ],
          "sizemode": "area",
          "sizeref": 43.925,
          "symbol": "circle"
         },
         "mode": "markers",
         "name": "灾难",
         "orientation": "v",
         "showlegend": true,
         "x": [
          "灾难"
         ],
         "xaxis": "x",
         "y": [
          6.576691729323307
         ],
         "yaxis": "y",
         "type": "scatter"
        },
        {
         "hovertemplate": "<b>%{hovertext}</b><br><br>genre=%{x}<br>Average_Rating=%{y}<br>Num=%{marker.size}<extra></extra>",
         "hovertext": [
          "戏曲"
         ],
         "legendgroup": "戏曲",
         "marker": {
          "color": "#B6E880",
          "size": [
           87
          ],
          "sizemode": "area",
          "sizeref": 43.925,
          "symbol": "circle"
         },
         "mode": "markers",
         "name": "戏曲",
         "orientation": "v",
         "showlegend": true,
         "x": [
          "戏曲"
         ],
         "xaxis": "x",
         "y": [
          8.244827586206895
         ],
         "yaxis": "y",
         "type": "scatter"
        },
        {
         "hovertemplate": "<b>%{hovertext}</b><br><br>genre=%{x}<br>Average_Rating=%{y}<br>Num=%{marker.size}<extra></extra>",
         "hovertext": [
          "舞台艺术"
         ],
         "legendgroup": "舞台艺术",
         "marker": {
          "color": "#FF97FF",
          "size": [
           68
          ],
          "sizemode": "area",
          "sizeref": 43.925,
          "symbol": "circle"
         },
         "mode": "markers",
         "name": "舞台艺术",
         "orientation": "v",
         "showlegend": true,
         "x": [
          "舞台艺术"
         ],
         "xaxis": "x",
         "y": [
          8.536764705882353
         ],
         "yaxis": "y",
         "type": "scatter"
        },
        {
         "hovertemplate": "<b>%{hovertext}</b><br><br>genre=%{x}<br>Average_Rating=%{y}<br>Num=%{marker.size}<extra></extra>",
         "hovertext": [
          "脱口秀"
         ],
         "legendgroup": "脱口秀",
         "marker": {
          "color": "#FECB52",
          "size": [
           58
          ],
          "sizemode": "area",
          "sizeref": 43.925,
          "symbol": "circle"
         },
         "mode": "markers",
         "name": "脱口秀",
         "orientation": "v",
         "showlegend": true,
         "x": [
          "脱口秀"
         ],
         "xaxis": "x",
         "y": [
          8.434482758620693
         ],
         "yaxis": "y",
         "type": "scatter"
        },
        {
         "hovertemplate": "<b>%{hovertext}</b><br><br>genre=%{x}<br>Average_Rating=%{y}<br>Num=%{marker.size}<extra></extra>",
         "hovertext": [
          "真人秀"
         ],
         "legendgroup": "真人秀",
         "marker": {
          "color": "#636efa",
          "size": [
           49
          ],
          "sizemode": "area",
          "sizeref": 43.925,
          "symbol": "circle"
         },
         "mode": "markers",
         "name": "真人秀",
         "orientation": "v",
         "showlegend": true,
         "x": [
          "真人秀"
         ],
         "xaxis": "x",
         "y": [
          7.302040816326533
         ],
         "yaxis": "y",
         "type": "scatter"
        },
        {
         "hovertemplate": "<b>%{hovertext}</b><br><br>genre=%{x}<br>Average_Rating=%{y}<br>Num=%{marker.size}<extra></extra>",
         "hovertext": [
          "Adult"
         ],
         "legendgroup": "Adult",
         "marker": {
          "color": "#EF553B",
          "size": [
           36
          ],
          "sizemode": "area",
          "sizeref": 43.925,
          "symbol": "circle"
         },
         "mode": "markers",
         "name": "Adult",
         "orientation": "v",
         "showlegend": true,
         "x": [
          "Adult"
         ],
         "xaxis": "x",
         "y": [
          5.947222222222223
         ],
         "yaxis": "y",
         "type": "scatter"
        },
        {
         "hovertemplate": "<b>%{hovertext}</b><br><br>genre=%{x}<br>Average_Rating=%{y}<br>Num=%{marker.size}<extra></extra>",
         "hovertext": [
          "鬼怪"
         ],
         "legendgroup": "鬼怪",
         "marker": {
          "color": "#00cc96",
          "size": [
           32
          ],
          "sizemode": "area",
          "sizeref": 43.925,
          "symbol": "circle"
         },
         "mode": "markers",
         "name": "鬼怪",
         "orientation": "v",
         "showlegend": true,
         "x": [
          "鬼怪"
         ],
         "xaxis": "x",
         "y": [
          6.371874999999998
         ],
         "yaxis": "y",
         "type": "scatter"
        },
        {
         "hovertemplate": "<b>%{hovertext}</b><br><br>genre=%{x}<br>Average_Rating=%{y}<br>Num=%{marker.size}<extra></extra>",
         "hovertext": [
          "惊栗"
         ],
         "legendgroup": "惊栗",
         "marker": {
          "color": "#ab63fa",
          "size": [
           17
          ],
          "sizemode": "area",
          "sizeref": 43.925,
          "symbol": "circle"
         },
         "mode": "markers",
         "name": "惊栗",
         "orientation": "v",
         "showlegend": true,
         "x": [
          "惊栗"
         ],
         "xaxis": "x",
         "y": [
          6.564705882352942
         ],
         "yaxis": "y",
         "type": "scatter"
        },
        {
         "hovertemplate": "<b>%{hovertext}</b><br><br>genre=%{x}<br>Average_Rating=%{y}<br>Num=%{marker.size}<extra></extra>",
         "hovertext": [
          "悬念"
         ],
         "legendgroup": "悬念",
         "marker": {
          "color": "#FFA15A",
          "size": [
           5
          ],
          "sizemode": "area",
          "sizeref": 43.925,
          "symbol": "circle"
         },
         "mode": "markers",
         "name": "悬念",
         "orientation": "v",
         "showlegend": true,
         "x": [
          "悬念"
         ],
         "xaxis": "x",
         "y": [
          7.279999999999999
         ],
         "yaxis": "y",
         "type": "scatter"
        },
        {
         "hovertemplate": "<b>%{hovertext}</b><br><br>genre=%{x}<br>Average_Rating=%{y}<br>Num=%{marker.size}<extra></extra>",
         "hovertext": [
          "荒诞"
         ],
         "legendgroup": "荒诞",
         "marker": {
          "color": "#19d3f3",
          "size": [
           5
          ],
          "sizemode": "area",
          "sizeref": 43.925,
          "symbol": "circle"
         },
         "mode": "markers",
         "name": "荒诞",
         "orientation": "v",
         "showlegend": true,
         "x": [
          "荒诞"
         ],
         "xaxis": "x",
         "y": [
          8.059999999999999
         ],
         "yaxis": "y",
         "type": "scatter"
        },
        {
         "hovertemplate": "<b>%{hovertext}</b><br><br>genre=%{x}<br>Average_Rating=%{y}<br>Num=%{marker.size}<extra></extra>",
         "hovertext": [
          "纪录片"
         ],
         "legendgroup": "纪录片",
         "marker": {
          "color": "#FF6692",
          "size": [
           3
          ],
          "sizemode": "area",
          "sizeref": 43.925,
          "symbol": "circle"
         },
         "mode": "markers",
         "name": "纪录片",
         "orientation": "v",
         "showlegend": true,
         "x": [
          "纪录片"
         ],
         "xaxis": "x",
         "y": [
          8.5
         ],
         "yaxis": "y",
         "type": "scatter"
        },
        {
         "hovertemplate": "<b>%{hovertext}</b><br><br>genre=%{x}<br>Average_Rating=%{y}<br>Num=%{marker.size}<extra></extra>",
         "hovertext": [
          "Talk-Show"
         ],
         "legendgroup": "Talk-Show",
         "marker": {
          "color": "#B6E880",
          "size": [
           2
          ],
          "sizemode": "area",
          "sizeref": 43.925,
          "symbol": "circle"
         },
         "mode": "markers",
         "name": "Talk-Show",
         "orientation": "v",
         "showlegend": true,
         "x": [
          "Talk-Show"
         ],
         "xaxis": "x",
         "y": [
          9.0
         ],
         "yaxis": "y",
         "type": "scatter"
        },
        {
         "hovertemplate": "<b>%{hovertext}</b><br><br>genre=%{x}<br>Average_Rating=%{y}<br>Num=%{marker.size}<extra></extra>",
         "hovertext": [
          "Reality-TV"
         ],
         "legendgroup": "Reality-TV",
         "marker": {
          "color": "#FF97FF",
          "size": [
           2
          ],
          "sizemode": "area",
          "sizeref": 43.925,
          "symbol": "circle"
         },
         "mode": "markers",
         "name": "Reality-TV",
         "orientation": "v",
         "showlegend": true,
         "x": [
          "Reality-TV"
         ],
         "xaxis": "x",
         "y": [
          5.800000000000001
         ],
         "yaxis": "y",
         "type": "scatter"
        },
        {
         "hovertemplate": "<b>%{hovertext}</b><br><br>genre=%{x}<br>Average_Rating=%{y}<br>Num=%{marker.size}<extra></extra>",
         "hovertext": [
          "Comedy"
         ],
         "legendgroup": "Comedy",
         "marker": {
          "color": "#FECB52",
          "size": [
           1
          ],
          "sizemode": "area",
          "sizeref": 43.925,
          "symbol": "circle"
         },
         "mode": "markers",
         "name": "Comedy",
         "orientation": "v",
         "showlegend": true,
         "x": [
          "Comedy"
         ],
         "xaxis": "x",
         "y": [
          6.7
         ],
         "yaxis": "y",
         "type": "scatter"
        }
       ],
       "layout": {
        "template": {
         "data": {
          "histogram2dcontour": [
           {
            "type": "histogram2dcontour",
            "colorbar": {
             "outlinewidth": 0,
             "ticks": ""
            },
            "colorscale": [
             [
              0.0,
              "#0d0887"
             ],
             [
              0.1111111111111111,
              "#46039f"
             ],
             [
              0.2222222222222222,
              "#7201a8"
             ],
             [
              0.3333333333333333,
              "#9c179e"
             ],
             [
              0.4444444444444444,
              "#bd3786"
             ],
             [
              0.5555555555555556,
              "#d8576b"
             ],
             [
              0.6666666666666666,
              "#ed7953"
             ],
             [
              0.7777777777777778,
              "#fb9f3a"
             ],
             [
              0.8888888888888888,
              "#fdca26"
             ],
             [
              1.0,
              "#f0f921"
             ]
            ]
           }
          ],
          "choropleth": [
           {
            "type": "choropleth",
            "colorbar": {
             "outlinewidth": 0,
             "ticks": ""
            }
           }
          ],
          "histogram2d": [
           {
            "type": "histogram2d",
            "colorbar": {
             "outlinewidth": 0,
             "ticks": ""
            },
            "colorscale": [
             [
              0.0,
              "#0d0887"
             ],
             [
              0.1111111111111111,
              "#46039f"
             ],
             [
              0.2222222222222222,
              "#7201a8"
             ],
             [
              0.3333333333333333,
              "#9c179e"
             ],
             [
              0.4444444444444444,
              "#bd3786"
             ],
             [
              0.5555555555555556,
              "#d8576b"
             ],
             [
              0.6666666666666666,
              "#ed7953"
             ],
             [
              0.7777777777777778,
              "#fb9f3a"
             ],
             [
              0.8888888888888888,
              "#fdca26"
             ],
             [
              1.0,
              "#f0f921"
             ]
            ]
           }
          ],
          "heatmap": [
           {
            "type": "heatmap",
            "colorbar": {
             "outlinewidth": 0,
             "ticks": ""
            },
            "colorscale": [
             [
              0.0,
              "#0d0887"
             ],
             [
              0.1111111111111111,
              "#46039f"
             ],
             [
              0.2222222222222222,
              "#7201a8"
             ],
             [
              0.3333333333333333,
              "#9c179e"
             ],
             [
              0.4444444444444444,
              "#bd3786"
             ],
             [
              0.5555555555555556,
              "#d8576b"
             ],
             [
              0.6666666666666666,
              "#ed7953"
             ],
             [
              0.7777777777777778,
              "#fb9f3a"
             ],
             [
              0.8888888888888888,
              "#fdca26"
             ],
             [
              1.0,
              "#f0f921"
             ]
            ]
           }
          ],
          "heatmapgl": [
           {
            "type": "heatmapgl",
            "colorbar": {
             "outlinewidth": 0,
             "ticks": ""
            },
            "colorscale": [
             [
              0.0,
              "#0d0887"
             ],
             [
              0.1111111111111111,
              "#46039f"
             ],
             [
              0.2222222222222222,
              "#7201a8"
             ],
             [
              0.3333333333333333,
              "#9c179e"
             ],
             [
              0.4444444444444444,
              "#bd3786"
             ],
             [
              0.5555555555555556,
              "#d8576b"
             ],
             [
              0.6666666666666666,
              "#ed7953"
             ],
             [
              0.7777777777777778,
              "#fb9f3a"
             ],
             [
              0.8888888888888888,
              "#fdca26"
             ],
             [
              1.0,
              "#f0f921"
             ]
            ]
           }
          ],
          "contourcarpet": [
           {
            "type": "contourcarpet",
            "colorbar": {
             "outlinewidth": 0,
             "ticks": ""
            }
           }
          ],
          "contour": [
           {
            "type": "contour",
            "colorbar": {
             "outlinewidth": 0,
             "ticks": ""
            },
            "colorscale": [
             [
              0.0,
              "#0d0887"
             ],
             [
              0.1111111111111111,
              "#46039f"
             ],
             [
              0.2222222222222222,
              "#7201a8"
             ],
             [
              0.3333333333333333,
              "#9c179e"
             ],
             [
              0.4444444444444444,
              "#bd3786"
             ],
             [
              0.5555555555555556,
              "#d8576b"
             ],
             [
              0.6666666666666666,
              "#ed7953"
             ],
             [
              0.7777777777777778,
              "#fb9f3a"
             ],
             [
              0.8888888888888888,
              "#fdca26"
             ],
             [
              1.0,
              "#f0f921"
             ]
            ]
           }
          ],
          "surface": [
           {
            "type": "surface",
            "colorbar": {
             "outlinewidth": 0,
             "ticks": ""
            },
            "colorscale": [
             [
              0.0,
              "#0d0887"
             ],
             [
              0.1111111111111111,
              "#46039f"
             ],
             [
              0.2222222222222222,
              "#7201a8"
             ],
             [
              0.3333333333333333,
              "#9c179e"
             ],
             [
              0.4444444444444444,
              "#bd3786"
             ],
             [
              0.5555555555555556,
              "#d8576b"
             ],
             [
              0.6666666666666666,
              "#ed7953"
             ],
             [
              0.7777777777777778,
              "#fb9f3a"
             ],
             [
              0.8888888888888888,
              "#fdca26"
             ],
             [
              1.0,
              "#f0f921"
             ]
            ]
           }
          ],
          "mesh3d": [
           {
            "type": "mesh3d",
            "colorbar": {
             "outlinewidth": 0,
             "ticks": ""
            }
           }
          ],
          "scatter": [
           {
            "marker": {
             "line": {
              "color": "#283442"
             }
            },
            "type": "scatter"
           }
          ],
          "parcoords": [
           {
            "type": "parcoords",
            "line": {
             "colorbar": {
              "outlinewidth": 0,
              "ticks": ""
             }
            }
           }
          ],
          "scatterpolargl": [
           {
            "type": "scatterpolargl",
            "marker": {
             "colorbar": {
              "outlinewidth": 0,
              "ticks": ""
             }
            }
           }
          ],
          "bar": [
           {
            "error_x": {
             "color": "#f2f5fa"
            },
            "error_y": {
             "color": "#f2f5fa"
            },
            "marker": {
             "line": {
              "color": "rgb(17,17,17)",
              "width": 0.5
             },
             "pattern": {
              "fillmode": "overlay",
              "size": 10,
              "solidity": 0.2
             }
            },
            "type": "bar"
           }
          ],
          "scattergeo": [
           {
            "type": "scattergeo",
            "marker": {
             "colorbar": {
              "outlinewidth": 0,
              "ticks": ""
             }
            }
           }
          ],
          "scatterpolar": [
           {
            "type": "scatterpolar",
            "marker": {
             "colorbar": {
              "outlinewidth": 0,
              "ticks": ""
             }
            }
           }
          ],
          "histogram": [
           {
            "marker": {
             "pattern": {
              "fillmode": "overlay",
              "size": 10,
              "solidity": 0.2
             }
            },
            "type": "histogram"
           }
          ],
          "scattergl": [
           {
            "marker": {
             "line": {
              "color": "#283442"
             }
            },
            "type": "scattergl"
           }
          ],
          "scatter3d": [
           {
            "type": "scatter3d",
            "line": {
             "colorbar": {
              "outlinewidth": 0,
              "ticks": ""
             }
            },
            "marker": {
             "colorbar": {
              "outlinewidth": 0,
              "ticks": ""
             }
            }
           }
          ],
          "scattermapbox": [
           {
            "type": "scattermapbox",
            "marker": {
             "colorbar": {
              "outlinewidth": 0,
              "ticks": ""
             }
            }
           }
          ],
          "scatterternary": [
           {
            "type": "scatterternary",
            "marker": {
             "colorbar": {
              "outlinewidth": 0,
              "ticks": ""
             }
            }
           }
          ],
          "scattercarpet": [
           {
            "type": "scattercarpet",
            "marker": {
             "colorbar": {
              "outlinewidth": 0,
              "ticks": ""
             }
            }
           }
          ],
          "carpet": [
           {
            "aaxis": {
             "endlinecolor": "#A2B1C6",
             "gridcolor": "#506784",
             "linecolor": "#506784",
             "minorgridcolor": "#506784",
             "startlinecolor": "#A2B1C6"
            },
            "baxis": {
             "endlinecolor": "#A2B1C6",
             "gridcolor": "#506784",
             "linecolor": "#506784",
             "minorgridcolor": "#506784",
             "startlinecolor": "#A2B1C6"
            },
            "type": "carpet"
           }
          ],
          "table": [
           {
            "cells": {
             "fill": {
              "color": "#506784"
             },
             "line": {
              "color": "rgb(17,17,17)"
             }
            },
            "header": {
             "fill": {
              "color": "#2a3f5f"
             },
             "line": {
              "color": "rgb(17,17,17)"
             }
            },
            "type": "table"
           }
          ],
          "barpolar": [
           {
            "marker": {
             "line": {
              "color": "rgb(17,17,17)",
              "width": 0.5
             },
             "pattern": {
              "fillmode": "overlay",
              "size": 10,
              "solidity": 0.2
             }
            },
            "type": "barpolar"
           }
          ],
          "pie": [
           {
            "automargin": true,
            "type": "pie"
           }
          ]
         },
         "layout": {
          "autotypenumbers": "strict",
          "colorway": [
           "#636efa",
           "#EF553B",
           "#00cc96",
           "#ab63fa",
           "#FFA15A",
           "#19d3f3",
           "#FF6692",
           "#B6E880",
           "#FF97FF",
           "#FECB52"
          ],
          "font": {
           "color": "#f2f5fa"
          },
          "hovermode": "closest",
          "hoverlabel": {
           "align": "left"
          },
          "paper_bgcolor": "rgb(17,17,17)",
          "plot_bgcolor": "rgb(17,17,17)",
          "polar": {
           "bgcolor": "rgb(17,17,17)",
           "angularaxis": {
            "gridcolor": "#506784",
            "linecolor": "#506784",
            "ticks": ""
           },
           "radialaxis": {
            "gridcolor": "#506784",
            "linecolor": "#506784",
            "ticks": ""
           }
          },
          "ternary": {
           "bgcolor": "rgb(17,17,17)",
           "aaxis": {
            "gridcolor": "#506784",
            "linecolor": "#506784",
            "ticks": ""
           },
           "baxis": {
            "gridcolor": "#506784",
            "linecolor": "#506784",
            "ticks": ""
           },
           "caxis": {
            "gridcolor": "#506784",
            "linecolor": "#506784",
            "ticks": ""
           }
          },
          "coloraxis": {
           "colorbar": {
            "outlinewidth": 0,
            "ticks": ""
           }
          },
          "colorscale": {
           "sequential": [
            [
             0.0,
             "#0d0887"
            ],
            [
             0.1111111111111111,
             "#46039f"
            ],
            [
             0.2222222222222222,
             "#7201a8"
            ],
            [
             0.3333333333333333,
             "#9c179e"
            ],
            [
             0.4444444444444444,
             "#bd3786"
            ],
            [
             0.5555555555555556,
             "#d8576b"
            ],
            [
             0.6666666666666666,
             "#ed7953"
            ],
            [
             0.7777777777777778,
             "#fb9f3a"
            ],
            [
             0.8888888888888888,
             "#fdca26"
            ],
            [
             1.0,
             "#f0f921"
            ]
           ],
           "sequentialminus": [
            [
             0.0,
             "#0d0887"
            ],
            [
             0.1111111111111111,
             "#46039f"
            ],
            [
             0.2222222222222222,
             "#7201a8"
            ],
            [
             0.3333333333333333,
             "#9c179e"
            ],
            [
             0.4444444444444444,
             "#bd3786"
            ],
            [
             0.5555555555555556,
             "#d8576b"
            ],
            [
             0.6666666666666666,
             "#ed7953"
            ],
            [
             0.7777777777777778,
             "#fb9f3a"
            ],
            [
             0.8888888888888888,
             "#fdca26"
            ],
            [
             1.0,
             "#f0f921"
            ]
           ],
           "diverging": [
            [
             0,
             "#8e0152"
            ],
            [
             0.1,
             "#c51b7d"
            ],
            [
             0.2,
             "#de77ae"
            ],
            [
             0.3,
             "#f1b6da"
            ],
            [
             0.4,
             "#fde0ef"
            ],
            [
             0.5,
             "#f7f7f7"
            ],
            [
             0.6,
             "#e6f5d0"
            ],
            [
             0.7,
             "#b8e186"
            ],
            [
             0.8,
             "#7fbc41"
            ],
            [
             0.9,
             "#4d9221"
            ],
            [
             1,
             "#276419"
            ]
           ]
          },
          "xaxis": {
           "gridcolor": "#283442",
           "linecolor": "#506784",
           "ticks": "",
           "title": {
            "standoff": 15
           },
           "zerolinecolor": "#283442",
           "automargin": true,
           "zerolinewidth": 2
          },
          "yaxis": {
           "gridcolor": "#283442",
           "linecolor": "#506784",
           "ticks": "",
           "title": {
            "standoff": 15
           },
           "zerolinecolor": "#283442",
           "automargin": true,
           "zerolinewidth": 2
          },
          "scene": {
           "xaxis": {
            "backgroundcolor": "rgb(17,17,17)",
            "gridcolor": "#506784",
            "linecolor": "#506784",
            "showbackground": true,
            "ticks": "",
            "zerolinecolor": "#C8D4E3",
            "gridwidth": 2
           },
           "yaxis": {
            "backgroundcolor": "rgb(17,17,17)",
            "gridcolor": "#506784",
            "linecolor": "#506784",
            "showbackground": true,
            "ticks": "",
            "zerolinecolor": "#C8D4E3",
            "gridwidth": 2
           },
           "zaxis": {
            "backgroundcolor": "rgb(17,17,17)",
            "gridcolor": "#506784",
            "linecolor": "#506784",
            "showbackground": true,
            "ticks": "",
            "zerolinecolor": "#C8D4E3",
            "gridwidth": 2
           }
          },
          "shapedefaults": {
           "line": {
            "color": "#f2f5fa"
           }
          },
          "annotationdefaults": {
           "arrowcolor": "#f2f5fa",
           "arrowhead": 0,
           "arrowwidth": 1
          },
          "geo": {
           "bgcolor": "rgb(17,17,17)",
           "landcolor": "rgb(17,17,17)",
           "subunitcolor": "#506784",
           "showland": true,
           "showlakes": true,
           "lakecolor": "rgb(17,17,17)"
          },
          "title": {
           "x": 0.05
          },
          "updatemenudefaults": {
           "bgcolor": "#506784",
           "borderwidth": 0
          },
          "sliderdefaults": {
           "bgcolor": "#C8D4E3",
           "borderwidth": 1,
           "bordercolor": "rgb(17,17,17)",
           "tickwidth": 0
          },
          "mapbox": {
           "style": "dark"
          }
         }
        },
        "xaxis": {
         "anchor": "y",
         "domain": [
          0.0,
          1.0
         ],
         "title": {
          "text": "genre"
         },
         "categoryorder": "array",
         "categoryarray": [
          "剧情",
          "喜剧",
          "爱情",
          "动作",
          "惊悚",
          "犯罪",
          "恐怖",
          "冒险",
          "悬疑",
          "动画",
          "奇幻",
          "科幻",
          "家庭",
          "战争",
          "历史",
          "传记",
          "音乐",
          "歌舞",
          "同性",
          "古装",
          "运动",
          "武侠",
          "情色",
          "西部",
          "儿童",
          "黑色电影",
          "灾难",
          "戏曲",
          "舞台艺术",
          "脱口秀",
          "真人秀",
          "Adult",
          "鬼怪",
          "惊栗",
          "悬念",
          "荒诞",
          "纪录片",
          "Talk-Show",
          "Reality-TV",
          "Comedy"
         ]
        },
        "yaxis": {
         "anchor": "x",
         "domain": [
          0.0,
          1.0
         ],
         "title": {
          "text": "Average_Rating"
         }
        },
        "legend": {
         "title": {
          "text": "genre"
         },
         "tracegroupgap": 0,
         "itemsizing": "constant"
        },
        "title": {
         "text": "各类型电影数和平均评分"
        }
       },
       "config": {
        "plotlyServerURL": "https://plot.ly"
       }
      },
      "text/html": "<div>                            <div id=\"1f559967-6ffb-471a-acbc-4235f0a044c0\" class=\"plotly-graph-div\" style=\"height:525px; width:100%;\"></div>            <script type=\"text/javascript\">                require([\"plotly\"], function(Plotly) {                    window.PLOTLYENV=window.PLOTLYENV || {};                                    if (document.getElementById(\"1f559967-6ffb-471a-acbc-4235f0a044c0\")) {                    Plotly.newPlot(                        \"1f559967-6ffb-471a-acbc-4235f0a044c0\",                        [{\"hovertemplate\":\"\\u003cb\\u003e%{hovertext}\\u003c\\u002fb\\u003e\\u003cbr\\u003e\\u003cbr\\u003egenre=%{x}\\u003cbr\\u003eAverage_Rating=%{y}\\u003cbr\\u003eNum=%{marker.size}\\u003cextra\\u003e\\u003c\\u002fextra\\u003e\",\"hovertext\":[\"\\u5267\\u60c5\"],\"legendgroup\":\"\\u5267\\u60c5\",\"marker\":{\"color\":\"#636efa\",\"size\":[17570],\"sizemode\":\"area\",\"sizeref\":43.925,\"symbol\":\"circle\"},\"mode\":\"markers\",\"name\":\"\\u5267\\u60c5\",\"orientation\":\"v\",\"showlegend\":true,\"x\":[\"\\u5267\\u60c5\"],\"xaxis\":\"x\",\"y\":[7.193278315310261],\"yaxis\":\"y\",\"type\":\"scatter\"},{\"hovertemplate\":\"\\u003cb\\u003e%{hovertext}\\u003c\\u002fb\\u003e\\u003cbr\\u003e\\u003cbr\\u003egenre=%{x}\\u003cbr\\u003eAverage_Rating=%{y}\\u003cbr\\u003eNum=%{marker.size}\\u003cextra\\u003e\\u003c\\u002fextra\\u003e\",\"hovertext\":[\"\\u559c\\u5267\"],\"legendgroup\":\"\\u559c\\u5267\",\"marker\":{\"color\":\"#EF553B\",\"size\":[8462],\"sizemode\":\"area\",\"sizeref\":43.925,\"symbol\":\"circle\"},\"mode\":\"markers\",\"name\":\"\\u559c\\u5267\",\"orientation\":\"v\",\"showlegend\":true,\"x\":[\"\\u559c\\u5267\"],\"xaxis\":\"x\",\"y\":[6.936965256440555],\"yaxis\":\"y\",\"type\":\"scatter\"},{\"hovertemplate\":\"\\u003cb\\u003e%{hovertext}\\u003c\\u002fb\\u003e\\u003cbr\\u003e\\u003cbr\\u003egenre=%{x}\\u003cbr\\u003eAverage_Rating=%{y}\\u003cbr\\u003eNum=%{marker.size}\\u003cextra\\u003e\\u003c\\u002fextra\\u003e\",\"hovertext\":[\"\\u7231\\u60c5\"],\"legendgroup\":\"\\u7231\\u60c5\",\"marker\":{\"color\":\"#00cc96\",\"size\":[6083],\"sizemode\":\"area\",\"sizeref\":43.925,\"symbol\":\"circle\"},\"mode\":\"markers\",\"name\":\"\\u7231\\u60c5\",\"orientation\":\"v\",\"showlegend\":true,\"x\":[\"\\u7231\\u60c5\"],\"xaxis\":\"x\",\"y\":[6.9465230971559935],\"yaxis\":\"y\",\"type\":\"scatter\"},{\"hovertemplate\":\"\\u003cb\\u003e%{hovertext}\\u003c\\u002fb\\u003e\\u003cbr\\u003e\\u003cbr\\u003egenre=%{x}\\u003cbr\\u003eAverage_Rating=%{y}\\u003cbr\\u003eNum=%{marker.size}\\u003cextra\\u003e\\u003c\\u002fextra\\u003e\",\"hovertext\":[\"\\u52a8\\u4f5c\"],\"legendgroup\":\"\\u52a8\\u4f5c\",\"marker\":{\"color\":\"#ab63fa\",\"size\":[4877],\"sizemode\":\"area\",\"sizeref\":43.925,\"symbol\":\"circle\"},\"mode\":\"markers\",\"name\":\"\\u52a8\\u4f5c\",\"orientation\":\"v\",\"showlegend\":true,\"x\":[\"\\u52a8\\u4f5c\"],\"xaxis\":\"x\",\"y\":[6.538896862825516],\"yaxis\":\"y\",\"type\":\"scatter\"},{\"hovertemplate\":\"\\u003cb\\u003e%{hovertext}\\u003c\\u002fb\\u003e\\u003cbr\\u003e\\u003cbr\\u003egenre=%{x}\\u003cbr\\u003eAverage_Rating=%{y}\\u003cbr\\u003eNum=%{marker.size}\\u003cextra\\u003e\\u003c\\u002fextra\\u003e\",\"hovertext\":[\"\\u60ca\\u609a\"],\"legendgroup\":\"\\u60ca\\u609a\",\"marker\":{\"color\":\"#FFA15A\",\"size\":[4472],\"sizemode\":\"area\",\"sizeref\":43.925,\"symbol\":\"circle\"},\"mode\":\"markers\",\"name\":\"\\u60ca\\u609a\",\"orientation\":\"v\",\"showlegend\":true,\"x\":[\"\\u60ca\\u609a\"],\"xaxis\":\"x\",\"y\":[6.5781976744186],\"yaxis\":\"y\",\"type\":\"scatter\"},{\"hovertemplate\":\"\\u003cb\\u003e%{hovertext}\\u003c\\u002fb\\u003e\\u003cbr\\u003e\\u003cbr\\u003egenre=%{x}\\u003cbr\\u003eAverage_Rating=%{y}\\u003cbr\\u003eNum=%{marker.size}\\u003cextra\\u003e\\u003c\\u002fextra\\u003e\",\"hovertext\":[\"\\u72af\\u7f6a\"],\"legendgroup\":\"\\u72af\\u7f6a\",\"marker\":{\"color\":\"#19d3f3\",\"size\":[3753],\"sizemode\":\"area\",\"sizeref\":43.925,\"symbol\":\"circle\"},\"mode\":\"markers\",\"name\":\"\\u72af\\u7f6a\",\"orientation\":\"v\",\"showlegend\":true,\"x\":[\"\\u72af\\u7f6a\"],\"xaxis\":\"x\",\"y\":[6.971196376232337],\"yaxis\":\"y\",\"type\":\"scatter\"},{\"hovertemplate\":\"\\u003cb\\u003e%{hovertext}\\u003c\\u002fb\\u003e\\u003cbr\\u003e\\u003cbr\\u003egenre=%{x}\\u003cbr\\u003eAverage_Rating=%{y}\\u003cbr\\u003eNum=%{marker.size}\\u003cextra\\u003e\\u003c\\u002fextra\\u003e\",\"hovertext\":[\"\\u6050\\u6016\"],\"legendgroup\":\"\\u6050\\u6016\",\"marker\":{\"color\":\"#FF6692\",\"size\":[2758],\"sizemode\":\"area\",\"sizeref\":43.925,\"symbol\":\"circle\"},\"mode\":\"markers\",\"name\":\"\\u6050\\u6016\",\"orientation\":\"v\",\"showlegend\":true,\"x\":[\"\\u6050\\u6016\"],\"xaxis\":\"x\",\"y\":[6.109970993473535],\"yaxis\":\"y\",\"type\":\"scatter\"},{\"hovertemplate\":\"\\u003cb\\u003e%{hovertext}\\u003c\\u002fb\\u003e\\u003cbr\\u003e\\u003cbr\\u003egenre=%{x}\\u003cbr\\u003eAverage_Rating=%{y}\\u003cbr\\u003eNum=%{marker.size}\\u003cextra\\u003e\\u003c\\u002fextra\\u003e\",\"hovertext\":[\"\\u5192\\u9669\"],\"legendgroup\":\"\\u5192\\u9669\",\"marker\":{\"color\":\"#B6E880\",\"size\":[2578],\"sizemode\":\"area\",\"sizeref\":43.925,\"symbol\":\"circle\"},\"mode\":\"markers\",\"name\":\"\\u5192\\u9669\",\"orientation\":\"v\",\"showlegend\":true,\"x\":[\"\\u5192\\u9669\"],\"xaxis\":\"x\",\"y\":[6.979092319627616],\"yaxis\":\"y\",\"type\":\"scatter\"},{\"hovertemplate\":\"\\u003cb\\u003e%{hovertext}\\u003c\\u002fb\\u003e\\u003cbr\\u003e\\u003cbr\\u003egenre=%{x}\\u003cbr\\u003eAverage_Rating=%{y}\\u003cbr\\u003eNum=%{marker.size}\\u003cextra\\u003e\\u003c\\u002fextra\\u003e\",\"hovertext\":[\"\\u60ac\\u7591\"],\"legendgroup\":\"\\u60ac\\u7591\",\"marker\":{\"color\":\"#FF97FF\",\"size\":[2444],\"sizemode\":\"area\",\"sizeref\":43.925,\"symbol\":\"circle\"},\"mode\":\"markers\",\"name\":\"\\u60ac\\u7591\",\"orientation\":\"v\",\"showlegend\":true,\"x\":[\"\\u60ac\\u7591\"],\"xaxis\":\"x\",\"y\":[6.881301145662859],\"yaxis\":\"y\",\"type\":\"scatter\"},{\"hovertemplate\":\"\\u003cb\\u003e%{hovertext}\\u003c\\u002fb\\u003e\\u003cbr\\u003e\\u003cbr\\u003egenre=%{x}\\u003cbr\\u003eAverage_Rating=%{y}\\u003cbr\\u003eNum=%{marker.size}\\u003cextra\\u003e\\u003c\\u002fextra\\u003e\",\"hovertext\":[\"\\u52a8\\u753b\"],\"legendgroup\":\"\\u52a8\\u753b\",\"marker\":{\"color\":\"#FECB52\",\"size\":[2228],\"sizemode\":\"area\",\"sizeref\":43.925,\"symbol\":\"circle\"},\"mode\":\"markers\",\"name\":\"\\u52a8\\u753b\",\"orientation\":\"v\",\"showlegend\":true,\"x\":[\"\\u52a8\\u753b\"],\"xaxis\":\"x\",\"y\":[7.5567773788150845],\"yaxis\":\"y\",\"type\":\"scatter\"},{\"hovertemplate\":\"\\u003cb\\u003e%{hovertext}\\u003c\\u002fb\\u003e\\u003cbr\\u003e\\u003cbr\\u003egenre=%{x}\\u003cbr\\u003eAverage_Rating=%{y}\\u003cbr\\u003eNum=%{marker.size}\\u003cextra\\u003e\\u003c\\u002fextra\\u003e\",\"hovertext\":[\"\\u5947\\u5e7b\"],\"legendgroup\":\"\\u5947\\u5e7b\",\"marker\":{\"color\":\"#636efa\",\"size\":[2063],\"sizemode\":\"area\",\"sizeref\":43.925,\"symbol\":\"circle\"},\"mode\":\"markers\",\"name\":\"\\u5947\\u5e7b\",\"orientation\":\"v\",\"showlegend\":true,\"x\":[\"\\u5947\\u5e7b\"],\"xaxis\":\"x\",\"y\":[6.9159961221522055],\"yaxis\":\"y\",\"type\":\"scatter\"},{\"hovertemplate\":\"\\u003cb\\u003e%{hovertext}\\u003c\\u002fb\\u003e\\u003cbr\\u003e\\u003cbr\\u003egenre=%{x}\\u003cbr\\u003eAverage_Rating=%{y}\\u003cbr\\u003eNum=%{marker.size}\\u003cextra\\u003e\\u003c\\u002fextra\\u003e\",\"hovertext\":[\"\\u79d1\\u5e7b\"],\"legendgroup\":\"\\u79d1\\u5e7b\",\"marker\":{\"color\":\"#EF553B\",\"size\":[1869],\"sizemode\":\"area\",\"sizeref\":43.925,\"symbol\":\"circle\"},\"mode\":\"markers\",\"name\":\"\\u79d1\\u5e7b\",\"orientation\":\"v\",\"showlegend\":true,\"x\":[\"\\u79d1\\u5e7b\"],\"xaxis\":\"x\",\"y\":[6.724772605671484],\"yaxis\":\"y\",\"type\":\"scatter\"},{\"hovertemplate\":\"\\u003cb\\u003e%{hovertext}\\u003c\\u002fb\\u003e\\u003cbr\\u003e\\u003cbr\\u003egenre=%{x}\\u003cbr\\u003eAverage_Rating=%{y}\\u003cbr\\u003eNum=%{marker.size}\\u003cextra\\u003e\\u003c\\u002fextra\\u003e\",\"hovertext\":[\"\\u5bb6\\u5ead\"],\"legendgroup\":\"\\u5bb6\\u5ead\",\"marker\":{\"color\":\"#00cc96\",\"size\":[1517],\"sizemode\":\"area\",\"sizeref\":43.925,\"symbol\":\"circle\"},\"mode\":\"markers\",\"name\":\"\\u5bb6\\u5ead\",\"orientation\":\"v\",\"showlegend\":true,\"x\":[\"\\u5bb6\\u5ead\"],\"xaxis\":\"x\",\"y\":[7.402307185234009],\"yaxis\":\"y\",\"type\":\"scatter\"},{\"hovertemplate\":\"\\u003cb\\u003e%{hovertext}\\u003c\\u002fb\\u003e\\u003cbr\\u003e\\u003cbr\\u003egenre=%{x}\\u003cbr\\u003eAverage_Rating=%{y}\\u003cbr\\u003eNum=%{marker.size}\\u003cextra\\u003e\\u003c\\u002fextra\\u003e\",\"hovertext\":[\"\\u6218\\u4e89\"],\"legendgroup\":\"\\u6218\\u4e89\",\"marker\":{\"color\":\"#ab63fa\",\"size\":[1389],\"sizemode\":\"area\",\"sizeref\":43.925,\"symbol\":\"circle\"},\"mode\":\"markers\",\"name\":\"\\u6218\\u4e89\",\"orientation\":\"v\",\"showlegend\":true,\"x\":[\"\\u6218\\u4e89\"],\"xaxis\":\"x\",\"y\":[7.307271418286527],\"yaxis\":\"y\",\"type\":\"scatter\"},{\"hovertemplate\":\"\\u003cb\\u003e%{hovertext}\\u003c\\u002fb\\u003e\\u003cbr\\u003e\\u003cbr\\u003egenre=%{x}\\u003cbr\\u003eAverage_Rating=%{y}\\u003cbr\\u003eNum=%{marker.size}\\u003cextra\\u003e\\u003c\\u002fextra\\u003e\",\"hovertext\":[\"\\u5386\\u53f2\"],\"legendgroup\":\"\\u5386\\u53f2\",\"marker\":{\"color\":\"#FFA15A\",\"size\":[1064],\"sizemode\":\"area\",\"sizeref\":43.925,\"symbol\":\"circle\"},\"mode\":\"markers\",\"name\":\"\\u5386\\u53f2\",\"orientation\":\"v\",\"showlegend\":true,\"x\":[\"\\u5386\\u53f2\"],\"xaxis\":\"x\",\"y\":[7.403289473684213],\"yaxis\":\"y\",\"type\":\"scatter\"},{\"hovertemplate\":\"\\u003cb\\u003e%{hovertext}\\u003c\\u002fb\\u003e\\u003cbr\\u003e\\u003cbr\\u003egenre=%{x}\\u003cbr\\u003eAverage_Rating=%{y}\\u003cbr\\u003eNum=%{marker.size}\\u003cextra\\u003e\\u003c\\u002fextra\\u003e\",\"hovertext\":[\"\\u4f20\\u8bb0\"],\"legendgroup\":\"\\u4f20\\u8bb0\",\"marker\":{\"color\":\"#19d3f3\",\"size\":[971],\"sizemode\":\"area\",\"sizeref\":43.925,\"symbol\":\"circle\"},\"mode\":\"markers\",\"name\":\"\\u4f20\\u8bb0\",\"orientation\":\"v\",\"showlegend\":true,\"x\":[\"\\u4f20\\u8bb0\"],\"xaxis\":\"x\",\"y\":[7.49104016477858],\"yaxis\":\"y\",\"type\":\"scatter\"},{\"hovertemplate\":\"\\u003cb\\u003e%{hovertext}\\u003c\\u002fb\\u003e\\u003cbr\\u003e\\u003cbr\\u003egenre=%{x}\\u003cbr\\u003eAverage_Rating=%{y}\\u003cbr\\u003eNum=%{marker.size}\\u003cextra\\u003e\\u003c\\u002fextra\\u003e\",\"hovertext\":[\"\\u97f3\\u4e50\"],\"legendgroup\":\"\\u97f3\\u4e50\",\"marker\":{\"color\":\"#FF6692\",\"size\":[877],\"sizemode\":\"area\",\"sizeref\":43.925,\"symbol\":\"circle\"},\"mode\":\"markers\",\"name\":\"\\u97f3\\u4e50\",\"orientation\":\"v\",\"showlegend\":true,\"x\":[\"\\u97f3\\u4e50\"],\"xaxis\":\"x\",\"y\":[7.756670467502863],\"yaxis\":\"y\",\"type\":\"scatter\"},{\"hovertemplate\":\"\\u003cb\\u003e%{hovertext}\\u003c\\u002fb\\u003e\\u003cbr\\u003e\\u003cbr\\u003egenre=%{x}\\u003cbr\\u003eAverage_Rating=%{y}\\u003cbr\\u003eNum=%{marker.size}\\u003cextra\\u003e\\u003c\\u002fextra\\u003e\",\"hovertext\":[\"\\u6b4c\\u821e\"],\"legendgroup\":\"\\u6b4c\\u821e\",\"marker\":{\"color\":\"#B6E880\",\"size\":[685],\"sizemode\":\"area\",\"sizeref\":43.925,\"symbol\":\"circle\"},\"mode\":\"markers\",\"name\":\"\\u6b4c\\u821e\",\"orientation\":\"v\",\"showlegend\":true,\"x\":[\"\\u6b4c\\u821e\"],\"xaxis\":\"x\",\"y\":[7.423941605839417],\"yaxis\":\"y\",\"type\":\"scatter\"},{\"hovertemplate\":\"\\u003cb\\u003e%{hovertext}\\u003c\\u002fb\\u003e\\u003cbr\\u003e\\u003cbr\\u003egenre=%{x}\\u003cbr\\u003eAverage_Rating=%{y}\\u003cbr\\u003eNum=%{marker.size}\\u003cextra\\u003e\\u003c\\u002fextra\\u003e\",\"hovertext\":[\"\\u540c\\u6027\"],\"legendgroup\":\"\\u540c\\u6027\",\"marker\":{\"color\":\"#FF97FF\",\"size\":[678],\"sizemode\":\"area\",\"sizeref\":43.925,\"symbol\":\"circle\"},\"mode\":\"markers\",\"name\":\"\\u540c\\u6027\",\"orientation\":\"v\",\"showlegend\":true,\"x\":[\"\\u540c\\u6027\"],\"xaxis\":\"x\",\"y\":[7.071091445427729],\"yaxis\":\"y\",\"type\":\"scatter\"},{\"hovertemplate\":\"\\u003cb\\u003e%{hovertext}\\u003c\\u002fb\\u003e\\u003cbr\\u003e\\u003cbr\\u003egenre=%{x}\\u003cbr\\u003eAverage_Rating=%{y}\\u003cbr\\u003eNum=%{marker.size}\\u003cextra\\u003e\\u003c\\u002fextra\\u003e\",\"hovertext\":[\"\\u53e4\\u88c5\"],\"legendgroup\":\"\\u53e4\\u88c5\",\"marker\":{\"color\":\"#FECB52\",\"size\":[557],\"sizemode\":\"area\",\"sizeref\":43.925,\"symbol\":\"circle\"},\"mode\":\"markers\",\"name\":\"\\u53e4\\u88c5\",\"orientation\":\"v\",\"showlegend\":true,\"x\":[\"\\u53e4\\u88c5\"],\"xaxis\":\"x\",\"y\":[6.66391382405745],\"yaxis\":\"y\",\"type\":\"scatter\"},{\"hovertemplate\":\"\\u003cb\\u003e%{hovertext}\\u003c\\u002fb\\u003e\\u003cbr\\u003e\\u003cbr\\u003egenre=%{x}\\u003cbr\\u003eAverage_Rating=%{y}\\u003cbr\\u003eNum=%{marker.size}\\u003cextra\\u003e\\u003c\\u002fextra\\u003e\",\"hovertext\":[\"\\u8fd0\\u52a8\"],\"legendgroup\":\"\\u8fd0\\u52a8\",\"marker\":{\"color\":\"#636efa\",\"size\":[435],\"sizemode\":\"area\",\"sizeref\":43.925,\"symbol\":\"circle\"},\"mode\":\"markers\",\"name\":\"\\u8fd0\\u52a8\",\"orientation\":\"v\",\"showlegend\":true,\"x\":[\"\\u8fd0\\u52a8\"],\"xaxis\":\"x\",\"y\":[7.327816091954027],\"yaxis\":\"y\",\"type\":\"scatter\"},{\"hovertemplate\":\"\\u003cb\\u003e%{hovertext}\\u003c\\u002fb\\u003e\\u003cbr\\u003e\\u003cbr\\u003egenre=%{x}\\u003cbr\\u003eAverage_Rating=%{y}\\u003cbr\\u003eNum=%{marker.size}\\u003cextra\\u003e\\u003c\\u002fextra\\u003e\",\"hovertext\":[\"\\u6b66\\u4fa0\"],\"legendgroup\":\"\\u6b66\\u4fa0\",\"marker\":{\"color\":\"#EF553B\",\"size\":[363],\"sizemode\":\"area\",\"sizeref\":43.925,\"symbol\":\"circle\"},\"mode\":\"markers\",\"name\":\"\\u6b66\\u4fa0\",\"orientation\":\"v\",\"showlegend\":true,\"x\":[\"\\u6b66\\u4fa0\"],\"xaxis\":\"x\",\"y\":[6.6454545454545375],\"yaxis\":\"y\",\"type\":\"scatter\"},{\"hovertemplate\":\"\\u003cb\\u003e%{hovertext}\\u003c\\u002fb\\u003e\\u003cbr\\u003e\\u003cbr\\u003egenre=%{x}\\u003cbr\\u003eAverage_Rating=%{y}\\u003cbr\\u003eNum=%{marker.size}\\u003cextra\\u003e\\u003c\\u002fextra\\u003e\",\"hovertext\":[\"\\u60c5\\u8272\"],\"legendgroup\":\"\\u60c5\\u8272\",\"marker\":{\"color\":\"#00cc96\",\"size\":[340],\"sizemode\":\"area\",\"sizeref\":43.925,\"symbol\":\"circle\"},\"mode\":\"markers\",\"name\":\"\\u60c5\\u8272\",\"orientation\":\"v\",\"showlegend\":true,\"x\":[\"\\u60c5\\u8272\"],\"xaxis\":\"x\",\"y\":[6.041470588235294],\"yaxis\":\"y\",\"type\":\"scatter\"},{\"hovertemplate\":\"\\u003cb\\u003e%{hovertext}\\u003c\\u002fb\\u003e\\u003cbr\\u003e\\u003cbr\\u003egenre=%{x}\\u003cbr\\u003eAverage_Rating=%{y}\\u003cbr\\u003eNum=%{marker.size}\\u003cextra\\u003e\\u003c\\u002fextra\\u003e\",\"hovertext\":[\"\\u897f\\u90e8\"],\"legendgroup\":\"\\u897f\\u90e8\",\"marker\":{\"color\":\"#ab63fa\",\"size\":[323],\"sizemode\":\"area\",\"sizeref\":43.925,\"symbol\":\"circle\"},\"mode\":\"markers\",\"name\":\"\\u897f\\u90e8\",\"orientation\":\"v\",\"showlegend\":true,\"x\":[\"\\u897f\\u90e8\"],\"xaxis\":\"x\",\"y\":[7.207430340557275],\"yaxis\":\"y\",\"type\":\"scatter\"},{\"hovertemplate\":\"\\u003cb\\u003e%{hovertext}\\u003c\\u002fb\\u003e\\u003cbr\\u003e\\u003cbr\\u003egenre=%{x}\\u003cbr\\u003eAverage_Rating=%{y}\\u003cbr\\u003eNum=%{marker.size}\\u003cextra\\u003e\\u003c\\u002fextra\\u003e\",\"hovertext\":[\"\\u513f\\u7ae5\"],\"legendgroup\":\"\\u513f\\u7ae5\",\"marker\":{\"color\":\"#FFA15A\",\"size\":[229],\"sizemode\":\"area\",\"sizeref\":43.925,\"symbol\":\"circle\"},\"mode\":\"markers\",\"name\":\"\\u513f\\u7ae5\",\"orientation\":\"v\",\"showlegend\":true,\"x\":[\"\\u513f\\u7ae5\"],\"xaxis\":\"x\",\"y\":[7.321834061135366],\"yaxis\":\"y\",\"type\":\"scatter\"},{\"hovertemplate\":\"\\u003cb\\u003e%{hovertext}\\u003c\\u002fb\\u003e\\u003cbr\\u003e\\u003cbr\\u003egenre=%{x}\\u003cbr\\u003eAverage_Rating=%{y}\\u003cbr\\u003eNum=%{marker.size}\\u003cextra\\u003e\\u003c\\u002fextra\\u003e\",\"hovertext\":[\"\\u9ed1\\u8272\\u7535\\u5f71\"],\"legendgroup\":\"\\u9ed1\\u8272\\u7535\\u5f71\",\"marker\":{\"color\":\"#19d3f3\",\"size\":[202],\"sizemode\":\"area\",\"sizeref\":43.925,\"symbol\":\"circle\"},\"mode\":\"markers\",\"name\":\"\\u9ed1\\u8272\\u7535\\u5f71\",\"orientation\":\"v\",\"showlegend\":true,\"x\":[\"\\u9ed1\\u8272\\u7535\\u5f71\"],\"xaxis\":\"x\",\"y\":[7.194059405940593],\"yaxis\":\"y\",\"type\":\"scatter\"},{\"hovertemplate\":\"\\u003cb\\u003e%{hovertext}\\u003c\\u002fb\\u003e\\u003cbr\\u003e\\u003cbr\\u003egenre=%{x}\\u003cbr\\u003eAverage_Rating=%{y}\\u003cbr\\u003eNum=%{marker.size}\\u003cextra\\u003e\\u003c\\u002fextra\\u003e\",\"hovertext\":[\"\\u707e\\u96be\"],\"legendgroup\":\"\\u707e\\u96be\",\"marker\":{\"color\":\"#FF6692\",\"size\":[133],\"sizemode\":\"area\",\"sizeref\":43.925,\"symbol\":\"circle\"},\"mode\":\"markers\",\"name\":\"\\u707e\\u96be\",\"orientation\":\"v\",\"showlegend\":true,\"x\":[\"\\u707e\\u96be\"],\"xaxis\":\"x\",\"y\":[6.576691729323307],\"yaxis\":\"y\",\"type\":\"scatter\"},{\"hovertemplate\":\"\\u003cb\\u003e%{hovertext}\\u003c\\u002fb\\u003e\\u003cbr\\u003e\\u003cbr\\u003egenre=%{x}\\u003cbr\\u003eAverage_Rating=%{y}\\u003cbr\\u003eNum=%{marker.size}\\u003cextra\\u003e\\u003c\\u002fextra\\u003e\",\"hovertext\":[\"\\u620f\\u66f2\"],\"legendgroup\":\"\\u620f\\u66f2\",\"marker\":{\"color\":\"#B6E880\",\"size\":[87],\"sizemode\":\"area\",\"sizeref\":43.925,\"symbol\":\"circle\"},\"mode\":\"markers\",\"name\":\"\\u620f\\u66f2\",\"orientation\":\"v\",\"showlegend\":true,\"x\":[\"\\u620f\\u66f2\"],\"xaxis\":\"x\",\"y\":[8.244827586206895],\"yaxis\":\"y\",\"type\":\"scatter\"},{\"hovertemplate\":\"\\u003cb\\u003e%{hovertext}\\u003c\\u002fb\\u003e\\u003cbr\\u003e\\u003cbr\\u003egenre=%{x}\\u003cbr\\u003eAverage_Rating=%{y}\\u003cbr\\u003eNum=%{marker.size}\\u003cextra\\u003e\\u003c\\u002fextra\\u003e\",\"hovertext\":[\"\\u821e\\u53f0\\u827a\\u672f\"],\"legendgroup\":\"\\u821e\\u53f0\\u827a\\u672f\",\"marker\":{\"color\":\"#FF97FF\",\"size\":[68],\"sizemode\":\"area\",\"sizeref\":43.925,\"symbol\":\"circle\"},\"mode\":\"markers\",\"name\":\"\\u821e\\u53f0\\u827a\\u672f\",\"orientation\":\"v\",\"showlegend\":true,\"x\":[\"\\u821e\\u53f0\\u827a\\u672f\"],\"xaxis\":\"x\",\"y\":[8.536764705882353],\"yaxis\":\"y\",\"type\":\"scatter\"},{\"hovertemplate\":\"\\u003cb\\u003e%{hovertext}\\u003c\\u002fb\\u003e\\u003cbr\\u003e\\u003cbr\\u003egenre=%{x}\\u003cbr\\u003eAverage_Rating=%{y}\\u003cbr\\u003eNum=%{marker.size}\\u003cextra\\u003e\\u003c\\u002fextra\\u003e\",\"hovertext\":[\"\\u8131\\u53e3\\u79c0\"],\"legendgroup\":\"\\u8131\\u53e3\\u79c0\",\"marker\":{\"color\":\"#FECB52\",\"size\":[58],\"sizemode\":\"area\",\"sizeref\":43.925,\"symbol\":\"circle\"},\"mode\":\"markers\",\"name\":\"\\u8131\\u53e3\\u79c0\",\"orientation\":\"v\",\"showlegend\":true,\"x\":[\"\\u8131\\u53e3\\u79c0\"],\"xaxis\":\"x\",\"y\":[8.434482758620693],\"yaxis\":\"y\",\"type\":\"scatter\"},{\"hovertemplate\":\"\\u003cb\\u003e%{hovertext}\\u003c\\u002fb\\u003e\\u003cbr\\u003e\\u003cbr\\u003egenre=%{x}\\u003cbr\\u003eAverage_Rating=%{y}\\u003cbr\\u003eNum=%{marker.size}\\u003cextra\\u003e\\u003c\\u002fextra\\u003e\",\"hovertext\":[\"\\u771f\\u4eba\\u79c0\"],\"legendgroup\":\"\\u771f\\u4eba\\u79c0\",\"marker\":{\"color\":\"#636efa\",\"size\":[49],\"sizemode\":\"area\",\"sizeref\":43.925,\"symbol\":\"circle\"},\"mode\":\"markers\",\"name\":\"\\u771f\\u4eba\\u79c0\",\"orientation\":\"v\",\"showlegend\":true,\"x\":[\"\\u771f\\u4eba\\u79c0\"],\"xaxis\":\"x\",\"y\":[7.302040816326533],\"yaxis\":\"y\",\"type\":\"scatter\"},{\"hovertemplate\":\"\\u003cb\\u003e%{hovertext}\\u003c\\u002fb\\u003e\\u003cbr\\u003e\\u003cbr\\u003egenre=%{x}\\u003cbr\\u003eAverage_Rating=%{y}\\u003cbr\\u003eNum=%{marker.size}\\u003cextra\\u003e\\u003c\\u002fextra\\u003e\",\"hovertext\":[\"Adult\"],\"legendgroup\":\"Adult\",\"marker\":{\"color\":\"#EF553B\",\"size\":[36],\"sizemode\":\"area\",\"sizeref\":43.925,\"symbol\":\"circle\"},\"mode\":\"markers\",\"name\":\"Adult\",\"orientation\":\"v\",\"showlegend\":true,\"x\":[\"Adult\"],\"xaxis\":\"x\",\"y\":[5.947222222222223],\"yaxis\":\"y\",\"type\":\"scatter\"},{\"hovertemplate\":\"\\u003cb\\u003e%{hovertext}\\u003c\\u002fb\\u003e\\u003cbr\\u003e\\u003cbr\\u003egenre=%{x}\\u003cbr\\u003eAverage_Rating=%{y}\\u003cbr\\u003eNum=%{marker.size}\\u003cextra\\u003e\\u003c\\u002fextra\\u003e\",\"hovertext\":[\"\\u9b3c\\u602a\"],\"legendgroup\":\"\\u9b3c\\u602a\",\"marker\":{\"color\":\"#00cc96\",\"size\":[32],\"sizemode\":\"area\",\"sizeref\":43.925,\"symbol\":\"circle\"},\"mode\":\"markers\",\"name\":\"\\u9b3c\\u602a\",\"orientation\":\"v\",\"showlegend\":true,\"x\":[\"\\u9b3c\\u602a\"],\"xaxis\":\"x\",\"y\":[6.371874999999998],\"yaxis\":\"y\",\"type\":\"scatter\"},{\"hovertemplate\":\"\\u003cb\\u003e%{hovertext}\\u003c\\u002fb\\u003e\\u003cbr\\u003e\\u003cbr\\u003egenre=%{x}\\u003cbr\\u003eAverage_Rating=%{y}\\u003cbr\\u003eNum=%{marker.size}\\u003cextra\\u003e\\u003c\\u002fextra\\u003e\",\"hovertext\":[\"\\u60ca\\u6817\"],\"legendgroup\":\"\\u60ca\\u6817\",\"marker\":{\"color\":\"#ab63fa\",\"size\":[17],\"sizemode\":\"area\",\"sizeref\":43.925,\"symbol\":\"circle\"},\"mode\":\"markers\",\"name\":\"\\u60ca\\u6817\",\"orientation\":\"v\",\"showlegend\":true,\"x\":[\"\\u60ca\\u6817\"],\"xaxis\":\"x\",\"y\":[6.564705882352942],\"yaxis\":\"y\",\"type\":\"scatter\"},{\"hovertemplate\":\"\\u003cb\\u003e%{hovertext}\\u003c\\u002fb\\u003e\\u003cbr\\u003e\\u003cbr\\u003egenre=%{x}\\u003cbr\\u003eAverage_Rating=%{y}\\u003cbr\\u003eNum=%{marker.size}\\u003cextra\\u003e\\u003c\\u002fextra\\u003e\",\"hovertext\":[\"\\u60ac\\u5ff5\"],\"legendgroup\":\"\\u60ac\\u5ff5\",\"marker\":{\"color\":\"#FFA15A\",\"size\":[5],\"sizemode\":\"area\",\"sizeref\":43.925,\"symbol\":\"circle\"},\"mode\":\"markers\",\"name\":\"\\u60ac\\u5ff5\",\"orientation\":\"v\",\"showlegend\":true,\"x\":[\"\\u60ac\\u5ff5\"],\"xaxis\":\"x\",\"y\":[7.279999999999999],\"yaxis\":\"y\",\"type\":\"scatter\"},{\"hovertemplate\":\"\\u003cb\\u003e%{hovertext}\\u003c\\u002fb\\u003e\\u003cbr\\u003e\\u003cbr\\u003egenre=%{x}\\u003cbr\\u003eAverage_Rating=%{y}\\u003cbr\\u003eNum=%{marker.size}\\u003cextra\\u003e\\u003c\\u002fextra\\u003e\",\"hovertext\":[\"\\u8352\\u8bde\"],\"legendgroup\":\"\\u8352\\u8bde\",\"marker\":{\"color\":\"#19d3f3\",\"size\":[5],\"sizemode\":\"area\",\"sizeref\":43.925,\"symbol\":\"circle\"},\"mode\":\"markers\",\"name\":\"\\u8352\\u8bde\",\"orientation\":\"v\",\"showlegend\":true,\"x\":[\"\\u8352\\u8bde\"],\"xaxis\":\"x\",\"y\":[8.059999999999999],\"yaxis\":\"y\",\"type\":\"scatter\"},{\"hovertemplate\":\"\\u003cb\\u003e%{hovertext}\\u003c\\u002fb\\u003e\\u003cbr\\u003e\\u003cbr\\u003egenre=%{x}\\u003cbr\\u003eAverage_Rating=%{y}\\u003cbr\\u003eNum=%{marker.size}\\u003cextra\\u003e\\u003c\\u002fextra\\u003e\",\"hovertext\":[\"\\u7eaa\\u5f55\\u7247\"],\"legendgroup\":\"\\u7eaa\\u5f55\\u7247\",\"marker\":{\"color\":\"#FF6692\",\"size\":[3],\"sizemode\":\"area\",\"sizeref\":43.925,\"symbol\":\"circle\"},\"mode\":\"markers\",\"name\":\"\\u7eaa\\u5f55\\u7247\",\"orientation\":\"v\",\"showlegend\":true,\"x\":[\"\\u7eaa\\u5f55\\u7247\"],\"xaxis\":\"x\",\"y\":[8.5],\"yaxis\":\"y\",\"type\":\"scatter\"},{\"hovertemplate\":\"\\u003cb\\u003e%{hovertext}\\u003c\\u002fb\\u003e\\u003cbr\\u003e\\u003cbr\\u003egenre=%{x}\\u003cbr\\u003eAverage_Rating=%{y}\\u003cbr\\u003eNum=%{marker.size}\\u003cextra\\u003e\\u003c\\u002fextra\\u003e\",\"hovertext\":[\"Talk-Show\"],\"legendgroup\":\"Talk-Show\",\"marker\":{\"color\":\"#B6E880\",\"size\":[2],\"sizemode\":\"area\",\"sizeref\":43.925,\"symbol\":\"circle\"},\"mode\":\"markers\",\"name\":\"Talk-Show\",\"orientation\":\"v\",\"showlegend\":true,\"x\":[\"Talk-Show\"],\"xaxis\":\"x\",\"y\":[9.0],\"yaxis\":\"y\",\"type\":\"scatter\"},{\"hovertemplate\":\"\\u003cb\\u003e%{hovertext}\\u003c\\u002fb\\u003e\\u003cbr\\u003e\\u003cbr\\u003egenre=%{x}\\u003cbr\\u003eAverage_Rating=%{y}\\u003cbr\\u003eNum=%{marker.size}\\u003cextra\\u003e\\u003c\\u002fextra\\u003e\",\"hovertext\":[\"Reality-TV\"],\"legendgroup\":\"Reality-TV\",\"marker\":{\"color\":\"#FF97FF\",\"size\":[2],\"sizemode\":\"area\",\"sizeref\":43.925,\"symbol\":\"circle\"},\"mode\":\"markers\",\"name\":\"Reality-TV\",\"orientation\":\"v\",\"showlegend\":true,\"x\":[\"Reality-TV\"],\"xaxis\":\"x\",\"y\":[5.800000000000001],\"yaxis\":\"y\",\"type\":\"scatter\"},{\"hovertemplate\":\"\\u003cb\\u003e%{hovertext}\\u003c\\u002fb\\u003e\\u003cbr\\u003e\\u003cbr\\u003egenre=%{x}\\u003cbr\\u003eAverage_Rating=%{y}\\u003cbr\\u003eNum=%{marker.size}\\u003cextra\\u003e\\u003c\\u002fextra\\u003e\",\"hovertext\":[\"Comedy\"],\"legendgroup\":\"Comedy\",\"marker\":{\"color\":\"#FECB52\",\"size\":[1],\"sizemode\":\"area\",\"sizeref\":43.925,\"symbol\":\"circle\"},\"mode\":\"markers\",\"name\":\"Comedy\",\"orientation\":\"v\",\"showlegend\":true,\"x\":[\"Comedy\"],\"xaxis\":\"x\",\"y\":[6.7],\"yaxis\":\"y\",\"type\":\"scatter\"}],                        {\"template\":{\"data\":{\"histogram2dcontour\":[{\"type\":\"histogram2dcontour\",\"colorbar\":{\"outlinewidth\":0,\"ticks\":\"\"},\"colorscale\":[[0.0,\"#0d0887\"],[0.1111111111111111,\"#46039f\"],[0.2222222222222222,\"#7201a8\"],[0.3333333333333333,\"#9c179e\"],[0.4444444444444444,\"#bd3786\"],[0.5555555555555556,\"#d8576b\"],[0.6666666666666666,\"#ed7953\"],[0.7777777777777778,\"#fb9f3a\"],[0.8888888888888888,\"#fdca26\"],[1.0,\"#f0f921\"]]}],\"choropleth\":[{\"type\":\"choropleth\",\"colorbar\":{\"outlinewidth\":0,\"ticks\":\"\"}}],\"histogram2d\":[{\"type\":\"histogram2d\",\"colorbar\":{\"outlinewidth\":0,\"ticks\":\"\"},\"colorscale\":[[0.0,\"#0d0887\"],[0.1111111111111111,\"#46039f\"],[0.2222222222222222,\"#7201a8\"],[0.3333333333333333,\"#9c179e\"],[0.4444444444444444,\"#bd3786\"],[0.5555555555555556,\"#d8576b\"],[0.6666666666666666,\"#ed7953\"],[0.7777777777777778,\"#fb9f3a\"],[0.8888888888888888,\"#fdca26\"],[1.0,\"#f0f921\"]]}],\"heatmap\":[{\"type\":\"heatmap\",\"colorbar\":{\"outlinewidth\":0,\"ticks\":\"\"},\"colorscale\":[[0.0,\"#0d0887\"],[0.1111111111111111,\"#46039f\"],[0.2222222222222222,\"#7201a8\"],[0.3333333333333333,\"#9c179e\"],[0.4444444444444444,\"#bd3786\"],[0.5555555555555556,\"#d8576b\"],[0.6666666666666666,\"#ed7953\"],[0.7777777777777778,\"#fb9f3a\"],[0.8888888888888888,\"#fdca26\"],[1.0,\"#f0f921\"]]}],\"heatmapgl\":[{\"type\":\"heatmapgl\",\"colorbar\":{\"outlinewidth\":0,\"ticks\":\"\"},\"colorscale\":[[0.0,\"#0d0887\"],[0.1111111111111111,\"#46039f\"],[0.2222222222222222,\"#7201a8\"],[0.3333333333333333,\"#9c179e\"],[0.4444444444444444,\"#bd3786\"],[0.5555555555555556,\"#d8576b\"],[0.6666666666666666,\"#ed7953\"],[0.7777777777777778,\"#fb9f3a\"],[0.8888888888888888,\"#fdca26\"],[1.0,\"#f0f921\"]]}],\"contourcarpet\":[{\"type\":\"contourcarpet\",\"colorbar\":{\"outlinewidth\":0,\"ticks\":\"\"}}],\"contour\":[{\"type\":\"contour\",\"colorbar\":{\"outlinewidth\":0,\"ticks\":\"\"},\"colorscale\":[[0.0,\"#0d0887\"],[0.1111111111111111,\"#46039f\"],[0.2222222222222222,\"#7201a8\"],[0.3333333333333333,\"#9c179e\"],[0.4444444444444444,\"#bd3786\"],[0.5555555555555556,\"#d8576b\"],[0.6666666666666666,\"#ed7953\"],[0.7777777777777778,\"#fb9f3a\"],[0.8888888888888888,\"#fdca26\"],[1.0,\"#f0f921\"]]}],\"surface\":[{\"type\":\"surface\",\"colorbar\":{\"outlinewidth\":0,\"ticks\":\"\"},\"colorscale\":[[0.0,\"#0d0887\"],[0.1111111111111111,\"#46039f\"],[0.2222222222222222,\"#7201a8\"],[0.3333333333333333,\"#9c179e\"],[0.4444444444444444,\"#bd3786\"],[0.5555555555555556,\"#d8576b\"],[0.6666666666666666,\"#ed7953\"],[0.7777777777777778,\"#fb9f3a\"],[0.8888888888888888,\"#fdca26\"],[1.0,\"#f0f921\"]]}],\"mesh3d\":[{\"type\":\"mesh3d\",\"colorbar\":{\"outlinewidth\":0,\"ticks\":\"\"}}],\"scatter\":[{\"marker\":{\"line\":{\"color\":\"#283442\"}},\"type\":\"scatter\"}],\"parcoords\":[{\"type\":\"parcoords\",\"line\":{\"colorbar\":{\"outlinewidth\":0,\"ticks\":\"\"}}}],\"scatterpolargl\":[{\"type\":\"scatterpolargl\",\"marker\":{\"colorbar\":{\"outlinewidth\":0,\"ticks\":\"\"}}}],\"bar\":[{\"error_x\":{\"color\":\"#f2f5fa\"},\"error_y\":{\"color\":\"#f2f5fa\"},\"marker\":{\"line\":{\"color\":\"rgb(17,17,17)\",\"width\":0.5},\"pattern\":{\"fillmode\":\"overlay\",\"size\":10,\"solidity\":0.2}},\"type\":\"bar\"}],\"scattergeo\":[{\"type\":\"scattergeo\",\"marker\":{\"colorbar\":{\"outlinewidth\":0,\"ticks\":\"\"}}}],\"scatterpolar\":[{\"type\":\"scatterpolar\",\"marker\":{\"colorbar\":{\"outlinewidth\":0,\"ticks\":\"\"}}}],\"histogram\":[{\"marker\":{\"pattern\":{\"fillmode\":\"overlay\",\"size\":10,\"solidity\":0.2}},\"type\":\"histogram\"}],\"scattergl\":[{\"marker\":{\"line\":{\"color\":\"#283442\"}},\"type\":\"scattergl\"}],\"scatter3d\":[{\"type\":\"scatter3d\",\"line\":{\"colorbar\":{\"outlinewidth\":0,\"ticks\":\"\"}},\"marker\":{\"colorbar\":{\"outlinewidth\":0,\"ticks\":\"\"}}}],\"scattermapbox\":[{\"type\":\"scattermapbox\",\"marker\":{\"colorbar\":{\"outlinewidth\":0,\"ticks\":\"\"}}}],\"scatterternary\":[{\"type\":\"scatterternary\",\"marker\":{\"colorbar\":{\"outlinewidth\":0,\"ticks\":\"\"}}}],\"scattercarpet\":[{\"type\":\"scattercarpet\",\"marker\":{\"colorbar\":{\"outlinewidth\":0,\"ticks\":\"\"}}}],\"carpet\":[{\"aaxis\":{\"endlinecolor\":\"#A2B1C6\",\"gridcolor\":\"#506784\",\"linecolor\":\"#506784\",\"minorgridcolor\":\"#506784\",\"startlinecolor\":\"#A2B1C6\"},\"baxis\":{\"endlinecolor\":\"#A2B1C6\",\"gridcolor\":\"#506784\",\"linecolor\":\"#506784\",\"minorgridcolor\":\"#506784\",\"startlinecolor\":\"#A2B1C6\"},\"type\":\"carpet\"}],\"table\":[{\"cells\":{\"fill\":{\"color\":\"#506784\"},\"line\":{\"color\":\"rgb(17,17,17)\"}},\"header\":{\"fill\":{\"color\":\"#2a3f5f\"},\"line\":{\"color\":\"rgb(17,17,17)\"}},\"type\":\"table\"}],\"barpolar\":[{\"marker\":{\"line\":{\"color\":\"rgb(17,17,17)\",\"width\":0.5},\"pattern\":{\"fillmode\":\"overlay\",\"size\":10,\"solidity\":0.2}},\"type\":\"barpolar\"}],\"pie\":[{\"automargin\":true,\"type\":\"pie\"}]},\"layout\":{\"autotypenumbers\":\"strict\",\"colorway\":[\"#636efa\",\"#EF553B\",\"#00cc96\",\"#ab63fa\",\"#FFA15A\",\"#19d3f3\",\"#FF6692\",\"#B6E880\",\"#FF97FF\",\"#FECB52\"],\"font\":{\"color\":\"#f2f5fa\"},\"hovermode\":\"closest\",\"hoverlabel\":{\"align\":\"left\"},\"paper_bgcolor\":\"rgb(17,17,17)\",\"plot_bgcolor\":\"rgb(17,17,17)\",\"polar\":{\"bgcolor\":\"rgb(17,17,17)\",\"angularaxis\":{\"gridcolor\":\"#506784\",\"linecolor\":\"#506784\",\"ticks\":\"\"},\"radialaxis\":{\"gridcolor\":\"#506784\",\"linecolor\":\"#506784\",\"ticks\":\"\"}},\"ternary\":{\"bgcolor\":\"rgb(17,17,17)\",\"aaxis\":{\"gridcolor\":\"#506784\",\"linecolor\":\"#506784\",\"ticks\":\"\"},\"baxis\":{\"gridcolor\":\"#506784\",\"linecolor\":\"#506784\",\"ticks\":\"\"},\"caxis\":{\"gridcolor\":\"#506784\",\"linecolor\":\"#506784\",\"ticks\":\"\"}},\"coloraxis\":{\"colorbar\":{\"outlinewidth\":0,\"ticks\":\"\"}},\"colorscale\":{\"sequential\":[[0.0,\"#0d0887\"],[0.1111111111111111,\"#46039f\"],[0.2222222222222222,\"#7201a8\"],[0.3333333333333333,\"#9c179e\"],[0.4444444444444444,\"#bd3786\"],[0.5555555555555556,\"#d8576b\"],[0.6666666666666666,\"#ed7953\"],[0.7777777777777778,\"#fb9f3a\"],[0.8888888888888888,\"#fdca26\"],[1.0,\"#f0f921\"]],\"sequentialminus\":[[0.0,\"#0d0887\"],[0.1111111111111111,\"#46039f\"],[0.2222222222222222,\"#7201a8\"],[0.3333333333333333,\"#9c179e\"],[0.4444444444444444,\"#bd3786\"],[0.5555555555555556,\"#d8576b\"],[0.6666666666666666,\"#ed7953\"],[0.7777777777777778,\"#fb9f3a\"],[0.8888888888888888,\"#fdca26\"],[1.0,\"#f0f921\"]],\"diverging\":[[0,\"#8e0152\"],[0.1,\"#c51b7d\"],[0.2,\"#de77ae\"],[0.3,\"#f1b6da\"],[0.4,\"#fde0ef\"],[0.5,\"#f7f7f7\"],[0.6,\"#e6f5d0\"],[0.7,\"#b8e186\"],[0.8,\"#7fbc41\"],[0.9,\"#4d9221\"],[1,\"#276419\"]]},\"xaxis\":{\"gridcolor\":\"#283442\",\"linecolor\":\"#506784\",\"ticks\":\"\",\"title\":{\"standoff\":15},\"zerolinecolor\":\"#283442\",\"automargin\":true,\"zerolinewidth\":2},\"yaxis\":{\"gridcolor\":\"#283442\",\"linecolor\":\"#506784\",\"ticks\":\"\",\"title\":{\"standoff\":15},\"zerolinecolor\":\"#283442\",\"automargin\":true,\"zerolinewidth\":2},\"scene\":{\"xaxis\":{\"backgroundcolor\":\"rgb(17,17,17)\",\"gridcolor\":\"#506784\",\"linecolor\":\"#506784\",\"showbackground\":true,\"ticks\":\"\",\"zerolinecolor\":\"#C8D4E3\",\"gridwidth\":2},\"yaxis\":{\"backgroundcolor\":\"rgb(17,17,17)\",\"gridcolor\":\"#506784\",\"linecolor\":\"#506784\",\"showbackground\":true,\"ticks\":\"\",\"zerolinecolor\":\"#C8D4E3\",\"gridwidth\":2},\"zaxis\":{\"backgroundcolor\":\"rgb(17,17,17)\",\"gridcolor\":\"#506784\",\"linecolor\":\"#506784\",\"showbackground\":true,\"ticks\":\"\",\"zerolinecolor\":\"#C8D4E3\",\"gridwidth\":2}},\"shapedefaults\":{\"line\":{\"color\":\"#f2f5fa\"}},\"annotationdefaults\":{\"arrowcolor\":\"#f2f5fa\",\"arrowhead\":0,\"arrowwidth\":1},\"geo\":{\"bgcolor\":\"rgb(17,17,17)\",\"landcolor\":\"rgb(17,17,17)\",\"subunitcolor\":\"#506784\",\"showland\":true,\"showlakes\":true,\"lakecolor\":\"rgb(17,17,17)\"},\"title\":{\"x\":0.05},\"updatemenudefaults\":{\"bgcolor\":\"#506784\",\"borderwidth\":0},\"sliderdefaults\":{\"bgcolor\":\"#C8D4E3\",\"borderwidth\":1,\"bordercolor\":\"rgb(17,17,17)\",\"tickwidth\":0},\"mapbox\":{\"style\":\"dark\"}}},\"xaxis\":{\"anchor\":\"y\",\"domain\":[0.0,1.0],\"title\":{\"text\":\"genre\"},\"categoryorder\":\"array\",\"categoryarray\":[\"\\u5267\\u60c5\",\"\\u559c\\u5267\",\"\\u7231\\u60c5\",\"\\u52a8\\u4f5c\",\"\\u60ca\\u609a\",\"\\u72af\\u7f6a\",\"\\u6050\\u6016\",\"\\u5192\\u9669\",\"\\u60ac\\u7591\",\"\\u52a8\\u753b\",\"\\u5947\\u5e7b\",\"\\u79d1\\u5e7b\",\"\\u5bb6\\u5ead\",\"\\u6218\\u4e89\",\"\\u5386\\u53f2\",\"\\u4f20\\u8bb0\",\"\\u97f3\\u4e50\",\"\\u6b4c\\u821e\",\"\\u540c\\u6027\",\"\\u53e4\\u88c5\",\"\\u8fd0\\u52a8\",\"\\u6b66\\u4fa0\",\"\\u60c5\\u8272\",\"\\u897f\\u90e8\",\"\\u513f\\u7ae5\",\"\\u9ed1\\u8272\\u7535\\u5f71\",\"\\u707e\\u96be\",\"\\u620f\\u66f2\",\"\\u821e\\u53f0\\u827a\\u672f\",\"\\u8131\\u53e3\\u79c0\",\"\\u771f\\u4eba\\u79c0\",\"Adult\",\"\\u9b3c\\u602a\",\"\\u60ca\\u6817\",\"\\u60ac\\u5ff5\",\"\\u8352\\u8bde\",\"\\u7eaa\\u5f55\\u7247\",\"Talk-Show\",\"Reality-TV\",\"Comedy\"]},\"yaxis\":{\"anchor\":\"x\",\"domain\":[0.0,1.0],\"title\":{\"text\":\"Average_Rating\"}},\"legend\":{\"title\":{\"text\":\"genre\"},\"tracegroupgap\":0,\"itemsizing\":\"constant\"},\"title\":{\"text\":\"\\u5404\\u7c7b\\u578b\\u7535\\u5f71\\u6570\\u548c\\u5e73\\u5747\\u8bc4\\u5206\"}},                        {\"responsive\": true}                    ).then(function(){\n                            \nvar gd = document.getElementById('1f559967-6ffb-471a-acbc-4235f0a044c0');\nvar x = new MutationObserver(function (mutations, observer) {{\n        var display = window.getComputedStyle(gd).display;\n        if (!display || display === 'none') {{\n            console.log([gd, 'removed!']);\n            Plotly.purge(gd);\n            observer.disconnect();\n        }}\n}});\n\n// Listen for the removal of the full notebook cells\nvar notebookContainer = gd.closest('#notebook-container');\nif (notebookContainer) {{\n    x.observe(notebookContainer, {childList: true});\n}}\n\n// Listen for the clearing of the current output cell\nvar outputEl = gd.closest('.output');\nif (outputEl) {{\n    x.observe(outputEl, {childList: true});\n}}\n\n                        })                };                });            </script>        </div>"
     },
     "metadata": {},
     "output_type": "display_data"
    }
   ],
   "source": [
    "fig7 = px.scatter(genreNum_avergeRating, x=\"genre\", y=\"Average_Rating\",\n",
    "                 size=\"Num\", color = \"genre\",\n",
    "                 hover_name=\"genre\", \n",
    "                 title = \"各类型电影数和平均评分\")\n",
    "fig7.show()"
   ]
  }
 ],
 "metadata": {
  "kernelspec": {
   "display_name": "Python 3",
   "language": "python",
   "name": "python3"
  },
  "language_info": {
   "codemirror_mode": {
    "name": "ipython",
    "version": 3
   },
   "file_extension": ".py",
   "mimetype": "text/x-python",
   "name": "python",
   "nbconvert_exporter": "python",
   "pygments_lexer": "ipython3",
   "version": "3.7.7"
  }
 },
 "nbformat": 4,
 "nbformat_minor": 4
}

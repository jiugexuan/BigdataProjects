{
 "cells": [
  {
   "cell_type": "code",
   "execution_count": null,
   "id": "stock-holmes",
   "metadata": {
    "is_executing": true
   },
   "outputs": [],
   "source": [
    "import pandas as pd\n",
    "import numpy as np\n",
    "import matplotlib.pyplot as plt\n",
    "import wordcloud\n",
    "import random\n",
    "import matplotlib.font_manager as fm"
   ]
  },
  {
   "cell_type": "code",
   "execution_count": null,
   "id": "unknown-myrtle",
   "metadata": {},
   "outputs": [],
   "source": [
    "hotWord_all = pd.read_csv('CVPR/hotWords16-20_des.csv',header=None, names=['word', 'num'])"
   ]
  },
  {
   "cell_type": "code",
   "execution_count": null,
   "id": "possible-providence",
   "metadata": {},
   "outputs": [],
   "source": [
    "hotWord_all.info"
   ]
  },
  {
   "cell_type": "code",
   "execution_count": null,
   "id": "gross-compound",
   "metadata": {},
   "outputs": [],
   "source": [
    "hotWord_dict = hotWord_all.set_index(['word'])['num'].to_dict()"
   ]
  },
  {
   "cell_type": "code",
   "execution_count": null,
   "id": "framed-feeling",
   "metadata": {},
   "outputs": [],
   "source": [
    "def random_color_func(word=None, font_size=None, position=None,  orientation=None, font_path=None, random_state=None):\n",
    "        h  = random.randint(120,250)\n",
    "        s = int(100.0 * 255.0 / 255.0)\n",
    "        l = int(100.0 * float(random.randint(60, 120)) / 255.0)\n",
    "        return \"hsl({}, {}%, {}%)\".format(h, s, l)"
   ]
  },
  {
   "cell_type": "code",
   "execution_count": null,
   "id": "speaking-scholarship",
   "metadata": {},
   "outputs": [],
   "source": [
    "wc = wordcloud.WordCloud(\n",
    "    font_path='TIMES.TTF',\n",
    "    background_color='white',\n",
    "    width=2000,height=1200,\n",
    "    max_words=350,\n",
    "    max_font_size=500,\n",
    "    #color_func=random_color_func\n",
    ")"
   ]
  },
  {
   "cell_type": "code",
   "execution_count": null,
   "id": "preliminary-incentive",
   "metadata": {},
   "outputs": [],
   "source": [
    "wc.generate_from_frequencies(hotWord_dict)"
   ]
  },
  {
   "cell_type": "code",
   "execution_count": null,
   "id": "norwegian-compression",
   "metadata": {},
   "outputs": [],
   "source": [
    "plt.imshow(wc)\n",
    "plt.axis('off')\n",
    "plt.savefig('hotwordcloud.png',dpi=600)\n",
    "plt.show()\n",
    "# plt.close()"
   ]
  },
  {
   "cell_type": "code",
   "execution_count": null,
   "id": "southern-tolerance",
   "metadata": {},
   "outputs": [],
   "source": [
    "fig = plt.figure(figsize=(14,6))\n",
    "YaHei = fm.FontProperties(fname='MSYH.TTC')\n",
    "TNR = fm.FontProperties(fname='TIMES.TTF')\n",
    "hotWordTop20 = []\n",
    "hotWordTop20_num = []\n",
    "stopword = ['via', 'Using']\n",
    "for i, (word, num) in enumerate(hotWord_dict.items()):\n",
    "    if word in stopword:\n",
    "        continue\n",
    "    plt.text(word, num+5, num, ha='center', va='bottom', fontsize=8, fontproperties=TNR)#+0.05 表示高于图0.0\n",
    "    hotWordTop20.append(word)\n",
    "    hotWordTop20_num.append(num)\n",
    "    if len(hotWordTop20)==20:\n",
    "        break\n",
    "\n",
    "plt.bar(hotWordTop20,hotWordTop20_num,color='rgby')\n",
    "plt.title('包含热点词汇的文章数',fontproperties=YaHei) # 标题\n",
    "plt.xlabel('热点词汇',fontproperties=YaHei) # x轴标签\n",
    "plt.xticks(rotation=-45)\n",
    "plt.ylabel('文\\n章\\n数',fontproperties=YaHei,rotation='horizontal') # y轴标签\n",
    "plt.savefig('top10Word.png',dpi=600)\n",
    "# plt.tight_layout()\n",
    "plt.show()"
   ]
  },
  {
   "cell_type": "code",
   "execution_count": null,
   "id": "presidential-virtue",
   "metadata": {},
   "outputs": [],
   "source": [
    "authors_all = pd.read_csv('CVPR/authors_all_DES.csv',header=None, names=['authors', 'num'])"
   ]
  },
  {
   "cell_type": "code",
   "execution_count": null,
   "id": "recognized-rider",
   "metadata": {},
   "outputs": [],
   "source": [
    "authors_all.info"
   ]
  },
  {
   "cell_type": "code",
   "execution_count": null,
   "id": "broadband-mileage",
   "metadata": {},
   "outputs": [],
   "source": [
    "authors_dict = authors_all.set_index(['authors'])['num'].to_dict()"
   ]
  },
  {
   "cell_type": "code",
   "execution_count": null,
   "id": "fitted-brazil",
   "metadata": {},
   "outputs": [],
   "source": [
    "fig2 = plt.figure(figsize=(12,8))\n",
    "authorsTop20 = []\n",
    "authorsTop20_num = []\n",
    "\n",
    "for i, (author, num) in enumerate(authors_dict.items()):\n",
    "    plt.text(num+1,author, num, ha='center', va='bottom', fontsize=8, fontproperties=TNR)#+0.05 表示高于图0.0\n",
    "    authorsTop20.append(author)\n",
    "    authorsTop20_num.append(num)\n",
    "    if i==19:\n",
    "        break\n",
    "\n",
    "plt.barh(authorsTop20[::-1],authorsTop20_num[::-1],color='rgby') # 从大到小画图\n",
    "plt.title('高产作者',fontproperties=YaHei) # 标题\n",
    "plt.ylabel('作\\n者\\n名',fontproperties=YaHei,rotation='horizontal') # y轴标签\n",
    "plt.xlabel('文章数',fontproperties=YaHei) # x轴标签\n",
    "plt.savefig('top10authors.png',dpi=600, bbox_inches=\"tight\")\n",
    "plt.tight_layout()\n",
    "plt.show()"
   ]
  },
  {
   "cell_type": "code",
   "execution_count": null,
   "id": "handled-brunswick",
   "metadata": {},
   "outputs": [],
   "source": []
  },
  {
   "cell_type": "code",
   "execution_count": null,
   "id": "horizontal-growth",
   "metadata": {},
   "outputs": [],
   "source": []
  },
  {
   "cell_type": "code",
   "execution_count": null,
   "id": "hindu-notebook",
   "metadata": {},
   "outputs": [],
   "source": []
  }
 ],
 "metadata": {
  "kernelspec": {
   "display_name": "Python 3",
   "language": "python",
   "name": "python3"
  },
  "language_info": {
   "codemirror_mode": {
    "name": "ipython",
    "version": 3
   },
   "file_extension": ".py",
   "mimetype": "text/x-python",
   "name": "python",
   "nbconvert_exporter": "python",
   "pygments_lexer": "ipython3",
   "version": "3.6.9"
  }
 },
 "nbformat": 4,
 "nbformat_minor": 5
}
